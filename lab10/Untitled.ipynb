{
 "cells": [
  {
   "cell_type": "code",
   "execution_count": 3,
   "metadata": {},
   "outputs": [
    {
     "data": {
      "text/plain": [
       "['YAADSKATPGNPAFHQDEIFLARIAFIYQMWDGGQLKLIDYAPHHVMCEE',\n",
       " 'WVGQPNMKVQHWSNMKACCVKFITWTFIAPEKHACKWTETAYQADCDIIW']"
      ]
     },
     "execution_count": 3,
     "metadata": {},
     "output_type": "execute_result"
    }
   ],
   "source": [
    "seqs = []\n",
    "\n",
    "        ### TODO ###\n",
    "        # Load FASTA file and return list of sequences.\n",
    "        # Throw an error if there are more than two sequences in the file.\n",
    "from Bio import SeqIO\n",
    "input_handle = open('example.fa', 'r')\n",
    "for record in SeqIO.parse(input_handle, 'fasta'):\n",
    "    seqs.append(str(record.seq))\n",
    "seqs"
   ]
  },
  {
   "cell_type": "code",
   "execution_count": 15,
   "metadata": {},
   "outputs": [
    {
     "data": {
      "text/plain": [
       "<_io.TextIOWrapper name='BLOSUM62' mode='r' encoding='ISO-8859-1'>"
      ]
     },
     "execution_count": 15,
     "metadata": {},
     "output_type": "execute_result"
    }
   ],
   "source": [
    "    def load_score_matrix(fname):\n",
    "        \"\"\"\n",
    "        Input: (String) A path to a scoring matrix file.\n",
    "        Output: (Dictionary) A nested dictionary where keys are strings\n",
    "                and elements are scores as integers.\n",
    "    \n",
    "        Example:\n",
    "    \n",
    "        >>> matrix, gap_penalty = NWAligner.load_score_matrix('/home/bioe131/BLOSUM62')\n",
    "        >>> matrix['A']['A']\n",
    "        4\n",
    "        >>> matrix['W']['W']\n",
    "        11\n",
    "        >>> gap_penalty\n",
    "        -4\n",
    "\n",
    "        \"\"\"\n",
    "\n",
    "        score_matrix = {}\n",
    "        gap_penalty = None\n",
    "        keys = []\n",
    "\n",
    "        with open(fname) as fp:\n",
    "            for line_num, line in enumerate(fp):\n",
    "                # ignore comments in matrix file\n",
    "                if line.startswith(\"#\"):\n",
    "                    continue\n",
    "                vals = line.split(\" \")\n",
    "                if line_num == 0:\n",
    "                    for v in vals:\n",
    "                        v = v.split(\"\\n\")[0]\n",
    "                        temp_dic = {}\n",
    "                        for a in vals:\n",
    "                            a = a.split(\"\\n\")[0]\n",
    "                            temp_dic[a] = None\n",
    "                        score_matrix[v] = temp_dic\n",
    "                    keys = list(score_matrix.keys())\n",
    "                elif len(vals) == 1:\n",
    "                    gap_penalty = int(vals[0])\n",
    "                    \n",
    "                else:\n",
    "                    index = 0\n",
    "                    curKey = keys[line_num-1]\n",
    "                    for key in keys:\n",
    "                        score_matrix[curKey][key] = int(vals[index]) \n",
    "                        index += 1\n",
    "        \n",
    "        return score_matrix, gap_penalty\n",
    "    \n",
    "load_score_matrix('BLOSUM62')\n",
    "input_handle = open('BLOSUM62', 'r')\n",
    "input_handle"
   ]
  },
  {
   "cell_type": "code",
   "execution_count": null,
   "metadata": {},
   "outputs": [],
   "source": []
  }
 ],
 "metadata": {
  "kernelspec": {
   "display_name": "Python 3",
   "language": "python",
   "name": "python3"
  },
  "language_info": {
   "codemirror_mode": {
    "name": "ipython",
    "version": 3
   },
   "file_extension": ".py",
   "mimetype": "text/x-python",
   "name": "python",
   "nbconvert_exporter": "python",
   "pygments_lexer": "ipython3",
   "version": "3.6.6"
  }
 },
 "nbformat": 4,
 "nbformat_minor": 2
}
