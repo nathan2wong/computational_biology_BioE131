{
 "cells": [
  {
   "cell_type": "markdown",
   "metadata": {},
   "source": [
    "YES-1 (Figure 2a): GGGCGACCCUGAUGAGCUUGAGUUUAGCUCGUCACUGUCCAGGUUCAAUCAGGCGAAACGGUGAAAGCCGUAGGUUGCCC\n",
    "NOT-1 (Figure 4a): GGCAGGUACAUACAGCUGAUGAGUCCCAAAUAGGACGAAACGCGACACACACCACUAAACCGUGCAGUGUUUUGCGUCCUGUAUUCCACUGC\n",
    "\n",
    "AND-1 (Figure 5a): \n",
    "GGGCGACCCUGAUGAGCUUGGUUUAGUAUUUACAGCUCCAUACAUGAGGUGUUAUCCCUAUGCAAGUUCGAUCAGGCGAAACGGUGAAAGCCGUAGGUUGCCCAGAGACAAU\n",
    "\n",
    "OR-1 (Figure 6a):\n",
    "GGGCGACCCUGAUGAGCUUGGUUGAGUAUUUACAGCUCCAUACAUGAGGUGUUCUCCCUACGCAAGUUCGAUCAGGCGAAACGGUGAAAGCCGUAGGUUGCCC"
   ]
  },
  {
   "cell_type": "code",
   "execution_count": 1,
   "metadata": {},
   "outputs": [],
   "source": [
    "yes_1 = \"GGGCGACCCUGAUGAGCUUGAGUUUAGCUCGUCACUGUCCAGGUUCAAUCAGGCGAAACGGUGAAAGCCGUAGGUUGCCC\"\n",
    "not_1 = \"GGCAGGUACAUACAGCUGAUGAGUCCCAAAUAGGACGAAACGCGACACACACCACUAAACCGUGCAGUGUUUUGCGUCCUGUAUUCCACUGC\"\n",
    "and_1 = \"GGGCGACCCUGAUGAGCUUGGUUUAGUAUUUACAGCUCCAUACAUGAGGUGUUAUCCCUAUGCAAGUUCGAUCAGGCGAAACGGUGAAAGCCGUAGGUUGCCCAGAGACAAU\"\n",
    "or_1 = \"GGGCGACCCUGAUGAGCUUGGUUGAGUAUUUACAGCUCCAUACAUGAGGUGUUCUCCCUACGCAAGUUCGAUCAGGCGAAACGGUGAAAGCCGUAGGUUGCCC\""
   ]
  },
  {
   "cell_type": "code",
   "execution_count": 2,
   "metadata": {},
   "outputs": [],
   "source": [
    "import matplotlib\n",
    "import matplotlib.pyplot as plt\n",
    "import numpy as np\n",
    "import sqlite3 "
   ]
  },
  {
   "cell_type": "code",
   "execution_count": 3,
   "metadata": {},
   "outputs": [
    {
     "name": "stdout",
     "output_type": "stream",
     "text": [
      "2.6.0\n"
     ]
    }
   ],
   "source": [
    "import sqlite3\n",
    "from sqlite3 import Error\n",
    " \n",
    "def create_connection(db_file):\n",
    "    \"\"\" create a database connection to a SQLite database \"\"\"\n",
    "    try:\n",
    "        conn = sqlite3.connect(db_file)\n",
    "        print(sqlite3.version)\n",
    "    except Error as e:\n",
    "        print(e)\n",
    "    finally:\n",
    "        conn.close()\n",
    " \n",
    "if __name__ == '__main__':\n",
    "    create_connection(\"/home/nathan/computational_biology_bioe131/lab5/sqldb.db\")"
   ]
  },
  {
   "cell_type": "code",
   "execution_count": 4,
   "metadata": {},
   "outputs": [
    {
     "ename": "OperationalError",
     "evalue": "near \")\": syntax error",
     "output_type": "error",
     "traceback": [
      "\u001b[0;31m---------------------------------------------------------------------------\u001b[0m",
      "\u001b[0;31mOperationalError\u001b[0m                          Traceback (most recent call last)",
      "\u001b[0;32m<ipython-input-4-6b5501d002f4>\u001b[0m in \u001b[0;36m<module>\u001b[0;34m()\u001b[0m\n\u001b[1;32m      2\u001b[0m \u001b[0mc\u001b[0m \u001b[0;34m=\u001b[0m \u001b[0mconn\u001b[0m\u001b[0;34m.\u001b[0m\u001b[0mcursor\u001b[0m\u001b[0;34m(\u001b[0m\u001b[0;34m)\u001b[0m\u001b[0;34m\u001b[0m\u001b[0m\n\u001b[1;32m      3\u001b[0m \u001b[0mc\u001b[0m\u001b[0;34m.\u001b[0m\u001b[0mexecute\u001b[0m\u001b[0;34m(\u001b[0m\u001b[0;34m\"\"\"CREATE TABLE ribozyme (name TEXT, OBS1_start_end TEXT, OBS2_start_end TEXT, red_start_end TEXT);\"\"\"\u001b[0m\u001b[0;34m)\u001b[0m\u001b[0;34m\u001b[0m\u001b[0m\n\u001b[0;32m----> 4\u001b[0;31m \u001b[0mc\u001b[0m\u001b[0;34m.\u001b[0m\u001b[0mexecute\u001b[0m\u001b[0;34m(\u001b[0m\u001b[0;34m\"\"\"INSERT INTO ribozyme ('YES1, ')\"\"\"\u001b[0m\u001b[0;34m)\u001b[0m\u001b[0;34m\u001b[0m\u001b[0m\n\u001b[0m",
      "\u001b[0;31mOperationalError\u001b[0m: near \")\": syntax error"
     ]
    }
   ],
   "source": [
    "conn = sqlite3.connect(\"sqldb.db\")\n",
    "c = conn.cursor()\n",
    "c.execute(\"\"\"CREATE TABLE ribozyme (name TEXT, OBS1_start_end TEXT, OBS2_start_end TEXT, red_start_end TEXT);\"\"\")\n",
    "c.execute(\"\"\"INSERT INTO ribozyme ('YES1, ')\"\"\")"
   ]
  },
  {
   "cell_type": "code",
   "execution_count": 5,
   "metadata": {},
   "outputs": [
    {
     "data": {
      "text/html": [
       "<table>\n",
       "<tbody>\n",
       "<tr><td>Ribozyme</td><td>OBS-1 start</td><td>OBS-1 end</td><td>OBS-2 start</td><td>OBS-2 end</td><td>Red region 1 start</td><td>Red region 1 start</td><td>Red region 2 start</td><td>Red region 2 end</td></tr>\n",
       "<tr><td>YES-1   </td><td>26         </td><td>47       </td><td>-          </td><td>-        </td><td>16                </td><td>23                </td><td>70                </td><td>77              </td></tr>\n",
       "<tr><td>NOT-1   </td><td>45         </td><td>66       </td><td>-          </td><td>-        </td><td>40                </td><td>43                </td><td>74                </td><td>77              </td></tr>\n",
       "<tr><td>AND-1   </td><td>30         </td><td>45       </td><td>49         </td><td>64       </td><td>16                </td><td>23                </td><td>70                </td><td>77              </td></tr>\n",
       "<tr><td>OR-1    </td><td>27         </td><td>46       </td><td>47         </td><td>66       </td><td>16                </td><td>26                </td><td>67                </td><td>77              </td></tr>\n",
       "</tbody>\n",
       "</table>"
      ],
      "text/plain": [
       "<IPython.core.display.HTML object>"
      ]
     },
     "metadata": {},
     "output_type": "display_data"
    }
   ],
   "source": [
    "from IPython.display import HTML, display\n",
    "import tabulate\n",
    "table = [[\"Ribozyme\", \"OBS-1 start\", \"OBS-1 end\", \"OBS-2 start\", \"OBS-2 end\", \"Red region 1 start\", \"Red region 1 start\", \"Red region 2 start\", \"Red region 2 end\"],\n",
    "        [\"YES-1\",26,47,\"-\",\"-\",16, 23,70,77],\n",
    "         [\"NOT-1\",45, 66,\"-\",\"-\", 40, 43,74,77],\n",
    "         [\"AND-1\",30,45,49,64,16,23,70,77],\n",
    "         [\"OR-1\",27,46,47,66,16,26,67,77]]\n",
    "display(HTML(tabulate.tabulate(table, tablefmt='html')))"
   ]
  },
  {
   "cell_type": "markdown",
   "metadata": {},
   "source": [
    "## RNALfold"
   ]
  },
  {
   "cell_type": "code",
   "execution_count": 18,
   "metadata": {},
   "outputs": [
    {
     "ename": "ImportError",
     "evalue": "No module named 'PIL'",
     "output_type": "error",
     "traceback": [
      "\u001b[0;31m---------------------------------------------------------------------------\u001b[0m",
      "\u001b[0;31mImportError\u001b[0m                               Traceback (most recent call last)",
      "\u001b[0;32m<ipython-input-18-d2ad21cc5cd6>\u001b[0m in \u001b[0;36m<module>\u001b[0;34m()\u001b[0m\n\u001b[1;32m      1\u001b[0m \u001b[0;32mimport\u001b[0m \u001b[0msubprocess\u001b[0m\u001b[0;34m\u001b[0m\u001b[0m\n\u001b[1;32m      2\u001b[0m \u001b[0;32mimport\u001b[0m \u001b[0mmatplotlib\u001b[0m\u001b[0;34m.\u001b[0m\u001b[0mimage\u001b[0m \u001b[0;32mas\u001b[0m \u001b[0mmpimg\u001b[0m\u001b[0;34m\u001b[0m\u001b[0m\n\u001b[0;32m----> 3\u001b[0;31m \u001b[0;32mimport\u001b[0m \u001b[0mPIL\u001b[0m\u001b[0;34m\u001b[0m\u001b[0m\n\u001b[0m\u001b[1;32m      4\u001b[0m \u001b[0;32mfrom\u001b[0m \u001b[0mPIL\u001b[0m \u001b[0;32mimport\u001b[0m \u001b[0mImage\u001b[0m\u001b[0;34m\u001b[0m\u001b[0m\n\u001b[1;32m      5\u001b[0m \u001b[0;34m\u001b[0m\u001b[0m\n",
      "\u001b[0;31mImportError\u001b[0m: No module named 'PIL'"
     ]
    }
   ],
   "source": [
    "import subprocess\n",
    "import matplotlib.image as mpimg\n",
    "\n",
    "proc = subprocess.run(['RNAfold'], input = bytes(yes_1, 'ascii'), stdout=subprocess.PIPE, stderr=subprocess.PIPE,check=True)\n",
    "print(proc.stdout)\n",
    "proc2 = subprocess.run(['RNAplot'], input=proc.stdout, stdout=subprocess.PIPE, stderr=subprocess.PIPE, check=True)\n",
    "print(proc2.stderr)\n",
    "proc3 = subprocess.call('convert rna.ps rna_yes_1.png', shell=True)\n",
    "print('hi')\n",
    "print(proc3)\n",
    "\n",
    "img = mpimg.imread('rna_yes_1.png')\n",
    "imgplot = plt.imshow(img)\n",
    "plt.show()\n",
    "\n",
    "a = subprocess.run(['ls'], stdout=subprocess.PIPE, stderr=subprocess.PIPE,check=True)\n",
    "print(a.stdout)"
   ]
  },
  {
   "cell_type": "code",
   "execution_count": 19,
   "metadata": {},
   "outputs": [
    {
     "data": {
      "image/png": "[encoded data removed]",
      "text/plain": [
       "<Figure size 432x288 with 1 Axes>"
      ]
     },
     "metadata": {
      "needs_background": "light"
     },
     "output_type": "display_data"
    }
   ],
   "source": [
    "proc = subprocess.run(['RNAfold'], input = bytes(not_1, 'ascii'), stdout=subprocess.PIPE, stderr=subprocess.PIPE,check=True)\n",
    "proc2 = subprocess.run(['RNAplot'], input=proc.stdout, stdout=subprocess.PIPE, stderr=subprocess.PIPE, check=True)\n",
    "proc3 = subprocess.call('convert rna.ps rna_not_1.png', shell=True)\n",
    "img = mpimg.imread('rna_not_1.png')\n",
    "imgplot = plt.imshow(img)\n",
    "plt.show()"
   ]
  },
  {
   "cell_type": "code",
   "execution_count": 15,
   "metadata": {},
   "outputs": [
    {
     "data": {
      "image/png": "[encoded data removed]",
      "text/plain": [
       "<Figure size 432x288 with 1 Axes>"
      ]
     },
     "metadata": {
      "needs_background": "light"
     },
     "output_type": "display_data"
    }
   ],
   "source": [
    "proc = subprocess.run(['RNAfold'], input = bytes(and_1, 'ascii'), stdout=subprocess.PIPE, stderr=subprocess.PIPE,check=True)\n",
    "proc2 = subprocess.run(['RNAplot'], input=proc.stdout, stdout=subprocess.PIPE, stderr=subprocess.PIPE, check=True)\n",
    "proc3 = subprocess.call('convert rna.ps rna_and_1.png', shell=True)\n",
    "img = mpimg.imread('rna_and_1.png')\n",
    "imgplot = plt.imshow(img)\n",
    "plt.show()"
   ]
  },
  {
   "cell_type": "code",
   "execution_count": 16,
   "metadata": {},
   "outputs": [
    {
     "data": {
      "image/png": "[encoded data removed]",
      "text/plain": [
       "<Figure size 432x288 with 1 Axes>"
      ]
     },
     "metadata": {
      "needs_background": "light"
     },
     "output_type": "display_data"
    }
   ],
   "source": [
    "proc = subprocess.run(['RNAfold'], input = bytes(or_1, 'ascii'), stdout=subprocess.PIPE, stderr=subprocess.PIPE,check=True)\n",
    "proc2 = subprocess.run(['RNAplot'], input=proc.stdout, stdout=subprocess.PIPE, stderr=subprocess.PIPE, check=True)\n",
    "proc3 = subprocess.call('convert rna.ps rna_or_1.png', shell=True)\n",
    "img = mpimg.imread('rna_or_1.png')\n",
    "imgplot = plt.imshow(img)\n",
    "plt.show()"
   ]
  },
  {
   "cell_type": "code",
   "execution_count": null,
   "metadata": {},
   "outputs": [],
   "source": []
  }
 ],
 "metadata": {
  "kernelspec": {
   "display_name": "Python 3",
   "language": "python",
   "name": "python3"
  },
  "language_info": {
   "codemirror_mode": {
    "name": "ipython",
    "version": 3
   },
   "file_extension": ".py",
   "mimetype": "text/x-python",
   "name": "python",
   "nbconvert_exporter": "python",
   "pygments_lexer": "ipython3",
   "version": "3.5.2"
  }
 },
 "nbformat": 4,
 "nbformat_minor": 2
}
