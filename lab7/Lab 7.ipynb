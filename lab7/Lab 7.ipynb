{
 "cells": [
  {
   "cell_type": "markdown",
   "metadata": {},
   "source": [
    "# Simulating the data"
   ]
  },
  {
   "cell_type": "markdown",
   "metadata": {},
   "source": [
    "Using np.random.choice, generate 100 megabytes(8 bits/byte* 1024 bytes/kilobyte* 1024 kilobytes/megabyte* 100) of random data containing 100%, 90%, 80%, 70%, 60%, and 50% zeros. Be sure to call np.packbits on your data before writing it to a file.   "
   ]
  },
  {
   "cell_type": "markdown",
   "metadata": {},
   "source": [
    "NC_004681.1:67842-68054 Mycobacterium phage Cjw1, complete genome\n",
    "NC_011270.1:64264-64767 Mycobacterium phage Spud, complete genome\n",
    "NC_009817.1:75089-75355 Lactococcus phage KSY1, complete genome\n"
   ]
  },
  {
   "cell_type": "markdown",
   "metadata": {},
   "source": [
    "## Generate DNA and protein sequences 100 million letters long"
   ]
  },
  {
   "cell_type": "code",
   "execution_count": 26,
   "metadata": {},
   "outputs": [],
   "source": [
    "import numpy as np\n",
    "data_100 = np.random.choice([0, 1], size=8*1024*1024*100, replace=True, p=[1, 0])\n",
    "data_90 = np.random.choice([0, 1], size=8*1024*1024*100, replace=True, p=[0.9, 0.1])\n",
    "data_80 = np.random.choice([0, 1], size=8*1024*1024*100, replace=True, p=[0.8, 0.2])\n",
    "data_70 = np.random.choice([0, 1], size=8*1024*1024*100, replace=True, p=[0.7, 0.3])  \n",
    "data_60 = np.random.choice([0, 1], size=8*1024*1024*100, replace=True, p=[0.6, 0.4])\n",
    "data_50 = np.random.choice([0, 1], size=8*1024*1024*100, replace=True, p=[0.5, 0.5])\n",
    "data_100 = np.packbits(data_100)\n",
    "data_90 = np.packbits(data_90)\n",
    "data_80 = np.packbits(data_80)\n",
    "data_70 = np.packbits(data_70)\n",
    "data_60 = np.packbits(data_60)\n",
    "data_50 = np.packbits(data_50)"
   ]
  },
  {
   "cell_type": "markdown",
   "metadata": {},
   "source": [
    "## Write data to a file"
   ]
  },
  {
   "cell_type": "code",
   "execution_count": 28,
   "metadata": {},
   "outputs": [
    {
     "data": {
      "text/plain": [
       "104857600"
      ]
     },
     "execution_count": 28,
     "metadata": {},
     "output_type": "execute_result"
    }
   ],
   "source": [
    "open('zeros_100p', 'wb').write(data_100)\n",
    "open('zeros_90p', 'wb').write(data_90)\n",
    "open('zeros_80p', 'wb').write(data_80)\n",
    "open('zeros_70p', 'wb').write(data_70)\n",
    "open('zeros_60p', 'wb').write(data_60)\n",
    "open('zeros_50p', 'wb').write(data_50)"
   ]
  },
  {
   "cell_type": "markdown",
   "metadata": {},
   "source": [
    "## Generate DNA and protein sequences 100 million letters long and write those to home directory"
   ]
  },
  {
   "cell_type": "code",
   "execution_count": 33,
   "metadata": {},
   "outputs": [
    {
     "data": {
      "text/plain": [
       "10000000"
      ]
     },
     "execution_count": 33,
     "metadata": {},
     "output_type": "execute_result"
    }
   ],
   "source": [
    "DNA_seq = np.random.choice(['A', 'C', 'T', 'G'], size=10000000, replace=True, p=[0.25, 0.25, 0.25, 0.25])\n",
    "open('nt_seq.fa', 'w').write(''.join(DNA_seq))"
   ]
  },
  {
   "cell_type": "code",
   "execution_count": 35,
   "metadata": {},
   "outputs": [
    {
     "data": {
      "text/plain": [
       "10000000"
      ]
     },
     "execution_count": 35,
     "metadata": {},
     "output_type": "execute_result"
    }
   ],
   "source": [
    "protein_seq = np.random.choice(['A', 'R', 'N', 'D', 'C', 'E', 'Q', 'G', 'H', 'I', 'L', 'K', 'M', 'F', 'P', 'S', 'T', 'W', 'Y', 'V'], size=10000000, replace=True, p=np.repeat(0.05, 20))\n",
    "open('protein_seq.fa', 'w').write(''.join(protein_seq))"
   ]
  },
  {
   "cell_type": "markdown",
   "metadata": {},
   "source": [
    "## Compressing the data\n",
    "On each of the files you generated above, run gzip, bzip, pbzip2 and ArithmeticCompress as follows:    \n",
    "time gzip –k zeros_100p   \n",
    "time bzip2 –k zeros_100p  \n",
    "time pbzip2 –k zeros_100p  \n",
    "time ArithmeticCompresszeros_100p zeros_100p.art"
   ]
  },
  {
   "cell_type": "raw",
   "metadata": {},
   "source": [
    "# Created function to run all compressions at once: \n",
    "\n",
    "for run in {zeros_50p,zeros_60p,zeros_70p,zeros_80p,zeros_90p,zeros_100p}; do echo $run gzip; time gzip -k $run; echo $run bzip2; time bzip2 -k $run; echo $run pbzip2; time pbzip2 -k -f $run; echo $run ArithmeticCompress; time ArithmeticCompress $run $run.art; done \n",
    "zeros_50p gzip\n",
    "\n",
    "# Output: \n",
    "\n",
    "real\t0m3.529s\n",
    "user\t0m3.437s\n",
    "sys\t0m0.092s\n",
    "zeros_50p bzip2\n",
    "\n",
    "real\t0m16.895s\n",
    "user\t0m16.803s\n",
    "sys\t0m0.092s\n",
    "zeros_50p pbzip2\n",
    "\n",
    "real\t0m1.572s\n",
    "user\t0m41.016s\n",
    "sys\t0m0.867s\n",
    "zeros_50p ArithmeticCompress\n",
    "\n",
    "real\t0m41.171s\n",
    "user\t0m40.937s\n",
    "sys\t0m0.232s\n",
    "zeros_60p gzip\n",
    "\n",
    "real\t0m4.331s\n",
    "user\t0m4.177s\n",
    "sys\t0m0.072s\n",
    "zeros_60p bzip2\n",
    "\n",
    "real\t0m15.673s\n",
    "user\t0m15.592s\n",
    "sys\t0m0.080s\n",
    "zeros_60p pbzip2\n",
    "\n",
    "real\t0m1.422s\n",
    "user\t0m36.479s\n",
    "sys\t0m0.831s\n",
    "zeros_60p ArithmeticCompress\n",
    "\n",
    "real\t0m41.200s\n",
    "user\t0m40.824s\n",
    "sys\t0m0.252s\n",
    "zeros_70p gzip\n",
    "\n",
    "real\t0m6.244s\n",
    "user\t0m6.103s\n",
    "sys\t0m0.140s\n",
    "zeros_70p bzip2\n",
    "\n",
    "real\t0m14.245s\n",
    "user\t0m14.096s\n",
    "sys\t0m0.148s\n",
    "zeros_70p pbzip2\n",
    "\n",
    "real\t0m1.180s\n",
    "user\t0m29.844s\n",
    "sys\t0m0.824s\n",
    "zeros_70p ArithmeticCompress\n",
    "\n",
    "real\t0m39.299s\n",
    "user\t0m39.044s\n",
    "sys\t0m0.224s\n",
    "zeros_80p gzip\n",
    "\n",
    "real\t0m13.352s\n",
    "user\t0m13.280s\n",
    "sys\t0m0.072s\n",
    "zeros_80p bzip2\n",
    "\n",
    "real\t0m12.084s\n",
    "user\t0m12.008s\n",
    "sys\t0m0.076s\n",
    "zeros_80p pbzip2\n",
    "\n",
    "real\t0m0.951s\n",
    "user\t0m23.521s\n",
    "sys\t0m0.807s\n",
    "zeros_80p ArithmeticCompress\n",
    "\n",
    "real\t0m35.588s\n",
    "user\t0m35.403s\n",
    "sys\t0m0.184s\n",
    "zeros_90p gzip\n",
    "\n",
    "real\t0m18.858s\n",
    "user\t0m18.733s\n",
    "sys\t0m0.124s\n",
    "zeros_90p bzip2\n",
    "\n",
    "real\t0m11.466s\n",
    "user\t0m11.369s\n",
    "sys\t0m0.096s\n",
    "zeros_90p pbzip2\n",
    "\n",
    "real\t0m0.759s\n",
    "user\t0m18.594s\n",
    "sys\t0m0.724s\n",
    "zeros_90p ArithmeticCompress\n",
    "\n",
    "real\t0m28.696s\n",
    "user\t0m28.599s\n",
    "sys\t0m0.096s\n",
    "zeros_100p gzip\n",
    "\n",
    "real\t0m0.690s\n",
    "user\t0m0.681s\n",
    "sys\t0m0.008s\n",
    "zeros_100p bzip2\n",
    "\n",
    "real\t0m0.988s\n",
    "user\t0m0.968s\n",
    "sys\t0m0.020s\n",
    "zeros_100p pbzip2\n",
    "\n",
    "real\t0m0.096s\n",
    "user\t0m1.652s\n",
    "sys\t0m0.070s\n",
    "zeros_100p ArithmeticCompress\n",
    "\n",
    "real\t0m14.768s\n",
    "user\t0m14.728s\n",
    "sys\t0m0.040s"
   ]
  },
  {
   "cell_type": "markdown",
   "metadata": {},
   "source": [
    "## Table of input file, compression method, size of output file, and time of each command"
   ]
  },
  {
   "cell_type": "code",
   "execution_count": 4,
   "metadata": {},
   "outputs": [
    {
     "data": {
      "text/html": [
       "<table>\n",
       "<tbody>\n",
       "<tr><td>File Name     </td><td>Compression method </td><td>File size</td><td>Real time to run (sec)</td></tr>\n",
       "<tr><td>zeros_50p     </td><td>-                  </td><td>100 MB   </td><td>-                     </td></tr>\n",
       "<tr><td>zeros_50p.gz  </td><td>gzip               </td><td>101 MB   </td><td>3.529s                </td></tr>\n",
       "<tr><td>zeros_50p.bz2 </td><td>bzip2              </td><td>101 MB   </td><td>16.895s               </td></tr>\n",
       "<tr><td>zeros_50p.bz2 </td><td>pbzip2             </td><td>101 MB   </td><td>1.572s                </td></tr>\n",
       "<tr><td>zeros_50p.art </td><td>Arithmetic Compress</td><td>101 MB   </td><td>41.171s               </td></tr>\n",
       "<tr><td>zeros_60p     </td><td>-                  </td><td>100 MB   </td><td>-                     </td></tr>\n",
       "<tr><td>zeros_60p.gz  </td><td>gzip               </td><td>98 MB    </td><td>4.331s                </td></tr>\n",
       "<tr><td>zeros_60p.bz2 </td><td>bzip2              </td><td>101 MB   </td><td>15.673s               </td></tr>\n",
       "<tr><td>zeros_50p.bz2 </td><td>pbzip2             </td><td>101 MB   </td><td>1.422s                </td></tr>\n",
       "<tr><td>zeros_60p.art </td><td>Arithmetic Compress</td><td>98 MB    </td><td>41.200s               </td></tr>\n",
       "<tr><td>zeros_70p     </td><td>-                  </td><td>100 MB   </td><td>-                     </td></tr>\n",
       "<tr><td>zeros_70p.gz  </td><td>gzip               </td><td>90 MB    </td><td>6.244s                </td></tr>\n",
       "<tr><td>zeros_70p.bz2 </td><td>bzip2              </td><td>96 MB    </td><td>14.245s               </td></tr>\n",
       "<tr><td>zeros_70p.bz2 </td><td>pbzip2             </td><td>96 MB    </td><td>1.180s                </td></tr>\n",
       "<tr><td>zeros_70p.art </td><td>Arithmetic Compress</td><td>89 MB    </td><td>39.299s               </td></tr>\n",
       "<tr><td>zeros_80p     </td><td>-                  </td><td>100 MB   </td><td>-                     </td></tr>\n",
       "<tr><td>zeros_80p.gz  </td><td>gzip               </td><td>78 MB    </td><td>13.352s               </td></tr>\n",
       "<tr><td>zeros_80p.bz2 </td><td>bzip2              </td><td>83 MB    </td><td>12.084s               </td></tr>\n",
       "<tr><td>zeros_80p.bz2 </td><td>pbzip2             </td><td>83 MB    </td><td>0.951s                </td></tr>\n",
       "<tr><td>zeros_80p.art </td><td>Arithmetic Compress</td><td>73 MB    </td><td>35.588s               </td></tr>\n",
       "<tr><td>zeros_90p     </td><td>-                  </td><td>100 MB   </td><td>-                     </td></tr>\n",
       "<tr><td>zeros_90p.gz  </td><td>gzip               </td><td>57 MB    </td><td>18.858s               </td></tr>\n",
       "<tr><td>zeros_90p.bz2 </td><td>bzip2              </td><td>59 MB    </td><td>11.466s               </td></tr>\n",
       "<tr><td>zeros_90p.bz2 </td><td>pbzip2             </td><td>59 MB    </td><td>0.759s                </td></tr>\n",
       "<tr><td>zeros_90p.art </td><td>Arithmetic Compress</td><td>47 MB    </td><td>28.696s               </td></tr>\n",
       "<tr><td>zeros_100p    </td><td>-                  </td><td>100 MB   </td><td>-                     </td></tr>\n",
       "<tr><td>zeros_100p.gz </td><td>gzip               </td><td>100 KB   </td><td>0.690s                </td></tr>\n",
       "<tr><td>zeros_100p.bz2</td><td>bzip2              </td><td>8 KB     </td><td>0.988s                </td></tr>\n",
       "<tr><td>zeros_100p.bz2</td><td>pbzip2             </td><td>8 KB     </td><td>0.096s                </td></tr>\n",
       "<tr><td>zeros_100p.art</td><td>Arithmetic Compress</td><td>4 KB     </td><td>14.768s               </td></tr>\n",
       "</tbody>\n",
       "</table>"
      ],
      "text/plain": [
       "<IPython.core.display.HTML object>"
      ]
     },
     "metadata": {},
     "output_type": "display_data"
    }
   ],
   "source": [
    "from IPython.display import HTML, display\n",
    "import tabulate\n",
    "table = [[\"File Name\", \"Compression method\", \"File size\", \"Real time to run (sec)\"],\n",
    "        [\"zeros_50p\", \"-\",\"100 MB\", \"-\"],\n",
    "         [\"zeros_50p.gz\", \"gzip\",\"101 MB\", \"3.529s\"], \n",
    "        [\"zeros_50p.bz2\", \"bzip2\",\"101 MB\", \"16.895s\"],\n",
    "        [\"zeros_50p.bz2\", \"pbzip2\",\"101 MB\", \"1.572s\"],\n",
    "        [\"zeros_50p.art\", \"Arithmetic Compress\",\"101 MB\", \"41.171s\"],\n",
    "        [\"zeros_60p\", \"-\",\"100 MB\", \"-\"],\n",
    "        [\"zeros_60p.gz\", \"gzip\",\"98 MB\", \"4.331s\"],\n",
    "        [\"zeros_60p.bz2\", \"bzip2\",\"101 MB\", \"15.673s\"],\n",
    "        [\"zeros_50p.bz2\", \"pbzip2\",\"101 MB\", \"1.422s\"],\n",
    "        [\"zeros_60p.art\", \"Arithmetic Compress\",\"98 MB\", \"41.200s\"],\n",
    "        [\"zeros_70p\", \"-\",\"100 MB\", \"-\"],\n",
    "        [\"zeros_70p.gz\", \"gzip\",\"90 MB\", \"6.244s\"],\n",
    "        [\"zeros_70p.bz2\", \"bzip2\",\"96 MB\", \"14.245s\"],\n",
    "        [\"zeros_70p.bz2\", \"pbzip2\",\"96 MB\", \"1.180s\"],\n",
    "        [\"zeros_70p.art\", \"Arithmetic Compress\",\"89 MB\", \"39.299s\"],\n",
    "        [\"zeros_80p\", \"-\",\"100 MB\", \"-\"],\n",
    "         [\"zeros_80p.gz\", \"gzip\",\"78 MB\", \"13.352s\"], \n",
    "        [\"zeros_80p.bz2\", \"bzip2\",\"83 MB\", \"12.084s\"],\n",
    "        [\"zeros_80p.bz2\", \"pbzip2\",\"83 MB\", \"0.951s\"],\n",
    "        [\"zeros_80p.art\", \"Arithmetic Compress\",\"73 MB\", \"35.588s\"],\n",
    "        [\"zeros_90p\", \"-\",\"100 MB\", \"-\"],\n",
    "         [\"zeros_90p.gz\", \"gzip\",\"57 MB\", \"18.858s\"], \n",
    "        [\"zeros_90p.bz2\", \"bzip2\",\"59 MB\", \"11.466s\"],\n",
    "        [\"zeros_90p.bz2\", \"pbzip2\",\"59 MB\", \"0.759s\"],\n",
    "        [\"zeros_90p.art\", \"Arithmetic Compress\",\"47 MB\", \"28.696s\"],\n",
    "        [\"zeros_100p\", \"-\",\"100 MB\", \"-\"],\n",
    "         [\"zeros_100p.gz\", \"gzip\",\"100 KB\", \"0.690s\"], \n",
    "        [\"zeros_100p.bz2\", \"bzip2\",\"8 KB\", \"0.988s\"],\n",
    "        [\"zeros_100p.bz2\", \"pbzip2\",\"8 KB\", \"0.096s\"],\n",
    "        [\"zeros_100p.art\", \"Arithmetic Compress\",\"4 KB\", \"14.768s\"]]\n",
    "display(HTML(tabulate.tabulate(table, tablefmt='html')))"
   ]
  },
  {
   "cell_type": "markdown",
   "metadata": {},
   "source": [
    "## Questions"
   ]
  },
  {
   "cell_type": "markdown",
   "metadata": {},
   "source": [
    "_Which algorithm achieves the best level of compression on each file type?_  \n",
    "\n",
    "    Arithmetic worked best on  bit files, DNA sequence fasta files, and protein sequence fasta files.\n",
    "       \n",
    "_Which algorithm is the fastest?_  \n",
    "    \n",
    "    pbzip2 was the fastest. \n",
    "    \n",
    "_What is the difference between bzip2 and pbzip2? Do you expect one to be faster and why?_   \n",
    "    \n",
    "    pbzip2 uses multi-threading which allows the compression to run at nearly linear speed when the system has multiple CPUs and multi-core processors (slightly more memory to store). Bzip2 relies on the Burrows-Wheeler transform, and then Huffman coding to compress the bytes based on the rarity and occurance of the bytes in the file. bzip2 can only be applied to individual files. \n",
    "    pzip2 is expected to run faster since it uses multi-threading. \n",
    "\n",
    "_How does the level of compression change as the percentage of zeros increases? Why does this happen?_  \n",
    "\n",
    "    As percentage of zeroes increase, the level of compression increases. This is due to the decrease in entropy as there are more zeroes. A higher  entropy of a file requires more bits to encode so the level of compression decreases. \n",
    "_What is the minimum number of bits required to store a single DNA base?_  \n",
    "    \n",
    "    log base 2 (4) = 2 bits\n",
    "_What is the minimum number of bits required to store an amino acid letter?_    \n",
    "\n",
    "    log base 2 (20) = 4.32 bits -> 5 bits\n",
    "_In your tests, how many bits did gzip and bzip2 actually require to store your random DNA and protein sequences?_  \n",
    "    \n",
    "    gzip DNA sequence:  \n",
    "        DNA sequence file: 2.8MB = 2.24 x 10^7 bits  \n",
    "    bzip2 DNA sequence:      \n",
    "        DNA sequence file: 2.7MB = 2.16 x 10^7 bits   \n",
    "    gzip protein sequence:  \n",
    "        protein sequence file: 5.8MB = 4.64 x 10^7 bits   \n",
    "    bzip2 protein sequence:  \n",
    "        protein sequence file: 5.3MB = 4.24 x 10^7 bits   \n",
    "        \n",
    "_Are gzip and bzip2 performing well on DNA and proteins?_  \n",
    "\n",
    "    They performed decently. They both similarly to pbzip2. They performed worse in DNA relative to ArithmeticCompress and better in protein relative to ArithmeticCompress. \n",
    "    "
   ]
  },
  {
   "cell_type": "markdown",
   "metadata": {},
   "source": [
    "Gzip actually rerquired 1 byte (8 bits) to store my random DNA and protein sequences because they read each byte as a char which is worth 1 byte. "
   ]
  },
  {
   "cell_type": "markdown",
   "metadata": {},
   "source": [
    "Use real time only because account for multi-core"
   ]
  },
  {
   "cell_type": "raw",
   "metadata": {},
   "source": [
    "du -sh *\n",
    "100M\tzeros_100p\n",
    "4.0K\tzeros_100p.art\n",
    "8.0K\tzeros_100p.bz2\n",
    "100K\tzeros_100p.gz\n",
    "100M\tzeros_50p\n",
    "101M\tzeros_50p.art\n",
    "101M\tzeros_50p.bz2\n",
    "101M\tzeros_50p.gz\n",
    "100M\tzeros_60p\n",
    "98M\tzeros_60p.art\n",
    "101M\tzeros_60p.bz2\n",
    "98M\tzeros_60p.gz\n",
    "100M\tzeros_70p\n",
    "89M\tzeros_70p.art\n",
    "96M\tzeros_70p.bz2\n",
    "90M\tzeros_70p.gz\n",
    "100M\tzeros_80p\n",
    "73M\tzeros_80p.art\n",
    "83M\tzeros_80p.bz2\n",
    "78M\tzeros_80p.gz\n",
    "100M\tzeros_90p\n",
    "47M\tzeros_90p.art\n",
    "59M\tzeros_90p.bz2\n",
    "57M\tzeros_90p.gz"
   ]
  },
  {
   "cell_type": "markdown",
   "metadata": {},
   "source": [
    "# DNA"
   ]
  },
  {
   "cell_type": "raw",
   "metadata": {},
   "source": [
    "OF=nt_seq.fa; echo gzip; time gzip -k $OF; echo bzip2; time bzip2 -k $OF; echo pbzip2; time pbzip2 -f -k $OF; echo ArithmeticCompress; time ArithmeticCompress $OF $OF.art\n",
    "gzip\n",
    "\n",
    "real\t0m1.356s\n",
    "user\t0m1.272s\n",
    "sys\t0m0.004s\n",
    "bzip2\n",
    "\n",
    "real\t0m0.952s\n",
    "user\t0m0.948s\n",
    "sys\t0m0.004s\n",
    "pbzip2\n",
    "\n",
    "real\t0m0.120s\n",
    "user\t0m1.061s\n",
    "sys\t0m0.063s\n",
    "ArithmeticCompress\n",
    "\n",
    "real\t0m2.137s\n",
    "user\t0m2.133s\n",
    "sys\t0m0.004s\n"
   ]
  },
  {
   "cell_type": "markdown",
   "metadata": {},
   "source": [
    "# Protein"
   ]
  },
  {
   "cell_type": "raw",
   "metadata": {},
   "source": [
    "OF=protein_seq.fa; echo gzip; time gzip -k $OF; echo bzip2; time bzip2 -k $OF; echo pbzip2; time pbzip2 -f -k $OF; echo ArithmeticCompress; time ArithmeticCompress $OF $OF.art\n",
    "gzip\n",
    "\n",
    "real\t0m0.475s\n",
    "user\t0m0.471s\n",
    "sys\t0m0.004s\n",
    "bzip2\n",
    "\n",
    "real\t0m1.007s\n",
    "user\t0m0.990s\n",
    "sys\t0m0.016s\n",
    "pbzip2\n",
    "\n",
    "real\t0m0.151s\n",
    "user\t0m1.271s\n",
    "sys\t0m0.077s\n",
    "ArithmeticCompress\n",
    "\n",
    "real\t0m2.852s\n",
    "user\t0m2.836s\n",
    "sys\t0m0.016s"
   ]
  },
  {
   "cell_type": "raw",
   "metadata": {},
   "source": [
    "du -sh *\n",
    "9.6M\tnt_seq.fa\n",
    "2.4M\tnt_seq.fa.art\n",
    "2.7M\tnt_seq.fa.bz2\n",
    "2.8M\tnt_seq.fa.gz\n",
    "9.6M\tprotein_seq.fa\n",
    "5.2M\tprotein_seq.fa.art\n",
    "5.3M\tprotein_seq.fa.bz2\n",
    "5.8M\tprotein_seq.fa.gz"
   ]
  },
  {
   "cell_type": "code",
   "execution_count": 14,
   "metadata": {},
   "outputs": [
    {
     "data": {
      "text/html": [
       "<table>\n",
       "<tbody>\n",
       "<tr><td>File Name         </td><td>Compression method </td><td>File size</td><td>Real time to run (sec)</td></tr>\n",
       "<tr><td>nt_seq.fa         </td><td>-                  </td><td>9.6 MB   </td><td>-                     </td></tr>\n",
       "<tr><td>nt_seq.fa.gz      </td><td>gzip               </td><td>2.8 MB   </td><td>1.356s                </td></tr>\n",
       "<tr><td>nt_seq.fa.bz2     </td><td>bzip2              </td><td>2.7 MB   </td><td>0.952s                </td></tr>\n",
       "<tr><td>nt_seq.fa.bz2     </td><td>pbzip2             </td><td>2.7 MB   </td><td>0.120s                </td></tr>\n",
       "<tr><td>nt_seq.fa.art     </td><td>Arithmetic Compress</td><td>2.4 MB   </td><td>2.137s                </td></tr>\n",
       "<tr><td>protein_seq.fa    </td><td>-                  </td><td>9.6 MB   </td><td>-                     </td></tr>\n",
       "<tr><td>protein_seq.fa.gz </td><td>gzip               </td><td>5.8 MB   </td><td>0.475s                </td></tr>\n",
       "<tr><td>protein_seq.fa.bz2</td><td>bzip2              </td><td>5.3 MB   </td><td>1.007s                </td></tr>\n",
       "<tr><td>protein_seq.fa.bz2</td><td>pbzip2             </td><td>5.3 MB   </td><td>0.151s                </td></tr>\n",
       "<tr><td>protein_seq.fa.art</td><td>Arithmetic Compress</td><td>5.2 MB   </td><td>2.852s                </td></tr>\n",
       "</tbody>\n",
       "</table>"
      ],
      "text/plain": [
       "<IPython.core.display.HTML object>"
      ]
     },
     "metadata": {},
     "output_type": "display_data"
    }
   ],
   "source": [
    "table = [[\"File Name\", \"Compression method\", \"File size\", \"Real time to run (sec)\"],\n",
    "        [\"nt_seq.fa\", \"-\",\"9.6 MB\", \"-\"],\n",
    "         [\"nt_seq.fa.gz\", \"gzip\",\"2.8 MB\", \"1.356s\"], \n",
    "        [\"nt_seq.fa.bz2\", \"bzip2\",\"2.7 MB\", \"0.952s\"],\n",
    "        [\"nt_seq.fa.bz2\", \"pbzip2\",\"2.7 MB\", \"0.120s\"],\n",
    "        [\"nt_seq.fa.art\", \"Arithmetic Compress\",\"2.4 MB\", \"2.137s\"],\n",
    "        [\"protein_seq.fa\", \"-\",\"9.6 MB\", \"-\"],\n",
    "         [\"protein_seq.fa.gz\", \"gzip\",\"5.8 MB\", \"0.475s\"], \n",
    "        [\"protein_seq.fa.bz2\", \"bzip2\",\"5.3 MB\", \"1.007s\"],\n",
    "        [\"protein_seq.fa.bz2\", \"pbzip2\",\"5.3 MB\", \"0.151s\"],\n",
    "        [\"protein_seq.fa.art\", \"Arithmetic Compress\",\"5.2 MB\", \"2.852s\"]]\n",
    "display(HTML(tabulate.tabulate(table, tablefmt='html')))"
   ]
  },
  {
   "cell_type": "markdown",
   "metadata": {},
   "source": [
    "## Compressing real data"
   ]
  },
  {
   "cell_type": "code",
   "execution_count": 38,
   "metadata": {},
   "outputs": [],
   "source": [
    "#>NC_023693.1:58516-60095 Enterobacteria phage phi92 gp120, complete genome\n",
    "gp120_1 = \"GGAGGTTCTGAGTGTCTACAGGTAAGCGTAAGTACACTAAAAGATCGGATTACTGGAACAAAGGCTCAAC\n",
    "TGAAAAAGCTGCACTGTCTCCAACACAAAGTGCAACTAAAGAGAAGAACTTGGTACTTTCACCAGAAATA\n",
    "GGTACTATTGGTCTTAATTCGATTAAAGCCTTTACGAACTTCATGCAACCGTATGAAACTCGCTTCCCAG\n",
    "AAAACATCCGAACATACAAAGAAATGGGTGAAGACCCTGACGTAGCTACTGCTCTTGATGCTACGTACAT\n",
    "CTTTGTAGATAGAGCATTCTTTGATTTTAAAATAAAATACAATGTTAGTTCAGCTAAGTCAAGACGTGCT\n",
    "GCAAAGTTTGTAGACTACACACTTCGCAACATGAATGCACCACTAAGACAGTATGTACGCTCCTTGCTAA\n",
    "CATATAAGCAATTTGGGTTTGCATTTGCAGAAAAGGTGTATGAACTTGATGAAGATCCAAAAAGCCCGTA\n",
    "TTTTGGTTATTACCGTCTTGTTAAATTGGCGTTTAGACCCCAGGATACAATTGATTTGGCACAACCTTTC\n",
    "ACTTATTCTGATGACGGTCGCACTATTCTTACGGTGAACCAAAACATTACTAATGGAATGGTAAGCCCTG\n",
    "GTACTAACGCAACTCTAATAGGAAGAAAAGAAATTCCTATGGAGAAAGTTATTTACGTAGGGAGCAACAT\n",
    "TACAGAGAATAATCCATTAGGTGTAAGCCCACTTCTTGCAGTATATAGAAGTTGGCGTGAAAAATCTCTG\n",
    "ATTCAAGAATACGAAGTTGTTGGTGTTTCGAAAGACTTAGGCGGTATGCCAGTGTTGATGGTTCCAAGCG\n",
    "ATATTCTCAACAGGGCATCACTAAACCCAAGCGGAGATGAAGCACAATCTTTACGTGTTCTGCAAGCAAA\n",
    "TATCGCTAACTTACACGCTGGTGAACAATCTTATATGGTGTTACCTTCTGATGTTTATGAAGGTACTGTT\n",
    "ATGCGCCAGTATGATCTTGTATTCCAAGGTGTTGAGGGTAGTGGTAAGCAATTCGATACACAGGCTCTAA\n",
    "TAAAACAACGTAAATTAGATATCTACAACAGATTTGGTGCAGGTGTTCTGATTATGGGTGATGGAGAAGG\n",
    "TGGTAGTTATTCTTTGTCAGATAACAAACAAACCCTTCTTTCACATTTTATTGAGCGTGATGTAGATATT\n",
    "ATTACAGAAGCACTAAATACTCAAGTAATTCCCCAACTTCTACGTTTGAATGGTATTTTCTTATCTCAAG\n",
    "AAGATATGCCTAAATTTGTTAGTGATGATATCGGTGATCCTGATATTGAAGTTAATGCTAAGGCAATCCA\n",
    "ACAAATCGTAGCTGCTGGTGCAATACCATTAACGCCAGAAGTAATTAATGAATTCTTCGAACGTTTAGGT\n",
    "TTCAATTATAGAATACCTGATGATATTGTTGCTGATCCAGATAAGTTCCAAGAATTCCTTGAGACTTTTA\n",
    "TGCCAGATAAGACTTCAAGATCTGGTGATGGTTTAGCGGCTGGTGCTGGTAATGGAACGTCAACATCTCC\n",
    "TGCTGCATTAGATACATCGGCAGCAAATTTGGCAAATTAA\""
   ]
  },
  {
   "cell_type": "markdown",
   "metadata": {},
   "source": [
    "## Compress the multi-FASTAusing gzip, bzip2, and arithmetic coding\n",
    "\n",
    "_A priori, doy ou expect to achieve better or worse compressionherethan random data? Why?_  \n",
    "Worse because actual DNA sequences have more random sequences and are less structured and predictable. \n"
   ]
  },
  {
   "cell_type": "raw",
   "metadata": {},
   "source": [
    "OF=gp120_10_seq.fa; echo gzip; time gzip -k $OF; echo bzip2; time bzip2 -k $OF; echo pbzip2; time pbzip2 -f -k $OF; echo ArithmeticCompress; time ArithmeticCompress $OF $OF.art\n",
    "gzip\n",
    "\n",
    "real\t0m0.003s\n",
    "user\t0m0.002s\n",
    "sys\t0m0.001s\n",
    "bzip2\n",
    "\n",
    "real\t0m0.003s\n",
    "user\t0m0.000s\n",
    "sys\t0m0.004s\n",
    "pbzip2\n",
    "\n",
    "real\t0m0.006s\n",
    "user\t0m0.006s\n",
    "sys\t0m0.001s\n",
    "ArithmeticCompress\n",
    "\n",
    "real\t0m0.007s\n",
    "user\t0m0.007s\n",
    "\n",
    "sys\t0m0.000s\n"
   ]
  },
  {
   "cell_type": "raw",
   "metadata": {},
   "source": [
    "pbzip2 gp120_10_seq.fa -c > gp120_10_seq.fa.pz2\n",
    "\n",
    "ls -lh\n",
    "total 24K\n",
    "-rw-rw-r-- 1 be131-02 be131-02 2.7K Oct  4 20:12 gp120_10_seq.fa\n",
    "-rw-rw-r-- 1 be131-02 be131-02 2.1K Oct  4 20:13 gp120_10_seq.fa.art\n",
    "-rw-rw-r-- 1 be131-02 be131-02  984 Oct  4 20:12 gp120_10_seq.fa.bz2\n",
    "-rw-rw-r-- 1 be131-02 be131-02 1.1K Oct  4 20:12 gp120_10_seq.fa.gz\n",
    "-rw-rw-r-- 1 be131-02 be131-02  984 Oct 10 18:23 gp120_10_seq.fa.pz2"
   ]
  },
  {
   "cell_type": "markdown",
   "metadata": {},
   "source": [
    "_How does the compression ratio of this file compare to random data?_  \n",
    "    \n",
    "    They all performed better compared to random data. "
   ]
  },
  {
   "cell_type": "code",
   "execution_count": 13,
   "metadata": {},
   "outputs": [
    {
     "name": "stdout",
     "output_type": "stream",
     "text": [
      "Actual data: \n"
     ]
    },
    {
     "data": {
      "text/html": [
       "<table>\n",
       "<tbody>\n",
       "<tr><td>File Name          </td><td>Compression method </td><td>File size (KB)</td><td>Compression ratio </td></tr>\n",
       "<tr><td>gp120_10_seq.fa    </td><td>-                  </td><td>2.7           </td><td>1.0               </td></tr>\n",
       "<tr><td>gp120_10_seq.fa.gz </td><td>gzip               </td><td>1.1           </td><td>2.4545454545454546</td></tr>\n",
       "<tr><td>gp120_10_seq.fa.bz2</td><td>bzip2              </td><td>0.984         </td><td>2.7439024390243905</td></tr>\n",
       "<tr><td>gp120_10_seq.fa.pz2</td><td>pbzip2             </td><td>0.984         </td><td>2.7439024390243905</td></tr>\n",
       "<tr><td>gp120_10_seq.fa.art</td><td>Arithmetic Compress</td><td>2.1           </td><td>1.2857142857142858</td></tr>\n",
       "</tbody>\n",
       "</table>"
      ],
      "text/plain": [
       "<IPython.core.display.HTML object>"
      ]
     },
     "metadata": {},
     "output_type": "display_data"
    },
    {
     "name": "stdout",
     "output_type": "stream",
     "text": [
      "Random data: \n"
     ]
    },
    {
     "data": {
      "text/html": [
       "<table>\n",
       "<tbody>\n",
       "<tr><td>File Name    </td><td>Compression method </td><td>File size (MB)</td><td>Compression ratio </td></tr>\n",
       "<tr><td>nt_seq.fa    </td><td>-                  </td><td>9.6           </td><td>1.0               </td></tr>\n",
       "<tr><td>nt_seq.fa.gz </td><td>gzip               </td><td>2.8           </td><td>3.428571428571429 </td></tr>\n",
       "<tr><td>nt_seq.fa.bz2</td><td>bzip2              </td><td>2.7           </td><td>3.5555555555555554</td></tr>\n",
       "<tr><td>nt_seq.fa.bz2</td><td>pbzip2             </td><td>2.7           </td><td>3.5555555555555554</td></tr>\n",
       "<tr><td>nt_seq.fa.art</td><td>Arithmetic Compress</td><td>2.4           </td><td>4.0               </td></tr>\n",
       "</tbody>\n",
       "</table>"
      ],
      "text/plain": [
       "<IPython.core.display.HTML object>"
      ]
     },
     "metadata": {},
     "output_type": "display_data"
    },
    {
     "name": "stdout",
     "output_type": "stream",
     "text": [
      "For every 2.7 bytes of data that you input, pbzip2 compresses that to 1.0 byte. Thus the fraction saved using pbzip2:  0.3644444444444444\n"
     ]
    }
   ],
   "source": [
    "print(\"Actual data: \")\n",
    "Actual_data = [[\"File Name\", \"Compression method\", \"File size (KB)\", \"Compression ratio\"],\n",
    "        [\"gp120_10_seq.fa\", \"-\",2.7, 2.7/2.7],\n",
    "               [\"gp120_10_seq.fa.gz\", \"gzip\",1.1, 2.7/1.1],\n",
    "               [\"gp120_10_seq.fa.bz2\", \"bzip2\",.984, 2.7/.984],\n",
    "               [\"gp120_10_seq.fa.pz2\", \"pbzip2\",.984, 2.7/.984],\n",
    "               [\"gp120_10_seq.fa.art\", \"Arithmetic Compress\",2.1, 2.7/2.1]]\n",
    "\n",
    "\n",
    "display(HTML(tabulate.tabulate(Actual_data, tablefmt='html')))\n",
    "\n",
    "print(\"Random data: \")\n",
    "Random_data = [[\"File Name\", \"Compression method\", \"File size (MB)\", \"Compression ratio\"],\n",
    "        [\"nt_seq.fa\", \"-\",9.6, 9.6/9.6],\n",
    "         [\"nt_seq.fa.gz\", \"gzip\",2.8, 9.6/2.8], \n",
    "        [\"nt_seq.fa.bz2\", \"bzip2\",2.7, 9.6/2.7],\n",
    "        [\"nt_seq.fa.bz2\", \"pbzip2\",2.7, 9.6/2.7],\n",
    "        [\"nt_seq.fa.art\", \"Arithmetic Compress\",2.4, 9.6/2.4]]\n",
    "\n",
    "\n",
    "display(HTML(tabulate.tabulate(Random_data, tablefmt='html')))\n",
    "print(\"For every 2.7 bytes of data that you input, pbzip2 compresses that to 1.0 byte. Thus the fraction saved using pbzip2: \", .984/2.7)"
   ]
  },
  {
   "cell_type": "markdown",
   "metadata": {},
   "source": [
    "## Estimating compression of 1000 terabytes"
   ]
  },
  {
   "cell_type": "markdown",
   "metadata": {},
   "source": [
    "Let’s make some assumptions about the contents of the data at your biotech company. Most of the data, say 80%, isre-sequencing of genomes and plasmids that are very similar to each other. Another 10% might be protein sequences, and the last 10% are binary microscope images which we’ll assume follow the worst-case scenario of being completely random.\n",
    "\n",
    "_Given the benchmarking data you obtained in this lab, which algorithm do you propose to use for each type of data? Provide an estimate for the fraction of space you can save using your compression scheme. How much of a bonus do you anticipate receiving this year?_\n",
    "\n",
    "Use pbzip2 as it is the fastest. You can reduce the amount of storage to around 36.4% of its original space, approximately reducing storage by 2/3.\n",
    "\n",
    "We will leave the 10% protein sequences and 10% are binary microscope images uncompressed since compression increases the file size.\n",
    "\n",
    "Compression ratio for pbzip2: 2.72.\n",
    "We use pbzip2 on all the data so  0.80 x .272 x 100 = 21.76%   \n",
    "Reduction: 100% - 21.76% = 78.24%  \n",
    "Amount savings: 50/terabyte * 0.7824 * 1000 terabytes/day * 365days/year = 14278800 dollars \n"
   ]
  },
  {
   "cell_type": "raw",
   "metadata": {},
   "source": [
    "be131-02@meowth:~/computational_biology_BioE131/lab7/gp120_data/oldtests$ OF=gp120_10_seq_combined.txt; echo gzip; time gzip -k $OF; echo bzip2; time bzip2 -k $OF; echo pbzip2; time pbzip2 -f -k $OF; echo ArithmeticCompress; time ArithmeticCompress $OF $OF.art\n",
    "gzip\n",
    "\n",
    "real\t0m0.003s\n",
    "user\t0m0.003s\n",
    "sys\t0m0.000s\n",
    "bzip2\n",
    "\n",
    "real\t0m0.003s\n",
    "user\t0m0.003s\n",
    "sys\t0m0.000s\n",
    "pbzip2\n",
    "\n",
    "real\t0m0.007s\n",
    "user\t0m0.000s\n",
    "sys\t0m0.007s\n",
    "ArithmeticCompress\n",
    "\n",
    "real\t0m0.007s\n",
    "user\t0m0.003s\n",
    "sys\t0m0.004s\n",
    "\n",
    "be131-02@meowth:~/computational_biology_BioE131/lab7/gp120_data/oldtests$ OF=gp120_10_seq; echo gzip; time gzip -k $OF; echo bzip2; time bzip2 -k $OF; echo pbzip2; time pbzip2 -f -k $OF; echo ArithmeticCompress; time ArithmeticCompress $OF $OF.art\n",
    "\n",
    "gp120_10_seq_combined.txt      gp120_10_seq_combined.txt.bz2  gp120_10_seq.txt               \n",
    "gp120_10_seq_combined.txt.art  gp120_10_seq_combined.txt.gz   \n",
    "\n",
    "be131-02@meowth:~/computational_biology_BioE131/lab7/gp120_data/oldtests$ OF=gp120_10_seq; echo gzip; time gzip -k $OF; echo bzip2; time bzip2 -k $OF; echo pbzip2; time pbzip2 -f -k $OF; echo ArithmeticCompress; time ArithmeticCompress $OF $OF.art\n",
    "\n",
    "gp120_10_seq_combined.txt      gp120_10_seq_combined.txt.bz2  gp120_10_seq.txt               \n",
    "gp120_10_seq_combined.txt.art  gp120_10_seq_combined.txt.gz   \n",
    "\n",
    "be131-02@meowth:~/computational_biology_BioE131/lab7/gp120_data/oldtests$ OF=gp120_10_seq.txt; echo gzip; time gzip -k $OF; echo bzip2; time bzip2 -k $OF; echo pbzip2; time pbzip2 -f -k $OF; echo ArithmeticCompress; time ArithmeticCompress $OF $OF.art\n",
    "\n",
    "gzip\n",
    "\n",
    "real\t0m0.003s\n",
    "user\t0m0.000s\n",
    "sys\t0m0.002s\n",
    "bzip2\n",
    "\n",
    "real\t0m0.004s\n",
    "user\t0m0.004s\n",
    "sys\t0m0.000s\n",
    "pbzip2\n",
    "\n",
    "real\t0m0.006s\n",
    "user\t0m0.006s\n",
    "sys\t0m0.000s\n",
    "ArithmeticCompress\n",
    "\n",
    "real\t0m0.008s\n",
    "user\t0m0.007s\n",
    "sys\t0m0.001s"
   ]
  },
  {
   "cell_type": "code",
   "execution_count": null,
   "metadata": {},
   "outputs": [],
   "source": []
  }
 ],
 "metadata": {
  "kernelspec": {
   "display_name": "Python 3",
   "language": "python",
   "name": "python3"
  },
  "language_info": {
   "codemirror_mode": {
    "name": "ipython",
    "version": 3
   },
   "file_extension": ".py",
   "mimetype": "text/x-python",
   "name": "python",
   "nbconvert_exporter": "python",
   "pygments_lexer": "ipython3",
   "version": "3.6.6"
  }
 },
 "nbformat": 4,
 "nbformat_minor": 2
}
