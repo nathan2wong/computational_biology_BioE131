{
 "cells": [
  {
   "cell_type": "code",
   "execution_count": 1,
   "metadata": {},
   "outputs": [],
   "source": [
    "from Bio import Phylo\n",
    "from Bio import SeqIO\n",
    "from Bio import AlignIO\n",
    "from Bio.Align import MultipleSeqAlignment\n",
    "from matplotlib import pyplot as plt\n",
    "import numpy as np"
   ]
  },
  {
   "cell_type": "markdown",
   "metadata": {},
   "source": [
    "# Generating a Phylogenic Tree"
   ]
  },
  {
   "cell_type": "markdown",
   "metadata": {},
   "source": []
  },
  {
   "cell_type": "code",
   "execution_count": 2,
   "metadata": {},
   "outputs": [],
   "source": [
    "tree = Phylo.read('tree.nwk', 'newick')"
   ]
  },
  {
   "cell_type": "code",
   "execution_count": 3,
   "metadata": {
    "scrolled": false
   },
   "outputs": [
    {
     "name": "stdout",
     "output_type": "stream",
     "text": [
      "Tree(rooted=False, weight=1.0)\n",
      "    Clade()\n",
      "        Clade(branch_length=0.00408, name='hu.39')\n",
      "        Clade(branch_length=0.00135, name='rh.50')\n",
      "        Clade(branch_length=0.00055, confidence=0.744)\n",
      "            Clade(branch_length=0.00055, confidence=0.684)\n",
      "                Clade(branch_length=0.00057, confidence=0.881)\n",
      "                    Clade(branch_length=0.00358, name='rh.57')\n",
      "                    Clade(branch_length=0.00265, name='rh.51')\n",
      "                Clade(branch_length=0.00317, name='rh.49')\n",
      "            Clade(branch_length=0.00055, confidence=0.0)\n",
      "                Clade(branch_length=0.00055, confidence=0.963)\n",
      "                    Clade(branch_length=0.00135, name='rh.53')\n",
      "                    Clade(branch_length=0.0009, name='rh.64')\n",
      "                Clade(branch_length=0.00055, confidence=0.743)\n",
      "                    Clade(branch_length=0.00055, confidence=0.852)\n",
      "                        Clade(branch_length=0.00201, name='rh.61')\n",
      "                        Clade(branch_length=0.00174, confidence=0.471)\n",
      "                            Clade(branch_length=0.00711, name='rh.58')\n",
      "                            Clade(branch_length=0.03178, confidence=1.0)\n",
      "                                Clade(branch_length=0.01041, confidence=0.518)\n",
      "                                    Clade(branch_length=0.08304, confidence=1.0)\n",
      "                                        Clade(branch_length=0.00092, name='pi.2')\n",
      "                                        Clade(branch_length=0.00091, confidence=0.882)\n",
      "                                            Clade(branch_length=0.00275, name='pi.3')\n",
      "                                            Clade(branch_length=0.00229, name='pi.1')\n",
      "                                    Clade(branch_length=0.01047, confidence=0.675)\n",
      "                                        Clade(branch_length=0.03041, confidence=1.0)\n",
      "                                            Clade(branch_length=0.0068, confidence=0.994)\n",
      "                                                Clade(branch_length=0.00055, name='rh.10')\n",
      "                                                Clade(branch_length=0.00179, confidence=0.962)\n",
      "                                                    Clade(branch_length=0.00226, name='bb.1')\n",
      "                                                    Clade(branch_length=0.00136, name='bb.2')\n",
      "                                            Clade(branch_length=0.00409, confidence=0.938)\n",
      "                                                Clade(branch_length=0.00813, name='hu.17')\n",
      "                                                Clade(branch_length=0.0019, name='hu.6')\n",
      "                                        Clade(branch_length=0.01495, confidence=0.962)\n",
      "                                            Clade(branch_length=0.02856, name='rh.2')\n",
      "                                            Clade(branch_length=0.03664, confidence=1.0)\n",
      "                                                Clade(branch_length=0.01336, name='rh.40')\n",
      "                                                Clade(branch_length=0.00508, confidence=0.986)\n",
      "                                                    Clade(branch_length=0.00136, name='hu.67')\n",
      "                                                    Clade(branch_length=0.00055, confidence=0.863)\n",
      "                                                        Clade(branch_length=0.0009, name='hu.37')\n",
      "                                                        Clade(branch_length=0.00055, confidence=0.882)\n",
      "                                                            Clade(branch_length=0.00055, confidence=0.93)\n",
      "                                                                Clade(branch_length=0.0009, name='hu.40')\n",
      "                                                                Clade(branch_length=0.00226, name='hu.66')\n",
      "                                                            Clade(branch_length=0.00055, confidence=0.919)\n",
      "                                                                Clade(branch_length=0.00055, confidence=0.851)\n",
      "                                                                    Clade(branch_length=0.00181, name='hu.41')\n",
      "                                                                    Clade(branch_length=0.00181, name='rh.38')\n",
      "                                                                Clade(branch_length=0.00135, name='hu.42')\n",
      "                                Clade(branch_length=0.01593, confidence=0.898)\n",
      "                                    Clade(branch_length=0.03294, confidence=0.999)\n",
      "                                        Clade(branch_length=0.01577, confidence=0.459)\n",
      "                                            Clade(branch_length=0.03827, confidence=1.0)\n",
      "                                                Clade(branch_length=0.06008, confidence=1.0)\n",
      "                                                    Clade(branch_length=0.00266, name='cy.3')\n",
      "                                                    Clade(branch_length=0.00055, confidence=0.905)\n",
      "                                                        Clade(branch_length=0.00055, confidence=0.997)\n",
      "                                                            Clade(branch_length=0.00276, name='cy.6')\n",
      "                                                            Clade(branch_length=0.00323, name='cy.4')\n",
      "                                                        Clade(branch_length=0.00055, confidence=0.733)\n",
      "                                                            Clade(branch_length=0.0023, name='cy.5')\n",
      "                                                            Clade(branch_length=0.00055, name='rh.13')\n",
      "                                                Clade(branch_length=0.03206, confidence=1.0)\n",
      "                                                    Clade(branch_length=0.00129, name='rh.35')\n",
      "                                                    Clade(branch_length=0.00055, confidence=0.881)\n",
      "                                                        Clade(branch_length=0.00092, name='rh.36')\n",
      "                                                        Clade(branch_length=0.00137, name='rh.37')\n",
      "                                            Clade(branch_length=0.03691, confidence=1.0)\n",
      "                                                Clade(branch_length=0.02773, name='cy.2')\n",
      "                                                Clade(branch_length=0.01829, confidence=0.95)\n",
      "                                                    Clade(branch_length=0.01141, name='rh.54')\n",
      "                                                    Clade(branch_length=0.0251, confidence=0.999)\n",
      "                                                        Clade(branch_length=0.01049, name='rh.55')\n",
      "                                                        Clade(branch_length=0.0042, confidence=0.962)\n",
      "                                                            Clade(branch_length=0.00055, name='rh.48')\n",
      "                                                            Clade(branch_length=0.00272, name='rh.62')\n",
      "                                        Clade(branch_length=0.12408, confidence=1.0)\n",
      "                                            Clade(branch_length=0.00886, name='hu.43')\n",
      "                                            Clade(branch_length=0.01076, confidence=0.999)\n",
      "                                                Clade(branch_length=0.00436, name='hu.48')\n",
      "                                                Clade(branch_length=0.02571, confidence=1.0)\n",
      "                                                    Clade(branch_length=0.00205, name='hu.44')\n",
      "                                                    Clade(branch_length=0.00524, name='hu.46')\n",
      "                                    Clade(branch_length=0.02199, confidence=0.891)\n",
      "                                        Clade(branch_length=0.17814, confidence=1.0)\n",
      "                                            Clade(branch_length=0.00774, name='hu.14')\n",
      "                                            Clade(branch_length=0.01413, confidence=1.0)\n",
      "                                                Clade(branch_length=0.00136, name='hu.31')\n",
      "                                                Clade(branch_length=0.00137, name='hu.32')\n",
      "                                        Clade(branch_length=0.06016, name='rh.43')\n",
      "                    Clade(branch_length=0.00181, name='rh.52')\n"
     ]
    }
   ],
   "source": [
    "print(tree)"
   ]
  },
  {
   "cell_type": "markdown",
   "metadata": {},
   "source": [
    "## Drawing the phylogenetic tree"
   ]
  },
  {
   "cell_type": "code",
   "execution_count": 4,
   "metadata": {},
   "outputs": [
    {
     "data": {
      "image/png": "[encoded data removed]",
      "text/plain": [
       "<Figure size 432x288 with 1 Axes>"
      ]
     },
     "metadata": {
      "needs_background": "light"
     },
     "output_type": "display_data"
    }
   ],
   "source": [
    "Phylo.draw(tree)"
   ]
  },
  {
   "cell_type": "code",
   "execution_count": 5,
   "metadata": {
    "scrolled": true
   },
   "outputs": [
    {
     "name": "stdout",
     "output_type": "stream",
     "text": [
      " , hu.39\n",
      " |\n",
      " | rh.50\n",
      " |\n",
      " , rh.57\n",
      " |\n",
      " | rh.51\n",
      " |\n",
      " | rh.49\n",
      " |\n",
      "_, rh.53\n",
      " |\n",
      " | rh.64\n",
      " |\n",
      " , rh.61\n",
      " |\n",
      " |, rh.58\n",
      " ||\n",
      " ||                              , pi.2\n",
      " ||          ____________________|\n",
      " ||         |                    |, pi.3\n",
      " ||         |                    ||\n",
      " ||         |                     | pi.1\n",
      " ||         |\n",
      " ||         |           , rh.10\n",
      " ||        _|          ,|\n",
      " ||       | |          ||, bb.1\n",
      " ||       | |          |||\n",
      " ||       | |   _______| | bb.2\n",
      " ||       | |  |       |\n",
      " ||       | |  |       | _ hu.17\n",
      " ||       | |  |       ||\n",
      " ||       | |__|        | hu.6\n",
      " ||       |    |\n",
      " ||       |    |    ______ rh.2\n",
      " ||       |    |   |\n",
      " ||       |    |___|         __ rh.40\n",
      " ||       |        |        |\n",
      " ||       |        |________|, hu.67\n",
      " ||       |                 ||\n",
      " ||       |                 |, hu.37\n",
      " ||       |                  |\n",
      " ||       |                  |, hu.40\n",
      " ||       |                  ||\n",
      " ||       |                  || hu.66\n",
      " ||       |                  ||\n",
      " ||       |                   , hu.41\n",
      " ||       |                   |\n",
      " ||       |                   | rh.38\n",
      " ||       |                   |\n",
      " ||       |                   | hu.42\n",
      " ||       |\n",
      " ||_______|                                        , cy.3\n",
      " |        |                                        |\n",
      " |        |                          ______________, cy.6\n",
      " |        |                         |              |\n",
      " |        |                         |              | cy.4\n",
      " |        |                         |              |\n",
      " |        |                _________|              , cy.5\n",
      " |        |               |         |              |\n",
      " |        |               |         |              | rh.13\n",
      " |        |               |         |\n",
      " |        |               |         |       , rh.35\n",
      " |        |            ___|         |_______|\n",
      " |        |           |   |                 , rh.36\n",
      " |        |           |   |                 |\n",
      " |        |           |   |                 | rh.37\n",
      " |        |           |   |\n",
      " |        |           |   |         ______ cy.2\n",
      " |        |           |   |________|\n",
      " |        |           |            |     __ rh.54\n",
      " |        |    _______|            |____|\n",
      " |        |   |       |                 |      __ rh.55\n",
      " |        |   |       |                 |_____|\n",
      " |        |   |       |                       | , rh.48\n",
      " |        |   |       |                       |_|\n",
      " |        |   |       |                         | rh.62\n",
      " |        |   |       |\n",
      " |        |   |       |                                _ hu.43\n",
      " |        |   |       |_______________________________|\n",
      " |        |___|                                       | , hu.48\n",
      " |            |                                       |_|\n",
      " |            |                                         |      , hu.44\n",
      " |            |                                         |______|\n",
      " |            |                                                | hu.46\n",
      " |            |\n",
      " |            |                                                   _ hu.14\n",
      " |            |     _____________________________________________|\n",
      " |            |    |                                             |  , hu.31\n",
      " |            |____|                                             |__|\n",
      " |                 |                                                | hu.32\n",
      " |                 |\n",
      " |                 |_______________ rh.43\n",
      " |\n",
      " | rh.52\n",
      "\n"
     ]
    }
   ],
   "source": [
    "Phylo.draw_ascii(tree)"
   ]
  },
  {
   "cell_type": "markdown",
   "metadata": {},
   "source": [
    "## Identified 11 clusters based off of the phylogenetic tree"
   ]
  },
  {
   "cell_type": "code",
   "execution_count": 6,
   "metadata": {},
   "outputs": [],
   "source": [
    "cluster1 = [\"hu.39\", \"rh.50\", \"rh.57\", \"rh.51\", \"rh.49\", \"rh.53\", \"rh.64\", \"rh.61\", \"rh.58\"]\n",
    "cluster2 = [\"pi.2\", \"pi.3\", \"pi.1\"]\n",
    "cluster3 = [\"rh.10\", \"bb.1\", \"bb.2\", \"hu.17\", \"hu.6\"]\n",
    "cluster4 = [\"rh.2\", \"rh.40\", \"hu.67\", \"hu.37\", \"hu.40\", \"hu.66\", \"hu.41\", \"rh.38\", \"hu.42\"]\n",
    "cluster5 = [\"cy.3\", \"cy.6\", \"cy.4\", \"cy.5\", \"rh.13\"]\n",
    "cluster6 = [\"rh.35\", \"rh.536\", \"rh.37\"]\n",
    "cluster7 = [\"cy.2\", \"rh.54\", \"rh.55\", \"rh.48\", \"rh.62\", \"hu.43\"]\n",
    "cluster8 = [\"hu.48\", \"hu.44\", \"hu.46\"]\n",
    "cluster9 = [\"hu.14\", \"hu.31\", \"hu.32\"]\n",
    "cluster10 = [\"rh.43\"]\n",
    "cluster11 = [\"rh.52\"]\n",
    "clusters = [cluster1, cluster2, cluster3, cluster4, cluster5, cluster6, cluster7, cluster8, cluster9, cluster10, cluster11]"
   ]
  },
  {
   "cell_type": "code",
   "execution_count": 7,
   "metadata": {},
   "outputs": [
    {
     "name": "stdout",
     "output_type": "stream",
     "text": [
      "Name: bb.1\n",
      "\n",
      "Sequence: atggctgccgatggttatcttccagattggctcgaggacaacctctctgagggcattcgcgagtggtgggcgctgaaacctggagccccgaagcccaaagccaaccagcaaaagcaggacgacggccggggtctggtgcttcctggctacaagtacctcggacccttcaacggactcgacaagggggagcccgtcaacgcggcggacgcagcggccctcgagcacgacaaggcctacgaccagcagctcaaagcgggtgacaatccgtacctgcggtataaccacgccgacgccgagtttcaggagcgtctgcaagaagatacgtcttttgggggcaacctcggacgagcagtcttccaggccaagaagcgggttctcgaacctctcggtctggttgaggaaggcgctaagacggctcctggaaagaagagaccggtagagccatcaccccagcgttctccagactccactacgggcatcggcaagaaaggccagcagcccgcgaaaaagagactcaactttgggcagactggcgactcagagtcagtgcccgaccctcaaccaatcggagaaccccccgcaggcccctctggtctgggatctggtacaatggctgcaggcggtggcgctccaatggcagacaataacgaaggcgccgacggagtgggtagttcctcaggaaattggcattgcgattccacatggctgggcgacagagtcatcaccaccagcacccgaacctgggccctccccacctacaacaaccacctctacaagcaaatctccaacgggacttcgggaggaagcaccaacgacaacacctacttcggctacagcaccccctgggggtattttgactttaacagattccactgccacttctcaccacgtgactggcagcgactcatcaacaacaactggggattccggcccaagagactcaacttcaagctcttcaacatccaggtcaaggaggtcacgcagaatgaaggcaccaagaccatcgccaataaccttaccagcacgattcaggtctttacggactcggaataccagctcccgtacgtcctcggctctgcgcgccagggctgcctgcctccgttcccggcggacgtcttcatgattcctcagtacgggtacctgactctgaacaatggcagtcaggccgtgggccgttcctccttctactgcctggagtactttccttctcaaatgctgagaacgggcaacaactttgagttcagctaccagtttgaggacgtgccttttcacagcagctacgcgcacagccaaagcctggaccggctgatgaaccccctcatcgaccagtacctgtactacctgtctcggactcagtccacgggaggtaccgcaggaactcagcagttgctattttctcaggccgggcctaataacatgtcggctcaggccaaaaactggctacccgggccctgctaccggcagcaacgcgtctccacgacactgtcgcaaaataacaacagcaactttgcctggaccggtgccaccaagtatcatctgaatggcagagactctctggtaaatcccggtgtcgctatggcaacccacaaggacgacgaagagcgattttttccgtccagcggagtcttaatgtttgggaaacagggagctggaaaaggcaacgtggactatagcagcgttatgctaaccagtgaggaagaaattaaaaccaccaacccagtggccacagaacagtacggcgtggtggccgataacctgcaacagcaaaacgccgctcctattgtaggggccgtcaacagtcaaggagccttacctggcatggtctggcagaaccgggacgtgtacctgcagggtcctatctgggccaagattcctcacacggacggaaactttcatccctcgccgctgatggggggctttggactgaaacacccgcctcctcagatcctgattaagaatacacctgttcccgcggatcctccaactaccttcagtcaagctaagctggcgtcgttcatcacgcagtacagcaccggacaggtcagcgtggaaattgaatgggagctgcagaaagaaaacagcaaacgctggaacccagagattcaatacacttccaactactacaaatctacaaatgtggactttgctgttaacacagatggcacttattctgagcctcgccccatcggcacccgttacctcacccgtaatctgtaa\n",
      "\n",
      "\n",
      "Name: bb.2\n",
      "\n",
      "Sequence: atggctgccgatggttatcttccagattggctcgaggacaacctctctgagggcattcgcgagtggtgggcgctgaaacctggagccccgaagcccaaagccaaccagcaaaagcaggacgacggccggggtctggtgcttcctggctacaagtacctcggacccttcaacggactcgacaagggggagcccgtcaacgcggcggacgcagcggccctcgagcacgacaaggcctacgaccagcagctcaaagcgggtgacaatccgtacctgcggtataaccacgccgacgccgagtttcaggagcgtctgcaagaagatacgtcttttgggggcaacctcgggcgagcagtcttccaggccaagaagcgggttctcgaacctctcggtctggttgaggaaggcgctaagacggctcctggaaagaagagaccggtagagccatcaccccagcgttctccagactcctctacgggcatcggcaagaaaggccagcagcccgcgaaaaagagactcaactttgggcagactggcgactcagagtcagtgcccgaccctcaaccaatcggagaaccccccgcaggcccctctggtctgggatctggtacaatggctgcaggcggtggcgctccaatggcagacaataacgaaggcgccgacggagtgggtagttcctcaggaaattggcattgcgattccacatggctgggcgacggagtcatcaccaccagcacccgaacctgggccctccccacctacaacaaccacctctacaagcaaatctccaacgggacttcgggaggaagcaccaacgacaacacctacttcggctacagcaccccctgggggtattttgactttaacagattccactgccacttctcaccacgtgactggcagcgactcatcaacaacaactggggattccggcccaagagcctcaacttcaagctcttcaacatccaggtcaaggaggtcacgcagaatgaaggcaccaagaccatcgccaataaccttaccagcacgattcaggtctttacggactcggaataccagctcccgtacgtcctcggctctgcgcaccagggctgcctgcctccgttcccggcggacgtcttcatgattcctcagtacgggtacctgactctgaacaatggcagtcaggccgtgggccgttcctccttctactgcctggagtactttccttctcaaatgctgagaacgggcaacaactttgagttcagctaccagtttgaggacgtgccttttcacagcagctacgcgcacagccaaagcctggaccggctgatgaaccccctcatcgaccagtacctgtactacctgtctcggactcagtccacgggaggtaccgcaggaactcagcagttgctattttctcaggccgggcctaataacatgtcggctcaggccaaaaactggctacccgggccctgctaccggcagcaacgcgtctccacgacactgtcgcaaaatgacaacagcaactttgcctggaccggtgccaccaagtatcatctgaatggcagagactctctggtaaatcccggtgtcgctatggcaacccacaaggacgacgaagagcgattttttccgtccagcggagtcttaatgtttgggaaacagggagctggaaaagacaacgtggactatagcagcgttatgctaaccagtgaggaagaaattaaaaccaccaacccagtggccacagaacagtacggcgtggtggccgataacctgcaacagcaaaacgccgctcctattgtaggggccgtcaacagtcaaggagccttacctggcatggtctggcagaaccgggacgtgtacctgcagggtcctatctgggccaagattcctcacacggacggaaactttcatccctcgccgctgatgggaggctttggactgaaacacccgcctcctcagatcctgattaagaatacacctgttcccgcggatcctccaactaccttcagtcaagctaagctggcgtcgttcatcacgcagtacagcaccggacaggtcagcgtggaaattgaatgggagctgcagaaagaaaacagcaaacgctggaacccagagattcaatacacttccaactactacaaatctacaaatgtggactttgctgttaacacagatggcacttattctgagcctcgccccatcggcacccgttacctcacccgtaatctgtaa\n",
      "\n",
      "\n",
      "Name: cy.2\n",
      "\n",
      "Sequence: atggctgccgatggttatcttccagattggctcgaggacaacctctctgagggcattcgcgagtggtgggacctgaaacctggagccccgaaacccaaagccaaccagcaaaagcaggacaacggccggggtctggtgcttcctggctacaagtacctcggacccttcaacggactcgacaagggggagcccgtcaacgcggcggacgcagcggccctcgagcacgacaaggcctacgaccagcagctcaatgcgggtgacaacccgtacctgcggtataaccacgccgacgccgagtttcaggagcgtctgcaagaagatacgtcatttgggggcaacctcgggcgagcagtcttccaggccaagaagcgggttctcgaacctctcggtctggttgaggaaggcgctaagacggctcctgcaaagaagagaccggtagagccgtcacctcagcgttcccccgactcctccacgggcatcggcaagaagggccagcagcccgccagaaagagactcaatttcggtcagactggcgactcagagtcagtccccgaccctcaacctctcggagaacctccagcagcgccctctagtgtgggatctggtacagtggctgcaggcggtggcgcaccaatggcagacaataacgaaggtgccgacggagtgggtaatgcctcaggaaattggcattgcgattccacatggctgggcgacagagtcattaccaccagcacccgaacctgggccctgcccacctacaacaaccacctctacgagcaaatctccagtgaaactgcaggtagtaccaacgacaacacctacttcggctacagcaccccctgggggtattttgactttaacagattccactgccacttctcaccacgtgactggcagcgactcatcaacaacaactggggattccggcccaagaagctgcggttcaagctcttcaacatccaggtcaaggaggtcacgacgaatgacggcgttacgaccatcgctaataaccttaccagcacgattcaggtattctcggactcggaataccagctgccgtacgtcctcggctctgcgcaccagggctgcctgcctccgttcccggcggacgtcttcatgattcctcagtacggctacctgactctcaacaatggcagtcagtctgtgggacgttcctccttctactgcctggagtacttcccctctcagatgctgagaacgggcaacaactttgagttcagctacagcttcgaggacgtgcctttccacagcagctacgcacacagccagagcctggaccggctgatgaatcccctcatcgaccagtacttgtactacctggccagaacacagagtgacccaggaggcacagctggcaatcgggaactgcagttttaccagggcgggccttcaactatggccgaacaagccaagaattggttacctggaccctgcttccggcaacaaagggtctccaaaacgctggatcaaaacaacaacagcaactttgcttggactggtgccaccaaatatcacctgaacggcagaaactcgttggttaatcccggcgtcgccatggcaactcacaaggacgacgaggaccgctttttcccatccagcggagtcctgatttttggaaaaactggagcaactaacaaaactacattggaaaatgtgttaatgacaaatgaagaagaaattcgtcctactaatcctgtagccacggaagaatacgggatagtcagcagcaacttacaagcggctaatactgcagcccagacacaagttgtcaacaaccagggagccttacctggcatggtctggcagaaccgggacgtgtacctgcagggtcccatctgggccaagattcctcacacggatggcaactttcacccgtctcctttgatgggcggctttggacttaaacatccgcctcctcagatcctgatcaagaacactcccgttcccgctaatcctccggaggtgtttactcctgccaagtttgcttcgttcatcacacagtacagcaccggacaagtcagcgtggaaatcgagtgggagctgcagaaggaaaacagcaagcgctgggacccggagattcagtacacctccaactttgaaaagcagactggtgtggactttgccgttgacagccagggtgtttactctgagcctcgccctattggcactcgttacctcacccgtaatctgtaa\n",
      "\n",
      "\n",
      "Name: cy.3\n",
      "\n",
      "Sequence: atggctgccgatggttatcttccagattggctcgaggacaacctctctgagggcattcgcgagtggtgggacttgaaacctggagccccgaaacccaaagccaaccagcaaaagcaggacgacggccggggtctggtgcttcctggctacaagtacctcagacccttcaacggactcgacaagggagagccggtcaacgaggcagacgccgcggccctcgagcacgacaaggcctacgacaagcagctcgagcagggggacaacccgtacctcaagtacaaccacgccgacgccgagtttcaggagcgtcttcaagaagatacgtcttttgggggcaacctcgggcgagcagtcttccaggccaagaagcgggttctcgaacctctcggtctggttgaggaagtcgctaagacggctcctggaaagaagagacccatagaatcccccgactcctccacgggcatcggcaagaaaggccagcagcccgctaaaaagaagctcaactttgggcagactggcgactcagagtcagtgcccgacccccaacctctcggagaacctcccgccgcgccctcaggtctgggatctggtacaatggctgcaggcggtggcgcaccaatggcagacaataacgaaggcgccgacggagtgggtaatgcctccggaaattggcattgcgattccacatggctgggcgacagagtcatcaccaccagcacccgcacctgggccctgcccacctacaacaaccacctctacaagcagatatcaagtcagagcggggctaccaacgacaaccacttcttcagctacagcaccccctggggctattttgacttcaacagattccactgccacttctcaccacgtgactggcagcgactcatcaacaacaactggggattccggcccagaaagctgcggttcaagttgttcaacatccaggtcaaggaggtcacgacgaacgacggcgttacgaccatcgctaataaccttaccagcacgattcaggtcttctcggactcggagtaccaactgccgtacgtcctcggctctgcgcaccagggctgcctccctccgttccctgcggacgtgttcatgattcctcagtacggatatctgactctaaacaacggcagtcagtctgtgggacgttcctccttctactgcctggagtactttccttctcagatgctgagaacgggcaataactttgaattcagctacacctttgaggaagtgcctttccacagcagctatgtgcacagccagagcctagaccggctgatgaatcccctcatcgaccagtacctgtactacctggcccggacccagagcactacggggtccacaagggagctgcagttccatcaggctgggcccaacaccatggccgagcaatcaaagaactggctgcccggaccctgttatcggcagcagagactgtcaaaaaacatagacagcaacaacaacagtaactttgcctggaccggggccactaaataccatctgaatggtagaaattcattaaccaacccgggcgtagccatggccaccaacaaggacgacgaggaccagttctttcccatcaacggagtgctggtttttggcaaaacgggggctgccaacaagacaacgctggaaaacgtgctaatgaccagcgaggaggagatcaaaaccaccaatcccgtggctacagaagaatacggtgtggtctccagcaacctgcaatcgtctacggccggaccccagacacagactgtcaacagccagggggctctgcccggcatggtctggcagaaccgggacgtgtgcctgcagggtcccatctgggccaaaattcctcacacggacggcaactttcacccgtctcccctgatgggcggatttggactcaaacacccgcctcctcaaattctcatcaaaaacaccccggtacctgctaatcctccagaggtgtttactcctgccaagtttgcctcatttatcacgcagtacagcaccggccaggtcagcgtggagatcgagtgggaactgcagaaagaaaacagcaaacgctggaatccagagattcagtacacctcaaattatgccaagtctaataatgtggaatttgctgtcaacaacgaaggggtttatactgagcctcgccccattggcacccgttacctcacccgtaacctgtaa\n",
      "\n",
      "\n",
      "Name: cy.4\n",
      "\n",
      "Sequence: atggctgccgatggttatcttccagattggctcgaggacaacctctctgagggcattcgcgagtggtgggacttgaaacctggagccccgaaacccaaagccaaccagcaaaagcaggacgacggccggggtctggtgcttcctggctacaagtacctcggacccttcaacggactcgacaagggagagccggtcaacgaggcagacgccgcggccctcgagcacgacaaggcctacgacaagcagctcgagcagggggacaacccgtacctcaagtacaaccacgccgacgccgagtttcaggagcgtcttcaagaagatacgtcttttgggggcaacctcgggcgagcagtcttccaggccaagaagcgggttctcgaacctctcggtctggttgaggaaggcgctaagacggcttccggaaagaagagacccatagaatcccccgactcctccacgggcatcggcaagaaaggccagcagcccgctaaaaagaagctcaactttgggcagactggcgactcagagtcagtgcccgacccccaacctctcggagaacctcccgccgcgccctcaggtctgggatctggtacaatggctgcaggcggtggcgcaccaatggcagacaataacgaaggcgccgacggagtgggtaatgcctccggaaattggcattgcgattccacatggctgggcgacagagtcatcaccaccagcacccgcacctgggccctgcccacctacaacaaccacctctacaagcagatatcaagtcagagcggggctaccaacgacaaccacttcttcggctacagcaccccctggggctattttgacttcaacagattccactgccacttctcaccacgtgactggcagcgactcatcaacaacaactggggattccggcccagaaagctgcggttcaagttgttcaacatccaggtcaaggaggtcacgacgaacgacggcgttacgaccatcgctaataaccttaccagcacgattcaggtcttctcggactcggagtaccaactgccgtacgtcctcggctctgcgcaccagggctgcctccctccgttccctgcggacgtgttcatgattcctcagtacggatatctgactctaaacaacggcagtcagtctgtgggacgttcctccttctgctgcctggagtactttccttctcagatgctgagaacgggcaataactttgaattcagctacacctttgaggaagtgcctttccacagcagctatgcgcacagccagagcctggaccggctgatgaatcccctcatcgaccagtacctgtactacctggcccggacccagagcactacggggtccacaagggagctgcagttccatcaggctgggcccaacaccgtggccgagcaatcaaagaactggctgcccggaccctgttatcggcagcagagactgtcaaaaaacatagacagcaacaacaacagtaactttgcctggaccggggccactaaataccatctgaatggtagaaattcattaaccaacccgggcgtagccatggccaccaacaaggacgacgaggaccagttccttcccatcaacggagtgctggtttttggcaaaacgggggctgccaacaagacaacgctggaaaacgtgctaatgaccagcgaggaggagatcaaaaccaccaatcccgtggctacagaagaatacggtgtggtctccagcaacctgcaatcgtctacggccggaccccggacacagactgtcaacagccagggggctctgcccggcatggtctggcagaaccgggacgtgtacctgcagggtcccatctgggccgaaattcctcacacggacggcaactttcacccgtctcccctgatgggcggatttggactcaaacacccgcctcctcaaattctcatcaaaaacaccccggtacctgctaatcctccagaggtgtttactcctgccaagtttgcctcatttatcacgcagtacagcaccggccaggtcagcgtggagatcgagtgggaactgcagaaagaaaacagcaaacgctggaatccagagattcagtacacctcaaattatgccaagtctaataatgtggaatttgctgtcaacaacgaaggggtttatactgagcctcgccccattggcacccgttacctcacccgtaacctgtaa\n",
      "\n",
      "\n",
      "Name: cy.5\n",
      "\n",
      "Sequence: atggctgccgatggttatcttccagattggctcgagggcaacctctctgagggcattcgcgagtggtgggacttgaaacctggagccccgaaacccaaagccaaccagcaaaagcaggacgacggccggggtctggtgcttcctggctacaggtacctcggacccttcaacggactcgacaagggagagccggtcaacgaggcagacgccgcggccctcgagcacgacaaggcctacgacaagcagctcgagcagggggacaacccgtacctcaagtacaaccacgccgacgccgagtttcaggagcgtcttcaagaagatacgtcttttgggggcaacctcgggcgagcagtcttccaggccaagaagcgggttctcgaacctctcggtctggttgaggaaggcgctaagacggctcctggaaagaagagacccatagaatcccccgactcctccacgggcatcggcaagaacggccagccgcccgctaaaaagaagctcaactttgggcagactggcgactcagagtcagtgcccgacccccaacctctcggagaacctcccgccgcgccctcaggtctgggatctggtacaatggctgcaggcggtggcgcaccaatggcagacaataacgaaggcgccgacggagtgggtaatgcctccggaaattggcattgcgattccacatggctgggcgacagagtcatcaccaccagcacccgcacctgggccctgcccacctacaacaaccacctctacaagcagatatcaagtcagagcggggctaccaacgacaaccacttcttcggctacagcaccccctggggctattttgacttcaacagattccactgccacttctcaccacgtgactggcagcgactcatcaacaacaactggggattccggcccagaaagctgcggttcaagttgttcaacatccaggtcaaggaggtcacgacgaacgacggcgttacgaccatcgctaataaccttaccagcacgattcaggtcttctcggactcggagtaccaactgccgtacgtcctcggctctgcgcaccagggctgcctccctccgttccctgcggacgtgttcatgattcctcagtacggatatctgactctaaacaacggcagtcagtctgtgggacgttcctccttctactgcctggagtactttccttctcagatgctgagaacgggcgataactttgaattcagctacacctttgaggaagtgcctttccacagcagctatgcgcacagccagagcctggaccggctgatgaatcccctcatcgaccagtacctgtactacctggcccggacccagagcactacggggtccacaagggagctgcagttccatcaggctgggcccaacaccatggccgagcaatcaaagaactggctgcccggaccctgttatcggcagcagagactgtcaaaaaacatagacagcaacaacaacagtaactttgcctggaccggggccactaaataccatctgaatggtagaaattcattaaccaacccgggcgtagccatggccaccaacaaggacgacgaggaccagttctttcccatcaacggagtgctggtttttggcaaaacgggggctgccaacaagacaacgctggaaaacgtgctaatgaccagcgaggaggagatcaaaaccaccaatcccgtggctacagaagaatacggtgtggtctccagcaacctgcaatcgtctacggccggaccccagacacagactgtcaacagccagggggctctgcccggcatggtctggcagaaccgggacgtgtacctgcagggtcccatctgggccaaaattcctcacacggacggcaactttcacccgtctcccctgatgggcggatttggactcaaacacccgcctcctcaaattctcatcaaaaacaccccggtacctgctaatcctccagaggtgtttactcctgccaagtttgcctcatttatcacgcagtacagcaccggccaggtcagcgtggagatcgagtgggaactgcagaaagaaaacagcaaacgctggaatccagagattcagtacacctcaaattatgccaagtctaataatgtggaatttgctgtcaacaacgaaggggtttatactgagcctcgccccattggcacccgttacctcacccgtaacctgtaa\n",
      "\n",
      "\n",
      "Name: cy.6\n",
      "\n",
      "Sequence: atggctgccgatggttatcttccagattggctcgaggacaacctctctgagggcattcgcgagtggtgggacttgaaacctggagccccgaaacccaaagccaaccagcaaaagcaggacgacggccggggtctggtgcttcctggctacaagtacctcggacccttcaacggactcgacaagggagagccggtcaacgaggcagacgccgcggccctcgagcacgacaaggcctacgacaagcagctcgagcagggggacaacccgtacctcaagtacaaccacgccgacgctgagtttcaggagcgtcttcaagaagatacgtcttttgggggcaacctcgggcgagcagtcttccaggccaagaagcgggttctcgaacctctcggtctggttgaggaaggcgctaagacggctcctggaaagaagagacccatagaatcccccgactcctccacgggcatcggcaagaaaggccagcagcccgctaaaaagaagctcaactttgggcagactggcgactcagagtcagtgcccgacccccaacctctcggagaacctcccgccgcgccctcaggtctgggatctggtacaatggctgcaggcggtggcgcaccaatggcagacaataacgaaggcgccgacggagtgggtaatgcctccggaaattggcattgcgattccacatggctgggcgacagagtcatcaccaccagcacccgcacctgggccctgcccacctacaacaaccacctctacaagcagatatcaagtcagagcggggctaccaacgacaaccacttcttcggctacagcaccccctggggctattttgacttcaacagattccactgccacttctcaccacgtgactggcagcgactcatcaacaacaactggggattccggcccagaaagctgcggttcaagttgttcaacatccaggtcaaggaggtcacgacgaacgacggcgttacgaccatcgctaataaccttaccagcacgattcaggtcttctcggactcggagtaccaactgccgtacgtcctcggctctgcgcaccagggctgcctccctccgttccctgcggacgtgttcatgattcctcagtacggatatctgactctaaacaacggcagtcagtctatgggacgttcctccttctactgcctggagtactttccttctcagatgctgagaacgggcaataactttgaattcagctacacctttgaggaagtgcctttccacagcagctatgcgcacagccagagcctggaccggctgatgaatcccctcatcgaccagtacctgtactacctggcccggacccagagcactacggggtccacaagggagctgcagttccatcaggctgggcccaacaccatggccgagcaatcaaagaactggctgcccggaccctgttatcggcagcagagactgtcaaaaaacatagacagcaacaacaacagtaactttgcctggaccggggccactaaataccatctgaatggtagaaattcattaaccaacccgggcgtagccatggccaccaacaaggacgacgagggccagttctttcccatcaacggagtgctggtttttggcaaaacgggggctgccaacaagacaacgctggaaaacgtgctaatgaccagcgaggaggagatcaaaaccaccaatcccgtggctacagaagaatacggtgtggtctccagcaacctgcaatcgtctacggccggaccccagacacagactgtcaacagccagggggctctgcccggcatggtctggcagaaccgggacgtgtacctgcagggtcccatctgggccaaaattcctcacacggacggcaactttcacccgtctcccctgatgggcggatttggactcaaacacccgcctcctcaaattctcatcaaaaacaccccggtacctgctaatcctccaggggtgtttactcctgccttgtttgcctcatttatcacgcagtacagcaccggccaggtcagcgtggagatcgagtgggaactgcagaaagaaaacagcaaacgctggaatccagagattcagtacacctcaaattatgccaagtctaataatgtggaatttgctgtcaacaacgaaggggtttatactgagcctcgccccattggcacccgttacctcacccgtaacctgtaa\n",
      "\n",
      "\n",
      "Name: hu.14\n",
      "\n",
      "Sequence: atggctgccgatggttatcttccagattggctcgaggacaaccttagtgaaggaattcgcgagtggtgggctttgaaacctggagcccctcaacccaaggcaaatcaacaacatcaagacaacgctcgaggtcttgtgcttccgggttacaaataccttggacccggcaacggactcgacaagggggagccggtcaacgcagcagacgcggcggccctcgagcacgacaaggcctacgaccagcagctcaaggccggagacaacccgtacctcaagtacaaccacgccgacgccgagttccaggagcggctcaaagaagatacgtcttttgggggcaacctcgggcgagcagtcttccaggccaaaaagaggcttcttgaacctcttggtctggttgaggaagcggctaagacggctcctggaaagaagaggcctgtagagcagtctcctcaggaaccggactcctccgcgggtattggcaaatcgggtgcacagcccgctaaaaagagactcaatttcggtcagactggcgacacagagtcagtcccagaccctcaaccaatcggagaacctcccgcagccccctcaggtgtgggatctcttacaatggcttcaggtggtggcgcaccagtggcagacaataacgaaggtgccgatggagtgggtagttcctcgggaaattggcattgcgattcccaatggctgggggacagagtcatcaccaccagcacccgaacctgggccctgcccacctacaacaatcacctctacaagcaaatctccaacagcacatctggaggatcttcaaatgacaacgcctacttcggctacagcaccccctgggggtattttgacttcaacagattccactgccacttctcaccacgtgactggcagcgactcatcaacaacaactggggattccggcctaagcgactcaacttcaagctcttcaacattcaggtcaaagaggttacggacaacaatggagtcaagaccatcgccaataaccttaccagcacggtccaggtcttcacggactcagactatcagctcccgtacgtgctcgggtcggctcacgagggctgcctcccgccgttcccagcggacgttttcatgattcctcagtacgggtatctgacgcttaatgatggaagccaggccgtgggtcgttcgtccttttactgcctggaatatttcccgtcgcaaatgctaagaacgggtaacaacttccagttcagctacgagtttgagaacgtacctttccatagcagctacgctcacagccaaagcctggaccgactaatgaatccactcatcgaccaatacttgtactatctctcaaagactattaacggttctggacagaatcaacaaacgctaaaattcagtgtggccggacccagcaacatggctgtccagggaagaaactacatacctggacccagctaccgacaacaacgtgtctcaaccactgtgactcaaaacaacaacagcgaatttgcttggcctggagcttcttcttgggctctcaatggacgtaatagcttgatgaatcctggacctgctatggccagccacaaagaaggagaggaccgtttctttcctttgtctggatctttaatttttggcaaacaaggaactggaagagacaacgtggatgcggacaaagtcatgataaccaacgaagaagaaattaaaactactaacccggtagcaacggagtcctatggacaagtggccacaaaccaccagagtgcccaagcacaggcgcagaccggctgggttcaaaaccaaggaatacttccgggtatggtttggcaggacagagatgtgtacctgcaaggacccatttgggccaaaattcctcacacggacggcaactttcacccttctccgctgatgggagggtttggaatgaagcacccgcctcctcagatcctcatcaaaaacacacctgtacctgcggatcctccaacggccttcaacaaggacaagctgaactctttcatcacccagtattctactggccaagtcagcgtggagatcgagtgggagctgcagaaggaaaacagcaagcgctggaacccggagatccagtacacttccaactattacaagtctaataatgttgaatttgctgttaatactgaaggtgtatatagtgaaccccgccccattggcaccagatacctgactcgtaatctgtaa\n",
      "\n",
      "\n",
      "Name: hu.17\n",
      "\n",
      "Sequence: atggctgccgatggttatcttccagattggctcgaggacaacctctctgagggcattcgcgagtggtgggacttgaaacctggagccccgaaacccaaagccaaccagcaaaagcaggacgacggccggggtctggtgcttcctggctgcaagtacctcggacccttcaacggactcgacaagggggagcccgtcaacgcggcggacgcagcggccctcgagcacgacaaggcctacgaccagcagctcaaagcgggtgacaatccgtacctgcggtataaccacgccgacgccgagtttcaggagcgtctgcaagaagatacgtcttttgggggcaacctcgggcgagcagtcttccaggccaagaagcgggttctcgaacctctcggtctggttgaggaaggcgctaagacggctcctggaaagaagagaccggtagagccatcaccccagcgttctccagactcctctacgggcatcggcaagacaggccagcagcccgcgaaaaagagactcaactttgggcagactggcgactcagagtcagtgcccgaccctcaaccaatcggagaaccccccgcaggcccctctggtctgggatctggtacaatggctgcaggcggtggcgctccaatggcagacaataacgaaggcgccgacggagtgggtagttcctcaggaaattggcattgcgattccacatggctgggcgacagagtcatcaccaccagcacccgaacctgggccctccccacctacaacaaccacctctacaagcaaatctccaacgggacatcgggaggaagcaccaacgacaacacctacttcggctacagcaccccctgggggtattttgactttaacagattccactgccacttctcaccacgtgactggcagcgactcatcaacaacaactggggattccggcccaagagactcaacttcaagctcttcaacatccaggtcaaggaggtcacgcagaatgaaggcaccaagaccatcgccaataaccttaccagcacgattcaggtctttacggactcggaataccagctcccgtacgtcctcggctctgcgcaccagggctgcccgcctccgttcccggcggacgtcttcatgattcctcagtacgggtacctgactctgaacaacggcagtcaggccgtgggccgttcctccttctactgcctggagtactttccttctcaaatgcggagaacgggcaacaactttgagttcagctaccagtttgaggacgtgccttttcacagcagctacgcgcatagccaaagcctggaccggctgatgaaccccctcatcgaccagtacctgtactacctgtctcggactcagtccacgggaggtaccgcaggaactcagcagttgctattttctcaggccgggcctaataacatgtcggctcaggccaaaaactggctacccgggccctgctaccggcagcaacgcgtctccacgacactgtcgcaaaataacaacagcaactttgcttggaccggtgccaccaagtatcatctgaatggcagagactctctggtaaatcccggtgtcgctatggcaacgcacaaggacgacgaagagcgattttttccatccagcggagtcttgatgtttgggaaacagggagctggaaaagacaacgtggactatagcagcgttatgctaaccagtgaggaagaaatcaaaaccaccaacccagtggccacagaacagtacggcgtggtggccgataacctgcaacagcaaaacgccgctcctattgtaggggccgtcaacagtcaaggagccttacctggcatggtctggcagaaccgggacgtgtacctgcagggtcctatctgggccaagattcctcacacggacggcaactttcatccttcgccgctgatgggaggctttggactgaaacacccgcctcctcagatcctgattaagaatacacctgttcccgcggatcctccaactaccttcagtcaagccaagctggcgtcgttcatcacgcagtacagcaccggacaggtcagcgtggaaattgaatgggagctgcagaaagagaacagcaagcgctggaacccagagattcagtatacttccaactataacaaatctgttaatgtggactttactgtggacactaatggtgtgtattcagagcctcgccccattggcaccagatacctgactcgtaatctgtaa\n",
      "\n",
      "\n",
      "Name: hu.31\n",
      "\n",
      "Sequence: atggctgccgatggttatcttccagattggctcgaggacactctctctgaaggaataagacagtggtggaagctcaaacctggccccccaccaccaaagcccgcagagcggcataaggacgacagcaggggtcttgtgcttcctgggtacaagtacctcggacccggcaacggactcgacaagggggagccggtcaacgcagcagacgcggcggccctcgagcacgacaaggcctacgaccagcagctcaaggccggagacaacccgtacctcaagtacaaccacgccgacgccgagttccaggagcggctcaaagaagatacgtcttttgggggcaacctcgggcgagcagtcttccaggccaaaaagaggcttcttgaacctcttggtctggttgaggaagcggctaagacggctcctggaaagaagaggcctgtagagcagtctcctcaggaaccggactcctccgcgggtattggcaaatcgggttcacagcccgctaaaaagaaactcaatttcggtcagactggcgacacagagtcagtccccgaccctcaaccaatcggagaacctcccgcagccccctcaggtgtgggatctcttacaatggcttcaggtggtggcgcaccagtggcagacaataacgaaggtgccgatggagtgggtagttcctcgggaaattggcattgcgattcccaatggctgggggacagagtcatcaccaccagcacccgaacctgggccctgcccacctacaacaatcacctctacaagcaaatctccaacagcacatctggaggatcttcaaatgacaacgcctacttcggctacagcaccccctgggggtattttgacttcaacagattccactgccacttctcaccacgtgactggcagcgactcatcaacaacaactggggattccggcctaagcgactcaacttcaagctcttcaacattcaggtcaaagaggttacggacaacaatggagtcaagaccatcgccaataaccttaccagcacggtccaggtcttcacggactcagactatcagctcccgtacgtgctcgggtcggctcacgagggctgcctcccgccgttcccagcggacgttttcatgattcctcagtacgggtatctgacgcttaatgatggaggccaggccgtgggtcgttcgtccttttactgcctggaatatttcccgtcgcaaatgctaagaacgggtaacaacttccagttcagctacgagtttgagaacgtacctttccatagcagctacgctcacagccaaagcctggaccgactaatgaatccactcatcgaccaatacttgtactatctctcaaagactattaacggttctggacagaatcaacaaacgctaaaattcagtgtggccggacccagcaacatggctgtccagggaagaaactacatacctggacccagctaccgacaacaacgtgtctcaaccactgtgactcaaaacaacaacagcgaatttgcttggcctggagcttcttcttgggctctcaatggacgtaatagcttgatgaatcctggacctgctatggccagccacaaagaaggagaggaccgtttctttcctttgtccggatctttaatttttggcaaacaaggaactggaagagacaacgtggatgcggacaaagtcatgataaccaacgaagaagaaattaaaactactaacccggtagcaacggagtcctatggacaagtggccacaaaccaccagagtgcccaagcacaggcgcagaccggctgggttcaaaaccaaggaatacttccgggtatggtttggcaggacagagatgtgtacctgcaaggacccatttgggccaaaattcctcacacggacggcaactttcacccttctccgctaatgggagggtttggaatgaagcacccgcctcctcagatcctcatcaaaaacacacctgtacctgcggatcctccaacggctttcaataaggacaagctgaactctttcatcacccagtattctactggccaagtcagcgtggagattgagtgggagctgcagaaggaaaacagcaagcgctggaacccggagatccagtacacttccaactattacaagtctaataatgttgaatttgctgttagtactgaaggtgtatatagtgaaccccgccccattggcaccagatacctgactcgtaatctgtaa\n",
      "\n",
      "\n",
      "Name: hu.32\n",
      "\n",
      "Sequence: atggctgccgatggttatcttccagattggctcgaggacactctctctgaaggaataagacagtggtggaagctcaaacctggcccaccaccaccaaagcccgcagagcggcataaggacgacagcaggggtcttgtgcttcctgggtacaagtacctcggacccggcaacggactcgacaagggggagccggtcaacgcagcagacgcggcggccctcgagcacgacaaggcctacgaccagcagctcaaggccggagacaacccgtacctcaagtacaaccacgccgacgccgagttccaggagcggctcaaagaagatacgtcttttgggggcaacctcgggcgagcagtcttccaggccaaaaagaggcttcttgaacctcttggtctggttgaggaagcggctaagacggctcctggaaagaagaggcctgtagagcagtctcctcaggaaccggactcctccgcgggtattggcaaatcgggttcacagcccgctaaaaagaaactcaatttcggtcagactggcgacacagagtcagtccccgaccctcaaccaatcggagaacctcccgcagccccctcaggtgtgggatctcttacaatggcttcaggtggtggcgcaccagtggcagacaataacgaaggtgccgatggagtgggtagttcctcgggaaattggcattgcgattcccaatggctgggggacagagtcatcaccaccagcacccgaacctgggccctgcccacctacaacaatcacctctacaagcaaatctccaacagcacatctggaggatcttcaaatgacaacgcctacttcggctacagcaccccctgggggtattttgacttcaacagattccactgccacttctcaccacgtgactggcagcgactcatcaacaacaactggggattccggcctaagcgactcaacttcaagctcttcaacattcaggtcaaagaggttacggacaacaatggagtcaagaccatcgccaataaccttaccagcacggtccaggtcttcacggactcagactatcagctcccgtacgtgctcgggtcggctcacgagggctgcctcccgccgttcccagcggacgttttcatgattcctcagtacgggtatctgacgcttaatgatgggagccaggccgtgggtcgttcgtccttttactgcctggaatatttcccgtcgcaaatgctaagaacgggtaacaacttccagttcagctacgagtttgagaacgtacctttccatagcagctacgctcacagccaaagcctggaccgactaatgaatccactcatcgaccaatacttgtactatctctcaaagactattaacggttctggacagaatcaacaaacgctaaaattcagcgtggccggacccagcaacatggctgtccagggaagaaactacatacctggacccagctaccgacaacaacgtgtctcaaccactgtgactcaaaacaacaacagcgaatttgcttggcctggagcttcttcttgggctctcaatggacgtaatagcttgatgaatcctggacctgctatggccagccacaaagaaggagaggaccgtttctttcctttgtctggatctttaatttttggcaaacaaggaactggaagagacaacgtggatgcggacaaagtcatgataaccaacgaagaagaaattaaaactactaacccggtagcaacggagtcctatggacaagtggccacaaaccaccagagtgcccaagcacaggcgcagaccggctgggttcaaaaccaaggaatacttccgggtatggtttggcaggacagagatgtgtacctgcaaggacccatttgggccaaaattcctcacacggacggcaactttcacccttctccgctaatgggagggtttggaatgaagcacccgcctcctcagatcctcatcaaaaacacacctgtacctgcggatcctccaacggctttcaataaggacaagctgaactctttcatcacccagtattctactggccaagtcagcgtggagattgagtgggagctgcagaaggaaaacagcaagcgctggaacccggagatccagtacacttccaactattacaagtctaataatgttgaatttgctgttaatactgaaggtgtatatagtgaaccccgccccattggcaccagatacctgactcgtaatctgtaa\n",
      "\n",
      "\n",
      "Name: hu.37\n",
      "\n",
      "Sequence: atggctgctgacggttatcttccagattggctcgaggacaacctctctgagggcattcgcgagtggtgggacctgaaacctggagcccccaagcccaaggccaaccagcagaagcaggacgacggccggggtctggtgcttcctggctacaagtacctcggacccttcaacggactcgacaagggggagcccgtcaacgcggcggacgcagcggccctcgagcacgacaaggcctacgaccagcagctcaaagcgggtgacaatccgtacctgcggtataaccacgccgacgccgagtttcaggagcgtctgcaagaagatacgtcttttgggggcaacctcgggcgagcagtcttccaggccaagaagcgggttctcgaacctctcggtctggttgaggaagctgctaagacggctcctggaaagaagagaccggtagaaccgtcacctcagcgttcccccgactcctccacgggcatcggcaagaaaggccagcagcccgctaaaaagagactgaactttggtcagactggcgactcagagtcagtccccgaccctcaaccaatcggagaaccaccagcaggcccctctggtctgggatctggtacaatggctgcaggcggtggcgctccaatggcagacaataacgaaggcgccgacggagtgggtagttcctcaggaaattggcattgcgattccacatggctgggcgacagagtcatcaccaccagcacccgaacctgggccctgcccacctacaacaaccacctctacaagcaaatatccaatgggacatcgggaggaagcaccaacgacaacacctacttcggctacagcaccccctgggggtattttgacttcaacagattccactgccacttctcaccacgtgactggcagcgactcatcaacaacaactggggattccggccaaaaagactcagcttcaagctcttcaacatccaggtcaaggaggtcacgcagaatgaaggcaccaagaccatcgccaataaccttaccagcacgattcaggtatttacggactcggaataccagctgccgtacgtcctcggctccgcgcaccagggctgcctgcctccgttcccggcggacgtcttcatgattccccagtacggctaccttacactgaacaatggaagtcaagccgtaggccgttcctccttctactgcctggaatattttccatctcaaatgctgcgaactggaaacaattttgaattcagctacaccttcgaggacgtgcctttccacagcagctacgcacacagccagagcttggaccgactgatgaatcctctcatcgaccagtacctgtactacttatccagaactcagtccacaggaggaactcaaggtacccagcaattgttattttctcaagctgggcctgcaaacatgtcggctcaggctaagaactggctacctggaccttgctaccggcagcagcgagtctctacgacactgtcgcaaaacaacaacagcaactttgcttggactggtgccaccaaatatcacctgaacggaagagactctttggtaaatcccggtgtcgccatggcaacccacaaggacgacgaggaacgcttcttcccgtcgagtggagtcctgatgttcggaaaacagggtgctggaagagacaatgtggactacagcagcgttatgctaaccagcgaagaagaaattaaaaccactaaccccgtagccacagaacaatacggtgtggtggctgacaacttgcagcaaaccaatacagggcctattgtgggaaatgtcaacagccaaggagccttacctggcatggtctggcagaaccgagacgtgtacctgcagggtcccatctgggccaagattcctcacacggacggcaacttccacccttcaccgctaatgggaggatttggactgaagcacccacctcctcagatcctgatcaagaacacgccggtacctgcggatcctccaacaacgttcagccaggcgaaattggcttccttcattacgcagtacagcaccggacaggtcagcgtggaaatcgagtgggagctgcagaaggagaacagcaaacgctggaacccagagattcagtacacttcaaactactacaaatctacaaatgtggactttgctgtcaatacagagggaacttattctgagcctcgccccattggtactcgttacctcacccgtaatctgtaa\n",
      "\n",
      "\n",
      "Name: hu.39\n",
      "\n",
      "Sequence: atggctgccgatggttatcttccagattggctcgaggacaacctctctgagggcattcgcgagtggtgggacctgaaacctggagccccgaaacccaaagccaaccagcaaaagcaggacgacggccggggtctggtgcttcctggctacaagtacctcggacccttcaacggactcgacaagggggagcccgtcaacgcggcggacgcagcggccctcgagcacgacaaggcctacgaccagcagctcaaagcgggtgacaatccgtacctgcggtataatcacgccgacgccgagtttcaggagcgtctgcaagaagatacgtcttttgggggcaacctcgggcgagcagtcttccaggccaagaagcgggttctcgaacctctcggtctggttgaggaaggcgctaagacggctcctggaaagaagagaccggtagagccgtcaccacagcgttcccccgactcctccacgggcatcggcaagaaaggccagcagcccgccagaaagagactcaatttcggtcggactggcgactcagagtcagtccccgaccctcaacctatcggagaacctccagcagcgccctctagtgtgggatctggtacaatggctgcaggcggtggcgcaccaatggcagacaataacgaaggtgccgacggagtgggtagttcctcgggaaattggcattgcgattccacatggctgggcgacagagttatcaccaccagcacccgaacctgggccctgcccacctacaacaaccacctctacaagcaaatctccaacgggacctcgggaggcagcaccaacgacaacacctactttggctacagcaccccctgggggtatcttgactttaacagattccactgccacttctcaccacgtgactggcagcgactcatcaacaacaactggggattccggcccaagagactcagcttcaagctcttcaacatccaggtcaaagaggtcacgcagaatgaaggcaccaagaccatcgccaataacctcgccagcaccatccaggtgtttacggactcggaataccagccgccgtacgtcctcggctctgcccaccagggctgcctgcctccgttcccggcggacgtcttcatgattcctcagtacggctacctgactctcaacaacggtagtcaggccgtgggacgttcctccttctactgcctggagtacttcccctctcagatgctgagaacgggcaacaacttttccttcagctacactttcgaggacgtgcctttccacagcagctacgcgcacagccagagtttggacaggctgatgaatcctctcatcgaccagtacctgtactacctgtcaagaacccagtctacgggaggcacagcgggaacccagcagttgctgttttctcgggccgggcctagcaacatgtcggctcaggccagaaactggctgcctggaccctgctacagacagcagcgcgtctccacgacactgtcgcaaaacaacaacagcaactttgcctggactggtgccaccaagtatcatctgaacggcagagactctctggtgaatccgggcgtcgccatggcaaccaacaaggacgacgaggaccgcttcttcccatccagcggcatcctcatgtttggcaagcagggagctggaaaagacaacgtggactatagcaacgtgatgctaaccagcgaggaagaaatcaagaccaccaaccccgtggccacagaacagtatggcgtggtggctgataacctacagcagcaaaacaccgctcctactgtgggggccgtcaacagccagggagccttacctggcatggtctggcagaaccgggacgtgtacctgcagggtcctatttgggccaagattcctcacacagatggcaactttcacccgtctcctttaatgggcggctttggacttaaacatccgcctcctcagatcctcatcaaaaacactcctgttcctgcggatcctccaacagcgttcaaccaggccaagctgaattctttcatcgcgcagtacagcaccggacaagtcagcgtggagatcgagtgggagctgcagaaggagaacagcaagcgctggaacccagagattcagtatacttccaactactacaaatctacaaatgcggactttgctgttaatactgagggtgtttactctgagcctcgccccattggcactcgttacctcacccgtaatctgtaa\n",
      "\n",
      "\n",
      "Name: hu.40\n",
      "\n",
      "Sequence: atggctgctgacggttatcttccagattggctcgaggacaacctctctgagggcattcgcgagtggtgggacctgaaacctggagcccccaagcccaaggccaaccagcagaagcaggacgacggccggggtctggtgcttcctggctacaagtacctcggacccttcaacggactcgacaagggggagcccgtcaacgcggcggacgcagcggccctcgagcacgacaaggcctacgaccagcagctcaaagcgggtgacaatccgtacctgcggtataaccacgccgacgccgagtttcaggagcgtctgcaagaagatacgtcttttgggggcaacctcgggcgagcagtcttccaggccaagaagcgggttctcgaacctctcggtctggttgaggaagctgctaagacggctcctggaaagaagagaccggtagaaccgtcacctcagcgttcccccgactcctccacgggcatcggcaagaaaggccagcagcccgctaaaaagagactgagctttggtcagactggcgactcagagtcagtccccgaccctcaaccaatcggagaaccaccagcaggcccctctggtctgggatctggtacaatggctgcaggcggtggcgctccaatggcagacaataacgaaggcgccgacggagtgggtagttcctcaggaaattggcattgcgattccacatggctgggcgacagagtcatcaccaccagcacccgaacctgggccctgcccacctacaacaaccacctctacaagcaaatatccaatgggacatcgggaggaagcaccaacgacaacacctacttcggctacagcaccccctgggggtattttgacttcaacagattccactgccacttctcaccacgtgactggcagcgactcatcaacaacaactggggattccggccaaaaagactcagcttcaagctcttcaacatccaggtcaaggaggtcacgcagaatgaaggcaccaagaccatcgccaataaccttaccagcacgattcaggtatttacggactcggaataccagctgccgtacgtcctcggctccgcgcaccagggctgcctgcctccgttcccggcggacgtcttcatgattccccagtacggctaccttacactgaacaatggaagtcaagccgtaggccgttcctccttctactgcctggaatattttccatctcaaatgctgcgaactggaaacaattctgaattcagctacaccttcgaggacgtgcctttccacagcagctacgcacacagccagagcttggaccgactgatgaatcctctcatcgaccagtacctgtactacttatccagaactcagtccacaggaggaactcaaggtacccagcaattgttattttctcaagctgggcctgcaaacatgtcggctcaggctaagaactggctacctggaccttgctaccggcagcagcgagtctctacgacactgtcgcaaaacaacaacagcaactttgcttggactggtgccaccaaatatcacctgaacggaagagactctttggtaaatcccggtgtcgccatggcaacccacaaggacgacgaggaacgcttcttcccgtcgagtggagtcctgatgtttggaaaacagggtgctggaagagacaatgtggactacagcagcgttatgctaaccagcgaagaagaaattaaaaccactaaccctgtagccacagaacaatacggtgtggtggctgacaacttgcagcaaaccaatacagggcctattgtgggaaatgtcaacagccaaggagccttacctggcatggtctggcagaaccgagacgtgtacctgcagggtcccatctgggccaagattcctcacacggacggcaacttccacccttcaccgctaatgggaggatttggactgaagcacccacctcctcagatcctgatcaagaacacgccggtacctgcggatcctccaacaacgttcagccaggcgaaattggcttccttcattacgcagtacagcaccggacaggtcagcgtggaaatcgagtgggagctgcagaaggagaacagcaaacgctggaacccagagattcagtacacttcaaactactacaaatctacaaatgtggactttgctgtcaatacagagggaacttattctgagcctcgccccattggtactcgttacctcacccgtaatctgtaa\n",
      "\n",
      "\n",
      "Name: hu.41\n",
      "\n",
      "Sequence: atggctgctgacggttatcttccagattggctcgaggacaacctctctgagggcattcgcgagtggtgggacctgaaacctggagcccccaagcccaaggccaaccagcagaagcaggacgacggccggggtctggtgcttcctggctacaagtacctcggacccttcaacggactcgacaagggggagcccgtcaacgcggcggacgcagcggccctcgagcacgacaaggcctacgaccagcagctcaaagcgggtgacaatccgtacctgcggtataaccacgccgacgccgagtttcaggagcgtctacaagaagatacgtcttttgggggcaacctcgggcgagcagtcttccaggccaagaagcgggttctcgaacctctcggtccggttgaggaagctgctaagacggctcctggaaagaagagaccggtagaaccgccacctcagcgttcccccgactcctccacgggcatcggcaagaaaggccagcagcccgctaaaaagagactgaactttggtcagactggcgactcagagtcagtccccgaccctcaaccaatcggagaaccaccagcaggcccctctggtctgggatctggtacaatggctgcaggcggtggcgctccaatggcagacaataacgaaggcgccgacggagtgggtagttcctcaggaaattggcattgcgattccacatggctgggcgacagagtcatcaccaccagcacccgaacctgggccctgcccacctacaacaaccacctctacaagcaaatatccaatgggacatcgggaggaagcaccaacgacaacacctacttcggctacagcaccccctgggggtattttgacttcaacagattccactgccacttctcaccacgtgactggcagcgactcatcaacaacaactggggattccggccaaaaagactcagcttcaagctcttcaacatccaggtcaaggaggtcacgcagaatgaaggcaccaagaccgtcgccaataaccttaccagcacgattcaggtatttacggactcggaataccagctgccgtacgtcctcggctccgcgcaccagggctgcctgcctccgttcccggcggacgtcttcatgattccccagtacggctaccttacactgaacaatggaagtcaagccgtaggccgttcctccttctactgcctggaatattttccatctcaaatgctgcgaactggaaacaattttgaattcagctacaccttcgaggacgtgcctttccacagcagctacgcacacagccagagcttggaccgactgatgaatcctctcatcgaccagtacctgtactacttatccagaactcagtccacaggaggaactcaaggtacccagcaattgttattttctcaagctgggcctgcaaacatgtcggctcaggctaagaactggctacctggaccttgctaccggcagcagcgagtctctacgacactgtcgcaaaacaacaacagcaactttgcttggactggtgccaccaaatatcacctgaacggaagagactctttggtaaatcccggtgtcgccatggcaacccacaaggacgacgaggaacgcttcttcccgtcgagtggagtcctgatgtttggaaaacagggtgctggaagagacaatgtggactacagcagcgttatgctaaccagcgaagaagaaattaaaaccactaaccctgtagccacagaacaatacggtgtggtggctgacaacttgcagcaaaccaatacagggcctattgtgggaaatgtcaacagccaaggagccttacctggcatggtctggcagaaccgagacgtgtacctgcagggtcccatctgggccaagattcctcacacggacggcaacttccacccttcaccgctaatgggaggatttggactgaagcacccacctcctcagatcctgatcaagaacacgccggtacctgcggatcctccaacaacgttcagccaggcgaaattggcttccttcattacgcagtacagcaccggacaggtcagcgtggaaatcgagtgggagctgcagaaggagaacagcaaacgttggaacccagagattcagtacacttcaaactactacaaatctacaaatgtggactttgctgtcaatacagagggaacttattctgagcctcgccccattggtactcgttacctcacccgtaatctgtaa\n",
      "\n",
      "\n",
      "Name: hu.42\n",
      "\n",
      "Sequence: atggctgctgacggttatcttccagattggctcgaggacaacctctctgagggcattcgcgagtggtgggacctgaaacctggagcccccaagcccaaggccaaccagcagaagcaggacgacggccggggtctggtgcttcctggctacaagtacctcggacccttcaacggactcgacaagggggagcccgtcaacgcggcggacgcagcggccctcgagcacgacaaggcctacgaccagcagctcaaagcgggtgacaatccgtacctgcggtataaccacgccgacgccgagtttcaggagcgtctgcaagaagatacgtcttttgggggcaacctcgggcgagcagtcttccaggccaagaagcgggttctcgaacctctcggtctggttgaggaagcggctaagacggctcctggaaagaagagaccggtagaaccgtcacctcagcgttcccccgactcctccacgggcatcggcaagaaaggccagcagcccgctaaaaagagactgaactttggtcagactggcgactcagagtcagtccccgaccctcaaccaatcggagaaccaccagcaggcccctctggtctgggatctggtacaatggctgcaggcggtggcgctccaatggcagacaataacgaaggcgccgacggagtgggtagttcctcaggaaattggcattgcgattccacatggctgggcgacagagtcatcaccaccagcacccgaacctgggccctgcccacctacaacaaccacctctacaagcaaatatccaatgggacatcgggaggaagcaccaacgacaacacctacttcggctacagcaccccctgggggtattttgacttcaacagattccactgccacttctcaccacgtgactggcagcgactcatcaacaacaactggggattccggccaaaaagactcagcttcaagctcttcaacatccaggtcaaggaggtcacgcagaatgaaggcaccaagaccatcgccaataaccttaccagcacgattcaggtatttacggactcggaataccagctgccgtacgtcctcggctccgcgcaccagggctgcctgcctccgttcccggcggacgtcttcatgattccccagtacggctaccttacactgaacaatggaagtcaagccgtaggccgttcctccttctactgcctggaatattttccatctcaaatgctgcgaactggaaacaattttgaattcagctacaccttcgaggacgtgcctttccacagcagctacgcacacagccagagcttggaccgactgatgaatcctctcatcgaccagtacctgtactacttatccagaactcagtccacaggaggaactcaaggtacccagcaattgttattttctcaagctgggcctgcaaacatgtcggctcaggctaagaactggctacctggaccttgctaccggcagcagcgagtctctacgacactgtcgcaaagcaacaacagcaactttgcttggactggtgccaccaaatatcacctgaacggaagagactctttggtaaatcccggtgtcgccatggcaacccacaaggacgacgaggaacgcttcttcccgtcgagtggagtcctgatgtttggaaaacagggtgctggaagagacaatgtggactacagcagcgttatgctaaccagcgaagaagaaattaaaaccactaaccctgtagccacagaacaatacggtgtggtggctgacaacttgcagcaaaccaatacagggcctattgtgggaaatgtcaacagccaaggagccttacctggcatggtctggcagaaccgagacgtgtacctgcagggtcccatctgggccaagattcctcacacggacggcaacttccacccttcaccgctaatgggaggacttggactgaagcacccacctcctcagatcctgatcaagaacacgccggtacctgcggatcctccaacaacgttcagccaggcgaaattggcttccttcattacgcagtacagcaccggacaggtcagcgtggaaatcgagtgggagctgcagaaggagaacagcaaacgctggaacccagagattcagtacacttcaaactactacaaatctacaaatgtggactttgctgtcaatacagagggaacttattctgagcctcgccccattggtactcgttacctcacccgtaatctgtaa\n",
      "\n",
      "\n",
      "Name: hu.43\n",
      "\n",
      "Sequence: atggctgctgacggttatcttccagattggctcgaggacaacctctctgagggcattcgcgagtggtgggacctgaaacctggagcccccaagcccaaggccaaccagcagaagcaggacgacggccggggtctggtgcttcctggctacaagtacctcggacccttcaacggactcgacaagggggagcccgtcaacgcggcggacgcagcggccctcgagcacgacaaggcctacgaccagcagctcaaagcgggtgacaatccgtacccgcggtataaccacgccgacgccgagtttcaggagcgtctgcaagaagatacgccttttgggggcaacctcgggcgagcagtcttccaggccaagaagcgggttctcgaacctctcggtctggttgaggaagctgctaagacggctcctggaaagaagagaccggtagaaccgtcacctcagcgttcccccgactcctccacgggcatcggcaagaaaggccagcagcccgctaaaaagagactgaactttggtcagactggcgactcagagtcagtccccgaccctcaaccaatcggagaaccaccagcaggcccctctggtctgggatctggtacaatggctgcaggcggtggcgctccaatggcagacaataacgaaggcgccgacggagtgggtaatgcctcaggaaattggcattgcgattccacatggctgggcgacagagtcatcaccaccagcacccgcacctgggccttgcccacctacaataaccacctctacaagcaaatctccagtgcttcaacgggggccagcaacgacaaccactacttcggctacagcaccccctgggggtattttgatttcaacagattccactgccacttttcaccacgtgactggcagcgactcatcaacaacaattggggattccggcccaagagactcaacttcaaactcttcaacatccaagtcaaggaggtcacgacgaatgatggcgtcacaaccatcgctaataaccttaccagcacggttcaagtcttctcggactcggagtaccagcttccgtacgtcctcggctctgcgcaccagggctgcctccctccgttcccggcggacgtgttcatgattccgcaatacggctacctgacgctcaacaatggcagccaagccgtgggacgttcatccttttactgcctggaatatttcccttctcagatgctgagaacgggcaacaactttaccttcagctacacctttgaggaagtgcctctccacagcagctacgcgcacagccagagcctggaccggctgatgaatcctctcatcgtccaatacctgtattacctgaacagaactcaaaatcagtccggaagtgcccaaaacaaggacttgctgttcagccgtgggtctccagctggcatgtctgttcagcccaaaaactggctacctggaccctgttatcggcagcagcgcgtttctaaaacaaaaacagacaacaacaacagcaattttacctggactggtgcttcaaaatataacctcaatgggcgtgaatccatcatcaaccctggcactgctatggcctcacacaaagacgacgaagacaagttctttcccatgagcggtgtcatgatttttggaaaagagagcgccggagcttcaaacactgcattggacaatgtcatgattacagacgaagaggaaattaaagccactaaccctgtggccaccgaaagatttgggaccgtggcagtcaatttccagagcagcagcacagaccctgcgaccggagatgtgcatgctatgggagcattacctggcatggtgtggcaagatagagacgtgtacctgcagggtcccatttgggccaaaattcctcacacagatggacactttcacccgtctcctcttatgggcggctttggactcaagaacccgcctcctcagatcctcatcaaaaacacgcctgttcctgcgaatcctccggcggagttttcagctacaaagtttgcttcattcatcacccaatactccacaggacaagtgagtgtggaaattgaatgggagctgcagaaagaaaacagcaagcgctggaatcccgaagtgcagtacacatccaattatgcaaaatctgccagcgttgattttactgtggacaacaatggactttatactgagcctcgccccattggcacccgttaccttacccgtcccctgtaa\n",
      "\n",
      "\n",
      "Name: hu.44\n",
      "\n",
      "Sequence: atggctgccgatggttatcttccagattggctcgaggacactctctctgaaggaataagacagtggtggaagctcagacctggcccaccaccaccaaagcccgcagagcggcataaggacgacagcaggggtcttgtgcttcctgggtacaagtacctcggacccttcaacggactcgacaagggagagccggtcaacgaggcagacgccgcggccctcgagcacgacaaagcctacgaccggcagctcgacagcggagacaacccgtacctcaagtacaaccacgccgacgcggagtttcaggagcgccttaaagaagatacgtcttttgggggcaacctcgggcgagcagtcttccaggccaagaagcgggttctcgaacctctcggtctggttgaggaaggcgctgagacggctcctggaaagaaacgtccggtagagcagtcgccacaagggccagactcctcctcgggcatcggcaagacaggccagcagcccgctaaaaagagactcaattttggtcagactggcgactcagagtcagtccccgatccacaacctctcggagaacctccagcaacccccgctgctgtgggacctactacaatggcttcaggcggtggcgcaccaatggcagacaataacgaaggcgccgacggagtgggtaatgcctcaggaaattggcattgcgattccacatggctgggcgacagagtcatcaccaccagcacccgcacctgggccttgcccacctacaataaccacctctacaagcaaatctccagtgcttcaacgggggccagcaacgacaaccactacttcggctacagcaccccctgggggtattttgatttcaacagattccactgccacttttcaccacgtgactggcagcgactcatcaacaacaattggggattccggcccaagagactcaacttcaaactcttcaacatccaagtcaaggaggtcacgacgaatgatggcgtcacaaccatcgctaataaccttaccagcacggttcaagtcttctcggactcggagtaccagcttccgtacgtcctcggctctgcgcaccagggctgcctccctccgttcccggcggacgtgttcatgattccgcaatacggctacctgacgctcaacaatggcagccaagccgtgggacgttcatccttttactgcctggaatatttcccttctcagatgctgagaacgggcaacaactttaccttcagctacacctttgaggaagtgcctttccacagcagctacgcgcacagccagagcctggaccggctgatgaatcctctcatcgaccaatacctgtattacccgaacagaactcaaaatcagtccggaagtgcccaaaacaaggacttgctgtttagccgtgggtctccagctggcatgtctgttcagcccaaaaactggctacctggaccctgttatcggcagcagcgcgtttctaaaacaaaaacagacaacaacaacagcaattttacctggactggtgcttcaaaatataacctcaatgggcgtgaatccatcatcaaccctggcactgctatggcctcacacaaagacgacgaagacaagttctttcccatgagcggtgtcatgatttttggaaaagagagcgccggagcttcaaacactgcattggacaatgtcatgattacagacgaagaggaaattaaagccactaaccctgtggccaccgaaagatttgggaccgtggcagtcaatttccagagcagcagcacagaccctgcgaccggagatgtgcatgctatgggagcattacctggcatggtgtggcaaggtagagacgtgtacctgcagggtcccatttgggccaaaattcctcacacagatggacactttcacccgtctcctcttatgggcggctttggactcaagaacccgcctcctcagatcctcatcaaaaacacgcctgttcctgcgaatcctccggcggagttttcagctacaaagtttgcttcattcatcacccaatactccacaggacaagtgagtgtggaaattgaatgggagctgcagaaagaaaacagcaagcgctggaatcccgaagtgcagtacacatccaattatgcaaaatctgccaacgttgattttactgtggacaacaatggactttatactgagcctcgccccattggcacccgttaccttacccgtcccctgtaa\n",
      "\n",
      "\n",
      "Name: hu.46\n",
      "\n",
      "Sequence: atggctgccgacggttatcttccagattggctcgaggacactctctctgaaggaataagacagtggtggaagctcaaacctggcccaccaccaccaaagcccgcagagcggcataaggacgacagcaggggtcttgtgcttcctgggtacaagtacctcggacccttcaacggactcgacaagggagagccggtcaacgaggcagacgccgcggccctcgagcacgacaaagcctacgaccggcagctcgacagcggagacaacccgtacctcaagtacaaccacgccgacgcggagtttcaggagcgccttaaagaagatacgtcttttgggggcaacctcgggcgggcagtcttccaggccaagaagcgggttctcgaacctctcggtctggttgaggaaggcgctaagacggctcctggaaagaaacgtccggtagagcagtcgccacaagagccagactccccctcgggcatcggcaagacaggccagcagcccgctaaaaagagactcaattttggtcagactggcgactcagagtcagtccccgatccacaacctctcggagaacctccagcaacccccgctgctgtgggacctactacaatggcttcaggcggtggcgcaccaatggcagacaataacgaaggcgccgacggagtgggtaatgcctcaggaaattggcactgcgattccacatggctgggcgacagagtcatcaccaccagcacccgcacctgggccttgcccacctacaataaccacctctacaagcaaatctccagtgcttcaacgggggccagcaacgacaaccactacttcggctacagcaccccctgggggtattttgatttcaacagattccactgccacttttcaccacgtgactggcagcgactcatcaacaacaattggggattccggcccaagagactcaacttcaaactcttcaacatccaagtcaaggaggtcacgacgaatgatggcgtcacaaccatcgctaataaccttaccagcacggttcaagtcttctcggactcggagtaccagcttccgtacgtcctcggctctgcgcaccagggccgcctccctccgttcccggcggacgtgttcatgattccgcaatacggctacctgacgctcaacaatggcagccaagccgtgggacgttcatcctcttactgcctggaatatttcccttctcagatgctgagaacgggcaacaactttaccttcagctacacctttgaggaagtgcctctccacagcagctgcgcgcacagccagagcctggaccggctgatgaatcctctcatcgaccaatacctgtattacctgaacagaactcaaaatcagtccggaagtgcccaaaacagggacttgctgttcagccgtgggtctccagctggcatgtctgttcagcccaaaaactggctacctggaccctgttatcggcagcagcgcgtttctaaaacaaaaacagacaacaacaacagcaattttacctggactggtgcttcaaaatataacctcaatgggcgtgaatccatcatcaaccctggcactgctatggcctcacacaaagacgacgaagacaagttctttcccatgagcggtgtcatgatttttggaaaagagagcgccggagcttcaaacactgcattggacaatgtcatgattacagacgaagaggaaattaaagccactaaccctgtggccaccgaaagatttgggaccgtggcagtcaatttccagagcagcagcacagaccctgcgaccggagatgtgcatgctatgggagcattacctggcatggtgtggcaagatagagacgtgtacctgcagggtcccatttgggccaaaattcctcacacagatggacactttcacccgtctcctcttatgggcggctttggactcaagaacccgcctcctcagatcctcatcaaaaacacgcctgttcctgcgaatcctccggcggagttttcagctacaaagtttgcttcattcatcacccaatactccgcaggacaagtgagtgtggaaattgaatgggagctgcagaaagaaaacagcaagcgctggaatcccgaagtgcagtacacatccaattatgcaaaatctgccaacgttgattttactgtggacaacaatggactttatactgagcctcgccccattggcacccgttaccttacccgtcccctgtaa\n",
      "\n",
      "\n",
      "Name: hu.48\n",
      "\n",
      "Sequence: atggctgccgatggttatcttccagattggctcgaggacaacctctctgagggcattcgcgagtggtgggacttgaaacctggagccccgaagcccaaagccaaccagcaaaagcaggacgacggccggggtctggtgcttcctggctacaagtacctcggacccttcaacggactcgacaagggggagcccgtcaacgcggcggacgcagcggccctcgagcacgacaaggcctacgaccagcagctcaaagcgggtgacaatccgtacctgcggtataaccacgccgacgccgagtttcaggagcgtctgcaagaagatacgtcttttgggggcaacctcgggcgagcagtcttccaggccaagaagcgggttctcgaacctctcggtctggttgaggaaggcgctaagacggctcctggaaagaaacgtccggtagagcagtcgccacaagagccagactcctcctcgggcatcggcaagacaggccagcagcccgctaaaaagagactcaattttggccagactggcgactcagagtcagtccccgatccacaacctctcggagaacctccagcaacccccgctgctgtgggacctactacaatggcttcaggcggtggcgcaccaatggcagacaataacgaaggcgccgacggagtgggtaatgcctcaggaaattggcattgcgattccacatggctgggcgacagagtcatcaccaccagcacccgcacctgggccttgcccacctacaataaccacctctacaagcaaatctccagtacttcaacgggggccagcaacgacaaccactacttcggctacggcaccccctgggggtattttgatttcaacagattccactgccacttttcaccacgtgactggcagcgactcatcaacaacaattggggattccggcccaagagactcaacttcaaactcttcaacatccaagtcgaggaggtcacgacgaatgatggcgtcacaaccatcgctaataaccttaccagcacggttcaagtcttctcggactcggagtaccagcttccgtacgtcctcggctctgcgcaccagggctgcctccctccgttcccggcggacgtgttcatgattccgcaatacggctacctgacgctcaacaatggcagccaagccgtgggacgttcatccttttactgcctggaatatttcccttctcagatgctgagaacgggcaacaactttaccttcagctacacctttgaggaagtgcctttccacagcagctacgcgcacagccagagcctggaccggctgatgaatcctctcatcgaccaatacctgtattacctgaacagaacacaaaatcagtccggaagtgcccaaaacaaggacttgctgtttagccgtgggtctccagctggcatgtctgttcagcccaaaaactggctacctggaccctgttatcggcagcagcgcgtttctaaaacaaaaacagacaacaacaacagcaattttacctggactggtgcttcaaaatataacctcaatgggcgtgaatccatcatcaaccctggcaccgctgtggcctcacacaaagacgacgaagacaagttctttcccatgagcggtgtcatgatttttggaaaagagagcgccggagcttcaagcactgcattggacaatgtcatgattacagacgaagaggaaattaaagccactaaccctgtggccaccgaaagatttgggaccgtggcagtcaatttccagagcagcagcacagaccctgcgaccggagatgtgcatgctatgggagcattacctggcatggtgtggcaagatagagacgtgtacctgcagggtcccatttgggccaaaattcctcacacagatggacactttcacccgtctcctcttatgggcggctttggactcaagaacccgcctcctcagatcctcatcaaaaacacgcctgttcctgcgaatcctccggcggagttttcagctacaaagtttgcttcattcatcacccaatactccacaggacaagtgagtgtggaaattgaatgggagctgcagaaagaaaacagcaagcgctggaatcccgaagtgcagtacacatccaattatgcaaaatctgccaacgttgattttactgtggacaacaatggactttatactgagcctcgccccattggcacccgttaccttacccgtcccctgtaa\n",
      "\n",
      "\n",
      "Name: hu.6\n",
      "\n",
      "Sequence: atggctgccgatggttatcttccagattggctcgaggacaacctctctgagggcattcgcgagtggtgggacttgaaacctggagccccgaaacccaaagccaaccagcaaaagcaggacgacggccggggtctggtgcttcctggctacaagtacctcggacccttcaacggactcgacaagggggagcccgtcaacgcggcggacgcagcggccctcgagcacgacaaggcctacgaccagcagctcaaagcgggtgacaatccgtacctgcggtataaccacgccgacgccgagtttcaggagcgtctgcaagaagatacgtcttttgggggcaacctcgggcgagcagtcttccaggccaagaagcgggttctcgaacctctcggtctggttgaggaaggcgctaagacggctcctggaaagaagagaccggtagagccatcaccccagcgttctccagactcctctacgggcatcggcaagacaggccagcagcccgcgaaaaagagactcaactttgggcagactggcgactcagagtcagtgcccgaccctcaaccaatcggagaaccccccgcaggcccctctggtctgggatctggtacaatggctgcaggcggtggcgctccaatggcagacaataacgaaggcgccgacggagtgggtagttcctcaggaaattggcattgcgattccgcatggctgggcgacagagtcatcaccaccagcacccgaccctgggccctccccacctacaacaaccacctctacaagcaaatctccaacgggacatcgggaggaagcaccaacgacaacacctacttcggctacagcaccccctgggggtattttgactttaacagattccactgccacttctcaccacgtgactggcagcgactcatcaacaacaactggggattccggcccaagagactcaacttcaagctcttcaacatccaggtcaaggaggtcacgcagaatgaaggcaccaagaccatcgccaataaccttaccagcacgattcaggtctttacggactcggaataccagctcccgtacgtcctcggctctgcgcaccagggctgcccgcctccgttcccggcggacgtcttcatgattcctcagtacgggtacctgactctgaacaacggcagtcaggccgtgggccgttcctccttctactgcctggagtactttccttctcaaatgcggagaacgggcaacaactttgagttcagctaccagtttgaggacgtgccttttcacagcagctacgcgcatagccaaagcctggaccggctgatgaaccccctcatcgaccagtacctgtactacctgtctcggactcagtccacgggaggtaccgcaggaactcagcagttgctattttctcaggccgggcctaataacatgtcggctcaggccaaaaactggctacccgggccctgctaccggcagcaacgcgtctccacgacactgtcgcaaaataacaacagcaactttgcttggaccggtgccaccaagtatcatctgaatggcagagactctctggtaaatcccggtgtcgctatggcaacgcacaaggacgacgaagagcgattttttccatccagcggagtcttgatgtttgggaaacagggagctggaaaagacaacgtggactatagcagcgttatgctaaccagtgaggaagaaatcaaaaccaccaacccagtggccacagaacagtacggcgtggtggccgataacctgcaacagcaaaacgccgctcctattgtaggggccgtcaacagtcaaggagccttacctggcatggtctggcagaaccgggacgtgtacctgcagggtcctatctgggccaagattcctcacacggacggcaactttcatccttcgccgctgatgggaggctttggactgaaacacccgcctcctcagatcctgattaagaatacacctgttcccgcggatcctccaactaccttcagtcaagccaagctggcgtcgttcatcacgcagtacagcaccggacaggtcagcgtggaaattgaatgggagctgcagaaagagaacagcaagcgctggaacccagagattcagtatacttccaactactacaaatctacaaatgtggactttgctgtcaatactgagggtacttattcagagcctcgccccattggcacccgttacctcacccgtaacctgtaa\n",
      "\n",
      "\n",
      "Name: hu.66\n",
      "\n",
      "Sequence: atggctgctgacggttatcttccagattggctcgaggacaacctctctgagggcattcgcgagtggtgggacctgaaacctggagcccccaagcccaaggccaaccagcagaagcaggacgacggccggggtctggtgcttcctggctacaagtacctcggacccttcaacggactcgacaagggggagcccgtcaacgcggcggacgcagcggccctcgagcacgacaaggcctacgaccagcagctcaaagcgggtgacaatccgtacctgcggtataaccacgccgacgccgagtttcaggagcgtctgcaagaagatacgtcttttgggggcaacctcgggcgagcagtcttccaggccaagaagcgggttctcgaacctctcggtctggttgaggaagctgctaagacggctcctggaaagaagagaccggtagaaccgtcacctcagcgttcccccgactcctccgcgggcatcggcaagaaaggccagcagcccgctaaaaagagactgaactttggtcagactggcgactcagagtcagtccccgaccctcaaccaatcggagaaccaccagcaggcccctctggtctgggatctggtacaatggctgcaggcggtggcgctccaatggcagacaataacgaaggcgccgacggagtgggtagttcctcaggaaattggcattgcgattccacatggctgggcgacagagtcatcaccaccagcacccgaacctgggccctgcccacctacaacaaccacctctacaagcaaatatccaatgggacatcgggaggaagcaccaacgacaacacctacttcggctacagcaccccctgggggtattttgacttcaacagattccactgccacttctcaccacgtgactggcagcgactcatcaacaacaactggggattccggccaaaaagactcagcttcaagctcttcaacatccaggtcaaggaggtcacgcagaatgaaggcaccgagaccatcgccaataaccttaccagcacgattcaggtatttacggactcggaataccagctgccgtacgtcctcggctccgcgcaccagggctgcctgcctccgttcccggcggacgtcttcatgattccccagtacggctaccttacactgaacaatggaagtcaagccgtaggccgttcctccttctactgcctggaatattttccatctcaaatgctgcgaactggaaacaattttgaattcagctacaccttcgaggacgtgcctttccacagcagctgcgcacacagccagagctcggaccgactgatgaatcctctcatcgaccagtacctgtactacttatccagaactcggtccacaggaggaactcaaggtacccagcaattgttattttctcaagctgggcctgcaaacatgtcggctcaggctaagaactggctacctggaccttgctaccggcagcagcgagtctctacgacactgtcgcaaaacaacaacagcaactttgcttggactggtgccaccaaatatcacctgaacggaagagactctttggtaaatcccggtgtcgccatggcaacccacaaggacgacgaggaacgcttcttcccgtcgagtggagtcctgatgtttggaaaacagggtgctggaagagacaatgtggactacagcagcgttatgctaaccagcgaagaagaaattaaaaccactaaccctgtagccacagaacaatacggtgtggtggctgacaacttgcagcaaaccaatacagggcctattgtgggaaatgtcaacagccaaggagccttacctggcatggtctggcagaaccgagacgtgtacctgcagggtcccatctgggccaagattcctcacacggacggcaacttccacccttcaccgctaatgggaggatttggactgaagcacccacctcctcagatcctgatcaagaacacgccggtacctgcggatcctccaacaacgttcagccaggcgaaattggcttccttcattacgcagtacagcaccggacaggtcagcgtggaaatcgagtgggagctgcagaaggagaacagcaaacgctggaacccagagattcagtacacttcaaactactacaaatctacaaatgtggactttgctgtcaatacagagggaacttattctgagcctcgccccattggtactcgttacctcacccgtaatctgtaa\n",
      "\n",
      "\n",
      "Name: hu.67\n",
      "\n",
      "Sequence: atggctgctgacggttatcttccagattggctcgaggacaacctctctgagggcattcgcgagtggtgggacctgaaacctggagcccccaagcccaaggccaaccagcagaagcaggacgacggccggggtctggtgcttcttggctacaagtacctcggacccttcaacggactcgacaagggggagcccgtcaatgcggcggacgcagcggccctcgagcacgacaaggcctacgaccagcagctcaaagcgggtgacaatccgtacctgcggtataaccacgccgacgccgagtttcaggagcgtctgcaagaagatacgtcttttgggggcaacctcgggcgagcagtcttccaggccaagaagcgggttctcgaacctctcggtctggttgaggaagctgctaagacggctcctggaaagaagagaccggtagaaccgtcacctcagcgttcccccgactcctccacgggcatcggcaagaaaggccagcagcccgctaaaaagagactgaactttggtcagactggcgactcagagtcagtccccgaccctcaaccaatcggagaaccaccagcaggcccctctggtctgggatctggtacaatggctgcaggcggtggcgctccaatggcagacaataacgaaggcgccgacggagtgggtagttcctcaggaaattggcattgcgattccacatggctgggcgacagagtcatcaccaccagcacccgaacctgggccctgcccacctacaacaaccacctctacaagcaaatatccaatgggacatcgggaggaagcaccaacgacaacacctacttcggctacagcaccccctgggggtattttgacttcaacagattccactgccacttctcaccacgtgactggcagcgactcatcaacaacaactggggattccggccaaaaagactcagcttcaagctcttcaacatccaggtcaaggaggtcacgcagaatgaaggcaccaagaccatcgccaataaccttaccagcacgattcaggtatttacggactcggaataccagctgccgtacgtcctcggctccgcgcaccagggctgcctgcctccgttcccggcggacgtcttcatgattccccagtacggctaccttacactgaacaatggaagtcaagccgtaggccgttcctccttctactgcctggaatattttccatctcaaatgctgcgaactggaaacaattttgaattcagctacaccttcgaggacgtgcctttccacagcggctacgcacacagccagagcttggaccgactgatgaatcctctcatcgaccagtacctgtactacttatccagaactcagtccacaggaggaactcaaggtacccagcaattgttattttctcaagctgggcctgcaaacatgtcggctcaggctaagaactggctacctggaccttgctaccggcagcagcgagtctctacgacactgtcgcaaaacaacaacagcaactttgcttggactggtgccaccaaatatcacctgaacggaagagactctttggtaaatcccggtgtcgccatggcaacccacaaggacgacgaggaacgcttcttcccgtcgagtggagtcctgatgtttggaaaacagggtgctggaagagacaatgtggactacagcagcgttatgctaaccagcgaagaagaaattaaaaccactaaccctgtagccacagaacaatacggtgtggtggctgacaacttgcagcaaaccaatacagggcctattgtgggaaatgtcaacagccaaggagccttacctggcatggtctggcagaaccgagacgtgtacctgcagggtcccatctgggccaagattcctcacacggacggcaacttccacccttcaccgctaatgggaggatttggactgaagcacccacctcctcagatcctgatcaagaacacgccggtacctgcggatcctccaacgacgttcagccaggcgaaattggcttccttcattacgcagtacagcaccggacaggtcagcgtggaaatcgagtgggagctgcagaaggagaacagcaaacgctggaacccagagattcagtacacttcaaactactacaaatctacaaatgtggactttgctgtcaatacagagggaacttattctgagcctcgccccattggtactcgttacctcacccgtaatctgtaa\n",
      "\n",
      "\n",
      "Name: pi.1\n",
      "\n",
      "Sequence: atggctgctgacggttatcttccagattggctcgaggacaacctctctgagggcattcgcgagtggtgggcgctgaaacctggagccccgcaacccaaagccaaccagcaaaagcaggacgacggccggggtctggtgcttcctggctacaagtacctcggacccttcaacggactcgacaagggggagcccgtcaacgaggcggacgccgcggccctcgagcacgacaaggcctacgaccagcagctcaaagcgggtgacaatccgtacctgcggtataatcacgccgacgccgagtttcaagagcgtctgcaagaagatacgtcctttgggggcaacctcgggcgagcagtcttccaggccaaaaagagggtactcgagcctctgggtctggttgaggaaggcgctaagacggctcctggaaagaagcggccagtagaaccggactccagctcgggcatcggcaagtcaggccagcagcccgcgaaaaagagactgaattttgggcagactggcgactcagagtcagtgcctgacccccaacctctctcagaaccacccgcaggtccctctggtctgggatctggtacaatggctgctggcggtggcgctccaatggcagacaataacgaaggcgccgacggagtgggtaatgtctcaggaaattggcattgcgattccacatggctgggcgaccgagtcatcaccaccagcactcggacctgggccctccccacctacaacaaccacctctacaagcaaatctccaacgggacctcgggaggcagcagcaacgacaacacctactttggctacagcaccccctgggggtattttgactttaacagattccactgccacttttcaccacgtgactggcagcgactcatcaacaacaactgggggttccggcccaagaagctcaacttcaagctcttcaacatccaggtcaaggaggtcacccagaatgaaggcaccaagaccatcgccaataacctcaccagcacggtgcaggtctttacggactcggagtaccagctcccgtacgtgctcggctctgcccaccagggctgcctgcctccgttcccggcggacgtgttcatgattccgcagtacgggtacctgacgctgaacaacgggagccaggccgtggggcgatcctccttctactgcctggagtactttccctcgcagatgctgagaacgggcaacaactttaccttcagctacaccttcgaggacgtgcccttccacagcagctacgcgcacagccagagcctggaccggctgatgaacccgctgattgaccagtacctgtactacctgtctcggactcagaccaacgggaccaatgccacgcagactctgttgtttgctcaggccgggcctcagaacatgtcggctcaggccaagaactggctgcctggtccttgctatcggcagcagcgcgtctctacgacagtgtcgcaaaacaacaacagcaactttacctggaccggggcgaccaagtaccacctgaacggccgagactccctggtgagccccggtgtcgccatggcaacgcacaaggacgacgaggagcgcttcttcccgagcagcggggtcctgatgtttggcaagcagggcgctggaaaggacaatgtcgagtacaccaacgtgatgctcaccagcgaggaggagatcaagaccaccaaccctgtggccacggagcagtacggcgtggtggctgacaatctgcagcagaccaactcagctcccattgtgggggcagtcaacagccagggggccttacccggtatggtctggcagaaccgggacgtgtacctgcagggtcccatctgggccaagatcccgcatacggacggcaactttcacccgtctcctctcatgggcggctttggactgaaacacccgcctccccagatcctgatcaaaaacacgccggtacctgcggatcccccggtgaactttacggacgctaagctggcgagtttcatcacgcagtacagcaccgggcaggtcagcgtggagattgagtgggagctgcagaaggagaacagcaagcgctggaatcccgagattcagtacacttccaattattataaatcagctaatgtggactttgccgtcaatgcagatggtgtatatagtgaaccccgccccattggcactcgttacctcacccgtaatctgtaa\n",
      "\n",
      "\n",
      "Name: pi.2\n",
      "\n",
      "Sequence: atggctgctgacggttatcttccagattggctcgaggacaacctctctgagggcattcgcgagtggtgggcgctgaaacctggagccccgcaacccaaagccaaccagcaaaagcaggacgacggccggggtctggtgcttcctggctacaagtacctcggacccttcaacggactcgacaagggggagcccgtcaacgaggcggacgccgcggccctcgagcacgacaaggcctacgaccagcagctcaaagcgggtgacaatccgtacctgcggtataatcacgccgacgccgagtttcaagagcgtctgcaagaagatacgtcctttgggggcaacctcgggcgagcagtcttccaggccaaaaagagggtactcgagcctctgggtctggttgaggaaggcgctaagacggctcctggaaagaagcggccagtagaaccggactccagctcgggcatcggcaagtcaggccggcagcccgcgaaaaagagactgaattttgggcagactggcgactcagagtcagtgcctgacccccaacctctctcagaaccacccgcaggtccctctggtctgggatctggtacaatggctgcaggcggtggcgctccaatggcagacaataacgaaggcgccgacggagtgggtaatgcctcaggaaattggcattgcgattccacatggctgggcgaccgagtcatcaccaccagcactcggacctgggccctccccacctacaacaaccacctctacaagcaaatctccaacgggacctcgggaggcagcagcaacgacaacacctactttggctacagcaccccctgggggtattttgactttaacagattccactgccacttttcaccacgtgactggcagcgactcatcaacaacaactggggattccggcccaagaggctcaacttcaagctcttcaacatccaggtcaaggaggtcacccagaatgaaggcaccaagaccatcgccaataacctcaccagcacggtgcaggtctttacggactcgaagtaccagctcccgtacgtgctcggctctgcccaccagggctgcctgcctccgttcccggcggacgtgttcatgattccgcagtacgggtacctgacgctgaacaacgggagccaggccgtggggcgatcctccttctactgcctggagtactttccctcgcagatgctgagaacgggcaacaactttaccttcagctacaccttcgaggacgtgcccttccacagcagctacgcgcacagccagagcctggaccggctgatgaacccgctgattgaccagtacctgtactacctgtctcggactcagaccaacgggaccaatgccacgcagactctgttgtttgctcaggccgggcctcagaacatgtcggctcaggccaagaactggctgcctggtccttgctatcggcagcagcgcgtctctacgacagtgtcgcaaaacaacaacagcaactttacctggaccggggcgaccaagtaccacctgaacggccgagactccctggtgaaccccggtgtcgccatggcaacgcacaaggacgacgaggagcgcttcttcccgagcagcggggtcctgatgtttggcaagcagggcgctggaaaggacaatgtcgagtacaccaacgtgatgctcaccagcgaggaggagatcaagaccaccaaccctgtggccacggagcagtacggtgtggtggctgacaatctgcagcagaccaactcggctcccattgtgggggcagtcaacagccagggggccttacccggtatggtctggcagaaccgggacgtgtacctgcagggtcccatctgggccaagatcccgcatacggacggcaactttcacccgtctcctctcatgggcggctttggactgaaacacccgcctccccagatcctgatcaaaaacacgccggtacctgcggatcccccggtgaactttacggacgctaagctggcgagtttcatcacgcagtacagcaccgggcaggtcagcgtggagattgagtgggagctgcagaaggagaacagcaagcgctggaatcccgagattcagtacacttccaattattataaatcagctaatgtggactttgccgtcaatgcagatggtgtatatagtgaaccccgccccattggcactcgttacctcacccgtaatctgtaa\n",
      "\n",
      "\n",
      "Name: pi.3\n",
      "\n",
      "Sequence: atggctgctgacggttatcttccagattggctcgaggacaacctctctgagggcattcgcgagtggtgggcgctgaaacctggagccccgcaacccaaagccaaccagcaaaagcaggacgacggccggggtctggtgcttcctggctacaagtacctcggacccttcaacggactcgacaagggggagcccgtcaacgaggcggacgccgcggccctcgagcacgacaaggcctacgaccagcagctcaaagcgggtgacaatccgtacctgcggtataatcacgccgacgccgagtttcaagagcgtctgcaagaagatacgtcctttgggggcaacctcgggcgagcagtcttccaggccaaaaagagggtactcgagcctctgggtctggttgaggaaggcgctaagacggctcctggaaagaagcggccagtagaaccggactccagctcgggcatcggcaagtcaggccagcagcccgcgaaaaagagactgaattttgggccgactggcgactcagagtcagtgcctgacccccaacctctctcagaaccacctgcaggtccctctggtctgggatctggtacaatggctgcaggcggtggcgctccaatggcagacaataacgaaggcgccgacggagtgggtaatgtctcaggaaattggcattgcgattccacatggctgggcgaccgagtcatcaccaccagcactcggacctgggccctccccacctacaacaaccacctctacaagcaaatctccaacgggacctcgggaggcagcagcaacgacaacacctactttggctacagcaccccctgggggtattttgactttaacagattccactgccacttttcaccacgcgactggcagcgactcatcaacaacaactggggattccggcccaagaagctcaacttcaagctcttcaacatccaggtcaaggaggtcacccagaatgaaggcaccaagaccaccgccaataacctcaccagcacggtgcaggtctttacggactcggagtaccagctcccgtacgtgctcggctctgcccaccagggctgcctgcctccgttcccggcggacgtgttcatgattccgcagtacgggtacctgacgctgaacaacgggagccaggccgtggggcgatcctccttctactgcctggagtactttccctcgcagatgctgagaacgggcaacaactttaccttcagctacaccttcgaggacgtgcccttccacagcagctacgcgcacagccagagcctggaccggctgatgaacccgctgattgaccagtacctgtactacctgtctcggactcagaccaacgggaccaatgccacgcagactctgttgtttgctcaggccgggcctcagaacatgtcggctcaggccaagaactggctgcctggtccttgctatcggcagcagcgcgtctctacggcagtgtcgcaaaacaacaacagcaactttacctggaccggggcgaccaagtaccacctgaacggccgagactccctggtgaaccccggtgtcgccatggcaacgcacaaggacgacgaggagcgcttcttcccgagcagcggggtcctgatgtttggcaagcagggcgctggaaaggacaatgtcgagtacaccaacgtgatgctcaccagcgaggaggagatcaagaccaccaaccctgtggccacggagcagtacggtgtggtggctgacaatctgcagcagaccaactcggctcccattgtgggggcagtcaacagccagggggccttacccggtatggtctggcagaaccgggacgtgtacctgcagggtcccatctgggccaagatcccgcatacggacggcaactttcacccgtctcctctcatgggcggctttggactgaaacacccgcctccccagatcctgatcaaaaacacgccggtacctgcggatcccccggtgaactttacggacgctaagctggcgagtttcatcacgcagtacagcaccgggcaggtcagcgtggagattgagtgggagctgcagaaggagaacagcaagcgctggaatcccgagattcagtacacttccaattattataaatcagctaatgtggactttgccgtcaatgcagatggtgtatatagcgaaccccgccccattggcactcgttacctcacccgtaatctgtaa\n",
      "\n",
      "\n",
      "Name: rh.10\n",
      "\n",
      "Sequence: atggctgccgatggttatcttccagattggctcgaggacaacctctctgagggcattcgcgagtggtgggacttgaaacctggagccccgaaacccaaagccaaccagcaaaagcaggacgacggccggggtctggtgcttcctggctacaagtacctcggacccttcaacggactcgacaagggggagcccgtcaacgcggcggacgcagcggccctcgagcacgacaaggcctacgaccagcagctcaaagcgggtgacaatccgtacctgcggtataaccacgccgacgccgagtttcaggagcgtctgcaagaagatacgtcttttgggggcaacctcgggcgagcagtcttccaggccaagaagcgggttctcgaacctctcggtctggttgaggaaggcgctaagacggctcctggaaagaagagaccggtagagccatcaccccagcgttctccagactcctctacgggcatcggcaagaaaggccagcagcccgcgaaaaagagactcaactttgggcagactggcgactcagagtcagtgcccgaccctcaaccaatcggagaaccccccgcaggcccctctggtctgggatctggtacaatggctgcaggcggtggcgctccaatggcagacaataacgaaggcgccgacggagtgggtagttcctcaggaaattggcattgcgattccacatggctgggcgacagagtcatcaccaccagcacccgaacctgggccctccccacctacaacaaccacctctacaagcaaatctccaacgggacttcgggaggaagcaccaacgacaacacctacttcggctacagcaccccctgggggtattttgactttaacagattccactgccacttctcaccacgtgactggcagcgactcatcaacaacaactggggattccggcccaagagactcaacttcaagctcttcaacatccaggtcaaggaggtcacgcagaatgaaggcaccaagaccatcgccaataaccttaccagcacgattcaggtctttacggactcggaataccagctcccgtacgtcctcggctctgcgcaccagggctgcctgcctccgttcccggcggacgtcttcatgattcctcagtacgggtacctgactctgaacaatggcagtcaggccgtgggccgttcctccttctactgcctggagtactttccttctcaaatgctgagaacgggcaacaactttgagttcagctaccagtttgaggacgtgccttttcacagcagctacgcgcacagccaaagcctggaccggctgatgaaccccctcatcgaccagtacctgtactacctgtctcggactcagtccacgggaggtaccgcaggaactcagcagttgctattttctcaggccgggcctaataacatgtcggctcaggccaaaaactggctacccgggccctgctaccggcagcaacgcgtctccacgacactgtcgcaaaataacaacagcaactttgcctggaccggtgccaccaagtatcatctgaatggcagagactctctggtaaatcccggtgtcgctatggcaacccacaaggacgacgaagagcgattttttccgtccagcggagtcttaatgtttgggaaacagggagctggaaaagacaacgtggactatagcagcgttatgctaaccagtgaggaagaaattaaaaccaccaacccagtggccacagaacagtacggcgtggtggccgataacctgcaacagcaaaacgccgctcctattgtaggggccgtcaacagtcaaggagccttacctggcatggtctggcagaaccgggacgtgtacctgcagggtcctatctgggccaagattcctcacacggacggaaactttcatccctcgccgctgatgggaggctttggactgaaacacccgcctcctcagatcctgattaagaatacacctgttcccgcggatcctccaactaccttcagtcaagctaagctggcgtcgttcatcacgcagtacagcaccggacaggtcagcgtggaaattgaatgggagctgcagaaagaaaacagcaaacgctggaacccagagattcaatacacttccaactactacaaatctacaaatgtggactttgctgttaacacagatggcacttattctgagcctcgccccatcggcacccgttacctcacccgtaatctgtaa\n",
      "\n",
      "\n",
      "Name: rh.13\n",
      "\n",
      "Sequence: atggctgccgatggttatcttccagattggctcgaggacaacctctctgagggcattcgcgagtggtgggacttgaaacctggagccccgaaacccaaagccaaccagcaaaagcaggacgacggccggggtctggtgcttcctggctacaagtacctcggacccttcaacggactcgacaagggagagccggtcaacgaggcagacgccgcggccctcgagcacgacaaggcctacgacaagcagctcgagcagggggacaacccgtacctcaagtacaaccacgccgacgccgagtttcaggagcgtcttcaagaagatacgtcttttgggggcaacctcgggcgagcagtcttccaggccaagaagcgggttctcgaacctctcggtctggttgaggaaggcgctaagacggctcctggaaagaagagacccatagaatcccccgactcctccacgggcatcggcaagaaaggccagcagcccgctaaaaagaagctcaactttgggcagactggcgactcagagtcagtgcccgacccccaacctctcggagaacctcccgccgcgccctcaggtctgggatctggtacaatggctgcaggcggtggcgcaccaatggcagacaataacgaaggcgccgacggagtgggtaatgcctccggaaattggcattgcgattccacatggctgggcgacagagtcatcaccaccagcacccgcacctgggccctgcccacctacaacaaccacctctacaagcagatatcaagtcagagcggggctaccaacgacaaccacttcttcggctacagcaccccctggggctattttgacttcaacagattccactgccacttctcaccacgtgactggcagcgactcatcaacaacaactggggattccggcccagaaagctgcggttcaagttgttcaacatccaggtcaaggaggtcacgacgaacgacggcgttacgaccatcgctaataaccttaccagcacgattcaggtcttctcggactcggagtaccaactgccgtacgtcctcggctctgcgcaccagggctgcctccctccgttccctgcggacgtgttcatgattcctcagtacggatatctgactctaaacaacggcagtcagtctgtgggacgttcctccttctactgcctggagtactttccttctcagatgctgagaacgggcaataactttgaattcagctacacctttgaggaagtgcctttccacagcagctatgcgcacagccagagcctggaccggctgatgaatcccctcatcgaccagtacctgtactacctggcccggacccagagcactacggggtccacaagggagctgcagttccatcaggctgggcccaacaccatggccgagcaatcaaagaactggctgcccggaccctgttatcggcagcagagactgtcaaaaaacatagacagcaacaacaacagtaactttgcctggaccggggccactaaataccatctgaatggtagaaattcattaaccaacccgggcgtagccatggccaccaacaaggacgacgaggaccagttctttcccatcaacggagtgctggtttttggcgaaacgggggctgccaacaagacaacgctggaaaacgtgctaatgaccagcgaggaggagatcaaaaccaccaatcccgtggctacagaagaatacggtgtggtctccagcaacctgcaatcgtctacggccggaccccagacacagactgtcaacagccagggggctctgcccggcatggtctggcagaaccgggacgtgtacctgcagggtcccatctgggccaaaattcctcacacggacggcaactttcacccgtctcccctgatgggcggatttggactcaaacacccgcctcctcaaattctcatcaaaaacaccccggtacctgctaatcctccagaggtgtttactcctgccaagtttgcctcatttatcacgcagtacagcaccggccaggtcagcgtggagatcgagtgggaactgcagaaagaaaacagcaaacgctggaatccagagattcagtacacctcaaattatgccaagtctaataatgtggaatttgctgtcaacaacgaaggggtttatactgagcctcgccccattggcacccgttacctcacccgtaacctgtaa\n",
      "\n",
      "\n",
      "Name: rh.2\n",
      "\n",
      "Sequence: atggctgccgatggttatcttccagattggcttgaggacaacctctctgagggcattcgcgagtggtgggacctgaaacctggagccccgaaacccaaagccaaccagcaaaagcaggacgacggccggggtctggtgcttcctggctacaagtacctcggacccttcaacggactcgacaagggggagcccgtcaacgcggcggacgcagcggccctcgagcacgacaaggcctacgaccagcagctcaaagcgggtgacaatccgtacctgcggtataaccacgccgacgccgagtttcaggagcgtctgcaagaagatacgtcttttgggggcaacctcgggcgagcagtcttccaggccaagaagcgggttctcgaacctctcggtctggttgaggaaggcgctaagacggctcctggaaagaagagaccggtagagccatcacctcagcgttcccccgactcctccacgggcatcggcaagaaaggccaccagcccgcgagaaagagactgaactttgggcagactggcgactcggagtcagtccccgaccctcaaccaatcggagaaccaccagcaggcccctctggtctgggatctggtacaatggctgcaggcggtggcgctccaatggcagacaataacgaaggcgccgacggagtgggtagttcctcaggaaattggcattgcgattccacatggctgggcgacagagtcatcaccaccagcacccgaacctgggccctgcccacctacaacaaccatctctacaagcaaatctccaacgggacatcgggaggaagcactaacgacaacacctactttggctacagcaccccctgggggtattttgacttcaacagattccactgccacttctcaccacgtgactggcagcgactcatcaacaataactggggattccggcccaagagactcaacttcaagctcttcaacatccaggtcaaggaggtcacgcagaatgaaggcaccaagaccatcgccaataaccttaccagcacgattcaggtgtttacggactcggaataccagctcccgtacgtccccggctctgcgcaccagggctgcctccctccgttcccggcggacgtcttcatgattcctcagtacgggtatctgaccctaaacaatggcagtcaggctgtgggccgttcctccttctactgcctggaatacttcccttctcaaatgctgaggacgggcaacaactttgaattcagctacaccttcgaggacgtgcctttccacagcagctacgcgcacagccagagcctggaccggctgatgaaccctctcatcgaccagtacctgtattacttatccagaactcagtccacaggaggaactcaaggtactcagcaattgttattttctcaagccgggcccgcaaacatgtcggctcaggccaagaactggctacctggaccgtgttaccgtcagcaacgagtttccacgacactgtcgcaaaacaacaacagcaattttgcttggaccggtgccaccaagtatcacctgaatggcagagactccctggttaatcccggcgttgccatggctacccacaaggacgacgaggagcgcttcttcccgtcaagcggagttctaatgtttggcaagcagggggctggaaaagacaatgtggactacagcagcgtgatgctcaccagcgaagaagaaattaaaactactaacccagtggctacagagcagtatggtgtggtggcagacaacctgcagcagaccaacggagctcccattgtgggaactgtcaacagccagggggccttacctggtatggtctggcaaaaccgggacgtgtacctgcagggccccatctgggccaaaattcctcacacggacggcaactttcatccttcgccgctgatgggaggctttggactgaaacacccgcctcctcagatcctggtgaaaaacactcctgttcctgcggatcctccgaccaccttcagccaggccaagctggcttcttttatcacgcagtacagcaccggacaggtcagcgtggaaatcgaatgggagctgcagaaagaaaacagcaagcgctggaacccagagattcagtatacttccaactactacaaatctacaaatgtggactttgctgtcaatactgagggtacttattcagagcctcgccccattggcactcgttatctcacccgtaatctgtaa\n",
      "\n",
      "\n",
      "Name: rh.35\n",
      "\n",
      "Sequence: atggctgccgatggttatcttccagattggctcgaggacaacctctctgagggcattcgcgagtggtgggacctgaaacctggagccccgaaacccaaagccaaccagcaaaagcaggacgacggccggggtctggtgcttcctggctacaagtacctcggacccttcaacggactcgacaagggggagcccgtcaacgcggcggacgcagcggccctcgagcacgacaaggcctacgaccagcagctcaaagcgggtgacaatccgtacctgcggtataaccacgccgacgccgagtttcaggagcgtctgcaagaagatacgtcatttgggggcaacctcgggcgagcagtcttccaggccaagaagcgggttctcgaacctctcggtctggttgaggaaggcgctaagacggctcctggaaagaagagacccatagactctccagactcctccacgggcatcggcaaaaaaggccagcagcccgctaaaaagaagctcaattttggtcagactggcgactcagagtcagtccccgaccctcaacctcttggagaacctccagcagcgccctctagtgtgggatctggtacaatggctgcaggcggtggcgcaccaatggcagacaataacgaaggtgccgacggagtgggtaatgcctcaggaaattggcattgcgattccacatggctgggcgacagagtcatcaccaccagcaccagaacctgggccctccccacctacaacaaccacctctacaagcaaatctccagcagcagctcaggagccaccaatgacaaccactacttcggctacagcaccccctgggggtattttgactttaacagattccactgccacttctcaccacgtgactggcagcgactcatcaacaacaactggggattccggcccaagaagctgcggttcaagctcttcaacatccaggtcaaggaggtcacaacgaatgacggcgtcacgaccatcgctaataaccttaccagcacggttcaggtcttctcggactcggaataccagctgccgtacgtcctcggctctgcgcaccagggctgcctgcctccgttcccggcggacgtcttcatgattcctcagtacggctacctgactctgaacaacggcagccaatcggtgggccgttcctccttctactgcctggaatatttcccctctcaaatgctgagaacgggcaacaactttgagttcagttacagcttcgaggacgtgcctttccacagcagctacgcgcacagccagagcctagaccggctgatgaaccctctcatcgaccagtacctgtactacctggcccggacccagagcaccacgggttccaccagggaactgcaatttcatcaagctgggcccaatactatggccgagcagtcaaagaactggctgcctggaccctgctataggcaacagggactgtcaaagaacttggactttaacaacaacagcaattttgcctggactgctgccactaaatatcatctgaatggcagaaactctttgaccaatcctggcattcccatggcaaccaacaaggatgatgaggaccagttctttcccatcaacggggtactggtttttggcaagacgggagctgccaacaaaactacgctggaaaacgttctgatgaccagcgaggaggagatcaagaccactaaccctgtggctacagaagaatacggtgtggtctccagcaacctgcagccgtctacagccgggcctcaatcacagactatcaacagccagggagcactgcctggcatggtctggcagaaccgggacgtgtatctgcagggtcccatctgggccaaaattcctcacacggatggcaactttcacccgtctcctctgatgggcggttttggactcaaacacccgcctccacagatcctgatcaaaaacacacctgtacctgctaatcctccggaggtgtttactcctgccaagtttgcctccttcatcacgcagtacagcaccggacaagtcagcgtggaaatcgagtgggagctgcagaaagaaaacagcaagcgctggaacccagaaattcagtatacttccaattatgccaagtctaataatgttgaatttgctgtgaaccctgatggtgtttatactgagcctcgccccattggcactcgttacctcccccgtaatctgtaa\n",
      "\n",
      "\n",
      "Name: rh.36\n",
      "\n",
      "Sequence: atggctgccgatggttatcttccagattggctcgaggacaacctctctgagggcattcgcgagtggtgggacctgaaacctggagccccgaaacccaaagccaaccagcaaaagcaggacgacggccggggtctggtgcttcctggctacaagtacctcggacccttcaacggactcgacaagggggagcccgtcaacgcggcggacgcagcggccctcgagcacgacaaggcctacgaccagcagctcaaagcgggtgacaatccgtacctgcggtataaccacgccgacgccgagtttcaggagcgtctgcaagaagatacgtcatttgggggcaacctcgggcgagcagtcttccaggccaagaagcgggttctcgaacctctcggtctggttgaggaaggcgctaagacggctcctggaaagaagagacccataggctctccagactcctccacgggcatcggcaaaaaaggccagcagcccgctaaaaagaagctcaattttggtcagactggcgactcagagtcagtccccgaccctcaacctcttggagaacctccagcagcgccctctagtgtgggatctggtacaatggctgcaggcggtggcgcaccaatggcagacaataacgaaggtgccgacggagtgggtaatgcctcaggaaattggcattgcgattccacatggctgggcgacagagtcatcaccaccagcaccagaacctgggccctccccacctacaacaaccacctctacaagcaaatctccagcagcagctcaggagccaccaatgacaaccactacttcggctacagcaccccctgggggtattttgactttaacagattccactgccacttctcaccacgtgactggcagcgactcatcaacaacaactggggattccggcccaagaagctgcggttcaagctcctcaacatccaggtcaaggaggtcacaacgaatgacggcgtcacgaccatcgctaataaccttaccagcacggttcaggtcttctcggactcggaataccagctgccgtacgtcctcggctctgcgcaccagggctgcctgcctccgttcccggcggacgtcttcatgattcctcagtacggctacctgactctggacaacggcagccaatcggtgggccgttcctccttctactgcctggaatatttcccctctcaaatgctgagaacgggcaacaactttgagttcagttacagcttcgaggacgtgcctttccacagcagctacgcgcacagccagagcctagaccggctgatgaaccctctcatcgaccagtacctgtactacctggcccggacccagagcaccacgggttccaccagggaactgcaatttcatcaagctgggcccaatactatggccgagcagtcaaagaactggctgcctggaccctgctataggcaacagagactgtcaaagaacttggactttaacaacaacagcaattttgcctggactgctgccactaaatatcatctgaatggcagaaactctttgaccaatcctggcattcccatggcaaccaacaaggatgatgaggaccagttctttcccatcaacggggtactggtttttggcaagacgggagctgccaacaaaactacgctggaaaacgttctgatgaccagcgaggaggagatcaagaccactaaccctgtggctacagaagaatacggtgtggtctccagcaacctgcagtcgtctacagccgggcctcaatcacagactatcaacagccagggagcactgcctggcatggtctggcagaaccgggacgtgtatctgcagggtcccatctgggccaaaattcctcacacggatggcaactttcacccgtctcctctgatgggcggttttggactcaaacacccgcctccacagatcctgatcaaaaacacacctgtacctgctaatcctccggaggtgtttactcctgccaagtttgcctccttcatcacgcagtacagcaccggacaagtcagcgtggaaatcgagtgggagctgcagaaagaaaacagcaagcgctggaacccagaaattcagtatacttccaattatgccaagtctaataatgttgaatttgctgtgaaccctgatggtgtttatactgagcctcgccccattggcactcgttacctcacccgtaatctgtaa\n",
      "\n",
      "\n",
      "Name: rh.37\n",
      "\n",
      "Sequence: atggctgccgatggttatcttccagattggctcgaggacaacctctctgagggcattcgcgagtggtgggacctgaaacctggagccccgaaacccaaagccaaccagcaaaagcaggacgacggccggggtctggtgcttcctggctacaagtacctcggacccttcaacggactcgacaagggggagcccgtcaacgcggcggacgcagcggccctcgagcacgacaaggcctacgaccagcagctcaaagcgggtgacaatccgtacctgcggtataaccacgccgacgccgagtttcaggagcgcctgcaagaagatacgtcatttgggggcaacctcgggcgagcagtcttccaggccaagaagcgggttctcgaacctctcggtctggttgaggaaggcgctaagacggctcctggaaagaagagacccatagactctccagactcctccacgggcatcggcaaaaaaggccagcagcccgctaaaaagaagctcaattttggtcagactggcgactcagagtcagtccccgaccctcaacctcttggagaacctccagcagcgccctctagtgtgggatctggtacaatggctgcaggcggtggcgcaccaacggcagacaataacgaaggtgccgacggagtgggtaatgcctcaggaaattggcattgcgattccacatggctgggcgacagagtcatcaccaccagcaccagaacctgggccctccccacctacaacaaccacctctacaagcaaatctccagcagcagctcaggagccaccaatgacaaccactacttcggctacagcaccccctgggggtattttgactttaacagattccactgccacttctcaccacgtgactggcagcgactcatcaacaacaactggggattccggcccaagaagctgcggttcaagctcttcaacatccaggtcaaggaggtcacaacgaatgacggcgtcacgaccatcgctaataaccttaccagcacggttcaggtcttctcggactcggaataccagctgccgtacgtcctcggctctgcgcaccagggctgcctgcctccgttcccggcggacgtcttcatgattcctcagtacggctacctgactctgaacaacggcagccaatcggtgggccgttcctccttctactgcctggaatatttcccctctcaaatgctgagaacgggcaacaactttgagttcagttacagcttcgaggacgtgcctttccacagcagctacgcgcacagccagagcctagaccggctgatgaaccctctcatcgaccagtacctgtactacctggcccggacccagagcaccacgggttccaccagggaactgcaatttcatcaagctgggcccaatactatggccgagcagtcaaagaactggctgcctggaccctgctataggcaacagagactgtcaaagaacttggactttaacaacaacagcaattttgcctggactgctgccactaaatatcatctgaatggcagaaactctttgaccaatcctggcattcccatggcaaccaacaaggatgatgaggaccagttctttcccatcaacggggtactggtttttggcaagacgggagctgccaacaaaactacgctggaaaacgttctgatgaccagcgaggaggagatcaagaccactaaccctgtggctacagaagaatacggtgtggtctccagcaacctgcagtcgtctacagccgggcctcaatcacagactatcaacagccagggagcactgcctggcatggtctggcagaaccgggacgtgtatctgcagggtcccatctgggccaaaattcctcacacggatggcaactttcacccgtctcctctgatgggcggttttggactcgaacacccgcctccacagatcctgatcaaaaacacacctgtacctgctaatcctccggaggtgtttactcctgccaagtttgcctccttcatcacgcagtacagcaccggacaagtcagcgtggaaatcgagtgggagctgcagaaagaaaacagcaagcgctggaacccagaaattcagtatacttccaattatgccaagtctaataatgttgaatttgctgtgaaccctgatggtgtttatactgagcctcgccccattggcactcgttacctcacccgtaatctgtaa\n",
      "\n",
      "\n",
      "Name: rh.38\n",
      "\n",
      "Sequence: atggctgctgacggttatcttccagattggctcgaggacaacctctctgagggcattcgcgagtggtgggacctgaaacctggagcccccaagcccaaggccaaccagcagaagcaggacgacggccggggtctggtgcttcctggctacaagtacctcggacccttcaacggactcgacaagggggagcccgtcaacgcggcggacgcagcggccctcgagcacgacaaggcctacgaccagcagctcaaagcgggtgacaatccgtacctgcggtataaccacgccgacgccgagtttcaggagcgtctacaagaagatacgtcttttgggggcaacctcgggcgagcagtcttccaggccaagaagcgggttctcgaacctctcggtctggttgaggaagctgctaagacggctcctggaaagaagagaccggtagaaccgtcacctcagcgttcccccgactcctccacgggcatcggcaagaaaggccagcggcccgctaaaaagagactgaactttggtcagactggcgactcagagtcagtccccgaccctcaaccaatcggagaaccaccagcaggcccctctggtctgggatctggtacaatggctgcaggcggtggcgctccaatggcagacaataacgaaggcgccgacggagtgggtagttcctcaggaaattggcattgcgattccacatggctgggcgacagagtcatcaccaccagcacccgaacctgggccctgcccacctacaacaaccacctctacaagcaaatatccaatgggacatcgggaggaagcaccaacgacaacacctacttcggctacagcaccccctgggggtattttgacttcaacagattccactgccacttctcaccacgtgactggcagcgactcatcaacaacaactggggattccggccaaaaagactcagcttcaagcccttcaacatccaggtcaaggaggtcacgcagaatgaaggcaccaagaccatcgccaataaccttaccagcacgattcaggtatttacggactcggaataccagctgccgtacgtcctcggctccgcgcaccagggctgcctgcctccgttcccggcggacgtcttcatgattccccagtacggctaccttacactgaacaatggaagtcaagccgtaggccgttcctccttctactgcctggaatattttccatctcaaatgctgcgaactggaaacaattttgaattcagctacaccttcgaggacgtgcctttccacagcagctacgcacacagccagagcttggaccgactgatgaatcctctcatcgaccagtacctgcactacttatccagaactcagtccacaggaggaactcaaggtacccagcaattgttattttctcaagctgggcctgcaaacatgtcggctcaggctaagaactggctacctggaccttgctaccggcagcagcgagtctctacgacactgtcgcaaaacaacaacagcaactttgcttggactggtgccaccaaatatcacctgaacggaagagactctttggtaaatcccggtgtcgccatggcaacccacaaggacgacgaggaacgcttcttcccgtcgagtggagtcctgatgtttggaaaacagggtgctggaagagacaatgtggactacagcagcgttatgctaaccagcgaagaagaaattaaaaccactaaccctgtagccacagaacaatacggtgtggtggctgacaacttgcagcaaaccaatacagggcctattgtgggaaatgtcaacagccaaggagccttacctggcatggtctggcagaaccgagacgtgtacctgcagggtcccatctgggccaagattcctcacacggacggcaacttccacccttcaccgctaatgggaggatttggactgaagcacccacctcctcagatcctgatcaagaacacgccggtacctgcggatcctccaacaacgttcagccaggcgaaattggcttccttcattacgcagtacagcaccggacaggtcagcgtggaaatcgagtgggagctgcagaaggagaacagcaaacgctggaacccagagattcagtacacttcaaactactacaaatctacaaatgtggactttgctgtcaatacagagggaacttattctgagcctcgccccattggtactcgctacctcacccgtaatctgtaa\n",
      "\n",
      "\n",
      "Name: rh.40\n",
      "\n",
      "Sequence: atggctgctgacggttatcttccagattggctcgaggacaacctctctgagggcattcgcgagtggtgggacctgaaacctggagcccccaagcccaaggccaaccagcagaagcaggacgacggccggggtctggtgcttcctggctacaagtacctcggacccttcaacggactcgacaagggggagcccgtcaacgcggcggacgcagcggccctcgagcacgacaaggcctacgaccagcagctcaaagcgggtgacaatccgtacctgcggtataaccacgccgacgccgagtttcaggagcgtctgcaagaagatacgtcttttgggggcaacctcgggcgagcagtcttccaggccaagaagcgggttctcgaacctctcggtctggttgaggaagctgctaagacggctcctggaaagaagagaccggtagaaccgtcacctcagcgttcccccgactcctccacgggcatcggcaagaaaggccagcagcccgctaaaaagagactgaactttggtcagactggcgactcagagtcagtccccgaccctcaaccaatcggagaaccaccagcaggcccctctggtctgggatctggtacaatggctgcaggcggtggcgctccaatggcagacaataacgaaggcgccgacggagtgggtagttcctcaggaaattggcattgcgattccacatggctgggcgacagagtcatcaccaccagcacccgaacctgggccctgcccacctacaacaaccacctctacaagcaaatatccaatgggacatcgggaggaagcaccaacgacaacacctacttcggctacagcaccccctgggggtattttgacttcaacagattccactgccacttctcaccacgtgactggcagcgactcatcaacaacaactggggattccggccaaaaagactcagcttcaagctcttcaacatccaggtcaaggaggtcacgcaggatgaaggcaccaagaccatcgccaataaccttaccagcacgattcaggtatttacggactcggaataccagctgccgtacgtcctcggctccgcgcaccagggctgcctgcctccgttcccggcggacgtcttcatgattccccagtacggctaccttacactgaacaatggaagtcaagccgtaggccgttcctccttctactgcctggaatattttccatctcaaatgctgcgaactggaaacaattttgaattcagctacaccttcgaggacgtgcctttccacagcagctacgcacacagccagagcttggaccgactgatgaatcctctcatcgaccagtacctgtactacttatccagaactcagtccacaggaggaactcaaggtacccagcaattgttattttctcaagctgggcctgcaaacatgtcggctcgggctaagaactggctacctggaccttgctaccggcagcagcgagtctctacgacactgtcgcaaaacaacaacagcaactttgcttggactggtgccaccaaatatcacctgaacggaagagactctttggtaaatcccggtgttgctatggcaacgcataaggacgacgaggaacgtttctttccatcgagcggagtcctgatgtttggaaaacagggtgctggaagagacaatgtggactatagcagcgttatgctaaccagcgaggaagaaattaaaaccactaaccctgtagccacagaacaatacggtgtggtggctgacaacttgcagcaagccaatacagggcctattgtgggaaatgtcaacagccaaggagccttacctggcatggtctggcagaaccgagacgtgtacctgcagggtcccatctgggccaaaattcctcacacggacggcaattttcacccgtctcctctgatgggcggctttggactgaagcacccacctccccagatcctgatcaagaatacgccggtacctgcggatcctccaacgacgttcagccaggcaaaattggcttccttcatcacgcagtacagcaccggccaggtcagcgtggagatcgagtgggagctgcagaaggagaacagcaagcgatggaacccagaaattcagtacacttccaactactacaaatctacaaatgtggactttgctgtcaattctgagggtacatattcagagcctcgccccattggtactcgttatctgacacgtaatctgtaa\n",
      "\n",
      "\n",
      "Name: rh.43\n",
      "\n",
      "Sequence: atggctgccgatggttatcttccagattggctcgaggacaacctctctgagggcattcgcgagtggtgggacttgaaacctggagccccgaaacccaaagccaaccagcaaaagcaggacgacggccggggcctggtgcttcctggctacaagtacctcggacccttcaacggactcgacaagggggagcccgtcaacgcggcggacgcagcggccctcgagcacgacaaggcctacgaccagcagctcgaagcgggtgacaatccgtacctgcggtataaccacgccgacgccgagtttcaggagcgtctgcaagaagatacgtcttttgggggcaacctcgggcgagcagtcttccaggccaagaagcgggttctcgaacctctcggtctggttgaggaaggcgctaagacggctcctggaaagaagagaccagtagagcagtcaccccaagaaccagactcctcctcgggcatcggcaagaaaggccaacagcccgccagaaaaagactcaattttggccagactggcgactcagagtcagttccagaccctcaacctctcggagaacctccagcagcgccctctggtgtgggacctaatacaatggctgcaggcggtggcgcaccaatggcagacaataacgaaggcgccgacggagtgggtagttcctcgggaaattggcattgcgattccacatggctgggcgacagagtcatcaccaccagcacccgaacctgggccctgcccacctacaacaaccacctctacaagcaaatctccaacgggacatcgggaggagccaccaacgacaacacctacttcggctacagcaccccctgggggtattttgactttaacagattccactgccacttttcaccacgtgactggcagcgactcatcaacaacaactggggattccggcccaagagactcagcttcaagctcttcaacatccaggtcaaggaggtcacgcagaatgaaggcaccaagaccatcgccaataacctcaccagcaccatccaggtgtttacggactcggagtaccagctgccgtacgttctcggctctgcccaccagggctgcctgcctccgttcccggcggacgtgttcatgattccccagtacggctacctaacactcaacaacggtagtcaggccgtgggacgctcctccttctactgcctggaatactttccttcgcagatgctgagaaccggcaacaacttccagtttacttacaccttcgaggacgtgcctttccacagcagctacgcccacagccagagcttggaccggctgatgaatcctctgattgaccagtacctgtactacttgtctcggactcaaacaacaggaggcacggcaaatacgcagactctgggcttcagccaaggtgggcctaatacaatggccaatcaggcaaagaactggctgccaggaccctgttaccgccaacaacgcgtctcaacgacaaccgggcaaaacaacaatagcaactttgcctggactgctgggaccaaataccatctgaatggaagaaattcattggctaatcctggcatcgctatggcaacacacaaagacgacgaggagcgttttttcccagtaacgggatcctgtttttggcaacaaaatgctgccagagacaatgcggattacagcgatgtcatgctcaccagcgaggaagaaatcaaaaccactaaccctgtggctacagaggaatacggtatcgtggcagataacttgcagcagcaaaacacggctcctcaaattggaactgtcaacagccagggggccttacccggtatggtctggcagaaccgggacgtgtacctgcagggtcccatctgggccaagattcctcacacggacggcaacttccacccgtctccgctgatgggcggctttggcctgaaacatcctccgcctcagatcctgatcaagaacacgcctgtacctgcggatcctccgaccaccttcaaccagtcaaagctgaactctttcatcacgcaatacagcaccggacaggtcagcgtggaaattgaatgggagctacagaaggaaaacagcaagcgctggaaccccgagatccagtacacctccaactactacaaatctacaagtgtggactttgctgttaatacagaaggcgtgtactctgaaccccgccccattggcacccgttacctcacccgtaatctgtaa\n",
      "\n",
      "\n",
      "Name: rh.48\n",
      "\n",
      "Sequence: atggctgctgacggttatcttccagattggctcgaggacaacctctctgagggcattcgcgagtggtgggacctgaaacctggagcccccaagcccaaggccaaccagcagaagcaggacgacggccggggtctggtgcttcctggctacaagtacctcggacccttcaacggactcgacaagggggagcccgtcaacgcggcggacgcagcggccctcgagcacgacaaggcctacgaccagcagctcaaagcgggtgacaatccgtacctgcggtataaccacgccgacgccgagtttcaggagcgtctgcaagaagatacgtcttttgggggcaacctcgggcgagcagtcttccaggccaagaagcgggttctcgaacctctcggtctggttgaggaagctgctaagacggctcctggaaagaagagaccggtagaaccgtcacctcagcgttcccccgactcctccacgggcatcggcaagaaaggccagcagcccgctagaaagagactgaactttgggcagactggcgactcagagtcagtccccgaccctcaaccaatcggagaaccaccagcaggcccctctggtctgggatctggtacaatggctgcaggcggtggcgcaccaatggctgacaataacaagggcgccgacggagtgggtaatgcctcaggaaattggcattgcgattccacatggctgggcgacagagtcatcaccaccagcacccgaacctgggctttgcccacctacaacaaccacctctacaagcaaatctccagtcagtcagcaggtagcaccaacgacaacgtctacttcggctacagcaccccctgggggtattttgacttcaacagattccactgtcacttctcaccacgtgactggcagcggctcatcaacagcaactggggattccggcccaagaagctcaacttcaagctgttcaacatccaggtcaaggaggtcacaacgaatgacggcgtcacgaccatcgccaataaccttaccagcacggttcaggtcttttcggactcggaataccagctgccctacgtcctcggctccgcacaccagggctgcctgcctccgttcccggcggacgtcttcatgattccccagtacggctacctgactctgaacaatggcagccaatcggtgggtcgttcctctttctactgcctggaatatttcccttctcaaatgctgagaacgggcaacaacttcaccttcagctacaccttcgaggacgttcccttccacagcagctacgcacacagccagagcctggaccggctgatgaatcctcttatcgaccagtacctgtattacctggccagaacacagagcaacgcaggaggcacagctggcaatcgggaactgcagttttatcagggcgggcctaccaccatggccgaacaagccaaaaactggctgcctggaccttgcttccggcaacaaagagtctccaagacgctggatcaaaacaacaacagcaactttgcttggactggtgccaccaaataccatctaaatggaagaaattcattggttaatcccggtgtcgccatggcaacccacaaggacgacgaggaacgcttcttcccttcgagcggagtcctgatttttggaaaaactggagcagctaataagactacactggaaaatgtgttaatgacaaatgaagaggaaattcgtcctaccaacccggtagccaccgaggaatacgggactgttagcagcaacctgcaggcggctaacactgcagcccagacacaagttgtcaacaaccagggagccttacctggtatggtctggcagaaccgggacgtgtacctgcagggtcccatctgggccaagattcctcacacggacggcaactttcacccgtctccgctgatgggcggctttggactgaagcatccgcctcctcagatcctgatcaaaaacactcctgttcctgctaatcccccggaggtgtttacgcctgccaagtttgcttctttcatcacacagtacagcaccggccaggtcagcgtggagatcgagtgggagctgcagaaggagaacagcaagcgctggaacccagagattcagtatacctccaattttgacaaacagactggtgtggactttgccgttgacagccagggtgtttattctgagcctcgccccattggtactcgttacctcacccgtaatctgtaa\n",
      "\n",
      "\n",
      "Name: rh.49\n",
      "\n",
      "Sequence: atggctgccgatggttatcttccagattggctcgaggacaacctctctgagggcattcgcgagtggtgggacctgaaacctggagccccgaaacccaaagccaaccagcaaaagcaggacgacggccggggtctggtgcttcctggctacaagtacctcggacccttcaacggactcgacaagggggagcccgtcaacgcggcggacgcagcggccctcgagcacgacaaggcctacgaccagcagctcaaagcgggtgacaatccgcacctgcggtataatcacgccgacgccgagtttcaggagcgtctgcaagaagatacgtcttttgggggcaacctcgggcgagcagtcttccaggccaagaagcgggttctcgaacctctcggtctggttgaggaaggcgctaagacggctcctggaaagaagagaccggtagagccgtcaccacagcgttcccccgactcctccacgggcatcggcaagaaaggccagcagcccgccagaaagagactcaatttcggtcagactggcgactcagagtcagtccccgaccctcaacttatcggagaacctccagcagcgccctctagtgtgggatctggtacaatggctgcaggcggtggcgcaccaatggcagacaataacgaaggtgccgacggagtgggtagttcctcgggaaattggcattgcgattccacatggctgggcgacagagtcatcaccaccagcacccgaacctgggccctgcccacctacaacaaccacctctacaagcaaatctccaacgggacctcgggaggcagcaccaacgacaacacctactttggctacagcaccccctgggggtattttgactttaacagattccactgccacttctcaccacgtgactggcagcgactcatcaacaacaactggggattccggcccaagagactcagcttcaagctcttcaacatccaggtcaaagaggtcacgcagaatgaaggcaccaagaccatcgccaataacctcaccagcaccatccaggtgtttacggactcggagtaccagctgccgtacgtcctcggctctgcccaccagggctgcctgcctccgttcccggcggacgtcttcatgattcctcagtacggcaacctgactctcaacaacggtagtcaggccgtgggacgttcctccttctactgcctggagtacttcccctctcagatgctgagaacgggcaacaacttttccttcagctacactttcgaggacgtgcctttccacagcagctacgcgcacagccagagtttggacaggctgatgaatcctctcatcgaccagtacctgtactacctgtcaagaacccagtctacgggaggcacagcgggaacccagcagttgctgttttctcaggccgggcctagcaacatgtcggctcaggccagaaactggctgcctggaccctgctacagacagcagcgcgtctccacgacactgtcgcaaaacaacaacagcaactttgcctggactggtgccaccaagtatcatctgaacggcagagactctctggtgaatccgggcgtcgccatggcaaccaacaaggacgacgaggaccgcttcttcccatccagcggcatcctcatgtttggcaagcagggagctggaaaagacaacatgggctatagcaacgtgatgctaaccagcgaggaagaaatcaagaccaccaaccccgtggccacagaacagtatggcgtggtggctgataacctacagcagcaaaacaccgctcctattgtgggggccgtcaacagccagggagccttacctggcatggtctggcagaaccgggacgtgtacctgcagggtcctatttgggccaagattcctcacacagatggcaactttcacccgtctcctttaatgggcggctttggacttaaacatccgcctcctcagatcctcatcaaaaacactcctgttcctgcggatcctccaacagcgttcaaccaggccaagctgaattctttcatcacgcagtacggcaccggacaagtcagcgtggagatcgagtgggagctgcagaaggagaacagcaagcgctggaacccagagattcagtatacttccaactactacaaatctacaaatgtggactttgctgttaatactgagggtgtttactctgagcctcgccccattggcactcgttacctcacccgtaatctgtaa\n",
      "\n",
      "\n",
      "Name: rh.50\n",
      "\n",
      "Sequence: atggctgccgatggttatcttccagattggctcgaggacaacctctctgagggcattcgcgagtggtgggacctgaaacctggagccccgaaacccaaagccaaccagcaaaagcaggacgacggccggggtctggtgcttcctggctacaagtacctcggacccttcaacggactcgacaagggggagcccgtcaacgcggcggacgcagcggccctcgagcacgacaaggcctacgaccagcagctcaaagcgggtgacaatccgtacctgcggtataatcacgccgacgccgagtttcaggagcgtctgcaagaagatacgtcttttgggggcaacctcgggcgagcagtcttccaggccaagaagcgggttctcgaacctctcggtctggttgaggaaggcgctaagacggctcctggaaagaagagaccggtagagccgtcaccacagcgttcccccgactcctccacgggcatcggcaagaaaggccagcagcccgccggaaagagactcaatttcggtcagactggcgactcagagtcagtccccgaccctcaacctatcggagaacctccagcagcgccctctagtgtgggatctggtacaatggctgcaggcggtggcgcaccaatggcagacaataacgaaggtgccgacggagtgggtagttcctcgggaaattggcattgcgattccacatggctgggcgacagagtcatcaccaccagcacccgaacctgggccctgcccacctacaacaaccacctctacaagcaaatctccaacgggacctcgggaggcagcaccaacgacaacacctactttggctacagcaccccctgggggtattttgactttaacagattccactgccacttctcaccacgtgactggcagcgactcatcaacaacaactggggattccggcccaagagactcagcttcaagctcttcaacatccaggtcaaagaggtcacgcagaatgaaggcaccaagaccatcgccaataacctcaccagcaccatccaggtgtttacggactcggaataccagctgccgtacgtcctcggctctgcccaccagggctgcctgcctccgttcccggcggacgtcttcatgattcctcagtacggctacctgactctcaacaacggtagtcaggccgtgggacgttcctccttctactgcctggagtacttcccctctcagatgctgagaacgggcaacaacttttccttcagctacactttcgaggacgtgcctttccacagcagctacgcgcacagccagagtttggacaggctgatgaatcctctcgtcgaccagtacctgtactacctgtcaagaacccagtctacgggaggcacagcgggaacccagcagttgctgttttctcaggccgggcctagcaacatgtcggctcaggccagaaactggctgcctggaccctgctacagacagcagcgcgtctccacgacactgtcgcaaaacaacaacagcaactttgcctggactggtgccaccaagtatcatctgaacggcagagactctctggtgaatccgggcgtcgccatggcaaccaacaaggacgacgaggaccgcttcttcccatccagcggcatcctcatgtttggcaagcagggagctggaaaagacaacgtggactatagcaacgtgatgctaaccagcgaggaagaaatcaagaccaccaaccccgtggccacagaacagtatggcgtggtggctgataacctacagcagcaaaacaccgctcctattgtgggggccgtcaacagccagggagccttacctggcatggtctggcagaaccgggacgtgtacctgcagggtcctatttgggccaagattcctcacacagatggcaactttcacccgtctcctttaatgggcggctttggacttaaacatccgcctcctcagatcctcatcaaaaacactcctgttcctgcggatcctccaacagcgttcaaccaggccaagctgaattctttcatcacgcagtacagcaccggacaagtcagcgtggagatcgagtgggagctgcagaaggagaacagcaagcgctggagcccagagattcagtatacttccaactactacaaatctacaaatgtggactttgctgttaatactgagggtgtttactctgagcctcgccccattggcactcgttacctcacccgtaatctgtaa\n",
      "\n",
      "\n",
      "Name: rh.51\n",
      "\n",
      "Sequence: atggttgccgatggttatcttccagattggctcgaggacaacctctctgagggcattcgcgagtggtgggacctgaaacctggagccccgaaacccaaagccaaccagcaaaagcagggcgacggccggggtctggtgcttcctggctacaagtacctcggacccttcaacggactcgacaagggggagcccgtcaacgcggcggacgcagcggccctcgagcacgacaaggcctacgaccagcagcttaaagcgggtgacaatccgtacctgcggtataatcacgccgacgccgagcttcaggagcgtctgcaagaagatacgtcttttgggggcaacctcgggcgagcagtcttccaggccaagaagcgggttctcgaacctctcggtctggttgaggaaggcgctaagacggctcctggaaagaagagaccggtagagccgtcaccacagcgttcccccgactcctccacgggcatcggcaagaaaggccagcagcccgccagaaagagactcaatttcggtcagactggcgactcagagtcagtccccgaccctcaacctatcggagaacctccagcagcgccctctagtgtgggatctggtacaatggctgcaggcggtggcgcgccaatggcagacaataacgaaggtgccgacggagtgggtagttcctcgggaaattggcattgcgattccacatggctgggcgacagagtcatcaccaccagcacccgaacctgggccctgcccacctacaacaaccacctctacaagcaaatctccaacgggacctcgggaggcagcaccaacgacaacacctactttggctacagcaccccctgggggtattttgactttaacagattccactgccacttctcaccacgtgactggcagcgactcatcaacaacaactggggattccggcccaagagactcagcttcaagctcttcaacatccaggtcaaagaggtcacgcagaatgaaggcaccaagaccatcgccaataacctcaccagcaccatccaggtgtttacggactcggaataccagctgccgtacgtcctcggctctgcccaccagggctgccagcctccgttcccggcggacgtcttcatgattcctcagtacggctacctgactctcaacaacggtagtcaggccgtgggacgttcctccttctactgcctggagtacttcccctctcagatgctgagaacgggcaacaacttttccttcagctacactttcgaggacgtgcctttccacagcagctacgcgcacagccagagtttggacaggctgatgaatcctctcatcgaccagtacctgtactacctgtcaagaacccagtctacgggaggcacagcgggaacccagcagttgctgttttctcaggccgggcctagcaacatgtcggctcaggccagaaactggctgcctggaccctgctacagacagcagcgcgtctccacgacactgtcgcaaaacaacaacagcaactttgcctggactggtgccaccaagtatcatctgaacggcagagactctctggtgaatccgggcgtcgccatggcaaccaacaaggacgacgaggaccgcttcttcccatccagcggcatcctcatgtttggcaagcagggagctggaaaagacaacgtggactatagcaacgtgatgctaaccagcgaggaagaaatcaagaccaccaaccccgtggccacagaacagtatggcgtggtggctgataacctacagcagcaaaacaccgctcctattgtgggggccgtcaacagccagggagccttacctggcatggtctggcagaaccgggacgtgtacctgcagggtcctatttgggccaagattcctcacacagatggcaactttcacccgtctcctttaatgggcggctttggacttaaacatccgcctcctcagatcctcatcaaaaacactcctgttcctgcggatcctccaacagcgttcaaccaggccaagctgaattctttcatcacgcagtacagcaccggacaagtcagcgtggagatcgagtgggagccgcagaaggagaacagcaagcgctggaacccagagattcagtatacttccaactactacaaatctacaaatgtggactttgctgttaatactgagggtgtttactctgagcctcgccccattggcactcgttacctcacccgtaatctgtaa\n",
      "\n",
      "\n",
      "Name: rh.52\n",
      "\n",
      "Sequence: atggctgccgatggttatcttccagattggctcgaggacaacctctctgagggcattcgcgagtggtgggacctgaaacctggagccccgaaacccaaagccaaccagcaaaagcaggacgacggccggggtctggtgcttcctggctacaagtacctcggacccttcaacggactcgacaagggggagcccgtcaacgcggcggacgcagcggccctcgagcacgacaaggcctacgaccagcagctcaaagcgggtgacaatccgtacctgcggtataatcacgccgacgccgagtttcaggagcgtctgcaagaagatacgtcttttgggggcaacctcgggcgagcagtcttccaggccaagaagcgggttctcgaacctctcggtctggttgaggaaggcgctaagacggctcctggaaagaagagaccggtagagccgtcaccacagcgttcccccgactcctccacgggcatcggcaagaaaggccagcagcccgccagaaagagactcaatttcggtcagactggcgactcagagtcagtccccgaccctcaacctatcggagaacctccagcagcgccctctagtgtgggatctggtacaatggctgcaggcggtggcgcaccaatggcagacaataacgaaggtgccgacggagtgggtagttcctcgggaaattggcattgcgattccacatggctgggcgacagagtcatcaccaccagcacccgaacctgggccctgcccacctacaacaaccacctctacaagcaaatctccaacgggacctcgggaggcagcaccaacgacaacacctactttggctacagcaccccctgggggtattttgactttaacagattccactgccacttctcaccacgtgactggcagcgactcatcaacaacaactggggattccggcccaagagactcagcttcaagctcttcaacatccaggtcaaagaggtcacgcagaatgaaggcaccaagaccatcgccaatagcctcaccagcaccatccaggtgtttacggactcggaataccagctgccgtacgtcctcggctctgcccaccagggctgcctgcctccgttcccggcggacgtcttcatgattcctcagtacggctacctgactcccaacaacggtagtcaggccgtgggacgttcctccttctactgcctggagtacttcccctctcagatgctgagaacgggcaacaacttttccttcagctacactttcgaggacgtgcctttccacagcagctacgcgcacagccagagtttggacaggctgatgaatcctctcatcgaccagtacctgtactacctgtcaagaacccagtctacgggaggcacagcgggaacccagcagttgctgtcttctcaggccgggcctagcaacatgtcggctcaggccagaaactggctgcctggaccctgctacagacagcagcgcgtctccacgacactgtcgcaaaacaacaacagcaactttgcctggactggtgccaccaagtatcatctgaacggcagagactctctggtgaatccgggcgtcgccatggcaaccaacaaggacgacgaggaccgcttcttcccatccagcggcatcctcatgtttggcaagcagggagctggaaaagacaacgtggactatagcaacgtgatgctaaccagcgaggaagaaatcaagaccaccaaccccgtggccacagaacagtatggcgtggtggctgataacctacagcagcaaaacaccgctcctattgtgggggccgtcaacagccagggagccttacctggcatggtctggcagaaccgggacgtgtacttgcagggtcctatttgggccaagattcctcacacagatggcaactttcacccgtctcctttaatgggcggctttggacttaaacatccgcctcctcagatcctcatcaaaaacactcctgttcctgcggatcctccaacagcgttcaaccaggccaagctgaattctttcatcacgcagtacagcaccggacaagtcagcgtggagatcgagtgggagctgcagaaggagaacagcaagcgctggaacccagagattcagtatacttccaactactacaaatctacaaatgtggactttgctgttaatactgagggtgtttactctgagcctcgccccattggcactcgttacctcacccgtaatctgtaa\n",
      "\n",
      "\n",
      "Name: rh.53\n",
      "\n",
      "Sequence: atggctgccgatggttatcttccagattggctcgaggacaacctctctgagggcattcgcgagtggtgggacctgaaacctggagccccgaaacccaaagccaaccagcaaaagcaggacgacggccggggtctggtgcttcctggctacaagtacctcggacccttcaacggactcgacaagggggagcccgtcaacgcggcggacgcagcggccctcgagcacgacaaggcctacgaccagcagctcaaagcgggtgacaatccgtacctgcggtataatcacgccgacgccgagtttcaggagcgtctgcaagaagatacgtcttttgggggcaacctcgggcgagcagtcttccaggccaagaagcgggttctcgaacctctcggtctggttgaggaaggcgctaagacggctcctggaaagaagagaccggtagagccgtcaccacagcgttcccccgactcctccacgggcatcggcaagaaaggccagcagcccgccagaaagagactcaatttcggtcagactggcgactcagagtcagtccccgaccctcaacctatcggagaacctccagcagcgccctctagtgtgggatctggtacaatggctgcaggcggtggcgcaccaatggcagacaataacgaaggtgccgacggagtgggtagttcctcgggaaattggcattgcgattccacatggctgggcgacagagtcatcaccaccagcacccgaacctgggccctgcccacctacaacaaccacctctacaagcaaatctccaacgggacctcgggaggcagcaccaacgacaacacctactttggctacagcaccccctgggggtattttgactttaacagattccactgccacttctcaccacgtgactggcagcgactcatcaacaacaactggggattccggcccaagagactcagcttcaagctcttcaacatccaggtcaaagaggtcacgcagaatgaaggcaccaagaccatcgccaataacctcaccagcaccatccaggtgtttacggactcggaataccagctgccgtacgtcctcggctctgcccaccagggctgcctgcctccgttcccggcggacgtcttcatgattcctcagtacggctacctgactctcaacaacggtagtcaggccgtgggacgttcctccttctactgcctggagtacttcccctctcagatgctgagaacgggcaacaacttttccttcagctacactttcgaggacgtgcctttccacagcagctacgtgcacagccagagtttggacaggctgatgaatcctctcatcgaccagtacctgtactacctgtcaagaacccagtctacgggaggcacagcgggaacccagcagttgctgttttctcaggccgggcctagcaacatgtcggctcaggccagaaactggctgcctggaccctgctacagacagcagcgcgtctccacgacactgtcgcaaaacaacaacagcaactttgcctggactggtgccaccaagtatcatctgaacggcagagactctctggtgaattcgggcgtcgccatggcaaccaacaaggacgacgaggaccgcttcttcccatccagcggcatcctcatgtttggcaagcagggagctggaaaagacaacgtggactatagcaacgtgatgctaaccagcgaggaagaaatcaagaccaccaaccccgtggccacagaacagtatggcgtggtggctgataacctacagcagcaaaacaccgctcctattgtgggggccgtcaacagccagggagccttacctggcatggtctggcagaaccgggacgtgtacctgcagggtcctatttgggccaagattcctcacacagatggcaactttcacccgtctcctttaatgggcggctttggacttaaacatccgcctcctcagatcctcatcaaaaacactcctgttcctgcggatcctccaacagcgttcaaccaggccaagctgaattctttcatcacgcagtacagcaccggacaagtcagcgtggagatcgagtgggagctgcagaaggagaacagcaagcgctggaacccagagattcagtatacttccaactactacaaatctacaaatgtggactttgctgttaatactgagggtgtttactctgagcctcgccccattggcactcgttaccccacccgtaatctgtaa\n",
      "\n",
      "\n",
      "Name: rh.54\n",
      "\n",
      "Sequence: atggctgctgacggttatcttccagattggctcgaggacaacctctctgagggcattcgcgagtggtgggacctgaaacctggagccccgaaacccaaagccaaccagcagaagcaggacgacggccggggtctggtgcttcctggctacaagtacctcggacccttcaacggactcgacaagggggagcccgtcaacgcggcggacgcagcggccctcgagcacgacaaggcctacgaccagcagctcaaagcgggtgacaatccgtacctgcggtataaccacgccgacgccgagtttcaggagcgtctgcaagaagatacgtcttttgggggcaacctcgggcgagcagtcttccaggccaagaagcgggttctcgaacctctcggtctggttgaggaagctgctaagacggctcctggaaagaagagaccggtagaaccgtcacctcagcgttcccccgactcctccacgggcatcggcaagaaaggccagcagcccgctagaaagagactgaactttgggcagactggcgactcagagtcagtccccgaccctcaacctctcggagaaccaccagcaggcccctctggtctgggatctggtacaatggctgcaggcggtggcgctccaatggcagacaataacgaaggcgccgacggagtgggtaatgcctcaggaaattggcattgcgattccacatggctgggcgacagagtcatcaccaccagcacccgaacctgggctttgcccacctacaacaaccacctctacaagcaaatctccagtcagtcagcaggtagcaccaacgacaacgtctacttcggctacagcaccccctgggggtattttgacttcaacagattccactgtcacttctcaccacgtgactggcagcgactcatcaacaacaactggggattccggcccaagaagctcaacttcaagctcttcaacatccaagtcaaggaggtcacgacgaatgacggcgtcacgaccatcgctaataaccttaccagcacggttcaggtcttttcggactcggagtaccagctgccgtacgtcctcggctctgcccaccagggctgcctgcctccgttcccggcggacgtcttcatgattcctcagtacggctacctgactctgaacaatggcagccaatcggtgggacgttcatccttctactgcctggaatacttcccttctcaggtgctgagaacgggtaacaacttcaccttcagttacaccttcgaggacgtgcctttccacagcagctacgcgcacagccagagcctagaccggctgatgaatcccctcatcgaccagtacctgtattacctggctagaacacagagtaacccaggaggcacatctggcaatcgggaactgcagttttaccagggcgggccttccaccatggccgaacaagccaagaactggttacctggaccttgcttccggcaacaaagagtttccaaaacactggatcaaaacaacaacagcaactttgcttggactggtgccaccaaatatcacctgaacggcagaaactcattggtgaatcctggtgtcgccatggcaactcacaaggacgacgaggaccgctttttcccatccagcggagtcctgatttttggaaaaactggagcaaccaacaagactacattggaaaacgtgttaatgacaaatgaagaagaaattcgtcctactaatcctgtggccacagaagaatacgggatagtcagcagcaatttacaagcggccaatactgcagcccagacacaagttgtcaacaaccagggagccttacctggcatggtctggcagaaccgggacgtgtacctgcagggtcccatctgggccaaaattcctcacacagacggcaactttcacccgtctccgctgatgggcggctttggactgaagcatccgcctcctcagatcctgatcaaaaacactcctgttcctgctaatcccccggaggtgtttacgcctgccaagtttgcttctttcatcacacagtacagcaccggccaggtcagcgtggagatcgagtgggagctgcagaaggagaacagcaagcgctggaacccagagattcagtatacctccaattttgacaaacagactggtgtggactttgccgttgacagccagggtgtttattctgagcctcgccccattggtactcgttacctcacccgtaatctgtaa\n",
      "\n",
      "\n",
      "Name: rh.55\n",
      "\n",
      "Sequence: atggctgccgatggttatcttccagattggctcgaggacaacctctctgagggcattcgcgagtggtgggacctgaaacctggagccccgaaacccaaagccaaccagcaaaagcaggacgacggccggggtctggtgcttcctggctacaagtacctcggacccttcaacggactcgacaagggggagcccgtcaacgcggcggacgcagcggccctcgagcacgacaaggcctacgaccagcagctcaaagcgggtgacaatccgtacctgcggtataatcacgccgacgccgagtttcaggagcgtctgcaagaagatacgtcttttgggggcaacctcgggcgagcagtcttccaggccaagaagcgggttctcgaacctctcggtctggttgaggaaggcgctaagacggctcctggaaagaagagaccggtagagccgtcaccacagcgttcccccgactcctccacgggcatcggcaagaaaggccagcagcccgccagaaagagactcaatttcggtcagactggcgactcagagtcagtccccgaccctcaacctatcggagaacctccagcagcgccctctagtgtgggatctggtacaatggctgcaggcggtggcgcaccaatggcagacaataacgaaggtgccgacggagtgggtagttcctcgggaaattggcattgcgattccacacggctgggcgacagagtcatcaccaccagcacccggacctgggctttgcccacctacaacaaccacctctacaagcaaatctccagtcagtcagcaggtagcaccaacgacaacgtctacttcggctacagcaccccctgggggtattttgacttcaacagattccactgtcacttctcaccacgtgactggcagcggctcatcaacaacaactggggattccggcccaagaagctcaacttcaagctgttcaacatccaggtcaaggaggtcacaacgaatgacggcgtcacgaccatcgccaataaccttaccagcacggttcaggtcttttcggactcggaataccagctgccctacgtcctcggctccgcacaccagggctgcctgcctccgttcccggcggacgtcttcatgattccccagtacggctacctgactctgaacaatggcagccaatcggtgggtcgttcctctttctactgcctggaatatttcccttctcaaatgctgagaacgggcaacaacttcaccttcagctacaccttcgaggacgttcccttccacagcagctacgcacacagccagagcctggaccggctgatgaatcctcttatcgaccagtacctgtattacctggccagaacacagagcaacgcaggaggcacagctggcaatcgggaactgcagttttatcagggcgggcctaccaccatggccgaacaagccaaaaactggctgcctggaccttgcttccggcaacgaagagtctccaagacgctggatcaaaacaacaacagcaactttgcttggactggtgccaccaaataccatctaaatggaagaaattcattggttaatcccggtgtcgccatggcaacccacaaggacgacgaggaacgcttcttcccttcgagcggagtcctgatttttggaaaaactggagcagctaataagactacactggaaaatgtgttaatgacaaatgaagaggaaattcgtcctaccaacccggtagccaccgaggaatacgggactgttagcagcaacctgcaggcggctaacactgcagcccagacacaagttgtcaacaaccagggagccttacctggtatggtctggcagaaccgggacgtgtacctgcagggtcccatctgggccaagattcctcacacggacggcaactttcacccgtctccgctgatgggcggctttggactgaagcatccgcctcctcagatcctgatcaaaaacactcctgttcctgctaatcccccggaggtgtttacgcctgccaagtttgcttctttcatcacacagtacagcaccggccaggtcagcgtggagatcgagtgggagctgcagaaggagaacagcaagcgctggaacccagagattcagtatacctccaattttgacaaacagactggtgtggactttgccgttgacagccagggtgtttattctgagcctcgccccattggtactcgttacctcacccgtaatctgtaa\n",
      "\n",
      "\n",
      "Name: rh.57\n",
      "\n",
      "Sequence: atggctgccgatggttatcttccagattggctcgaggacaacctctctgagggcattcgcgagtggtgggcgctgaaacctggagccccgaagcccaaagccaaccagcaaaagcaggacgacggccggggtctggtgcttcctggctacaagtacctcggacccttcaacggactcgacaagggggagcccgtcaacgcggcggacgcagcggccctcgagcacgacaaggcctacgaccagcagctgcaggcgggtgacaatccgtacctgcggtataatcacgccgacgccgagtttcaggagcgtctgcaagaagatacgtcttttgggggcaacctcgggcgagcagtcttccaggccaagaagcgggttctcgaacctctcggtctggttgaggaaggcgctaagacggctcctggaaagaagagaccggtagagccgtcaccacagcgttcccccgactcctccacgggcatcggcaagaaaggccagcagcccgccagaaagagactcaatttcggtcagactggcgactcagagtcagtccccgaccctcaacctatcggagaacctccagcagcgccctctagtgtgggatctggtacaatggctgcaggcggtggcgcgccaatggcagacaataacgaaggtgccgacggagtgggtagttcctcgggaaattggcattgcgattccacatggctgggcgacagagtcatcaccaccagcacccgaacctgggccctgcccacctacaacaaccacctctacaagcaaacctccaacgggacctcgggaggcagcaccaacgacaacacctactttggctacagcaccccctgggggtattttgactttaacagattccactgccacttctcaccacgtgactggcagcgactcatcaacaacaactggggattccggcccaagagactcagcttcaagctcttcaacatccaggtcaaagaggtcacgcagaatgaaggcaccaagaccatcgccaataacctcaccagcaccatccaggtgtttacggactcggaataccagctgccgtacgtcctcggctctgcccaccagggctgcctgcctccgttcccggcggacgtcttcatgattcctcagtacggctacctgactctcaacaacggtagtcaggccgtgggacgttcctccttctactgcctggagtacttcccctctcagatgctgagaacgggcaacaacttttccttcagctacactttcgaggacgtgcctttccacagcagctacgcgcacagccagagtttggacaggctgatgaatcctctcatcgaccagtacctgtactacctgtcaagaacccagtctacgggaggcacagcgggaacccagcagttgctgttttctcaggccgggcctagcaacatgtcggctcaggccagaaactggctgcctggaccctgctacagacagcagcgcgtctccacgacactgtcgcaaaacaacaacagcaactttgcctggactggtgccaccaagtatcatctgaacggcagagactctctggtgaatccgggcgtcgccatggcaaccaacaaggacgacgaggaccgcttcttcccatccagcggcatcctcatgtttggcaagcagggagctggaaaagacaacgtggactatagcaacgtgatgctaaccagcgaggaagaaatcaagaccaccaaccccgtggccacagaacagtatggcgtggtggctgataacctacagcagcaaaacaccgctcctattgtgggggccgtcaacagccagggagccttacctggcatggtctggcagaaccgggacgtgtacctgcagggtcctatttgggccaagattcctcacacagatggcaactttcacccgtctcctttaatgggcggctttggacttaaacatccgcctcctcagatcctcatcaaaaacactcctgttcctgcggatcctccaacagcgttcaaccaggccaagctgaattctttcatcacgcagtacagcaccggacaagtcagcgcggagatcgagtgggagctgcagaaggagaacagcaagcgctggaacccagagattcagtatacttccaactactacaaatctacaaatgtggactttgctgttaatactgagggtgtttactctgagcctcgccccattggcactcgttacctcacccgtaatctgtaa\n",
      "\n",
      "\n",
      "Name: rh.58\n",
      "\n",
      "Sequence: atggctgctgacggttatcttccagattggctcgaggacaacctctctgagggcattcgcgagtggtgggacctgaaacctggagcccccaagcccaaggccaaccagcagaagcaggacgacggccggggtctggtgcttcctggctacaagtacctcggacccttcaacggactcgacaagggggagcccgtcaacgcggcggacgcagcggccctcgagcacgacaaggcctacgaccagcagctcaaagcgggtgacaatccgtacctgcggtataatcacgccgacgccgagtttcaggagcgtctgcaagaagatacgtcttttgggggcaacctcgggcgagcagtcttccaggccaagaagcgggttctcgaacctctcggtctggttgaggaagctgctaagacggctcctggaaagaagagaccggtagaaccgtcacctcagcgttcccccgactcctccacgggcatcggcaagaaaggccagcagcccgctagaaagagactgaactttgggcagactggcgactcagagtcagtccccgaccctcaaccaatcggagaacctccagcagcgccctctagtgtgggatctggtacaatggccgcaggcggtggcgcaccaatggcagacaataacgaaggtgccgacggagtgggtagttcctcgggaaattggcattgcgattccacatggctgggcgacagagtcatcaccaccagcacccgaacctgggccctgcccacctacaacaaccacctctacaagcaaatctccaacgggacctcgggaggcagcaccaacgacaacacctactttggctacagcaccccctgggggtattttgactttaacagattccactgccacttctcaccacgtgactggcagcgactcatcaacaacaactggggattccggcccaagagactcagcttcaagctcttcaacatccaggtcaaagaggtcacgcagaatgaaggcaccaagaccatcgccaataacctcaccagcaccatccaggtgtttacggactcggaataccagctgccgtacgtcctcggctctgcccaccagggctgcctgcctccgttcccggcggacgtcttcatgattcctcagtacggctacctgactctcaacaacggtagtcaggccgtgggacgttcctccttctactgcctggagtacttcccctctcagatgctgagaacgggcaacaacttttccttcagctacactttcgaggacgtgcctttccacagcagctacgcgcacagccagagtttggacaggctgatgaatcctctcatcgaccagtacctgtactacctgtcaagaacccagtctacgggaggcacagcgggaacccagcagctgctgttttctcaggccgggcctagcaacatgtcggctcaggccagaaactggctgcctggaccctgctacagacagcagcgcgtctccacgacactgtcgcaaaacaacaacagcaactttgcctggactggtgccaccaagtatcatctgaacggcagagactctctggtgaatccgggcgtcgccatggcaaccaacaaggacgacgaggaccgcttcttcccatccagcggcatcctcatgtttggcaagcagggagctggaaaagacaacgtggactatagcaacgtgatgctaaccagcgaggaagaaatcaagaccaccaaccccgtggccacagaacagtatggcgtggtggctgataacctacagcagcaaaacaccgctcctattgtgggggccgtcaacagccagggagccttacctggcatggtctggcagaaccgggacgtgtacctgcagggtcctatttgggccaagattcctcacacagatggcaactttcacccgtctcctttaatgggcggctttggacttaaacatccgcctcctcagatcctcatcaaaagcactcctgttcctgcggatcctccaacagcgttcaaccaggccaagctgaattctttcatcacgcagtacagcaccggacaagtcagcgtggagatcgagtgggagctgcagaaggagaacagcaagtgctggaacccagagattcagtatacttccaactactacaaatctacaaatgtggactttgctgttaatactgagggtgtttactctgagcctcgccccattggcactcgttacctcacccgtaatctgtaa\n",
      "\n",
      "\n",
      "Name: rh.61\n",
      "\n",
      "Sequence: atggctgccgatggttatcttccagattggctcgaggacaacctctctgagggcattcgcgagtggtgggacctgaaacctggagccccgaaacccaaggccaaccagcaaaagcaggacgacggccggggtctggtgcttcctggctacaagtacctcggacccttcaacggactcgacaagggggagcccgtcaacgcggcggacgcagcggccctcgagcacgacaaggcctacgaccagcagctcaaagcgggtgacaatccgtacctgcggtataatcacgccgacgccgagtttcaggagcgtctgcaagaagatacgtcttttgggggcaacctcgggcgagcagtcttccaggccaagaagcgggttctcgaacctctcggtctggttgaggaaggcgctaagacggctcctggaaagaagagaccggtagagccgtcaccacagcgttcccccgactcctccacgggcatcggcaagaaaggccagcagcccgccagaaagagactcaatttcggtcagactggcgactcagagtcagtccccgaccctcaacctatcggagaacctccagcagcgccctctagtgtgggatctggtacaatggctgcaggcggtggcgcaccaatggcagacaataacgaaggtgccgacggagtgggtagttcctcgggaaattggcattgcgattccacatggctgggcgacagagtcatcaccaccagcacccgaacctgggccctgcccacctacaacaaccacctctacaagcaaatctccaacgggacctcgggaggcagcaccaacgacaacacctactttggctacagcaccccctgggggtattttgactttaacagattccactgccacttctcaccacgtgactggcagcgacccatcaacaacaactggggattccggcccaagagactcagcttcaagctcttcaacatccaggtcaaagaggtcacgcagaatgaaggcaccaagaccatcgccaataacctcaccagcaccatccaggtgtttacggactcggaataccagctgccgtacgtcctcggctctgcccaccagggctgcctgcctccgttcccggcggacgtcttcatgattcctcagtacggctacctgactctcaacaacggtagtcaggccgtgggacgttcctccttctactgcctggagtacttcccctctcagatgctgagaacgggcaacaacttttccttcagctaccctttcgaggacgtgcctttccacagcagctacgcgcacagccagagtttggacaggctgatgaatcctctcatcgaccagtacctgtactacctgtcaagaacccagtctacgggaggcacagcgggaacccagcagttgctgttttctcaggccgggcctagcaacatgtcggctcaggccagaaactggctgcctggaccctgctacagacagcagcgcgtctccacgacactgtcgcaaaacaacaacagcaactttgcctggactggtgccaccaagtatcatctgaacggcagagactctctggtgaatccgggcgtcgccatggcaaccaacaaggacgacgaggaccgcttcttcccatccagcggcatcctcatgtttggcaagcagggagctggaaaagacaacgtggactatagcaacgtgatgctaaccagcgaggaagaaatcaagaccaccaaccccgtggccacagaacagtatggcgtggtggctgataacctacagcagcaagacaccgctcctattgtgggggccgtcaacagccagggagccttacctggcatggtctggcagaaccgggacgtgtacctgcagggtcctatttgggccaagattcctcacacagatggcaactttcacccgtctcctttaatgggcggctttggacttaaacatccgcctcctcaggtcctcatcaaaaacactcctgttcctgcggatcctccaacagcgttcaaccaggccaagctgaattctttcatcacgcagtacagcaccggacaagtcagcgtggagatcgagtgggagctgcagaaggagaacagcaagcgctggaacccagagattcagtatacttccaactactacaaatctacaaatgtggactttgctgttaatactgagggtgtttactctgagcctcgccccattggcactcgttacctcacccgtaatctgtaa\n",
      "\n",
      "\n",
      "Name: rh.62\n",
      "\n",
      "Sequence: atggctgctgacggttatcttccagattggctcgaggacaacctctctgagggcattcgcgagtggtgggacctgaaacctggagcccccaagcccaaggccaaccagcagaagcaggacgacggccggggtctggtgcttcctggctacaagtacctcggacccttcaacggactcgacaagggggagcccgtcaacgcggcggacgcagcggccctcgagcacgacaaggcctacgaccagcagctcaaagcgggtgacaatccgtacctgcggtataaccacgccgacgccgagttccaggagcgtctgcaagaagatacgtcttttgggggcaacctcgggcgagcagtcttccaggccaagaagcgggttctcgaacctctcggtctggctgaggaagctgctaagacggctcctggaaagaagagaccggtagaaccgtcacctcagcgttcccccgactcctccacgggcatcggcaagaaaggccagcagcccgctagaaagagactgaactttgggcagactggcgactcagagtcagtccccgaccctcaaccaatcggagagccaccagcaggcccctctggtctgggatctggtacaatggctgcaggcggtggcgcaccaatggctgacaataacaagggcgccgacggagtgggtaatgcctcaggaaattggcattgcgattccacatggctgggcgacagagtcatcaccaccagcacccgaacctgggctttgcccacctacaacaaccacctctacaagcaaatctccagtcagtcagcaggtagcaccaacgacaacgtctacttcggctacagcaccccctgggggtattttgacttcaacagattccactgtcacttctcaccacgtgactggcagcggctcatcaacaacaactggggattccggcccaagaagctcaacttcaagctgttcaacatccaggtcaaggaggtcacaacgggtgacggcgtcacgaccatcgccaataaccttaccagcacggttcaggtcttttcggactcggaataccagctgccctacgtcctcggctccgcacaccagggctgcctgcctccgttcccggcggacgtcttcatgattccccagtacggctacctgactctgaacaatgacagccaatcggtgggtcgttcctctttctactgcctggaatatttcccttctcaaatgctgagaacgggcaacaacttcaccttcagctacaccttcgaggacgttcccttccacagcagctacgcacacagccagagcctggaccggctgatgaatcctcttatcgaccagtacctgtattacctggccagaacacagagcaacgcaggaggcacagctggcaatcgggaactgcagttttatcagggcgggcctaccaccatggccgaacaagccaaaaactggctgcctggaccttgcttccggcaacaaagagtctccaagacgctggatcaaaacaacaacagcaactttgcttggactggtgccaccaaataccatctaaatggaagaaattcattggttaatcccggtgtcgccatggcaacccacaaggacgacgaggaacgcttcttcccttcgagcggagtcctgatttttggaaaaactggagcagctaataagactacactggaaaatgtgttaatgacaaatgaagaggaaattcgtcctaccaacccggtagccaccgaggaatacgggactgttagcagcaacctgcaggcggctaacactgcagcccagacacaagttgtcaacaaccagggagccttacctggtatggtctggcagaaccgggacgtgtacctgcagggtcccatctgggccaagattcctcacacggacggcaactttcacccgtctccgctgatgggcggctttggactgaagcatccgcctcctcagatcctgatcaaaaacactcctgttcctgctaatcccccggaggtgtttacgcctgccaagtttgcttctttcatcacacagtacagcaccggccaggtcagcgtggagatcgagtgggagctgcagaaggagaacagcaagcgctggaacccagagattcagtatacctccaattttgacaaacagactggtgtggactttgccgttgacagccagggtgtttattctgagcctcgccccattggtactcgttacctcacccgtaatctgtaa\n",
      "\n",
      "\n",
      "Name: rh.64\n",
      "\n",
      "Sequence: atggctgccgatggttatcttccagattggctcgaggacaacctctctgagggcattcgcgagtggtgggacctgaaacctggagccccgaaacccaaagccaaccagcaaaagcaggacgacggccggggtctggtgcttcctggctacaagtacctcggacccttcaacggactcgacaagggggagcccgtcaacgcggcggacgcagcggccctcgagcacgacaaggcctacgaccagcagctcaaagcgggtgacaatccgtacctgcggtataatcacgccgacgccgagtttcaggagcgtctgcaagaagatacgtcttttgggggcaacctcgggcgagcagtcttccaggccaagaagcgggttctcgaacctctcggtctggttgaggaaggcgctaagacggctcctggaaagaagagaccggtagagccgtcaccacagcgttcccccgactcctccacgggcatcggcaagaaaggccagcagcccgccagaaagagactcaatttcggtcagactggcgactcagagtcagtccccgaccctcaacctatcggagaacctccagcagcgccctctagtgtgggatctggtacaatggctgcaggcggtggcgcaccaatggcagacaataacgaaggtgccgacggagtgggtagttcctcgggaaattggcattgcgattccacatggctgggcgacagagtcatcaccaccagcacccgaacctgggccctgcccacctacaacaaccacctctacaagcaaatctccaacgggacctcgggaggcagcaccaacgacaacacctactttggctacagcaccccctgggggtattttgactttaacagattccactgccacttctcaccacgtgactggcagcgactcatcaacaacaactggggattccggcccaagagactcagcttcaagctcttcaacatccaggtcaaagaggtcacgcagaatgaaggcaccaagaccatcgccaataacctcaccagcaccatccaggtgtttacggactcggaataccagctgccgtacgtcctcggctctgcccaccagggctgcctgcctccgttcccggcggacgtcttcatgattcctcagtacggctacctgactctcaacaacggtagtcaggccgtgggacgttcctccttctactgcctggagtacttcccctctcagatgctgagaacgggcaacaacttttccttcagctacactttcgaggacgtgcctttccacagcagctacgcgcacagccagagtttggacaggctgatgaatcctctcatcgaccagtacctgtactacctgtcaagaacccagtctacgggaggcacagcgggaacccagcagttgctgttttctcaggccgggcctagcaacatgtcggctcaggccagaaactggctgcctggaccctgctacagacagcagcgcgtctccacgacactgtcgcaaaacaacaacagcaactttgcctggactggtgccaccaagtatcatctgaacggcagagactctctggtgaatccgggcgtcgccatggcaaccaacaaggacgacgaggaccgcttcttcccatccagcggcatcctcatgtttggcaagcagggagctggaaaagacaacgtggactatagcaacgtgatgctaaccagcgaggaagaaatcaagaccaccaaccccgtggccacagaacagtatggcgtggtggctgataacctacagcagcaaaacaccgctcctattgtgggggccgtcaacagccagggagccttacctggcatggtctggcagaaccgggacgtgtacctgcagggtcctatttgggccaagattcctcacacagatggcaactttcacccgtctcctttaatgggcggctttggacttaaacatccgcctcctcagatcctcatcaaaaacactcctgttcctgcggatcctccaacagcgttcaaccaggccaagctgaattctttcatcacgcagtacagcaccggacaagtcagcgtggagatcgtgtgggagctgcagaaggagaacagcaagcgcaggaacccagagattcagtatacttccaactactacaaatctacaaatgtggactttgctgttaatactgagggtgtttactctgagcctcgccccattggcactcgttacctcacccgtaatctgtaa\n",
      "\n",
      "\n"
     ]
    }
   ],
   "source": [
    "all_seq_data = []\n",
    "for record in SeqIO.parse(\"seqs.fa\", \"fasta\"):\n",
    "    print(\"Name: \" + record.id + \"\\n\\n\" + \"Sequence: \" + record.seq + \"\\n\\n\")\n",
    "    all_seq_data.append(len(record.seq))"
   ]
  },
  {
   "cell_type": "markdown",
   "metadata": {},
   "source": [
    "## Parsed each cluster into arrays of sequences and records"
   ]
  },
  {
   "cell_type": "code",
   "execution_count": 8,
   "metadata": {},
   "outputs": [
    {
     "name": "stdout",
     "output_type": "stream",
     "text": [
      "3\n",
      "True\n",
      "hu.31\n"
     ]
    }
   ],
   "source": [
    "cluster1seq = []\n",
    "cluster2seq = []\n",
    "cluster3seq = []\n",
    "cluster4seq = []\n",
    "cluster5seq = []\n",
    "cluster6seq = []\n",
    "cluster7seq = []\n",
    "cluster8seq = []\n",
    "cluster9seq = []\n",
    "cluster10seq = []\n",
    "cluster11seq = []\n",
    "\n",
    "cluster1record = []\n",
    "cluster2record = []\n",
    "cluster3record = []\n",
    "cluster4record = []\n",
    "cluster5record = []\n",
    "cluster6record = []\n",
    "cluster7record = []\n",
    "cluster8record = []\n",
    "cluster9record = []\n",
    "cluster10record = []\n",
    "cluster11record = []\n",
    "\n",
    "for record in SeqIO.parse(\"seqs.fa\", \"fasta\"):\n",
    "    for num in range(1, len(clusters) + 1):\n",
    "        for gene in eval(\"cluster\" + str(num)):\n",
    "            if record.id == gene:\n",
    "                eval(\"cluster\" + str(num) + \"seq\").append(record.seq)  \n",
    "                eval(\"cluster\" + str(num) + \"record\").append(record)  \n",
    "\n",
    "# Test that the sequence is in the correct array                \n",
    "print(len(cluster9seq)) # 3\n",
    "print(cluster9seq[1] == 'atggctgccgatggttatcttccagattggctcgaggacactctctctgaaggaataagacagtggtggaagctcaaacctggccccccaccaccaaagcccgcagagcggcataaggacgacagcaggggtcttgtgcttcctgggtacaagtacctcggacccggcaacggactcgacaagggggagccggtcaacgcagcagacgcggcggccctcgagcacgacaaggcctacgaccagcagctcaaggccggagacaacccgtacctcaagtacaaccacgccgacgccgagttccaggagcggctcaaagaagatacgtcttttgggggcaacctcgggcgagcagtcttccaggccaaaaagaggcttcttgaacctcttggtctggttgaggaagcggctaagacggctcctggaaagaagaggcctgtagagcagtctcctcaggaaccggactcctccgcgggtattggcaaatcgggttcacagcccgctaaaaagaaactcaatttcggtcagactggcgacacagagtcagtccccgaccctcaaccaatcggagaacctcccgcagccccctcaggtgtgggatctcttacaatggcttcaggtggtggcgcaccagtggcagacaataacgaaggtgccgatggagtgggtagttcctcgggaaattggcattgcgattcccaatggctgggggacagagtcatcaccaccagcacccgaacctgggccctgcccacctacaacaatcacctctacaagcaaatctccaacagcacatctggaggatcttcaaatgacaacgcctacttcggctacagcaccccctgggggtattttgacttcaacagattccactgccacttctcaccacgtgactggcagcgactcatcaacaacaactggggattccggcctaagcgactcaacttcaagctcttcaacattcaggtcaaagaggttacggacaacaatggagtcaagaccatcgccaataaccttaccagcacggtccaggtcttcacggactcagactatcagctcccgtacgtgctcgggtcggctcacgagggctgcctcccgccgttcccagcggacgttttcatgattcctcagtacgggtatctgacgcttaatgatggaggccaggccgtgggtcgttcgtccttttactgcctggaatatttcccgtcgcaaatgctaagaacgggtaacaacttccagttcagctacgagtttgagaacgtacctttccatagcagctacgctcacagccaaagcctggaccgactaatgaatccactcatcgaccaatacttgtactatctctcaaagactattaacggttctggacagaatcaacaaacgctaaaattcagtgtggccggacccagcaacatggctgtccagggaagaaactacatacctggacccagctaccgacaacaacgtgtctcaaccactgtgactcaaaacaacaacagcgaatttgcttggcctggagcttcttcttgggctctcaatggacgtaatagcttgatgaatcctggacctgctatggccagccacaaagaaggagaggaccgtttctttcctttgtccggatctttaatttttggcaaacaaggaactggaagagacaacgtggatgcggacaaagtcatgataaccaacgaagaagaaattaaaactactaacccggtagcaacggagtcctatggacaagtggccacaaaccaccagagtgcccaagcacaggcgcagaccggctgggttcaaaaccaaggaatacttccgggtatggtttggcaggacagagatgtgtacctgcaaggacccatttgggccaaaattcctcacacggacggcaactttcacccttctccgctaatgggagggtttggaatgaagcacccgcctcctcagatcctcatcaaaaacacacctgtacctgcggatcctccaacggctttcaataaggacaagctgaactctttcatcacccagtattctactggccaagtcagcgtggagattgagtgggagctgcagaaggaaaacagcaagcgctggaacccggagatccagtacacttccaactattacaagtctaataatgttgaatttgctgttagtactgaaggtgtatatagtgaaccccgccccattggcaccagatacctgactcgtaatctgtaa')\n",
    "print(cluster9record[1].id) # hu.31\n"
   ]
  },
  {
   "cell_type": "markdown",
   "metadata": {},
   "source": [
    "rh.64 blast matches with Adeno-associated virus isolate rh.64 capsid protein VP1 (cap) gene. Sequence ID: AY530574.1 Length: 2217. Looks very well aligned."
   ]
  },
  {
   "cell_type": "markdown",
   "metadata": {},
   "source": [
    "cy.5  Non-human primate Adeno-associated virus isolate AAVcy.5 capsid protein (VP1) gene, complete cds Sequence ID: AY243017.1 Length: 2187"
   ]
  },
  {
   "cell_type": "code",
   "execution_count": 9,
   "metadata": {},
   "outputs": [],
   "source": [
    "align = AlignIO.read(\"seqs.aligned.fa\", \"fasta\")"
   ]
  },
  {
   "cell_type": "code",
   "execution_count": 10,
   "metadata": {},
   "outputs": [
    {
     "name": "stdout",
     "output_type": "stream",
     "text": [
      "SingleLetterAlphabet() alignment with 48 rows and 2238 columns\n",
      "ATGGCTGCCGATGGTTATCTTCCAGATTGGCTCGAGGACACTCT...TAA hu.31\n",
      "ATGGCTGCCGATGGTTATCTTCCAGATTGGCTCGAGGACACTCT...TAA hu.32\n",
      "ATGGCTGCCGATGGTTATCTTCCAGATTGGCTCGAGGACAACCT...TAA hu.14\n",
      "ATGGCTGCCGATGGTTATCTTCCAGATTGGCTCGAGGACACTCT...TAA hu.44\n",
      "ATGGCTGCCGACGGTTATCTTCCAGATTGGCTCGAGGACACTCT...TAA hu.46\n",
      "ATGGCTGCTGACGGTTATCTTCCAGATTGGCTCGAGGACAACCT...TAA hu.43\n",
      "ATGGCTGCCGATGGTTATCTTCCAGATTGGCTCGAGGACAACCT...TAA hu.48\n",
      "ATGGCTGCTGACGGTTATCTTCCAGATTGGCTCGAGGACAACCT...TAA pi.3\n",
      "ATGGCTGCTGACGGTTATCTTCCAGATTGGCTCGAGGACAACCT...TAA pi.1\n",
      "ATGGCTGCTGACGGTTATCTTCCAGATTGGCTCGAGGACAACCT...TAA pi.2\n",
      "ATGGCTGCCGATGGTTATCTTCCAGATTGGCTCGAGGACAACCT...TAA rh.43\n",
      "ATGGCTGCTGACGGTTATCTTCCAGATTGGCTCGAGGACAACCT...TAA rh.58\n",
      "ATGGCTGCCGATGGTTATCTTCCAGATTGGCTCGAGGACAACCT...TAA rh.57\n",
      "ATGGCTGCCGATGGTTATCTTCCAGATTGGCTCGAGGACAACCT...TAA hu.39\n",
      "ATGGCTGCCGATGGTTATCTTCCAGATTGGCTCGAGGACAACCT...TAA rh.49\n",
      "ATGGTTGCCGATGGTTATCTTCCAGATTGGCTCGAGGACAACCT...TAA rh.51\n",
      "ATGGCTGCCGATGGTTATCTTCCAGATTGGCTCGAGGACAACCT...TAA rh.61\n",
      "ATGGCTGCCGATGGTTATCTTCCAGATTGGCTCGAGGACAACCT...TAA rh.52\n",
      "...\n",
      "ATGGCTGCCGATGGTTATCTTCCAGATTGGCTCGAGGACAACCT...TAA rh.13\n"
     ]
    }
   ],
   "source": [
    "print(align)"
   ]
  },
  {
   "cell_type": "code",
   "execution_count": 11,
   "metadata": {},
   "outputs": [
    {
     "name": "stdout",
     "output_type": "stream",
     "text": [
      "ID: hu.31\n",
      "Name: hu.31\n",
      "Description: hu.31\n",
      "Number of features: 0\n",
      "Seq('ATGGCTGCCGATGGTTATCTTCCAGATTGGCTCGAGGACACTCTCTCTGAAGGA...TAA', SingleLetterAlphabet())\n"
     ]
    }
   ],
   "source": [
    "print(align[0])"
   ]
  },
  {
   "cell_type": "code",
   "execution_count": 12,
   "metadata": {},
   "outputs": [
    {
     "name": "stdout",
     "output_type": "stream",
     "text": [
      "ATGGCTGCCGATGGTTATCTTCCAGATTGGCTCGAGGACACTCTCTCTGAAGGAATAAGACAGTGGTGGAAGCTCAAACCTGGCCCCCCACCACCAAAGCCCGCAGAGCGGCATAAGGACGACAGCAGGGGTCTTGTGCTTCCTGGGTACAAGTACCTCGGACCCGGCAACGGACTCGACAAGGGGGAGCCGGTCAACGCAGCAGACGCGGCGGCCCTCGAGCACGACAAGGCCTACGACCAGCAGCTCAAGGCCGGAGACAACCCGTACCTCAAGTACAACCACGCCGACGCCGAGTTCCAGGAGCGGCTCAAAGAAGATACGTCTTTTGGGGGCAACCTCGGGCGAGCAGTCTTCCAGGCCAAAAAGAGGCTTCTTGAACCTCTTGGTCTGGTTGAGGAAGCGGCTAAGACGGCTCCTGGAAAGAAGAGGCCTGTAGAGCAGTCTCCTCAGGA---ACCGGACTCCTCCGCGGGTATTGGCAAATCGGGTTCACAGCCCGCTAAAAAGAAACTCAATTTCGGTCAGACTGGCGACACAGAGTCAGTCCCCGACCCTCAACCAATCGGAGAACCTCCCGCAGCCCCCTCAGGTGTGGGATCTCTTACAATGGCTTCAGGTGGTGGCGCACCAGTGGCAGACAATAACGAAGGTGCCGATGGAGTGGGTAGTTCCTCGGGAAATTGGCATTGCGATTCCCAATGGCTGGGGGACAGAGTCATCACCACCAGCACCCGAACCTGGGCCCTGCCCACCTACAACAATCACCTCTACAAGCAAATCTCCAACAGCACATCTGGAGGATCTTCAAATGACAACGCCTACTTCGGCTACAGCACCCCCTGGGGGTATTTTGACTTCAACAGATTCCACTGCCACTTCTCACCACGTGACTGGCAGCGACTCATCAACAACAACTGGGGATTCCGGCCTAAGCGACTCAACTTCAAGCTCTTCAACATTCAGGTCAAAGAGGTTACGGACAACAATGGAGTCAAGACCATCGCCAATAACCTTACCAGCACGGTCCAGGTCTTCACGGACTCAGACTATCAGCTCCCGTACGTGCTCGGGTCGGCTCACGAGGGCTGCCTCCCGCCGTTCCCAGCGGACGTTTTCATGATTCCTCAGTACGGGTATCTGACGCTTAATGATGGAGGCCAGGCCGTGGGTCGTTCGTCCTTTTACTGCCTGGAATATTTCCCGTCGCAAATGCTAAGAACGGGTAACAACTTCCAGTTCAGCTACGAGTTTGAGAACGTACCTTTCCATAGCAGCTACGCTCACAGCCAAAGCCTGGACCGACTAATGAATCCACTCATCGACCAATACTTGTACTATCTCTCAAAGACTATTAACGGTTCTGGACAGAATCAAC-----------AAACGCTAAAATTCAGTGTGGCCGGACCCAGCAACATGGCTGTCCAGGGAAGAAACTACATACCTGGACCCAGCTACCGACAACAACGTGTCTCAACCACTGTGACTCAAAACAACAACAGCGAATTTGCTTGGCCTGGAGCTTCTTCTTGGGCTCTCAATGGACGTAATAGCTTGATGAATCCTGGACCTGCTATGGCCAGCCACAAAGAAGGAGAGGACCGTTTCTTTCCTTTGTCCGGATCTTTAATTTTTGGCAAACAAGGAACTG--GA-----AGAGACAACGTGGATGCGGACAAAGTCATGATAACCAACGAAGAAGAAATTAAAACTACTAACCCGGTAGCAACGGAGTCCTATGGACAAGTGGCCACAAACCACCAG------AGTGCCCAAGCACAGGCGCAGACCGGCTGGGTTCAAAACCAAGGAATACTTCCGGGTATGGTTTGGCAGGACAGAGATGTGTACCTGCAAGGACCCATTTGGGCCAAAATTCCTCACACGGACGGCAACTTTCACCCTTCTCCGCTAATGGGAGGGTTTGGAATGAAGCACCCGCCTCCTCAGATCCTCATCAAAAACACACCTGTACCTGCGGATCCTCCAACGGCTTTCAATAAGGACAAGCTGAACTCTTTCATCACCCAGTATTCTACTGGCCAAGTCAGCGTGGAGATTGAGTGGGAGCTGCAGAAGGAAAACAGCAAGCGCTGGAACCCGGAGATCCAGTACACTTCCAACTATTACAAGTCTAATAATGTTGAATTTGCTGTTAGTACTGAAGGTGTATATAGTGAACCCCGCCCCATTGGCACCAGATACCTGACTCGTAATCTGTAA\n"
     ]
    }
   ],
   "source": [
    "print(align[0].seq)"
   ]
  },
  {
   "cell_type": "code",
   "execution_count": 13,
   "metadata": {},
   "outputs": [
    {
     "name": "stdout",
     "output_type": "stream",
     "text": [
      "ATGGCTGCCGATGGTTATCTTCCAGATTGGCTCGAGGACAACCTCTCTGAGGGCATTCGCGAGTGGTGGGACTTGAAACCTGGAGCCCCGAAACCCAAAGCCAACCAGCAAAAGCAGGACGACGGCCGGGGCCTGGTGCTTCCTGGCTACAAGTACCTCGGACCCTTCAACGGACTCGACAAGGGGGAGCCCGTCAACGCGGCGGACGCAGCGGCCCTCGAGCACGACAAGGCCTACGACCAGCAGCTCGAAGCGGGTGACAATCCGTACCTGCGGTATAACCACGCCGACGCCGAGTTTCAGGAGCGTCTGCAAGAAGATACGTCTTTTGGGGGCAACCTCGGGCGAGCAGTCTTCCAGGCCAAGAAGCGGGTTCTCGAACCTCTCGGTCTGGTTGAGGAAGGCGCTAAGACGGCTCCTGGAAAGAAGAGACCAGTAGAGCAGTCACCCCAAGA---ACCAGACTCCTCCTCGGGCATCGGCAAGAAAGGCCAACAGCCCGCCAGAAAAAGACTCAATTTTGGCCAGACTGGCGACTCAGAGTCAGTTCCAGACCCTCAACCTCTCGGAGAACCTCCAGCAGCGCCCTCTGGTGTGGGACCTAATACAATGGCTGCAGGCGGTGGCGCACCAATGGCAGACAATAACGAAGGCGCCGACGGAGTGGGTAGTTCCTCGGGAAATTGGCATTGCGATTCCACATGGCTGGGCGACAGAGTCATCACCACCAGCACCCGAACCTGGGCCCTGCCCACCTACAACAACCACCTCTACAAGCAAATCTCCAACGGGACATCGGGAGGAGCCACCAACGACAACACCTACTTCGGCTACAGCACCCCCTGGGGGTATTTTGACTTTAACAGATTCCACTGCCACTTTTCACCACGTGACTGGCAGCGACTCATCAACAACAACTGGGGATTCCGGCCCAAGAGACTCAGCTTCAAGCTCTTCAACATCCAGGTCAAGGAGGTCACGCAGAATGAAGGCACCAAGACCATCGCCAATAACCTCACCAGCACCATCCAGGTGTTTACGGACTCGGAGTACCAGCTGCCGTACGTTCTCGGCTCTGCCCACCAGGGCTGCCTGCCTCCGTTCCCGGCGGACGTGTTCATGATTCCCCAGTACGGCTACCTAACACTCAACAACGGTAGTCAGGCCGTGGGACGCTCCTCCTTCTACTGCCTGGAATACTTTCCTTCGCAGATGCTGAGAACCGGCAACAACTTCCAGTTTACTTACACCTTCGAGGACGTGCCTTTCCACAGCAGCTACGCCCACAGCCAGAGCTTGGACCGGCTGATGAATCCTCTGATTGACCAGTACCTGTACTACTTGTCTCGGACT-----CAA---ACAACAGGAGGCACGGCAAATACGCAGACTCTGGGCTTCAGCCAAGGTGGGCCTAATACAATGGCCAATCAGGCAAAGAACTGGCTGCCAGGACCCTGTTACCGCCAACAACGCGTCTCAACGACAACCGGGCAAAACAACAATAGCAACTTTGCCTGGACTGCTGGGACCAAATACCATCTGAATGGAAGAAATTCATTGGCTAATCCTGGCATCGCTATGGCAACACACAAAGACGACGAGGAGCGTTTTTTCCCAGT-AACGGGATCCTG-TTTTTGGCAA-CAAAATGCTG--CC-----AGAGACAATGCGGATTACAGCGATGTCATGCTCACCAGCGAGGAAGAAATCAAAACCACTAACCCTGTGGCTACAGAGGAATACGGTATCGTGGCAGATAACTTGCAGCAGCAAAACACGGCTCCTCAAATTGGAACT------GTCAACAGCCAGGGGGCCTTACCCGGTATGGTCTGGCAGAACCGGGACGTGTACCTGCAGGGTCCCATCTGGGCCAAGATTCCTCACACGGACGGCAACTTCCACCCGTCTCCGCTGATGGGCGGCTTTGGCCTGAAACATCCTCCGCCTCAGATCCTGATCAAGAACACGCCTGTACCTGCGGATCCTCCGACCACCTTCAACCAGTCAAAGCTGAACTCTTTCATCACGCAATACAGCACCGGACAGGTCAGCGTGGAAATTGAATGGGAGCTACAGAAGGAAAACAGCAAGCGCTGGAACCCCGAGATCCAGTACACCTCCAACTACTACAAATCTACAAGTGTGGACTTTGCTGTTAATACAGAAGGCGTGTACTCTGAACCCCGCCCCATTGGCACCCGTTACCTCACCCGTAATCTGTAA\n"
     ]
    }
   ],
   "source": [
    "print(align[10].seq[:])"
   ]
  },
  {
   "cell_type": "code",
   "execution_count": 14,
   "metadata": {},
   "outputs": [
    {
     "data": {
      "text/plain": [
       "2238"
      ]
     },
     "execution_count": 14,
     "metadata": {},
     "output_type": "execute_result"
    }
   ],
   "source": [
    "len(align[47].seq)"
   ]
  },
  {
   "cell_type": "markdown",
   "metadata": {},
   "source": [
    "## Created arrays of aligned sequences in each cluster"
   ]
  },
  {
   "cell_type": "code",
   "execution_count": 15,
   "metadata": {},
   "outputs": [
    {
     "name": "stdout",
     "output_type": "stream",
     "text": [
      "[Seq('ATGGCTGCCGATGGTTATCTTCCAGATTGGCTCGAGGACACTCTCTCTGAAGGA...TAA', SingleLetterAlphabet()), Seq('ATGGCTGCCGATGGTTATCTTCCAGATTGGCTCGAGGACACTCTCTCTGAAGGA...TAA', SingleLetterAlphabet()), Seq('ATGGCTGCCGATGGTTATCTTCCAGATTGGCTCGAGGACAACCTTAGTGAAGGA...TAA', SingleLetterAlphabet())]\n",
      "3\n",
      "9\n",
      "1\n"
     ]
    }
   ],
   "source": [
    "cluster1seq_a = []\n",
    "cluster2seq_a = []\n",
    "cluster3seq_a = []\n",
    "cluster4seq_a = []\n",
    "cluster5seq_a = []\n",
    "cluster6seq_a = []\n",
    "cluster7seq_a = []\n",
    "cluster8seq_a = []\n",
    "cluster9seq_a = []\n",
    "cluster10seq_a = []\n",
    "cluster11seq_a = []\n",
    "\n",
    "for record in AlignIO.read(\"seqs.aligned.fa\", \"fasta\"):\n",
    "    for num in range(1, len(clusters) + 1):\n",
    "        for gene in eval(\"cluster\" + str(num)):\n",
    "            if record.id == gene:\n",
    "                 eval(\"cluster\" + str(num) + \"seq_a\").append(record.seq)\n",
    "\n",
    "#test size of arrays\n",
    "print(cluster9seq_a)\n",
    "print(len(cluster9seq_a)) # 3\n",
    "print(len(cluster1seq_a)) # 9\n",
    "print(len(cluster11seq_a)) # 1\n"
   ]
  },
  {
   "cell_type": "code",
   "execution_count": 16,
   "metadata": {},
   "outputs": [
    {
     "name": "stdout",
     "output_type": "stream",
     "text": [
      "2238\n"
     ]
    }
   ],
   "source": [
    "print(len(cluster1seq_a[3]))"
   ]
  },
  {
   "cell_type": "markdown",
   "metadata": {},
   "source": [
    "## Function for calculating A/T and G/C at each position in clusters"
   ]
  },
  {
   "cell_type": "code",
   "execution_count": 17,
   "metadata": {
    "scrolled": false
   },
   "outputs": [],
   "source": [
    "cluster1ATGC = cluster2ATGC = cluster3ATGC = cluster4ATGC = cluster5ATGC = cluster6ATGC = []\n",
    "cluster7ATGC = cluster8ATGC = cluster9ATGC = cluster10ATGC = cluster11ATGC = []\n",
    "\n",
    "def ACGTPercentage(clusterseq_a):\n",
    "    clusterAT = []\n",
    "    clusterGC = []\n",
    "    clusterATPercentage = []\n",
    "    clusterGCPercentage = []\n",
    "    for pos in range(len(clusterseq_a[0])):\n",
    "        tempPosATCG = []\n",
    "        AT = 0\n",
    "        GC = 0\n",
    "        for seq in clusterseq_a:\n",
    "            tempPosATCG.append(seq[pos])\n",
    "            AT = tempPosATCG.count(\"A\") + tempPosATCG.count(\"T\")\n",
    "            GC = tempPosATCG.count(\"G\") + tempPosATCG.count(\"C\")\n",
    "            #print(tempPosATCG)\n",
    "        clusterAT.append(AT)\n",
    "        clusterGC.append(GC)\n",
    "    for num in clusterAT:\n",
    "        clusterATPercentage.append(num / len(clusterseq_a))\n",
    "        #print(num / len(clusterseq_a))\n",
    "    for num in clusterGC:\n",
    "        clusterGCPercentage.append(num / len(clusterseq_a))\n",
    "    return [clusterATPercentage, clusterGCPercentage]\n",
    "\n",
    "cluster1ATCG = ACGTPercentage(cluster1seq_a)\n",
    "cluster2ATCG = ACGTPercentage(cluster2seq_a)\n",
    "cluster3ATCG = ACGTPercentage(cluster3seq_a)\n",
    "cluster4ATCG = ACGTPercentage(cluster4seq_a)\n",
    "cluster6ATCG = ACGTPercentage(cluster6seq_a)\n",
    "cluster7ATCG = ACGTPercentage(cluster7seq_a)\n",
    "cluster8ATCG = ACGTPercentage(cluster8seq_a)\n",
    "cluster9ATCG = ACGTPercentage(cluster9seq_a)\n",
    "cluster10ATCG = ACGTPercentage(cluster10seq_a)\n",
    "cluster11ATCG = ACGTPercentage(cluster11seq_a)\n"
   ]
  },
  {
   "cell_type": "code",
   "execution_count": null,
   "metadata": {},
   "outputs": [],
   "source": []
  },
  {
   "cell_type": "markdown",
   "metadata": {},
   "source": [
    "for k in range(1, len(clusters) + 1):\n",
    "    for pos in range(len(eval(\"cluster\" + str(1) + \"seq_a\")[0])):\n",
    "        tempPosATCG = []\n",
    "        for num in range(len(eval(\"cluster\" + str(k) + \"seq_a\"))):\n",
    "            tempPosATCG.append(eval(\"cluster\" + str(k) + \"seq_a\")[num][pos])\n",
    "        eval(\"cluster\" + str(k) + \"AT\").append(tempPosATCG.count(\"A\"))\n",
    "        eval(\"cluster\" + str(k) + \"AT\").append(tempPosATCG.count(\"T\"))\n",
    "        eval(\"cluster\" + str(k) + \"GC\").append(tempPosATCG.count(\"G\"))\n",
    "        eval(\"cluster\" + str(k) + \"GC\").append(tempPosATCG.count(\"C\"))\n"
   ]
  },
  {
   "cell_type": "code",
   "execution_count": 18,
   "metadata": {},
   "outputs": [
    {
     "name": "stdout",
     "output_type": "stream",
     "text": [
      "[1.0, 1.0, 0.0, 0.0, 0.020833333333333332, 1.0, 0.0, 0.0, 0.3333333333333333, 0.0, 1.0, 0.6458333333333334, 0.0, 0.0, 1.0, 1.0, 1.0, 1.0, 0.0, 1.0, 1.0, 0.0, 0.0, 1.0, 0.0, 1.0, 1.0, 1.0, 0.0, 0.0, 0.0, 1.0, 0.020833333333333332, 0.0, 1.0, 0.0, 0.0, 0.9791666666666666, 0.0, 1.0, 0.9166666666666666, 0.08333333333333333, 0.0, 1.0, 0.020833333333333332, 1.0, 0.0, 1.0, 0.0, 1.0, 0.10416666666666667, 0.0, 0.0, 0.10416666666666667, 1.0, 1.0, 1.0, 0.08333333333333333, 0.0, 0.08333333333333333, 0.0, 1.0, 0.0, 1.0, 0.0, 0.0, 1.0, 0.0, 0.0, 0.08333333333333333, 0.8541666666666666, 0.020833333333333332, 0.22916666666666666, 1.0, 0.0, 1.0, 0.9791666666666666, 1.0, 0.0, 0.0, 1.0, 0.0, 0.0, 0.9166666666666666, 0.0, 0.0, 0.0625, 0.0, 0.0, 0.10416666666666667, 0.8333333333333334, 0.9166666666666666, 0.6666666666666666, 0.0, 0.0, 0.08333333333333333, 1.0, 1.0, 0.625, 0.0, 0.0, 0.020833333333333332, 0.9166666666666666, 0.9166666666666666, 0.10416666666666667, 0.0, 1.0, 0.020833333333333332, 0.0, 0.9166666666666666, 0.6458333333333334, 0.8958333333333334, 1.0, 0.10416666666666667, 0.08333333333333333, 1.0, 0.020833333333333332, 0.0, 0.9791666666666666, 0.0, 0.041666666666666664, 1.0, 0.0, 0.08333333333333333, 0.0, 0.020833333333333332, 0.08333333333333333, 0.0, 0.020833333333333332, 0.0, 0.0, 0.9791666666666666, 0.0, 1.0, 0.10416666666666667, 0.0, 1.0, 0.0, 0.0, 1.0, 1.0, 0.0, 0.020833333333333332, 0.9791666666666666, 0.0, 0.0, 0.020833333333333332, 1.0, 0.9791666666666666, 0.0, 1.0, 0.9791666666666666, 0.020833333333333332, 1.0, 1.0, 0.0, 0.0, 1.0, 0.020833333333333332, 0.020833333333333332, 0.0, 1.0, 0.0, 0.0, 0.0, 0.9375, 0.9375, 0.0, 1.0, 1.0, 0.0, 0.0, 0.0, 1.0, 0.0, 1.0, 0.0, 0.0, 1.0, 0.0, 1.0, 1.0, 0.0, 0.0, 0.0, 0.14583333333333334, 0.0, 1.0, 0.0, 0.0, 0.0, 0.0, 0.0, 1.0, 0.0, 1.0, 1.0, 0.020833333333333332, 0.0, 0.20833333333333334, 0.0625, 0.0, 0.0, 0.20833333333333334, 0.0, 1.0, 0.0, 0.0, 0.0, 0.7291666666666666, 0.0, 0.0, 0.0, 0.0, 0.0, 0.0, 0.0, 1.0, 0.0, 0.0, 1.0, 0.0, 0.0, 1.0, 0.0, 0.0, 1.0, 0.0, 1.0, 1.0, 0.041666666666666664, 0.0, 0.0, 0.0, 1.0, 1.0, 0.0, 0.0, 1.0, 0.0, 0.10416666666666667, 0.9583333333333334, 0.0, 0.0, 1.0, 0.0, 0.0, 1.0, 0.020833333333333332, 0.8125, 1.0, 0.7708333333333334, 0.041666666666666664, 0.10416666666666667, 0.0, 0.0, 0.0, 0.8958333333333334, 0.0, 1.0, 0.0, 1.0, 1.0, 0.7708333333333334, 0.0, 0.0, 0.0, 0.9791666666666666, 1.0, 0.0, 0.0, 0.9791666666666666, 0.0, 0.20833333333333334, 0.20833333333333334, 0.0, 1.0, 1.0, 0.7916666666666666, 1.0, 1.0, 0.2916666666666667, 0.0, 1.0, 0.0, 0.0, 0.0, 0.0, 0.0, 1.0, 0.0, 0.0, 0.0, 0.020833333333333332, 0.0, 1.0, 0.0, 0.9791666666666666, 1.0, 0.9166666666666666, 0.0, 1.0, 0.0625, 0.0, 1.0, 0.0, 0.0, 0.0, 0.875, 0.0, 1.0, 0.1875, 0.10416666666666667, 1.0, 1.0, 0.0, 1.0, 1.0, 0.0, 1.0, 1.0, 1.0, 0.0, 0.0, 0.9791666666666666, 0.0, 0.9375, 1.0, 1.0, 1.0, 0.0, 0.0, 0.0, 0.0, 0.0, 0.0, 1.0, 1.0, 0.0, 0.0, 1.0, 0.0, 0.0, 0.0, 0.020833333333333332, 0.0, 0.0, 0.9791666666666666, 0.0, 0.0, 1.0, 0.0, 1.0, 0.0, 1.0, 1.0, 0.0, 0.0, 1.0, 0.0, 0.0, 0.0, 0.0, 1.0, 1.0, 0.125, 1.0, 1.0, 0.0, 0.125, 0.0, 0.0, 0.0, 1.0, 1.0, 0.0, 1.0, 0.0625, 0.0, 1.0, 0.9375, 0.0, 0.0, 1.0, 0.0, 1.0, 0.0625, 0.0, 0.0, 1.0, 0.0, 0.9791666666666666, 0.0, 0.0, 0.9791666666666666, 1.0, 0.0, 1.0, 0.0, 0.0, 1.0, 1.0, 0.0, 0.020833333333333332, 0.25, 0.0, 0.0, 1.0, 0.9791666666666666, 1.0, 0.0, 1.0, 0.0, 0.0, 0.0, 0.0, 1.0, 0.020833333333333332, 0.0, 0.9791666666666666, 0.0, 0.0, 1.0, 1.0, 1.0, 0.0, 1.0, 1.0, 0.0625, 0.875, 0.0, 0.875, 0.0, 0.0, 0.14583333333333334, 0.16666666666666666, 1.0, 1.0, 0.0, 0.9791666666666666, 0.4375, 0.0, 0.14583333333333334, 0.125, 0.75, 0.0, 0.7083333333333334, 0.0, 0.0, 0.6458333333333334, 0.0, 0.7708333333333334, 0.08333333333333333, 0.0, 0.125, 0.625, 0.7916666666666666, 0.0, 0.25, 0.0, 0.0, 0.25, 0.0, 1.0, 0.0, 1.0, 0.0, 0.0, 0.9791666666666666, 0.0, 0.10416666666666667, 0.9166666666666666, 0.0, 0.0, 0.0, 0.0, 0.0625, 1.0, 1.0, 0.0625, 0.0, 0.0, 0.0, 1.0, 1.0, 0.125, 1.0, 0.7708333333333334, 0.8958333333333334, 0.0, 0.0, 0.0625, 0.041666666666666664, 0.9166666666666666, 0.08333333333333333, 0.0, 0.9583333333333334, 0.0, 0.0, 0.0, 0.0, 0.0, 0.0, 0.5625, 0.9791666666666666, 0.6458333333333334, 1.0, 1.0, 1.0, 0.020833333333333332, 1.0, 0.20833333333333334, 0.8333333333333334, 0.0, 1.0, 0.0, 1.0, 0.9791666666666666, 0.5, 1.0, 1.0, 0.7083333333333334, 0.0, 0.0, 0.5833333333333334, 0.0, 0.9583333333333334, 0.0, 1.0, 0.0, 1.0, 0.0, 0.0, 0.0, 0.0, 1.0, 0.0, 1.0, 0.0, 0.9791666666666666, 0.0, 1.0, 0.0, 1.0, 0.0, 1.0, 0.0, 1.0, 0.020833333333333332, 0.0, 0.0, 0.10416666666666667, 0.0, 1.0, 0.0625, 0.0, 0.0, 0.8333333333333334, 0.0, 1.0, 1.0, 0.0, 0.020833333333333332, 1.0, 0.6458333333333334, 1.0, 0.0625, 0.0625, 0.0, 1.0, 0.0, 1.0, 0.9791666666666666, 0.0, 0.0, 0.8958333333333334, 0.0, 0.0, 0.6875, 0.0, 0.0, 0.8958333333333334, 0.0625, 0.0, 0.0625, 0.0, 0.0, 0.0, 0.9375, 0.0, 1.0, 0.3125, 0.0, 1.0, 0.0, 1.0, 0.0, 0.0, 0.0, 1.0, 0.9166666666666666, 0.0, 1.0, 0.08333333333333333, 0.08333333333333333, 1.0, 1.0, 0.0, 1.0, 0.9791666666666666, 1.0, 0.0, 0.0, 0.0, 0.9791666666666666, 0.125, 0.0, 1.0, 0.0, 0.0, 0.0625, 0.0, 0.0, 1.0, 0.0, 0.0, 0.0, 0.0, 0.0, 0.9583333333333334, 0.0, 0.0, 1.0, 0.9375, 0.9791666666666666, 0.0, 0.0, 0.0, 1.0, 0.0, 1.0, 0.0, 1.0, 1.0, 1.0, 1.0, 1.0, 0.0, 0.041666666666666664, 1.0, 0.9583333333333334, 0.0, 0.0, 0.375, 0.0, 0.0, 0.0, 0.0, 1.0, 0.0625, 0.0, 0.0, 1.0, 0.0, 1.0, 0.0, 0.0, 0.0, 1.0, 1.0, 0.3958333333333333, 1.0, 0.6041666666666666, 0.041666666666666664, 0.0, 1.0, 0.0, 0.5833333333333334, 0.0, 0.0, 1.0, 1.0, 1.0, 1.0, 1.0, 0.0, 0.0, 0.0, 1.0, 0.9791666666666666, 1.0, 0.0, 0.0, 0.0, 1.0, 1.0, 1.0, 0.0, 0.0, 0.9166666666666666, 0.0625, 1.0, 0.9791666666666666, 0.0, 0.0, 0.0, 1.0, 0.0, 0.0, 0.0, 0.0, 0.0, 1.0, 0.0, 0.9166666666666666, 0.0, 1.0, 0.0, 1.0, 0.020833333333333332, 1.0, 1.0, 0.020833333333333332, 1.0, 0.0, 0.0, 1.0, 0.0, 0.0, 1.0, 0.0, 0.0, 1.0, 0.0, 0.0625, 0.0625, 0.0, 0.7291666666666666, 0.9791666666666666, 0.0, 0.0, 1.0, 0.0, 0.0, 0.0, 0.0, 0.08333333333333333, 0.16666666666666666, 1.0, 0.0, 0.0, 0.0, 0.0, 1.0, 0.0, 0.0, 1.0, 1.0, 0.0, 1.0, 1.0, 0.08333333333333333, 1.0, 1.0, 0.0625, 0.0, 1.0, 0.020833333333333332, 0.0, 1.0, 0.0, 1.0, 1.0, 0.0, 0.9791666666666666, 1.0, 0.0, 0.0, 1.0, 0.8958333333333334, 1.0, 0.9791666666666666, 0.2708333333333333, 1.0, 0.0, 0.10416666666666667, 1.0, 0.6458333333333334, 0.4583333333333333, 0.125, 0.20833333333333334, 0.020833333333333332, 0.8541666666666666, 0.0, 0.4791666666666667, 0.875, 0.0, 0.22916666666666666, 0.08333333333333333, 0.0, 0.8125, 0.0, 0.0, 0.5416666666666666, 0.7291666666666666, 0.0, 0.1875, 1.0, 0.0, 0.08333333333333333, 1.0, 1.0, 0.125, 0.0, 1.0, 0.0, 1.0, 1.0, 0.0, 0.6041666666666666, 0.3333333333333333, 0.0, 1.0, 1.0, 0.0, 1.0, 1.0, 0.2916666666666667, 0.020833333333333332, 0.0, 0.0, 1.0, 1.0, 0.0, 0.9791666666666666, 0.0, 0.0, 1.0, 0.0, 0.0, 0.0, 0.0, 0.0, 1.0, 0.0, 0.0, 0.0, 0.0, 0.0, 1.0, 1.0, 1.0, 0.9791666666666666, 1.0, 1.0, 0.0, 1.0, 0.08333333333333333, 1.0, 1.0, 0.4791666666666667, 1.0, 1.0, 0.0, 1.0, 0.0, 1.0, 1.0, 1.0, 0.0, 0.0, 1.0, 0.0, 1.0, 0.0, 0.08333333333333333, 0.0, 1.0, 0.0, 1.0, 1.0, 0.16666666666666666, 1.0, 0.0, 1.0, 0.0, 0.0, 1.0, 0.0, 0.0, 0.9791666666666666, 0.0, 1.0, 0.0, 1.0, 0.0, 0.0, 0.0, 1.0, 0.0, 0.0, 0.0, 0.9375, 0.0, 0.9791666666666666, 0.0, 1.0, 1.0, 0.0, 1.0, 1.0, 0.0, 1.0, 0.9791666666666666, 0.020833333333333332, 1.0, 1.0, 0.08333333333333333, 1.0, 0.0, 0.0, 0.0, 0.0, 0.9791666666666666, 1.0, 1.0, 0.0, 0.0, 0.0, 0.0, 0.0, 0.0, 0.22916666666666666, 1.0, 0.8958333333333334, 0.2708333333333333, 0.9375, 0.3125, 0.6458333333333334, 0.0, 1.0, 0.0, 0.8125, 0.4166666666666667, 0.0, 1.0, 1.0, 0.0, 1.0, 1.0, 0.08333333333333333, 0.10416666666666667, 0.9791666666666666, 0.0, 0.9791666666666666, 1.0, 0.0, 1.0, 1.0, 0.0, 1.0, 1.0, 0.0625, 0.0, 1.0, 0.10416666666666667, 0.0, 1.0, 0.0, 0.9791666666666666, 1.0, 0.2708333333333333, 0.0, 1.0, 0.0, 0.0, 1.0, 0.0625, 1.0, 0.0, 0.125, 0.3541666666666667, 0.6458333333333334, 0.0, 0.9583333333333334, 0.9791666666666666, 0.8333333333333334, 0.0625, 1.0, 0.7291666666666666, 0.0, 0.0, 0.0625, 0.5833333333333334, 0.4166666666666667, 0.125, 0.9791666666666666, 0.6458333333333334, 0.08333333333333333, 1.0, 0.0, 0.0, 0.9791666666666666, 0.9791666666666666, 0.0, 0.0, 0.0, 0.2916666666666667, 1.0, 1.0, 1.0, 1.0, 0.9791666666666666, 0.0, 0.0, 1.0, 0.7083333333333334, 0.9791666666666666, 0.0, 0.0, 1.0, 0.0, 0.0, 1.0, 0.0, 0.0, 0.6458333333333334, 1.0, 0.6458333333333334, 0.0, 1.0, 0.08333333333333333, 0.0, 1.0, 0.1875, 1.0, 1.0, 0.6666666666666666, 1.0, 0.0, 0.0, 0.0, 1.0, 0.0, 1.0, 0.0, 0.0625, 0.020833333333333332, 1.0, 0.625, 1.0, 1.0, 0.0625, 0.0, 1.0, 0.10416666666666667, 0.0, 0.9791666666666666, 0.08333333333333333, 0.0, 0.0, 0.0, 1.0, 1.0, 0.0, 0.0, 1.0, 0.020833333333333332, 0.0, 0.9791666666666666, 0.0, 0.0, 0.0, 0.0, 1.0, 0.0, 0.7083333333333334, 0.0, 0.0, 0.125, 0.0, 0.9791666666666666, 0.0, 0.0, 1.0, 0.0, 0.0, 0.0, 0.0, 0.9791666666666666, 0.0, 0.0, 0.0, 0.9583333333333334, 0.0, 0.0, 0.0, 0.9375, 0.0, 0.0, 0.0, 1.0, 1.0, 0.0, 0.0, 0.0, 0.16666666666666666, 0.0, 0.0, 0.0, 0.0, 1.0, 0.0, 0.0, 1.0, 0.0625, 1.0, 1.0, 0.0, 1.0, 1.0, 0.0, 1.0, 1.0, 1.0, 0.0, 0.0, 0.6041666666666666, 0.0, 1.0, 0.08333333333333333, 1.0, 1.0, 0.0, 0.0, 0.0, 0.10416666666666667, 1.0, 1.0, 0.1875, 0.0, 1.0, 0.1875, 1.0, 0.0, 0.7708333333333334, 0.0, 0.9791666666666666, 0.1875, 0.9791666666666666, 1.0, 0.0625, 0.9375, 1.0, 0.5, 0.0, 0.020833333333333332, 0.4375, 0.9791666666666666, 0.0, 0.6458333333333334, 0.0, 1.0, 0.3958333333333333, 0.2708333333333333, 0.0, 0.14583333333333334, 0.020833333333333332, 1.0, 0.16666666666666666, 0.0, 0.0, 0.5833333333333334, 0.0, 0.0, 0.9791666666666666, 1.0, 0.0, 0.10416666666666667, 1.0, 0.0, 0.0625, 1.0, 0.9791666666666666, 0.14583333333333334, 1.0, 0.9791666666666666, 0.0, 1.0, 0.0, 0.0, 0.0, 1.0, 0.0, 0.0, 1.0, 0.5, 1.0, 1.0, 0.4375, 1.0, 1.0, 0.4583333333333333, 0.0, 0.0, 0.5833333333333334, 1.0, 0.0, 0.8541666666666666, 0.0, 1.0, 0.4791666666666667, 0.9791666666666666, 1.0, 0.0, 0.0, 0.9583333333333334, 0.0625, 0.8333333333333334, 0.0, 0.9791666666666666, 1.0, 0.0, 0.16666666666666666, 0.0, 0.0, 0.25, 0.9791666666666666, 1.0, 0.10416666666666667, 1.0, 1.0, 0.16666666666666666, 1.0, 0.9791666666666666, 0.8333333333333334, 0.4375, 0.5625, 0.2916666666666667, 1.0, 1.0, 0.020833333333333332, 1.0, 0.0, 0.10416666666666667, 1.0, 1.0, 0.0, 0.8125, 0.16666666666666666, 0.20833333333333334, 1.0, 1.0, 0.3541666666666667, 0.0, 1.0, 0.0, 0.0625, 1.0, 0.1875, 0.0, 1.0, 0.125, 0.0, 0.0, 0.875, 0.9583333333333334, 1.0, 0.10416666666666667, 0.0, 1.0, 0.0625, 1.0, 0.0, 0.0, 0.9791666666666666, 0.0, 0.0, 1.0, 0.9583333333333334, 0.10416666666666667, 0.0, 0.041666666666666664, 0.3125, 0.0, 1.0, 0.041666666666666664, 1.0, 0.0, 0.0, 0.0, 1.0, 0.16666666666666666, 1.0, 0.0, 0.20833333333333334, 0.3958333333333333, 0.9791666666666666, 0.10416666666666667, 0.0, 1.0, 0.0, 0.20833333333333334, 0.0, 0.22916666666666666, 0.0, 1.0, 0.0625, 1.0, 1.0, 0.0, 1.0, 1.0, 0.75, 0.0, 0.0, 0.6875, 0.0, 1.0, 0.0625, 0.9791666666666666, 1.0, 0.08333333333333333, 0.0, 1.0, 0.0, 0.0, 1.0, 0.14583333333333334, 1.0, 1.0, 0.0, 0.08333333333333333, 1.0, 0.0, 0.9791666666666666, 1.0, 0.1875, 1.0, 1.0, 0.0625, 0.20833333333333334, 0.9791666666666666, 0.1875, 0.7291666666666666, 0.08333333333333333, 0.4791666666666667, 0.6458333333333334, 0.0625, 0.5833333333333334, 1.0, 0.0, 0.625, 0.0625, 0.0625, 0.0625, 0.0625, 0.0625, 0.0, 0.9166666666666666, 0.10416666666666667, 0.4791666666666667, 0.14583333333333334, 0.125, 0.8333333333333334, 0.1875, 0.3958333333333333, 0.8958333333333334, 0.0, 0.375, 0.0, 0.0625, 0.8333333333333334, 0.3125, 0.0, 0.4375, 0.9166666666666666, 0.0, 0.6041666666666666, 0.25, 0.3333333333333333, 0.5625, 0.10416666666666667, 0.10416666666666667, 0.5208333333333334, 0.7708333333333334, 0.10416666666666667, 0.22916666666666666, 0.0, 0.7083333333333334, 0.0625, 0.14583333333333334, 0.8541666666666666, 0.4375, 0.5625, 1.0, 0.0625, 0.3125, 0.9791666666666666, 0.4166666666666667, 1.0, 0.9791666666666666, 0.7708333333333334, 0.7708333333333334, 0.2708333333333333, 0.8333333333333334, 0.0, 0.8958333333333334, 0.3541666666666667, 0.0, 0.0, 0.3541666666666667, 0.08333333333333333, 0.0, 0.14583333333333334, 0.0, 0.0, 0.75, 0.6666666666666666, 0.3541666666666667, 0.4791666666666667, 0.9166666666666666, 0.625, 0.10416666666666667, 0.9791666666666666, 1.0, 0.0, 0.6458333333333334, 0.0, 0.14583333333333334, 0.020833333333333332, 0.4375, 0.7708333333333334, 0.0, 0.9791666666666666, 0.20833333333333334, 0.16666666666666666, 0.0, 0.4166666666666667, 1.0, 0.7291666666666666, 0.5208333333333334, 1.0, 1.0, 0.020833333333333332, 1.0, 0.0625, 0.0, 0.10416666666666667, 1.0, 0.4791666666666667, 0.0, 0.0, 0.7916666666666666, 0.0, 0.0, 0.8958333333333334, 0.0, 0.0, 0.3125, 1.0, 0.0, 0.22916666666666666, 1.0, 1.0, 0.3125, 0.2708333333333333, 0.0, 0.2916666666666667, 0.0, 1.0, 0.25, 0.0, 0.9791666666666666, 0.3125, 0.25, 0.0, 0.5, 0.0, 1.0, 0.125, 1.0, 0.0, 0.5625, 1.0, 0.3541666666666667, 0.22916666666666666, 0.9791666666666666, 0.16666666666666666, 0.75, 0.2708333333333333, 0.9791666666666666, 0.1875, 0.7083333333333334, 0.2708333333333333, 0.25, 0.16666666666666666, 0.8958333333333334, 0.8125, 1.0, 0.9791666666666666, 0.10416666666666667, 0.9791666666666666, 1.0, 0.0, 1.0, 1.0, 0.020833333333333332, 1.0, 0.0, 0.10416666666666667, 0.9375, 1.0, 0.22916666666666666, 1.0, 1.0, 1.0, 0.14583333333333334, 0.0, 0.3958333333333333, 1.0, 0.0, 0.0, 0.9375, 0.0, 0.7083333333333334, 0.0, 0.0, 0.8333333333333334, 0.0, 0.0, 0.14583333333333334, 1.0, 0.0, 0.3125, 1.0, 0.9375, 0.6041666666666666, 1.0, 0.9375, 0.6875, 0.08333333333333333, 0.9375, 0.625, 0.0, 1.0, 0.0625, 1.0, 1.0, 0.5208333333333334, 0.0, 0.0, 0.4166666666666667, 0.7916666666666666, 0.0, 1.0, 0.3541666666666667, 1.0, 0.3333333333333333, 1.0, 0.0, 0.75, 0.6041666666666666, 1.0, 0.10416666666666667, 0.3125, 0.8125, 0.3958333333333333, 1.0, 0.9791666666666666, 0.75, 0.020833333333333332, 0.0, 0.25, 0.0, 0.0, 0.4791666666666667, 0.16666666666666666, 0.8541666666666666, 0.3333333333333333, 0.0, 0.0, 0.2916666666666667, 0.9791666666666666, 1.0, 0.0, 0.0, 0.0, 0.75, 1.0, 0.0, 0.14583333333333334, 0.375, 1.0, 0.020833333333333332, 1.0, 1.0, 0.16666666666666666, 0.0, 1.0, 0.125, 0.0, 0.9375, 0.125, 0.0, 1.0, 0.1875, 0.0, 0.9791666666666666, 0.22916666666666666, 0.08333333333333333, 0.25, 0.20833333333333334, 1.0, 1.0, 0.16666666666666666, 0.9791666666666666, 1.0, 0.4375, 0.0, 0.0, 0.4583333333333333, 0.9791666666666666, 0.3333333333333333, 0.020833333333333332, 1.0, 0.1875, 0.1875, 0.0, 0.0, 0.6458333333333334, 0.2916666666666667, 0.9375, 0.14583333333333334, 0.25, 1.0, 0.14583333333333334, 0.8125, 1.0, 0.4375, 1.0, 1.0, 0.9791666666666666, 0.0, 0.0, 0.3541666666666667, 0.9791666666666666, 1.0, 0.625, 0.2708333333333333, 0.7291666666666666, 0.1875, 0.10416666666666667, 0.020833333333333332, 0.7291666666666666, 0.0625, 0.0, 0.9166666666666666, 0.041666666666666664, 0.0, 0.08333333333333333, 0.2708333333333333, 0.9791666666666666, 0.0, 0.0, 0.08333333333333333, 0.08333333333333333, 0.0, 0.7916666666666666, 0.75, 0.9166666666666666, 0.08333333333333333, 0.9791666666666666, 0.0, 1.0, 0.9166666666666666, 0.2708333333333333, 0.20833333333333334, 0.75, 0.3541666666666667, 0.0, 0.625, 0.08333333333333333, 0.5833333333333334, 0.5833333333333334, 0.3333333333333333, 0.5833333333333334, 0.4166666666666667, 0.2708333333333333, 0.9791666666666666, 0.7083333333333334, 0.25, 0.0, 1.0, 0.3333333333333333, 0.8333333333333334, 1.0, 0.20833333333333334, 0.4166666666666667, 1.0, 0.625, 1.0, 0.0, 0.1875, 0.9166666666666666, 0.25, 0.20833333333333334, 0.0, 1.0, 0.4166666666666667, 0.0, 1.0, 0.625, 0.0, 1.0, 0.7708333333333334, 1.0, 1.0, 0.5, 0.8958333333333334, 0.8958333333333334, 0.6666666666666666, 0.8125, 0.0, 0.1875, 1.0, 0.0, 0.4583333333333333, 1.0, 1.0, 0.14583333333333334, 0.0, 0.0, 0.5416666666666666, 0.0, 1.0, 0.3125, 0.0, 0.0, 0.2708333333333333, 1.0, 0.0, 0.7083333333333334, 0.0, 1.0, 0.7708333333333334, 0.14583333333333334, 0.8541666666666666, 0.5416666666666666, 1.0, 1.0, 0.375, 0.0, 0.0, 0.4791666666666667, 0.20833333333333334, 0.8541666666666666, 0.16666666666666666, 0.0, 1.0, 0.0625, 0.2708333333333333, 0.0, 0.5625, 0.3333333333333333, 0.6666666666666666, 0.3958333333333333, 1.0, 1.0, 0.16666666666666666, 0.3125, 1.0, 0.25, 0.0, 1.0, 0.25, 0.22916666666666666, 0.5833333333333334, 0.16666666666666666, 0.4791666666666667, 0.3333333333333333, 0.5833333333333334, 0.9791666666666666, 0.6875, 0.3333333333333333, 0.6458333333333334, 0.0, 0.3958333333333333, 0.0, 0.14583333333333334, 0.6875, 0.0, 0.0, 0.7083333333333334, 0.5625, 0.875, 0.6458333333333334, 0.375, 0.5833333333333334, 0.3958333333333333, 0.0, 0.3333333333333333, 0.3958333333333333, 0.4375, 0.3541666666666667, 0.625, 0.0, 0.0, 0.0, 0.0625, 0.0, 0.0, 0.0625, 1.0, 0.0625, 0.8541666666666666, 1.0, 0.14583333333333334, 0.9166666666666666, 0.16666666666666666, 0.1875, 0.08333333333333333, 1.0, 0.3333333333333333, 0.0, 0.0, 0.7916666666666666, 0.0625, 0.0625, 0.3125, 0.7708333333333334, 1.0, 0.8333333333333334, 0.0, 0.0, 0.75, 0.0, 0.0, 0.22916666666666666, 1.0, 1.0, 0.0, 0.0, 1.0, 0.0625, 1.0, 0.0, 0.0, 0.0, 1.0, 0.10416666666666667, 0.8541666666666666, 0.9791666666666666, 0.08333333333333333, 0.14583333333333334, 0.0, 0.3125, 0.0, 1.0, 0.0625, 0.0, 1.0, 0.0, 1.0, 0.9791666666666666, 0.0625, 0.020833333333333332, 1.0, 0.0, 0.0, 1.0, 0.0625, 0.0, 0.0, 0.9791666666666666, 0.0, 0.0, 0.3125, 1.0, 1.0, 0.3541666666666667, 1.0, 0.0, 0.0, 0.0, 0.0, 0.0, 0.9791666666666666, 1.0, 0.375, 1.0, 1.0, 0.9375, 0.0, 0.0, 0.9375, 0.0, 1.0, 0.0625, 1.0, 0.0, 0.3125, 0.0, 1.0, 0.375, 0.0, 0.0, 0.14583333333333334, 0.9166666666666666, 1.0, 0.020833333333333332, 1.0, 1.0, 0.8333333333333334, 0.0, 1.0, 0.125, 0.0, 0.0, 0.2708333333333333, 1.0, 0.0, 0.875, 0.0, 0.0, 0.4583333333333333, 0.22916666666666666, 1.0, 0.4791666666666667, 1.0, 1.0, 0.0, 0.0, 0.0, 0.3125, 0.0, 0.0, 0.3125, 0.9791666666666666, 1.0, 1.0, 0.0, 0.0, 0.9791666666666666, 0.0625, 1.0, 0.22916666666666666, 0.9791666666666666, 1.0, 0.6041666666666666, 0.08333333333333333, 1.0, 0.3333333333333333, 0.0, 0.0, 0.1875, 0.0, 0.0, 0.9791666666666666, 0.0, 0.0, 0.9166666666666666, 0.0, 1.0, 0.10416666666666667, 0.9791666666666666, 1.0, 0.10416666666666667, 0.0, 1.0, 0.0, 0.9791666666666666, 1.0, 0.10416666666666667, 1.0, 1.0, 0.6875, 1.0, 0.9791666666666666, 0.125, 1.0, 0.0, 0.5625, 0.0, 0.0, 0.6458333333333334, 0.0, 1.0, 1.0, 0.0, 0.0, 0.875, 0.0, 0.0, 0.2708333333333333, 0.3541666666666667, 1.0, 1.0, 0.0, 0.0, 0.8541666666666666, 0.0, 0.0, 0.6458333333333334, 0.5833333333333334, 0.3125, 0.4375, 0.375, 0.4166666666666667, 0.041666666666666664, 1.0, 1.0, 0.4166666666666667, 1.0, 0.2916666666666667, 0.4166666666666667, 0.0625, 0.6458333333333334, 0.4583333333333333, 0.10416666666666667, 0.0625, 0.25, 1.0, 1.0, 0.16666666666666666, 0.5208333333333334, 1.0, 0.3541666666666667, 0.2916666666666667, 0.2916666666666667, 0.5833333333333334, 1.0, 0.0, 0.6458333333333334, 1.0, 1.0, 0.125, 1.0, 1.0, 0.14583333333333334, 0.9791666666666666, 0.0, 0.10416666666666667, 0.0, 1.0, 0.10416666666666667, 1.0, 1.0, 0.0625, 0.9791666666666666, 0.0, 0.0625, 0.9791666666666666, 0.0, 0.14583333333333334, 0.0, 0.0, 0.6666666666666666, 0.0, 1.0, 0.4375, 0.0, 1.0, 0.0, 1.0, 0.0, 0.08333333333333333, 0.0, 0.9791666666666666, 0.0, 0.0, 1.0, 0.4583333333333333, 1.0, 1.0, 0.3125, 0.0, 1.0, 0.22916666666666666, 1.0, 0.0, 0.0, 0.0, 1.0, 0.10416666666666667, 0.0, 0.9791666666666666, 0.020833333333333332, 0.0, 1.0, 0.0, 1.0, 1.0, 0.375, 0.0, 1.0, 0.4375, 1.0, 1.0, 0.0, 1.0, 0.0, 0.0, 1.0, 1.0, 0.3125, 0.020833333333333332, 0.0, 0.041666666666666664, 1.0, 0.0, 0.0, 0.9791666666666666, 0.9791666666666666, 0.25, 0.0, 0.0, 0.75, 0.0, 1.0, 0.16666666666666666, 0.9166666666666666, 1.0, 0.8333333333333334, 0.0, 1.0, 0.0625, 1.0, 1.0, 0.4166666666666667, 1.0, 0.0, 0.7708333333333334, 1.0, 0.0, 0.25, 1.0, 1.0, 0.3958333333333333, 1.0, 1.0, 0.5, 0.6458333333333334, 0.75, 0.16666666666666666, 1.0, 1.0, 0.75, 0.8958333333333334, 0.10416666666666667, 0.8958333333333334, 0.8333333333333334, 0.25, 0.9166666666666666, 0.8958333333333334, 0.8541666666666666, 0.9166666666666666, 0.0, 0.9791666666666666, 0.20833333333333334, 0.0, 1.0, 0.3125, 1.0, 1.0, 1.0, 0.10416666666666667, 0.0, 0.8333333333333334, 0.0, 1.0, 0.4583333333333333, 0.7916666666666666, 0.9791666666666666, 0.5625, 0.875, 0.1875, 0.7083333333333334, 0.10416666666666667, 1.0, 0.4791666666666667, 0.0, 0.0, 0.8125, 0.2708333333333333, 0.7291666666666666, 0.9583333333333334, 1.0, 1.0, 0.75, 1.0, 0.0, 0.9791666666666666, 0.0, 1.0, 0.14583333333333334, 0.0, 0.0, 0.8541666666666666, 0.0, 0.0, 0.0, 0.0, 0.0, 0.020833333333333332, 1.0, 1.0, 0.9375, 0.0, 0.0, 0.25, 1.0, 0.0, 0.625, 0.08333333333333333, 0.0, 0.9791666666666666, 1.0, 1.0, 0.041666666666666664, 0.0, 0.9791666666666666, 0.08333333333333333, 0.9791666666666666, 0.0, 0.10416666666666667, 0.0, 0.0, 1.0, 0.9166666666666666, 0.9166666666666666, 0.7916666666666666, 0.0, 1.0, 0.0, 1.0, 1.0, 1.0]\n"
     ]
    }
   ],
   "source": [
    "i = 0;\n",
    "j = 0;\n",
    "AT = 0;\n",
    "GC = 0;\n",
    "total = 0;\n",
    "x = [];\n",
    "y_AT = [];\n",
    "y_GC = [];\n",
    "while i < len(align[0].seq):\n",
    "    while j < len(align):\n",
    "        nucleotide = align[j].seq[i]\n",
    "        if nucleotide == \"A\" or nucleotide == \"T\":\n",
    "            AT += 1\n",
    "        elif nucleotide == \"G\" or nucleotide == \"C\":\n",
    "            GC += 1\n",
    "        else:\n",
    "            total += 1\n",
    "        j += 1\n",
    "    x.append(i+1)\n",
    "    y_AT.append(AT/(GC + AT + total))\n",
    "    y_GC.append(GC/(GC + AT + total))\n",
    "    AT, GC, total, j = 0, 0, 0, 0\n",
    "    i += 1\n",
    "\n",
    "print(y_AT)     "
   ]
  },
  {
   "cell_type": "code",
   "execution_count": 19,
   "metadata": {},
   "outputs": [
    {
     "data": {
      "image/png": "[encoded data removed]",
      "text/plain": [
       "<Figure size 432x288 with 1 Axes>"
      ]
     },
     "metadata": {
      "needs_background": "light"
     },
     "output_type": "display_data"
    }
   ],
   "source": [
    "\n",
    "plt.ylabel('%AT or %GC')\n",
    "plt.xlabel('Position in Sequence')\n",
    "p1 = plt.bar(x, y_GC, color=\"red\", width = 1)\n",
    "p2 = plt.bar(x, y_AT, bottom=y_GC, width = 1)\n",
    "plt.show()\n"
   ]
  },
  {
   "cell_type": "markdown",
   "metadata": {},
   "source": [
    "Cluster 1 Position in Sequence vs AT/GC percentage"
   ]
  },
  {
   "cell_type": "code",
   "execution_count": 20,
   "metadata": {},
   "outputs": [
    {
     "data": {
      "image/png": "[encoded data removed]",
      "text/plain": [
       "<Figure size 432x288 with 1 Axes>"
      ]
     },
     "metadata": {
      "needs_background": "light"
     },
     "output_type": "display_data"
    }
   ],
   "source": [
    "def AGCTbarplot(clusterATCG):\n",
    "    plt.ylabel('%AT or %GC')\n",
    "    plt.xlabel('Position in Sequence')\n",
    "    p1 = plt.bar([x for x in range(len(clusterATCG[0]))], clusterATCG[0], color=\"red\", width = 1)\n",
    "    p2 = plt.bar([x for x in range(len(clusterATCG[0]))], clusterATCG[1], bottom=clusterATCG[0], width = 1)\n",
    "    plt.show()\n",
    "AGCTbarplot(cluster1ATCG)\n"
   ]
  },
  {
   "cell_type": "code",
   "execution_count": 21,
   "metadata": {},
   "outputs": [
    {
     "data": {
      "image/png": "[encoded data removed]",
      "text/plain": [
       "<Figure size 432x288 with 1 Axes>"
      ]
     },
     "metadata": {
      "needs_background": "light"
     },
     "output_type": "display_data"
    }
   ],
   "source": [
    "AGCTbarplot(cluster2ATCG)"
   ]
  },
  {
   "cell_type": "code",
   "execution_count": 22,
   "metadata": {},
   "outputs": [
    {
     "data": {
      "text/plain": [
       "[2217, 2217, 2217, 2217, 2217, 2217, 2217, 2217, 2217]"
      ]
     },
     "execution_count": 22,
     "metadata": {},
     "output_type": "execute_result"
    }
   ],
   "source": [
    "[len(x) for x in cluster1seq]"
   ]
  },
  {
   "cell_type": "code",
   "execution_count": 23,
   "metadata": {},
   "outputs": [
    {
     "name": "stdout",
     "output_type": "stream",
     "text": [
      "[[2217, 2217, 2217, 2217, 2217, 2217, 2217, 2217, 2217], [2196, 2196, 2196], [2217, 2217, 2217, 2217, 2217], [2217, 2217, 2217, 2217, 2217, 2217, 2217, 2217, 2217], [2187, 2187, 2187, 2187, 2187], [2190, 2190], [2214, 2214, 2214, 2214, 2214, 2214], [2211, 2211, 2211], [2211, 2211, 2211], [2211], [2217]]\n"
     ]
    }
   ],
   "source": [
    "seq_length = []\n",
    "num = 1\n",
    "while num < 12:\n",
    "    temp_cluster_org = eval(\"cluster\"+str(num)+\"seq\")\n",
    "    y = 0\n",
    "    temp_single_cluster = []\n",
    "    while y < len(temp_cluster_org):\n",
    "        temp_single_cluster.append(len(temp_cluster_org[y]))\n",
    "        y+=1\n",
    "    \n",
    "    seq_length.append(temp_single_cluster)\n",
    "    num += 1\n",
    "    \n",
    "print(seq_length)"
   ]
  },
  {
   "cell_type": "code",
   "execution_count": 24,
   "metadata": {},
   "outputs": [
    {
     "data": {
      "text/plain": [
       "11"
      ]
     },
     "execution_count": 24,
     "metadata": {},
     "output_type": "execute_result"
    }
   ],
   "source": [
    "len(clusters)"
   ]
  },
  {
   "cell_type": "code",
   "execution_count": null,
   "metadata": {},
   "outputs": [],
   "source": []
  },
  {
   "cell_type": "code",
   "execution_count": 25,
   "metadata": {},
   "outputs": [
    {
     "data": {
      "image/png": "[encoded data removed]",
      "text/plain": [
       "<Figure size 432x288 with 1 Axes>"
      ]
     },
     "metadata": {
      "needs_background": "light"
     },
     "output_type": "display_data"
    }
   ],
   "source": [
    "import numpy as np\n",
    "\n",
    "plt.ylabel('Sequence Length')\n",
    "plt.xlabel('Cluster')\n",
    "plt.ylim(2000, 2300)\n",
    "plt.xlim(0,12)\n",
    "plt.xticks(np.arange(11), ('C1', 'C2', 'C3', 'C4', 'C5'))\n",
    "\n",
    "p1 = plt.bar([1,2,3,4,5,6,7,8,9,10,11], [np.mean(x)for x in seq_length], yerr=[np.std(x) for x in seq_length],  color=\"red\", width = 1)\n",
    "plt.show()\n"
   ]
  },
  {
   "cell_type": "code",
   "execution_count": 53,
   "metadata": {},
   "outputs": [
    {
     "data": {
      "text/plain": [
       "{'boxes': [<matplotlib.lines.Line2D at 0x7f1e512a4d30>],\n",
       " 'caps': [<matplotlib.lines.Line2D at 0x7f1e512aca58>,\n",
       "  <matplotlib.lines.Line2D at 0x7f1e512ace80>],\n",
       " 'fliers': [<matplotlib.lines.Line2D at 0x7f1e512b2710>],\n",
       " 'means': [],\n",
       " 'medians': [<matplotlib.lines.Line2D at 0x7f1e512acfd0>],\n",
       " 'whiskers': [<matplotlib.lines.Line2D at 0x7f1e512a4e80>,\n",
       "  <matplotlib.lines.Line2D at 0x7f1e512ac630>]}"
      ]
     },
     "execution_count": 53,
     "metadata": {},
     "output_type": "execute_result"
    },
    {
     "data": {
      "image/png": "[encoded data removed]",
      "text/plain": [
       "<Figure size 432x288 with 1 Axes>"
      ]
     },
     "metadata": {
      "needs_background": "light"
     },
     "output_type": "display_data"
    }
   ],
   "source": [
    "plt.ylim(1, 2)\n",
    "plt.boxplot([1, 1.2])"
   ]
  },
  {
   "cell_type": "code",
   "execution_count": 45,
   "metadata": {},
   "outputs": [
    {
     "data": {
      "text/plain": [
       "{'boxes': [<matplotlib.patches.PathPatch at 0x7f1e50b47b70>,\n",
       "  <matplotlib.patches.PathPatch at 0x7f1e500c70f0>,\n",
       "  <matplotlib.patches.PathPatch at 0x7f1e500d5c18>,\n",
       "  <matplotlib.patches.PathPatch at 0x7f1e50d75048>,\n",
       "  <matplotlib.patches.PathPatch at 0x7f1e4fc76198>,\n",
       "  <matplotlib.patches.PathPatch at 0x7f1e4fc4c5c0>,\n",
       "  <matplotlib.patches.PathPatch at 0x7f1e4fc558d0>,\n",
       "  <matplotlib.patches.PathPatch at 0x7f1e505be550>,\n",
       "  <matplotlib.patches.PathPatch at 0x7f1e502f75c0>,\n",
       "  <matplotlib.patches.PathPatch at 0x7f1e502f3320>,\n",
       "  <matplotlib.patches.PathPatch at 0x7f1e4f827cf8>],\n",
       " 'caps': [<matplotlib.lines.Line2D at 0x7f1e500ec7f0>,\n",
       "  <matplotlib.lines.Line2D at 0x7f1e500ecac8>,\n",
       "  <matplotlib.lines.Line2D at 0x7f1e500c63c8>,\n",
       "  <matplotlib.lines.Line2D at 0x7f1e500c6898>,\n",
       "  <matplotlib.lines.Line2D at 0x7f1e500e4748>,\n",
       "  <matplotlib.lines.Line2D at 0x7f1e500e4a58>,\n",
       "  <matplotlib.lines.Line2D at 0x7f1e50d75a90>,\n",
       "  <matplotlib.lines.Line2D at 0x7f1e507b9668>,\n",
       "  <matplotlib.lines.Line2D at 0x7f1e4fc4e898>,\n",
       "  <matplotlib.lines.Line2D at 0x7f1e4fc4e198>,\n",
       "  <matplotlib.lines.Line2D at 0x7f1e4fc625f8>,\n",
       "  <matplotlib.lines.Line2D at 0x7f1e4fc62898>,\n",
       "  <matplotlib.lines.Line2D at 0x7f1e505dcfd0>,\n",
       "  <matplotlib.lines.Line2D at 0x7f1e4fc65898>,\n",
       "  <matplotlib.lines.Line2D at 0x7f1e51a79e10>,\n",
       "  <matplotlib.lines.Line2D at 0x7f1e511ef588>,\n",
       "  <matplotlib.lines.Line2D at 0x7f1e511ec978>,\n",
       "  <matplotlib.lines.Line2D at 0x7f1e511ecc50>,\n",
       "  <matplotlib.lines.Line2D at 0x7f1e511c0630>,\n",
       "  <matplotlib.lines.Line2D at 0x7f1e511c0828>,\n",
       "  <matplotlib.lines.Line2D at 0x7f1e525f4dd8>,\n",
       "  <matplotlib.lines.Line2D at 0x7f1e589ecf28>],\n",
       " 'fliers': [<matplotlib.lines.Line2D at 0x7f1e500c7b00>,\n",
       "  <matplotlib.lines.Line2D at 0x7f1e500d59e8>,\n",
       "  <matplotlib.lines.Line2D at 0x7f1e50d50cf8>,\n",
       "  <matplotlib.lines.Line2D at 0x7f1e4fc76860>,\n",
       "  <matplotlib.lines.Line2D at 0x7f1e4fc4c630>,\n",
       "  <matplotlib.lines.Line2D at 0x7f1e4fc55898>,\n",
       "  <matplotlib.lines.Line2D at 0x7f1e508dbcc0>,\n",
       "  <matplotlib.lines.Line2D at 0x7f1e511efa90>,\n",
       "  <matplotlib.lines.Line2D at 0x7f1e52d4f518>,\n",
       "  <matplotlib.lines.Line2D at 0x7f1e4f80bc50>,\n",
       "  <matplotlib.lines.Line2D at 0x7f1e58a26518>],\n",
       " 'means': [],\n",
       " 'medians': [<matplotlib.lines.Line2D at 0x7f1e500ec588>,\n",
       "  <matplotlib.lines.Line2D at 0x7f1e500c67b8>,\n",
       "  <matplotlib.lines.Line2D at 0x7f1e500e4940>,\n",
       "  <matplotlib.lines.Line2D at 0x7f1e4fc76828>,\n",
       "  <matplotlib.lines.Line2D at 0x7f1e4fc4ee48>,\n",
       "  <matplotlib.lines.Line2D at 0x7f1e4fc62128>,\n",
       "  <matplotlib.lines.Line2D at 0x7f1e508e2978>,\n",
       "  <matplotlib.lines.Line2D at 0x7f1e511eff28>,\n",
       "  <matplotlib.lines.Line2D at 0x7f1e511ecf98>,\n",
       "  <matplotlib.lines.Line2D at 0x7f1e52e56c18>,\n",
       "  <matplotlib.lines.Line2D at 0x7f1e589da160>],\n",
       " 'whiskers': [<matplotlib.lines.Line2D at 0x7f1e507a6908>,\n",
       "  <matplotlib.lines.Line2D at 0x7f1e50d5af60>,\n",
       "  <matplotlib.lines.Line2D at 0x7f1e500c7f98>,\n",
       "  <matplotlib.lines.Line2D at 0x7f1e500c7cf8>,\n",
       "  <matplotlib.lines.Line2D at 0x7f1e500d5ac8>,\n",
       "  <matplotlib.lines.Line2D at 0x7f1e500d5d30>,\n",
       "  <matplotlib.lines.Line2D at 0x7f1e50d75eb8>,\n",
       "  <matplotlib.lines.Line2D at 0x7f1e50d75898>,\n",
       "  <matplotlib.lines.Line2D at 0x7f1e505d6550>,\n",
       "  <matplotlib.lines.Line2D at 0x7f1e505dbba8>,\n",
       "  <matplotlib.lines.Line2D at 0x7f1e4fc4c0f0>,\n",
       "  <matplotlib.lines.Line2D at 0x7f1e4fc62400>,\n",
       "  <matplotlib.lines.Line2D at 0x7f1e4fc551d0>,\n",
       "  <matplotlib.lines.Line2D at 0x7f1e4fc55e10>,\n",
       "  <matplotlib.lines.Line2D at 0x7f1e505be9b0>,\n",
       "  <matplotlib.lines.Line2D at 0x7f1e4f8a0198>,\n",
       "  <matplotlib.lines.Line2D at 0x7f1e502f7a90>,\n",
       "  <matplotlib.lines.Line2D at 0x7f1e502f7128>,\n",
       "  <matplotlib.lines.Line2D at 0x7f1e502f3eb8>,\n",
       "  <matplotlib.lines.Line2D at 0x7f1e511c0128>,\n",
       "  <matplotlib.lines.Line2D at 0x7f1e4f804908>,\n",
       "  <matplotlib.lines.Line2D at 0x7f1e51a401d0>]}"
      ]
     },
     "execution_count": 45,
     "metadata": {},
     "output_type": "execute_result"
    },
    {
     "data": {
      "image/png": "[encoded data removed]",
      "text/plain": [
       "<Figure size 432x288 with 1 Axes>"
      ]
     },
     "metadata": {
      "needs_background": "light"
     },
     "output_type": "display_data"
    }
   ],
   "source": [
    "\n",
    "plt.ylabel('Sequence Length')\n",
    "plt.xlabel('Cluster')\n",
    "\n",
    "plt.boxplot(seq_length, vert=True, patch_artist=True)"
   ]
  },
  {
   "cell_type": "code",
   "execution_count": 71,
   "metadata": {},
   "outputs": [
    {
     "name": "stdout",
     "output_type": "stream",
     "text": [
      "[2238, 2238, 2238, 2238, 2238, 2238, 2238, 2238, 2238, 2238, 2238, 2238, 2238, 2238, 2238, 2238, 2238, 2238, 2238, 2238, 2238, 2238, 2238, 2238, 2238, 2238, 2238, 2238, 2238, 2238, 2238, 2238, 2238, 2238, 2238, 2238, 2238, 2238, 2238, 2238, 2238, 2238, 2238, 2238, 2238, 2238, 2238, 2238]\n"
     ]
    },
    {
     "data": {
      "text/plain": [
       "{'boxes': [<matplotlib.lines.Line2D at 0x7f1e50bf4e10>],\n",
       " 'caps': [<matplotlib.lines.Line2D at 0x7f1e50bfa860>,\n",
       "  <matplotlib.lines.Line2D at 0x7f1e50bfac88>],\n",
       " 'fliers': [<matplotlib.lines.Line2D at 0x7f1e50b80518>],\n",
       " 'means': [],\n",
       " 'medians': [<matplotlib.lines.Line2D at 0x7f1e50b800f0>],\n",
       " 'whiskers': [<matplotlib.lines.Line2D at 0x7f1e50bf4f60>,\n",
       "  <matplotlib.lines.Line2D at 0x7f1e50bfa438>]}"
      ]
     },
     "execution_count": 71,
     "metadata": {},
     "output_type": "execute_result"
    },
    {
     "data": {
      "image/png": "[encoded data removed]",
      "text/plain": [
       "<Figure size 432x288 with 1 Axes>"
      ]
     },
     "metadata": {
      "needs_background": "light"
     },
     "output_type": "display_data"
    }
   ],
   "source": [
    "all_seq_data = []\n",
    "for x in range(len(align)):\n",
    "    all_seq_data.append(len(align[x].seq))\n",
    "print(all_seq_data)\n",
    "plt.ylabel('Sequence Length')\n",
    "plt.xlabel('Cluster')\n",
    "plt.boxplot(all_seq_data)"
   ]
  },
  {
   "cell_type": "code",
   "execution_count": null,
   "metadata": {},
   "outputs": [],
   "source": []
  }
 ],
 "metadata": {
  "kernelspec": {
   "display_name": "Python 3",
   "language": "python",
   "name": "python3"
  },
  "language_info": {
   "codemirror_mode": {
    "name": "ipython",
    "version": 3
   },
   "file_extension": ".py",
   "mimetype": "text/x-python",
   "name": "python",
   "nbconvert_exporter": "python",
   "pygments_lexer": "ipython3",
   "version": "3.5.2"
  }
 },
 "nbformat": 4,
 "nbformat_minor": 2
}
