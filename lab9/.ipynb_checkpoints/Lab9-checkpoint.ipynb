{
 "cells": [
  {
   "cell_type": "raw",
   "metadata": {},
   "source": [
    "be131-02@meowth:~/computational_biology_BioE131/lab8/assembled_output$ assembly-stats scaffolds.fasta│\n",
    "                                                                                                     │\n",
    "stats for scaffolds.fasta                                                                            │\n",
    "sum = 6678655, n = 174, ave = 38383.07, largest = 414008                                             │\n",
    "N50 = 234690, n = 11                                                                                 │\n",
    "N60 = 202142, n = 14                                                                                 │\n",
    "N70 = 154232, n = 18                                                                                 │\n",
    "N80 = 103367, n = 23                                                                                 │\n",
    "N90 = 81821, n = 30                                                                                  │\n",
    "N100 = 128, n = 174                                                                                  │\n",
    "N_count = 20                                                                                         │\n",
    "Gaps = 2                                                                                             │\n",
    "be131-02@meowth:~/computational_biology_BioE131/lab8/assembled_output$ assembly-stats contigs.fasta  │\n",
    "stats for contigs.fasta                                                                              │\n",
    "sum = 6678635, n = 176, ave = 37946.79, largest = 414008                                             │\n",
    "N50 = 234690, n = 11                                                                                 │\n",
    "N60 = 202142, n = 14                                                                                 │\n",
    "N70 = 154232, n = 18                                                                                 │\n",
    "N80 = 103367, n = 23                                                                                 │\n",
    "N90 = 81286, n = 30                                                                                  │\n",
    "N100 = 128, n = 176                                                                                  │\n",
    "N_count = 0                                                                                          │\n",
    "Gaps = 0"
   ]
  },
  {
   "cell_type": "markdown",
   "metadata": {},
   "source": [
    "_Why is N50 is useful statistic to calculate? Why not just list the mean or median contig length?In your assembly, are scaffolds longer than contigs, or are scaffolds approximately equal to contigs?_  \n",
    "\n",
    "N50 is useful to calculate because the value of N50 is the value where 50% of the entire assembly is contained in contigs or scaffolds equal to or larger than this value. It is not the same as listing the mean or median contig length because the mean and median of contigs accounts for the contigs individually whereas N50 tkaes into account the total length and sums all the contigs up to 50% of the total length. In our assembly, scaffolds are approximately equal to contigs."
   ]
  },
  {
   "cell_type": "raw",
   "metadata": {},
   "source": [
    "#In lab 8 with contigs.fasta\n",
    "cat contigs.fasta | grep \">\" > coverage.txt\n",
    "mv coverage.txt ../../lab9/."
   ]
  },
  {
   "cell_type": "code",
   "execution_count": 46,
   "metadata": {
    "scrolled": false
   },
   "outputs": [
    {
     "data": {
      "text/plain": [
       "(array([94.,  5.,  7., 31., 23.,  4.,  3.,  2.,  3.]),\n",
       " array([ 0,  2,  4,  6,  8, 10, 12, 14, 16, 18]),\n",
       " <a list of 9 Patch objects>)"
      ]
     },
     "execution_count": 46,
     "metadata": {},
     "output_type": "execute_result"
    },
    {
     "data": {
      "image/png": "[encoded data removed]",
      "text/plain": [
       "<Figure size 432x288 with 1 Axes>"
      ]
     },
     "metadata": {
      "needs_background": "light"
     },
     "output_type": "display_data"
    }
   ],
   "source": [
    "from matplotlib import pyplot as plt\n",
    "import numpy as np\n",
    "\n",
    "covArr = []\n",
    "F = open(\"coverage.txt\",\"r\")\n",
    "Node = F.read().split(\">\")\n",
    "Node = Node[1:]\n",
    "for v in Node:\n",
    "    coverage = v.split(\"cov_\")[1].split(\"\\n\")[0]\n",
    "    covArr.append(float(coverage))\n",
    "\n",
    "plt.ylim(0,80)\n",
    "plt.hist(covArr, bins=np.arange(0,20,2))"
   ]
  },
  {
   "cell_type": "markdown",
   "metadata": {},
   "source": [
    "Is coverage uniformly distributed? Does it look Gaussian? Is it bimodalor trimodal?What explainsthe presence of contigs with coverage an integer multiple of the mean coverage?"
   ]
  },
  {
   "cell_type": "code",
   "execution_count": 55,
   "metadata": {},
   "outputs": [
    {
     "name": "stdout",
     "output_type": "stream",
     "text": [
      "avg  14.047804437500002\n",
      "avgWithoutBig 5.350934748571429\n"
     ]
    },
    {
     "data": {
      "image/png": "[encoded data removed]",
      "text/plain": [
       "<Figure size 432x288 with 1 Axes>"
      ]
     },
     "metadata": {
      "needs_background": "light"
     },
     "output_type": "display_data"
    }
   ],
   "source": [
    "plt.ylim(0,2)\n",
    "plt.hist(covArr)\n",
    "\n",
    "avg = np.average(covArr)\n",
    "avgWithoutBig = np.sort(covArr)[:-1]\n",
    "avgWithoutBig = np.average(avgWithoutBig)\n",
    "print(\"avg \", avg)\n",
    "print(\"avgWithoutBig\", avgWithoutBig)"
   ]
  },
  {
   "cell_type": "raw",
   "metadata": {},
   "source": [
    "cat contigs.GFF | grep \"16S\" > 16S_rRNA.GFF\n",
    "bedtools getfasta -fi contigs.fasta -bed 16S_rRNA.GFF > 16S_rRNA.fasta\n",
    "\n",
    "scp seqmatch_download.txt be131-02@bioe131.com:~/computational_biology_BioE131/lab8/assembled_output/."
   ]
  },
  {
   "cell_type": "raw",
   "metadata": {},
   "source": [
    "[ options ]\n",
    "rootrank Root (6) (query sequences)            \n",
    "       domain Bacteria  (6) \n",
    "          phylum \"Proteobacteria\"  (6) \n",
    "             class Gammaproteobacteria  (6) \n",
    "                order Pseudomonadales  (6) \n",
    "                   family Pseudomonadaceae  (6) \n",
    "                      genus Pseudomonas  (6) \n",
    "                         NODE_23_length_103367_cov_10.081286:35530-37075  [view selectable matches]\n",
    "                         NODE_2_length_378948_cov_10.006665:348499-350044  [view selectable matches]\n",
    "                         NODE_6_length_298784_cov_8.918606:13925-15470  [view selectable matches]\n",
    "                         NODE_5_length_327223_cov_9.241629:46285-47830  [view selectable matches]\n",
    "                         NODE_4_length_332509_cov_9.114046:137011-138556  [view selectable matches]\n",
    "                         NODE_18_length_154232_cov_9.584186:124541-126086  [view selectable matches]"
   ]
  },
  {
   "cell_type": "raw",
   "metadata": {},
   "source": [
    "scp be131-02@bioe131.com:~/computational_biology_BioE131/lab8/assembled_output/contigs.fasta ."
   ]
  },
  {
   "cell_type": "markdown",
   "metadata": {},
   "source": [
    "1.What environment do relatives of your bacterium live in? Is there evidence of adaptation to this environment in the genome?2.Based on its genome, is your bacterium auxotrophic for any amino acids?Are its closest relatives also auxotrophic for these?3.Horizontal gene transfer is common among bacteria. Is there any evidence for HGT in your genome?4.CRISPR-Cas9 is so hot right now. Does your genome have a CRISPR system?Can you determine where the spacer sequences originated from?5.Does your genome encode any known bacteriocins,antibiotics, or toxins?6.Make an argument for why or why not your bacterium would be considered a human pathogen, using the genome and your research as evidence.7.Does your genome encode any known antibiotic resistance genes?Do you expect it to be susceptible to penicillin, tetracycline, or chloramphenicol?"
   ]
  },
  {
   "cell_type": "code",
   "execution_count": null,
   "metadata": {},
   "outputs": [],
   "source": []
  }
 ],
 "metadata": {
  "kernelspec": {
   "display_name": "Python 3",
   "language": "python",
   "name": "python3"
  },
  "language_info": {
   "codemirror_mode": {
    "name": "ipython",
    "version": 3
   },
   "file_extension": ".py",
   "mimetype": "text/x-python",
   "name": "python",
   "nbconvert_exporter": "python",
   "pygments_lexer": "ipython3",
   "version": "3.6.6"
  }
 },
 "nbformat": 4,
 "nbformat_minor": 2
}
