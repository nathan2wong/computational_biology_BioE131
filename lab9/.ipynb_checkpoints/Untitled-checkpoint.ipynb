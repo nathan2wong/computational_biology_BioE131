{
 "cells": [
  {
   "cell_type": "raw",
   "metadata": {},
   "source": [
    "be131-02@meowth:~/computational_biology_BioE131/lab8/assembled_output$ assembly-stats scaffolds.fasta│\n",
    "                                                                                                     │\n",
    "stats for scaffolds.fasta                                                                            │\n",
    "sum = 6678655, n = 174, ave = 38383.07, largest = 414008                                             │\n",
    "N50 = 234690, n = 11                                                                                 │\n",
    "N60 = 202142, n = 14                                                                                 │\n",
    "N70 = 154232, n = 18                                                                                 │\n",
    "N80 = 103367, n = 23                                                                                 │\n",
    "N90 = 81821, n = 30                                                                                  │\n",
    "N100 = 128, n = 174                                                                                  │\n",
    "N_count = 20                                                                                         │\n",
    "Gaps = 2                                                                                             │\n",
    "be131-02@meowth:~/computational_biology_BioE131/lab8/assembled_output$ assembly-stats contigs.fasta  │\n",
    "stats for contigs.fasta                                                                              │\n",
    "sum = 6678635, n = 176, ave = 37946.79, largest = 414008                                             │\n",
    "N50 = 234690, n = 11                                                                                 │\n",
    "N60 = 202142, n = 14                                                                                 │\n",
    "N70 = 154232, n = 18                                                                                 │\n",
    "N80 = 103367, n = 23                                                                                 │\n",
    "N90 = 81286, n = 30                                                                                  │\n",
    "N100 = 128, n = 176                                                                                  │\n",
    "N_count = 0                                                                                          │\n",
    "Gaps = 0"
   ]
  },
  {
   "cell_type": "markdown",
   "metadata": {},
   "source": [
    "_Why is N50 is useful statistic to calculate? Why not just list the mean or median contig length?In your assembly, are scaffolds longer than contigs, or are scaffolds approximately equal to contigs?_  \n",
    "\n",
    "N50 is useful to calculate because the value of N50 is the value where 50% of the entire assembly is contained in contigs or scaffolds equal to or larger than this value. It is not the same as listing the mean or median contig length because the mean and median of contigs accounts for the contigs individually whereas N50 tkaes into account the total length and sums all the contigs up to 50% of the total length. In our assembly, scaffolds are approximately equal to contigs."
   ]
  },
  {
   "cell_type": "code",
   "execution_count": null,
   "metadata": {},
   "outputs": [],
   "source": []
  }
 ],
 "metadata": {
  "kernelspec": {
   "display_name": "Python 3",
   "language": "python",
   "name": "python3"
  },
  "language_info": {
   "codemirror_mode": {
    "name": "ipython",
    "version": 3
   },
   "file_extension": ".py",
   "mimetype": "text/x-python",
   "name": "python",
   "nbconvert_exporter": "python",
   "pygments_lexer": "ipython3",
   "version": "3.6.6"
  }
 },
 "nbformat": 4,
 "nbformat_minor": 2
}
