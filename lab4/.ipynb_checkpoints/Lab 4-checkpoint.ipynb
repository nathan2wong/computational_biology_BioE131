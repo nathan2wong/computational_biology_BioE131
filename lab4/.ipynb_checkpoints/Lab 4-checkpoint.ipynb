{
 "cells": [
  {
   "cell_type": "code",
   "execution_count": 71,
   "metadata": {},
   "outputs": [],
   "source": [
    "import Bio\n",
    "from Bio import Entrez \n",
    "from Bio import SeqIO\n",
    "import urllib.request as ur"
   ]
  },
  {
   "cell_type": "code",
   "execution_count": 72,
   "metadata": {},
   "outputs": [],
   "source": [
    "Entrez.email = \"kellyhuang@berkeley.edu\"\n",
    "handle = Entrez.einfo() # or esearch, efetch, ...\n",
    "record = Entrez.read(handle)\n",
    "handle.close()"
   ]
  },
  {
   "cell_type": "code",
   "execution_count": 73,
   "metadata": {},
   "outputs": [
    {
     "name": "stdout",
     "output_type": "stream",
     "text": [
      "['path:hsa00010\\\\thsa:10327\\\\n', 'path:hsa00010\\\\thsa:124\\\\n', 'path:hsa00010\\\\thsa:125\\\\n', 'path:hsa00010\\\\thsa:126\\\\n', 'path:hsa00010\\\\thsa:127\\\\n', 'path:hsa00010\\\\thsa:128\\\\n', 'path:hsa00010\\\\thsa:130\\\\n', 'path:hsa00010\\\\thsa:130589\\\\n', 'path:hsa00010\\\\thsa:131\\\\n', 'path:hsa00010\\\\thsa:160287\\\\n', 'path:hsa00010\\\\thsa:1737\\\\n', 'path:hsa00010\\\\thsa:1738\\\\n', 'path:hsa00010\\\\thsa:2023\\\\n', 'path:hsa00010\\\\thsa:2026\\\\n', 'path:hsa00010\\\\thsa:2027\\\\n', 'path:hsa00010\\\\thsa:217\\\\n', 'path:hsa00010\\\\thsa:218\\\\n', 'path:hsa00010\\\\thsa:219\\\\n', 'path:hsa00010\\\\thsa:220\\\\n', 'path:hsa00010\\\\thsa:2203\\\\n', 'path:hsa00010\\\\thsa:221\\\\n', 'path:hsa00010\\\\thsa:222\\\\n', 'path:hsa00010\\\\thsa:223\\\\n', 'path:hsa00010\\\\thsa:224\\\\n', 'path:hsa00010\\\\thsa:226\\\\n', 'path:hsa00010\\\\thsa:229\\\\n', 'path:hsa00010\\\\thsa:230\\\\n', 'path:hsa00010\\\\thsa:2538\\\\n', 'path:hsa00010\\\\thsa:2597\\\\n', 'path:hsa00010\\\\thsa:26330\\\\n', 'path:hsa00010\\\\thsa:2645\\\\n', 'path:hsa00010\\\\thsa:2821\\\\n', 'path:hsa00010\\\\thsa:3098\\\\n', 'path:hsa00010\\\\thsa:3099\\\\n', 'path:hsa00010\\\\thsa:3101\\\\n', 'path:hsa00010\\\\thsa:387712\\\\n', 'path:hsa00010\\\\thsa:3939\\\\n', 'path:hsa00010\\\\thsa:3945\\\\n', 'path:hsa00010\\\\thsa:3948\\\\n', 'path:hsa00010\\\\thsa:441531\\\\n', 'path:hsa00010\\\\thsa:501\\\\n', 'path:hsa00010\\\\thsa:5105\\\\n', 'path:hsa00010\\\\thsa:5106\\\\n', 'path:hsa00010\\\\thsa:5160\\\\n', 'path:hsa00010\\\\thsa:5161\\\\n', 'path:hsa00010\\\\thsa:5162\\\\n', 'path:hsa00010\\\\thsa:5211\\\\n', 'path:hsa00010\\\\thsa:5213\\\\n', 'path:hsa00010\\\\thsa:5214\\\\n', 'path:hsa00010\\\\thsa:5223\\\\n', 'path:hsa00010\\\\thsa:5224\\\\n', 'path:hsa00010\\\\thsa:5230\\\\n', 'path:hsa00010\\\\thsa:5232\\\\n', 'path:hsa00010\\\\thsa:5236\\\\n', 'path:hsa00010\\\\thsa:5313\\\\n', 'path:hsa00010\\\\thsa:5315\\\\n', 'path:hsa00010\\\\thsa:55276\\\\n', 'path:hsa00010\\\\thsa:55902\\\\n', 'path:hsa00010\\\\thsa:57818\\\\n', 'path:hsa00010\\\\thsa:669\\\\n', 'path:hsa00010\\\\thsa:7167\\\\n', 'path:hsa00010\\\\thsa:80201\\\\n', 'path:hsa00010\\\\thsa:83440\\\\n', 'path:hsa00010\\\\thsa:84532\\\\n', 'path:hsa00010\\\\thsa:8789\\\\n', 'path:hsa00010\\\\thsa:92483\\\\n', 'path:hsa00010\\\\thsa:92579\\\\n', 'path:hsa00010\\\\thsa:9562\\\\n']\n"
     ]
    }
   ],
   "source": [
    "kegg_hsa = \"http://rest.kegg.jp/link/hsa/hsa00010\" #List of human genes in pathway hsa00010 (glycolysis)\n",
    "kegg_eco = \"http://rest.kegg.jp/link/eco/eco00010\" #List of E. coli genes in pathway eco00010 (glycolysis)\n",
    "kegg_dme = \"http://rest.kegg.jp/link/dme/dme00010\" #List of fruit fly genes in pathway dme00010 (glycolysis)\n",
    "filehandler = ur.urlopen (kegg_hsa)\n",
    "test = []\n",
    "for line in filehandler:\n",
    "    test.append(str(line).strip(\"b'\"))\n",
    "    line = str(line).replace(\"t\",\"\")\n",
    "print(test)"
   ]
  },
  {
   "cell_type": "code",
   "execution_count": 74,
   "metadata": {},
   "outputs": [
    {
     "name": "stdout",
     "output_type": "stream",
     "text": [
      "Biopython: freely available Python tools for computational molecular biology and bioinformatics.\n",
      "PDB file parser and structure class implemented in Python.\n"
     ]
    }
   ],
   "source": [
    "handle = Entrez.esummary(db=\"pubmed\", id=\"19304878,14630660\", retmode=\"xml\")\n",
    "records = Entrez.parse(handle)\n",
    "for record in records:\n",
    "    print(record['Title'])\n",
    "handle.close()"
   ]
  },
  {
   "cell_type": "code",
   "execution_count": 75,
   "metadata": {},
   "outputs": [
    {
     "name": "stdout",
     "output_type": "stream",
     "text": [
      "LOCUS       AY851612                 892 bp    DNA     linear   PLN 10-APR-2007\n"
     ]
    }
   ],
   "source": [
    "handle = Entrez.efetch(db=\"nucleotide\", id=\"AY851612\", rettype=\"gb\", retmode=\"text\")\n",
    "print(handle.readline().strip())"
   ]
  },
  {
   "cell_type": "code",
   "execution_count": 76,
   "metadata": {},
   "outputs": [
    {
     "name": "stdout",
     "output_type": "stream",
     "text": [
      ">U11292.1 Homo sapiens Ki nuclear autoantigen mRNA, complete cds\n",
      "GGGCGGACAGGCACAGAGGGAGGGAGCGAGCGAGCAGTGAGTAAGCCAGCAAGGGCGGTCGGGTCCCGAG\n",
      "GTCAGCCGAGATTTCTCAGGTCCCTCCGGCCCCCTCCCTGGAGTCCACAGCGCCTCCGGTGTCCAGAGGA\n",
      "TCGGACACGGCCCGGCCCGGCCATGGCCTCGTTGCTGAAGGTGGATCAGGAAGTGAAGCTCAAGGTTGAT\n",
      "TCTTTCAGGGAGCGGATCACAAGTAAGGCAGAAGACTTGGTGGCAAATTTTTTCCCAAAGAAGTTATTAG\n",
      "AACTTGATAGTTTTCTGAAGGAACCAATCTTAAACATCCATGACCTAACTCAGATCCACTCTGACATGAA\n",
      "TCTCCCAGTCCCTGACCCCATTCTTCTCACCAATAGCCATGATGGACTGGATGGTCCCACTTATAAGAAG\n",
      "CGAAGGTTGGATGAGTGTGAAGAAGCCTTCCAAGGAACCAAGGTGTTTGTGATGCCCAATGGGATGCTGA\n",
      "AAAGCAACCAGCAGCTGGTGGACATTATTGAGAAAGTGAAACCTGAGATCCGGCTGTTGATTGAGAAATG\n",
      "TAACACGCCTTCAGGCAAAGGTCCTCATATATGTTTTGACCTCCAGGTCAAAATGTGGGTACAGCTCCTG\n",
      "ATTCCCAGGATAGAAGATGGAAACAACTTTGGGGTGTCCATTCAGGAGGAAACAGTTGCAGAGCTAAGAA\n",
      "CTGTTGAGAGTGAAGCTGCATCTTATCTGGACCAGATTTCTAGATATTATATTACAAGAGCCAAATTGGT\n",
      "TTCTAAAATAGCTAAATATCCCCATGTGGAGGACTATCGCCGCACCGTGACAGAGATTGATGAGAAAGAA\n",
      "TATATCAGCCTTCGGCTCATCATATCAGAGCTGAGGAATCAATATGTCACTCTACATGACATGATCCTGA\n",
      "AAAATATCGAGAAGATCAAACGGCCCCGGAGCAGCAATGCAGAGACTCTGTACTGAGGCCAGGGCCAGGG\n",
      "CCAGGGGACTCTGTGAGTCTGGCTCAAGACCGACATTGCCTTGGTTTGTTACATGACTATCGTGATGGGG\n",
      "AAACTGGCTGGAAATAGTAATCACACCTCTCTGTTTTTAGTTAGAGTCTAATGAAACTCTCATCTAGTTC\n",
      "TGTGATGTGTTTACCTCTTTTTTCAGGCCTCAGGAACTCTTCTATTTCCTTCCCTAATACCCCACACCCA\n",
      "ACCTGTCGTAATTTCTGGAGAACTCCAGGTTTGTGTGTGCAGGATGTTGGCACAAAAATACCTGTGTTTT\n",
      "CATTCTCCCCCTCTCTCCCTCCTGTGTCTGGCGCTTTATGTTTTCTTCCGTTTGATAATTAGTTGGTTAA\n",
      "AAGCTGAGGGAACCGGAAGGAAAGTGCTAGGTGTTTTTTAGGAACTAGGGTGGAGGGGGGACGAACTTCT\n",
      "CTTCCTCACATGAGGTTACTGTTTCTTTCCTCTGTGGGGCATTGGATCCTCCCACAGTTGCCCTGGTGAT\n",
      "GACTTAGGACTTCCCATCTGTGACATCCCACTTTGAATCTTGATCGTGACAAGAAATACCTTAGGCCTTC\n",
      "AGTCAATTCCGAAGCTCCTTCAGTTGTTTTTATAATGGGCGTTTCACATGCACATATGTGTATGCATGTA\n",
      "TACGCCCATACAGACATGCACACACAGACTCCTACTCCATTAGCTAACATACCCTCCCTCTCCACAACCC\n",
      "GTGTCACATACCTTTCAGGAGGTGACAGTTGTCTTAGTTGTCATCTACCCAGACAAACGTCCTGGGCCCG\n",
      "TCCTCCCTCCTGATACTGTAGCCTCTTGGTACCCAGGGTGAGTTGGTGGAGAACAGAGAGATGAGAAGCA\n",
      "GAGGGCTTGGGGAAAGCCTGTTCCTCTCTGACTCAGCCCTTTTTGGCATTATTGCAAGAGCTTGACTCCT\n",
      "GGTTGCCTTTTCCCAGCCAGTTTTCAGTTGGGGTGAAGGTTTCTGCAAGTGTGAGGTCCAGATGCTGCTG\n",
      "CTCATGTTGGGCTTTCCTTTTGGGAACTATTTCTCTTTATTTATAGTGTCGGGCTTCCGGGGAAAGCAAT\n",
      "CATTGGTGTGTATGTGTATGTGCCATGCACACACGTGCATATATACACATTTGTGTATGTGGAAATGTGC\n",
      "TGGGCAAGTCAAAACTATAGAAGAGTTGCCTCCTGTCTCTCGAATCTTCCAGAGATATCACTTAATTGTT\n",
      "AACAGCTTTTGTGTTAATCCCCTTCATCCCCTAGCACTTTTATTCTACCACGGCTGGAGAGTTGANANCT\n",
      "ACAGTCAGCCTGCCAGTGACTCTTAGTGTCTGTTTCTGACTTATTTTTCCTGTCTCTGTCTTCCAACCCC\n",
      "CAATAATATTTCCCACCGGGGATGCATCATTTTTACTCCCAATATTCTGTAGAGAGGGAGTCAGGATGCT\n",
      "GTCTTCCCACGAATAGTACTCAGTAACAAACCAATTGCATTTTAGTTGGGCAGTGCTCCCACCCACCCTG\n",
      "CAGATCCCTCCAGCTAAAACCCTTCCCCCTTCCCTCCATGTGTTTCTCAGTTTCCCGTTCGTTTGTTGGA\n",
      "CTGTTCCACTGCCCCTCCTCCTCACCCTATCACCCATGGATCGTAATGTAAAATTCTTTTACCATGTCAA\n",
      "GAAATTATTAAAAATACAGGTACTTTGACCTCTTTCTAAAGCCGCAGACCCTGGTGCAATGCTCTGGTGG\n",
      "CTAGGGATGTACTCATGCTCATATGTGTGCACGCTTGGACACCCACCTCCATGGACACCTAGCCACCCTG\n",
      "TTGTGTGNCCTTATGCCAGTTGAGCTGAATCTTTTCCCCAGTATAGTGGAAAGACTGAGGCTTCTGCCTA\n",
      "CTGAGCAAGGTTGGGTGCTTCATTTGTGTTCAGTCTGAATTATGGGAAAGTTAGCTCTTCCCAGACCTAA\n",
      "GCTGCCTTCTCTCCCTACTTTCAG\n",
      "\n",
      "\n",
      ">U11293.1 Human Rab5c-like protein mRNA, complete cds\n",
      "CTTACACTAAGTGCCTCTTTGCATAGCACCAGTCCCCACCCGCACGCTCTCTGGACCACTACAGCTGGAC\n",
      "GGGCAATGGCGGGTCGGGGAGGCGCACGACGACCCAATGGACCAGCTGCTGGGAACAAGATCTGTCAATT\n",
      "TAAGCTGGTTCTGCTGGGGGAGTCTGCGGTAGGCAAATCCAGCCTCGTCCTCCGCTTTGTCAAGGGACAG\n",
      "TTTCACGAGTACCAGGAGAGCACAATTGGAGCGGCCTTCCTCACACAGACTGTCTGCCTGGATGACACAA\n",
      "CAGTCAAGTTTGAGATCTGGGACACAGCTGGACAGGAGCGGTATCACAGCCTGGCCCCCATGTACTATCG\n",
      "GGGGGCCCAGGCTGCCATCGTGGTCTATGACATCACCAACACAGATACATTTGCACGGGCCAAGAACTGG\n",
      "GTGAAGGAGCTACAGAGGCAGGCCAGCCCCAACATCGTCATTGCACTCGCGGGTAACAAGGCAGACCTGG\n",
      "CCAGCAAGAGAGCCGTGGAATTCCAGGAAGCACAAGCCTATGCAGACGACAACAGTTTGCTGTTCATGGA\n",
      "GACATCAGCAAAGACTGCAATGAACGTGAACGAAATCTTCATGGCAATAGCTAAGAAGCTTCCCAAGAAC\n",
      "GAGCCCCAGAATGCAACTGGTGCTCCAGGCCGAAACCGAGGTGTGGACCTCCAGGAGAACAACCCAGCCA\n",
      "GCCGGAGCCAGTGCTGCAGCAACTGAGCCCCCCTTGCCTGCCCGCTGCCCCCGCCTCCTCCGCCTGAATG\n",
      "ACCCGACTGGAATCCACTCTAACCAATCGCACTTAACGACTCGGGCCACCACTGGGGGGGCAGGGGGAGG\n",
      "GGTCCACCATGATTTCTCCATATAATTTTGATCATAGGCCGGAGTGAGTCATTCCACCTGCACCTTTCTG\n",
      "TACAAATACTAATTCAATTTTAAGTCTTAAGTCACTTTTTTAATATATATGATCTTCTGCTCTTCCCACT\n",
      "TCCTCCCCTTTCTACTGCTCTCCCATTTTCCCTTGCTGGGAGTAGCCACATGCTCTTGCCCCCCAACCCT\n",
      "TGTATATGGGGACAGTGGGGTCAGTGCAGCTACCCTTTCTTTCCCTCTGCGGAACAGCGGACCCAGCAAG\n",
      "AGCATCCACATCCTCACTTTGTTCGGAGTGGTCTTTGGTTTGGGCGGTGGGGCAGACCTTGGGAAGGGGC\n",
      "TTAGGAAGGGAGAGGCAGCTCTTCCTTCAGCTGGCTCTCATCAGGCTGCAGCCCCCTCCCCGCTCCCACC\n",
      "TCCCTGCTGGGAAACCACAGCATTATCACAGCATTATTGTGACAGCCACGAACCCATTGCCCACAACCCC\n",
      "TCCACCCTCGGTCACCCCAACCTCTGGCTCTGAGCCCTGTTCTGACCAAATCATGATGATGAGTATTTGG\n",
      "GGGTGGGTGGGTAAGGGGGGGAGTGGGAGGGGACGGAACCAACTTTTTCTGTATTTTGTATTGTATGTTT\n",
      "TCTTCAACATGTAACCAATCAGTATCTTGTCAATATAGTCAGCCGATCGATCGACCTCA\n",
      "\n",
      "\n"
     ]
    }
   ],
   "source": [
    "handle = Entrez.esearch(db=\"nucleotide\", term=\"homo sapiens[ORGN] BCRA1\", sort=\"relevance\", idtype=\"acc\")\n",
    "for i in Entrez.read(handle)[\"IdList\"]:\n",
    "    handle = Entrez.efetch(db=\"nucleotide\", id =i, rettype =\"fasta\", retmode=\"text\")\n",
    "    print(handle.read())"
   ]
  },
  {
   "cell_type": "markdown",
   "metadata": {},
   "source": [
    "### Establish connection to database and create Genes table, Pathways table, and Enzyme table"
   ]
  },
  {
   "cell_type": "code",
   "execution_count": 77,
   "metadata": {},
   "outputs": [
    {
     "name": "stdout",
     "output_type": "stream",
     "text": [
      "2.6.0\n"
     ]
    }
   ],
   "source": [
    "import sqlite3\n",
    "from sqlite3 import Error\n",
    " \n",
    "def create_connection(db_file):\n",
    "    \"\"\" create a database connection to a SQLite database \"\"\"\n",
    "    try:\n",
    "        conn = sqlite3.connect(db_file)\n",
    "        print(sqlite3.version)\n",
    "    except Error as e:\n",
    "        print(e)\n",
    "    finally:\n",
    "        conn.close()\n",
    " \n",
    "if __name__ == '__main__':\n",
    "    create_connection(\"/home/nathan/computational_biology_bioe131/lab4/sqldb.db\")"
   ]
  },
  {
   "cell_type": "code",
   "execution_count": 78,
   "metadata": {},
   "outputs": [],
   "source": [
    "conn = sqlite3.connect('sqldb.db')\n",
    "c  = conn.cursor()"
   ]
  },
  {
   "cell_type": "markdown",
   "metadata": {},
   "source": [
    "### Create Genes table, Pathways table, and Enzyme table"
   ]
  },
  {
   "cell_type": "code",
   "execution_count": 79,
   "metadata": {},
   "outputs": [],
   "source": [
    "c.execute(\"\"\"DROP TABLE genes\"\"\")\n",
    "c.execute(\"\"\"DROP TABLE pathways\"\"\")\n",
    "c.execute(\"\"\"DROP TABLE enzymes\"\"\")\n",
    "c.execute(\"\"\"DROP TABLE enzyme_pathway\"\"\")\n",
    "# c.execute(\"\"\"CREATE TABLE genes (id INT PRIMARY KEY ASC, name TEXT, description TEXT, organism TEXT, nucleotide_seq TEXT, chromosome TEXT, start INT, end INT, strand VARCHAR(1), translated_seq TEXT);\"\"\")\n",
    "c.execute(\"\"\"CREATE TABLE genes (name TEXT, description TEXT, chromosome TEXT, start TEXT, end TEXT);\"\"\")\n",
    "c.execute(\"\"\"CREATE TABLE pathways(name TEXT, description TEXT);\"\"\")\n",
    "c.execute(\"\"\"CREATE TABLE enzymes(name TEXT, function TEXT, EC_num TEXT, cycle TEXT);\"\"\")\n",
    "conn.commit()"
   ]
  },
  {
   "cell_type": "markdown",
   "metadata": {},
   "source": [
    "### Fill Pathways Table"
   ]
  },
  {
   "cell_type": "code",
   "execution_count": 80,
   "metadata": {},
   "outputs": [],
   "source": [
    "c.execute(\"\"\"INSERT INTO pathways VALUES('glycolysis', 'Glycolysis is the process of converting glucose into pyruvate and generating small amounts of ATP (energy) and NADH (reducing power).');\"\"\")\n",
    "c.execute(\"\"\"INSERT INTO pathways VALUES('TCA cycle', 'The citrate cycle (TCA cycle, Krebs cycle) is an important aerobic pathway for the final steps of the oxidation of carbohydrates and fatty acids.');\"\"\")\n",
    "c.execute(\"\"\"INSERT INTO pathways VALUES('pentose phosphate', 'The pentose phosphate pathway is a process of glucose turnover that produces NADPH as reducing equivalents and pentoses as essential parts of nucleotides.');\"\"\")\n",
    "conn.commit()"
   ]
  },
  {
   "cell_type": "code",
   "execution_count": 81,
   "metadata": {},
   "outputs": [],
   "source": [
    "organisms = ['Drosophila', 'Escherichia coli', 'Homo sapiens']"
   ]
  },
  {
   "cell_type": "markdown",
   "metadata": {},
   "source": [
    "### Pick 4 enzymes from glycolysis, TCA cycle, and pentose phosphate"
   ]
  },
  {
   "cell_type": "code",
   "execution_count": 82,
   "metadata": {},
   "outputs": [],
   "source": [
    "glycolysis_enzymes = ['Drosophila[ORGN] 5.1.3.3', 'Drosophila[ORGN] 2.7.1.1', 'Drosophila[ORGN] 3.1.3.9', 'Drosophila[ORGN] 5.3.1.9', \n",
    "                      'Escherichia coli[ORGN] 5.1.3.3', 'Escherichia coli[ORGN] 5.3.1.1', 'Escherichia coli[ORGN] 5.3.1.9', 'Escherichia coli[ORGN] 3.1.3.11',\n",
    "                      'Homo sapiens[ORGN] 4.1.2.13', 'Homo sapiens[ORGN] 2.7.1.1', 'Homo sapiens[ORGN] 3.1.3.9', 'Homo sapiens[ORGN] 5.3.1.9']\n",
    "\n",
    "TCA_enzymes = ['Drosophila[ORGN] 4.1.1.32', 'Drosophila[ORGN] 2.3.1.12', 'Drosophila[ORGN] 1.2.4.1', 'Drosophila[ORGN] 2.3.3.1', \n",
    "               'Escherichia coli[ORGN] 4.1.1.49', 'Escherichia coli[ORGN] 2.3.3.1', 'Escherichia coli[ORGN] 1.2.7.1', 'Escherichia coli[ORGN] 4.2.1.3',\n",
    "               'Homo sapiens[ORGN] 4.1.1.32', 'Homo sapiens[ORGN] 2.3.1.12', 'Homo sapiens[ORGN] 1.2.4.1', 'Homo sapiens[ORGN] 2.3.3.1']\n",
    "\n",
    "pentose_phsphate_enzymes = ['Drosophila[ORGN] 1.1.1.49', 'Drosophila[ORGN] 5.3.1.9', 'Drosophila[ORGN] 1.1.5.9', 'Drosophila[ORGN] 1.1.1.44', \n",
    "                            'Escherichia coli[ORGN] 1.1.1.49', 'Escherichia coli[ORGN] 2.2.1.1', 'Escherichia coli[ORGN] 3.1.1.31', 'Escherichia coli[ORGN] 5.3.1.6',\n",
    "                            'Homo sapiens[ORGN] 3.1.1.17', 'Homo sapiens[ORGN] 3.1.1.31', 'Homo sapiens[ORGN] 5.1.3.1', 'Homo sapiens[ORGN] 1.1.1.49']"
   ]
  },
  {
   "cell_type": "markdown",
   "metadata": {},
   "source": [
    "### Fill enzymes table"
   ]
  },
  {
   "cell_type": "code",
   "execution_count": 83,
   "metadata": {},
   "outputs": [],
   "source": [
    "# enzyme name | description | EC number | cycle \n",
    "def enzyme_table(cycle_enzymes, cycle):\n",
    "    enzymes = []\n",
    "    EC_nums = []\n",
    "    count = 0\n",
    "    for enzyme in cycle_enzymes: \n",
    "        handle1 = Entrez.esearch(db = 'protein', term = enzyme, sort = 'relevance', idtype='acc')\n",
    "        record = Entrez.read(handle1)['IdList']\n",
    "        enzymes.append(record[0])\n",
    "        EC_num = (enzyme.split()[-1])\n",
    "        EC_nums.append(EC_num)\n",
    "    for ID in enzymes: \n",
    "        handle2 = Entrez.efetch(db='protein', id=ID, rettype='gb', retmode='text')\n",
    "        value = SeqIO.read(handle2, 'gb')\n",
    "        c.execute(\"\"\" INSERT INTO enzymes (name, function, EC_num, cycle) VALUES(?,?,?,?)\"\"\", (value.name, value.description, EC_nums[count], cycle))\n",
    "        count += 1"
   ]
  },
  {
   "cell_type": "code",
   "execution_count": 88,
   "metadata": {},
   "outputs": [],
   "source": [
    "# If runtime error occurs, try running cell again\n",
    "enzyme_table(glycolysis_enzymes, \"Glycolysis\")\n",
    "conn.commit()"
   ]
  },
  {
   "cell_type": "code",
   "execution_count": 91,
   "metadata": {},
   "outputs": [],
   "source": [
    "enzyme_table(TCA_enzymes, \"TCA cycle\")\n",
    "conn.commit()"
   ]
  },
  {
   "cell_type": "code",
   "execution_count": 92,
   "metadata": {},
   "outputs": [],
   "source": [
    "enzyme_table(pentose_phsphate_enzymes, \"Pentose Phosphate\")\n",
    "conn.commit()"
   ]
  },
  {
   "cell_type": "markdown",
   "metadata": {},
   "source": [
    "### Fill gene table "
   ]
  },
  {
   "cell_type": "code",
   "execution_count": null,
   "metadata": {},
   "outputs": [],
   "source": [
    "# id INT PRIMARY KEY ASC, name TEXT, description TEXT, organism TEXT, nucleotide_seq TEXT, chromosome TEXT, start INT, end INT, strand VARCHAR(1), translated_seq TEXT\n",
    "genes = []\n",
    "def gene_table(cycle_enzymes, cycle):\n",
    "    for gene in cycle_enzymes:\n",
    "        ECnumber = gene.split(\"]\")[1][1:]\n",
    "        handle1 = Entrez.esearch(db = 'gene', term = ECnumber+\"[EC]\", sort = 'relevance', idtype='acc')\n",
    "        record = Entrez.read(handle1)\n",
    "        geneID = record['IdList']\n",
    "        #print(geneID)\n",
    "        for ID in geneID:\n",
    "            handle2 = Entrez.efetch(db=\"gene\", id=ID, rettype=\"gb\", retmode=\"text\")\n",
    "            test = handle2.read()\n",
    "            genes.append(test)\n",
    "            print(test)\n",
    "            #print(handle2.readline())\n",
    "            #genes.append(handle2.readline())\n",
    "            \n",
    "                   \n",
    "        #print(record)\n",
    "        #print(gene)\n",
    "        #print(ECnumber)\n",
    "gene_table(glycolysis_enzymes, \"Glycolysis\")\n",
    "print(genes)\n"
   ]
  },
  {
   "cell_type": "code",
   "execution_count": 64,
   "metadata": {},
   "outputs": [],
   "source": [
    "name = []\n",
    "desc = []\n",
    "chromo = []\n",
    "start = []\n",
    "end = []\n",
    "for gene in genes:\n",
    "    aggregate = gene.splitlines()\n",
    "    if aggregate:\n",
    "        i = 0\n",
    "        for line in aggregate:\n",
    "            test = line.split()\n",
    "            if test:\n",
    "                if i == 0 and test[1].upper().lower() not in name:\n",
    "                    name.append(test[1].upper().lower())\n",
    "                if i == 1:\n",
    "                    desc.extend(line.splitlines())\n",
    "                if 'Annotation:' in test:\n",
    "                    chromo.append(test[2])\n",
    "                    for word in test:\n",
    "                        if '..' in word:\n",
    "                            tempPos = word[1:-1].split(\"..\")\n",
    "                            start.append(tempPos[0])\n",
    "                            end.append(tempPos[1])\n",
    "                i += 1;\n",
    "        i += 1;\n",
    "#print(name)\n",
    "#print(desc)\n",
    "        "
   ]
  },
  {
   "cell_type": "code",
   "execution_count": 23,
   "metadata": {},
   "outputs": [
    {
     "name": "stdout",
     "output_type": "stream",
     "text": [
      "[('galm', 'Official Symbol: galm and Name: galactose mutarotase [Danio rerio (zebrafish)]', '13', '8306407', '8333891'), ('loc100272618', 'Interim Symbol: GALM and Name: galactose mutarotase [Gallus gallus (chicken)]', '3', '16619750', '16634132'), ('gal10', 'Official Symbol: GALM and Name: galactose mutarotase [Bos taurus (cattle)]', '11', '21021100', '21075769'), ('cg32444', 'Interim Symbol: galm and Name: galactose mutarotase (aldose 1-epimerase) [Xenopus tropicalis (tropical clawed frog)]', '5', '51799331', '51823365'), ('cg10467', 'aldose 1-epimerase [Zea mays]', '1', '303002665', '303005856'), ('cg10996', 'Official Symbol: GALM and Name: galactose mutarotase [Homo sapiens (human)]', '2', '38665910', '38734767'), ('cg4988', 'Official Symbol: Galm and Name: galactose mutarotase [Mus musculus (house mouse)]', '17', '80127457', '80185032'), ('cg32445', 'Official Symbol: Galm and Name: galactose mutarotase [Rattus norvegicus (Norway rat)]', '6', '2808988', '2860742'), ('exig_rs02130', 'Official Symbol: GALM and Name: galactose mutarotase [Canis lupus familiaris (dog)]', '17', '30741990', '30793456'), ('hk1', 'bifunctional UDP-glucose 4-epimerase/aldose 1-epimerase [Saccharomyces cerevisiae S288C]', 'II', '276253', '278352'), ('hk2', 'aldose 1-epimerase; type-1 mutarotase; galactose mutarotase [Escherichia coli str. K-12 substr. MG1655]', '(787797..788837,', '787797', '788837'), ('hk3', 'Official Symbol: CG32444 and Name: uncharacterized protein [Drosophila melanogaster (fruit fly)]', '3L', '21636947', '21639060'), ('hkdc1', 'Official Symbol: CG10467 and Name: uncharacterized protein [Drosophila melanogaster (fruit fly)]', '3L', '6093204', '6094747'), ('hex-a', 'Official Symbol: CG10996 and Name: uncharacterized protein [Drosophila melanogaster (fruit fly)]', 'X', '13796389', '13797638'), ('mtor', 'Official Symbol: CG4988 and Name: uncharacterized protein [Drosophila melanogaster (fruit fly)]', '2L', '11694804', '11696107'), ('g6pc2', 'Official Symbol: CG32445 and Name: uncharacterized protein [Drosophila melanogaster (fruit fly)]', '3L', '21639359', '21640710'), ('g6pc3', 'aldose 1-epimerase [Lactococcus lactis subsp. lactis Il1403]', '(2061725..2062744,', '2061725', '2062744'), ('g6pca.1', 'UDP-glucose 4-epimerase/aldose 1-epimerase Gal10 [Schizosaccharomyces pombe (fission yeast)]', 'II', '4484023', '4487569'), ('g6pc', 'aldose 1-epimerase [Bacillus subtilis subsp. subtilis str. 168]', '(1999849..2000826,', '1999849', '2000826'), ('g6pc3.1', 'galactose mutarotase [Exiguobacterium sibiricum 255-15]', '(403376..404395)', '403376', '404395'), ('gpi', 'Official Symbol: HK1 and Name: hexokinase 1 [Homo sapiens (human)]', '10', '69269991', '69401882'), ('pgi', 'Official Symbol: Hk1 and Name: hexokinase 1 [Mus musculus (house mouse)]', '10', '62268855', '62379916'), ('dere\\\\gg10610', 'Official Symbol: HK2 and Name: hexokinase 2 [Homo sapiens (human)]', '2', '74832655', '74893354'), ('dyak\\\\pgi', 'Official Symbol: Hk3 and Name: hexokinase 3 [Rattus norvegicus (Norway rat)]', '17', '10134726', '10152976'), ('dpse\\\\ga20931', 'Official Symbol: Hk3 and Name: hexokinase 3 [Mus musculus (house mouse)]', '13', '55005985', '55021476'), ('dana\\\\gf12560', 'Official Symbol: HK3 and Name: hexokinase 3 [Homo sapiens (human)]', '5', '176880869', '176899373'), ('loc100281592', 'Official Symbol: HK3 and Name: hexokinase 3 [Pan troglodytes (chimpanzee)]', '5', '154984211', '155004870'), ('loc107811651', 'Official Symbol: HK1 and Name: hexokinase 1 [Canis lupus familiaris (dog)]', '4', '20396761', '20516889'), ('gpi1', 'Official Symbol: Hkdc1 and Name: hexokinase domain containing 1 [Mus musculus (house mouse)]', '10', '62383137', '62422464'), ('pgi1', 'Official Symbol: Hk2 and Name: hexokinase 2 [Mus musculus (house mouse)]', '6', '82725023', '82774454'), ('gpia', 'Official Symbol: HK2 and Name: hexokinase 2 [Equus caballus (horse)]', '15', '29191446', '29249185'), ('pf_rs00995', 'Official Symbol: HK3 and Name: hexokinase 3 [Bos taurus (cattle)]', '7', '38332935', '38352877'), ('tpi1', 'Interim Symbol: hk2 and Name: hexokinase 2 [Xenopus tropicalis (tropical clawed frog)]', '3', '37069333', '37103646'), ('tpi', 'Official Symbol: HK2 and Name: hexokinase 2 [Pan troglodytes (chimpanzee)]', '2A', '74984133', '75044954'), ('tpi1b', 'Official Symbol: HK1 and Name: hexokinase 1 [Pan troglodytes (chimpanzee)]', '10', '65033421', '65146873'), ('dsim\\\\tpi', 'Official Symbol: Hk2 and Name: hexokinase 2 [Rattus norvegicus (Norway rat)]', '4', '113559396', '113609897'), ('loc500959', 'Official Symbol: Hex-A and Name: Hexokinase A [Drosophila melanogaster (fruit fly)]', 'X', '9585675', '9589813'), ('dyak\\\\tpi', 'Official Symbol: HKDC1 and Name: hexokinase domain containing 1 [Homo sapiens (human)]', '10', '69220303', '69267559'), ('dvir\\\\gj10377', 'Official Symbol: MTOR and Name: mechanistic target of rapamycin kinase [Canis lupus familiaris (dog)]', '2', '84818893', '84939283'), ('dmoj\\\\gi23383', 'Official Symbol: hk1 and Name: hexokinase 1 [Danio rerio (zebrafish)]', '13', '22972888', '23007813'), ('dere\\\\gg11962', 'Official Symbol: G6PC2 and Name: glucose-6-phosphatase catalytic subunit 2 [Homo sapiens (human)]', '2', '168901223', '168910000'), ('dana\\\\gf16201', 'Official Symbol: G6PC3 and Name: glucose-6-phosphatase catalytic subunit 3 [Homo sapiens (human)]', '17', '44070700', '44076344'), ('loc547761', 'Interim Symbol: G6PC2 and Name: glucose-6-phosphatase catalytic subunit 2 [Gallus gallus (chicken)]', '7', '18917216', '18928301'), ('tpia', 'Official Symbol: g6pca.1 and Name: glucose-6-phosphatase a, catalytic subunit, tandem duplicate 1 [Danio rerio (zebrafish)]', '12', '6021725', '6034056'), ('tb11.02.3210', 'Official Symbol: G6pc2 and Name: glucose-6-phosphatase, catalytic, 2 [Mus musculus (house mouse)]', '2', '69211073', '69227993'), ('pf3d7_1439900', 'Official Symbol: G6PC and Name: glucose-6-phosphatase catalytic subunit [Homo sapiens (human)]', '17', '42900797', '42914433'), ('folr2', 'Official Symbol: G6pc and Name: glucose-6-phosphatase, catalytic subunit [Rattus norvegicus (Norway rat)]', '10', '89286009', '89296213'), ('fbp1', 'Official Symbol: G6pc3 and Name: glucose 6 phosphatase catalytic subunit 3 [Rattus norvegicus (Norway rat)]', '10', '90134193', '90138425'), ('folr3', 'Official Symbol: G6PC and Name: glucose-6-phosphatase catalytic subunit [Canis lupus familiaris (dog)]', '9', '20132973', '20143642'), ('fbp', 'Official Symbol: G6PC and Name: glucose-6-phosphatase catalytic subunit [Bos taurus (cattle)]', '19', '42949589', '42962432'), ('dmoj\\\\gi18191', 'Official Symbol: G6PC3 and Name: glucose-6-phosphatase catalytic subunit 3 [Bos taurus (cattle)]', '19', '43907069', '43911994'), ('dpse\\\\ga16400', 'Official Symbol: g6pc3.1 and Name: glucose 6 phosphatase, catalytic, 3, gene 1 [Xenopus tropicalis (tropical clawed frog)]', '10', '14084439', '14090657'), ('dana\\\\gf15476', 'Official Symbol: G6PC2 and Name: glucose-6-phosphatase catalytic subunit 2 [Pan troglodytes (chimpanzee)]', '2B', '55464068', '55472840'), ('fbp2', 'glucose-6-phosphatase catalytic subunit [Felis catus (domestic cat)]', 'E1', '43389507', '43398311'), ('tsta_077360', 'Official Symbol: G6PC3 and Name: glucose-6-phosphatase catalytic subunit 3 [Canis lupus familiaris (dog)]', '9', '19299619', '19304038'), ('loc100284739', 'Official Symbol: G6PC3 and Name: glucose-6-phosphatase catalytic subunit 3 [Pan troglodytes (chimpanzee)]', '17', '9102489', '9108098'), ('fbp1b', 'Official Symbol: G6PC and Name: glucose-6-phosphatase catalytic subunit [Pan troglodytes (chimpanzee)]', '17', '13878030', '13890635'), ('dsim\\\\gd21735', 'glucose-6-phosphatase catalytic subunit 3 [Ictalurus punctatus (channel catfish)]', '13', '23777379', '23782255'), ('ald', 'Official Symbol: G6pc and Name: glucose-6-phosphatase, catalytic [Mus musculus (house mouse)]', '11', '101367716', '101377903'), ('aldoa', 'Official Symbol: G6pc3 and Name: glucose 6 phosphatase, catalytic, 3 [Mus musculus (house mouse)]', '11', '102189699', '102194081'), ('dsim\\\\gd18141', 'Official Symbol: GPI and Name: glucose-6-phosphate isomerase [Homo sapiens (human)]', '19', '34353330', '34402413'), ('dere\\\\gg12193', 'Official Symbol: GPI and Name: glucose-6-phosphate isomerase [Pan troglodytes (chimpanzee)]', '19', '32300433', '32354521'), ('loc106117850', 'glucose-6-phosphate isomerase [Pongo abelii (Sumatran orangutan)]', '19', '31963957', '32016952'), ('aldoc', 'Official Symbol: Pgi and Name: Phosphoglucose isomerase [Drosophila melanogaster (fruit fly)]', '2R', '8910900', '8914069'), ('dvir\\\\gj23350', 'Official Symbol: Dere\\\\GG10610 and Name: GG10610 gene product from transcript GG10610-RA [Drosophila erecta]', '1', '90063411', '90091287'), ('dana\\\\gf16038', 'Official Symbol: Gpi and Name: glucose-6-phosphate isomerase [Rattus norvegicus (Norway rat)]', '2L', '17456662', '17459678'), ('aldoca', 'Official Symbol: Dyak\\\\Pgi and Name: Phosphogluconate isomerase [Drosophila yakuba]', '3', '13600898', '13604306'), ('galm', 'Official Symbol: galm and Name: galactose mutarotase [Danio rerio (zebrafish)]', '13', '8306407', '8333891'), ('loc100272618', 'Interim Symbol: GALM and Name: galactose mutarotase [Gallus gallus (chicken)]', '3', '16619750', '16634132'), ('gal10', 'Official Symbol: GALM and Name: galactose mutarotase [Bos taurus (cattle)]', '11', '21021100', '21075769'), ('cg32444', 'Interim Symbol: galm and Name: galactose mutarotase (aldose 1-epimerase) [Xenopus tropicalis (tropical clawed frog)]', '5', '51799331', '51823365'), ('cg10467', 'aldose 1-epimerase [Zea mays]', '1', '303002665', '303005856'), ('cg10996', 'Official Symbol: GALM and Name: galactose mutarotase [Homo sapiens (human)]', '2', '38665910', '38734767'), ('cg4988', 'Official Symbol: Galm and Name: galactose mutarotase [Mus musculus (house mouse)]', '17', '80127457', '80185032'), ('cg32445', 'Official Symbol: Galm and Name: galactose mutarotase [Rattus norvegicus (Norway rat)]', '6', '2808988', '2860742'), ('exig_rs02130', 'Official Symbol: GALM and Name: galactose mutarotase [Canis lupus familiaris (dog)]', '17', '30741990', '30793456'), ('hk1', 'bifunctional UDP-glucose 4-epimerase/aldose 1-epimerase [Saccharomyces cerevisiae S288C]', 'II', '276253', '278352'), ('hk2', 'aldose 1-epimerase; type-1 mutarotase; galactose mutarotase [Escherichia coli str. K-12 substr. MG1655]', '(787797..788837,', '787797', '788837'), ('hk3', 'Official Symbol: CG32444 and Name: uncharacterized protein [Drosophila melanogaster (fruit fly)]', '3L', '21636947', '21639060'), ('hkdc1', 'Official Symbol: CG10467 and Name: uncharacterized protein [Drosophila melanogaster (fruit fly)]', '3L', '6093204', '6094747'), ('hex-a', 'Official Symbol: CG10996 and Name: uncharacterized protein [Drosophila melanogaster (fruit fly)]', 'X', '13796389', '13797638'), ('mtor', 'Official Symbol: CG4988 and Name: uncharacterized protein [Drosophila melanogaster (fruit fly)]', '2L', '11694804', '11696107'), ('g6pc2', 'Official Symbol: CG32445 and Name: uncharacterized protein [Drosophila melanogaster (fruit fly)]', '3L', '21639359', '21640710'), ('g6pc3', 'aldose 1-epimerase [Lactococcus lactis subsp. lactis Il1403]', '(2061725..2062744,', '2061725', '2062744'), ('g6pca.1', 'UDP-glucose 4-epimerase/aldose 1-epimerase Gal10 [Schizosaccharomyces pombe (fission yeast)]', 'II', '4484023', '4487569'), ('g6pc', 'aldose 1-epimerase [Bacillus subtilis subsp. subtilis str. 168]', '(1999849..2000826,', '1999849', '2000826'), ('g6pc3.1', 'galactose mutarotase [Exiguobacterium sibiricum 255-15]', '(403376..404395)', '403376', '404395'), ('gpi', 'Official Symbol: HK1 and Name: hexokinase 1 [Homo sapiens (human)]', '10', '69269991', '69401882'), ('pgi', 'Official Symbol: Hk1 and Name: hexokinase 1 [Mus musculus (house mouse)]', '10', '62268855', '62379916'), ('dere\\\\gg10610', 'Official Symbol: HK2 and Name: hexokinase 2 [Homo sapiens (human)]', '2', '74832655', '74893354'), ('dyak\\\\pgi', 'Official Symbol: Hk3 and Name: hexokinase 3 [Rattus norvegicus (Norway rat)]', '17', '10134726', '10152976'), ('dpse\\\\ga20931', 'Official Symbol: Hk3 and Name: hexokinase 3 [Mus musculus (house mouse)]', '13', '55005985', '55021476'), ('dana\\\\gf12560', 'Official Symbol: HK3 and Name: hexokinase 3 [Homo sapiens (human)]', '5', '176880869', '176899373'), ('loc100281592', 'Official Symbol: HK3 and Name: hexokinase 3 [Pan troglodytes (chimpanzee)]', '5', '154984211', '155004870'), ('loc107811651', 'Official Symbol: HK1 and Name: hexokinase 1 [Canis lupus familiaris (dog)]', '4', '20396761', '20516889'), ('gpi1', 'Official Symbol: Hkdc1 and Name: hexokinase domain containing 1 [Mus musculus (house mouse)]', '10', '62383137', '62422464'), ('pgi1', 'Official Symbol: Hk2 and Name: hexokinase 2 [Mus musculus (house mouse)]', '6', '82725023', '82774454'), ('gpia', 'Official Symbol: HK2 and Name: hexokinase 2 [Equus caballus (horse)]', '15', '29191446', '29249185'), ('pf_rs00995', 'Official Symbol: HK3 and Name: hexokinase 3 [Bos taurus (cattle)]', '7', '38332935', '38352877'), ('tpi1', 'Interim Symbol: hk2 and Name: hexokinase 2 [Xenopus tropicalis (tropical clawed frog)]', '3', '37069333', '37103646')]\n"
     ]
    }
   ],
   "source": [
    "i = 0\n",
    "while i < len(name):\n",
    "    c.execute(\"\"\" INSERT INTO genes (name, description, chromosome, start, end) VALUES(?,?,?,?,?)\"\"\", (name[i], desc[i], chromo[i], start[i], end[i]))\n",
    "    i += 1\n",
    "c.execute(\"\"\"SELECT * FROM genes\"\"\")\n",
    "print(c.fetchmany(100))"
   ]
  },
  {
   "cell_type": "markdown",
   "metadata": {},
   "source": [
    "### Fill Associative Table"
   ]
  },
  {
   "cell_type": "code",
   "execution_count": 105,
   "metadata": {},
   "outputs": [],
   "source": [
    "c.execute(\"\"\"DROP TABLE enzyme_pathway\"\"\")\n",
    "c.execute(\"\"\"CREATE TABLE enzyme_pathway AS SELECT cycle, name, EC_num FROM enzymes\"\"\")\n",
    "conn.commit()"
   ]
  },
  {
   "cell_type": "markdown",
   "metadata": {},
   "source": [
    "### Print Enzymes Table"
   ]
  },
  {
   "cell_type": "code",
   "execution_count": 115,
   "metadata": {},
   "outputs": [
    {
     "name": "stdout",
     "output_type": "stream",
     "text": [
      "[('NP_730671', 'uncharacterized protein Dmel_CG32445 [Drosophila melanogaster]', '5.1.3.3', 'Glycolysis'), ('XP_002055038', 'uncharacterized protein Dvir_GJ19157 [Drosophila virilis]', '2.7.1.1', 'Glycolysis'), ('NP_001097063', 'Glucose-6-Phosphatase [Drosophila melanogaster]', '3.1.3.9', 'Glycolysis'), ('XP_002048914', 'uncharacterized protein Dvir_GJ21054 [Drosophila virilis]', '5.3.1.9', 'Glycolysis'), ('RIC81143', 'galactose-1-epimerase, partial [Escherichia coli]', '5.1.3.3', 'Glycolysis'), ('AXZ41087', 'triose-phosphate isomerase [Escherichia coli]', '5.3.1.1', 'Glycolysis'), ('AXZ40953', 'glucose-6-phosphate isomerase [Escherichia coli]', '5.3.1.9', 'Glycolysis'), ('RIC83436', 'class II fructose-bisphosphatase, partial [Escherichia coli]', '3.1.3.11', 'Glycolysis'), ('AAA51697', 'fructose 1,6-diphosphate aldolase A (EC 4.1.2.13), partial [Homo sapiens]', '4.1.2.13', 'Glycolysis'), ('NP_002106', 'hexokinase-3 [Homo sapiens]', '2.7.1.1', 'Glycolysis'), ('NP_612396', 'glucose-6-phosphatase 3 isoform 1 [Homo sapiens]', '3.1.3.9', 'Glycolysis'), ('AAB36062', 'glucose phosphate isomerase, GPI {EC 5.3.1.9} [Homo sapiens=human, leukocyte, Peptide, 558 aa]', '5.3.1.9', 'Glycolysis'), ('XP_002049346', 'uncharacterized protein Dvir_GJ21535 [Drosophila virilis]', '4.1.1.32', 'TCA cycle'), ('XP_015028645', 'uncharacterized protein Dvir_GJ20958, isoform B [Drosophila virilis]', '2.3.1.12', 'TCA cycle'), ('XP_002052798', 'uncharacterized protein Dvir_GJ17759 [Drosophila virilis]', '1.2.4.1', 'TCA cycle'), ('XP_015025715', 'uncharacterized protein Dvir_GJ17070, isoform D [Drosophila virilis]', '2.3.3.1', 'TCA cycle'), ('AXZ41729', 'phosphoenolpyruvate carboxykinase (ATP) [Escherichia coli]', '4.1.1.49', 'TCA cycle'), ('AXZ44819', 'citrate (Si)-synthase [Escherichia coli]', '2.3.3.1', 'TCA cycle'), ('SVF52481', 'pyruvate-flavodoxin oxidoreductase [Escherichia coli]', '1.2.7.1', 'TCA cycle'), ('AXZ43524', 'aconitate hydratase AcnA [Escherichia coli]', '4.2.1.3', 'TCA cycle'), ('PCKGM_HUMAN', 'RecName: Full=Phosphoenolpyruvate carboxykinase [GTP], mitochondrial; Short=PEPCK-M; Flags: Precursor', '4.1.1.32', 'TCA cycle'), ('NP_001922', 'dihydrolipoyllysine-residue acetyltransferase component of pyruvate dehydrogenase complex, mitochondrial precursor [Homo sapiens]', '2.3.1.12', 'TCA cycle'), ('AAA36533', 'pyruvate dehydrogenase alpha subunit precursor (EC 1.2.4.1) [Homo sapiens]', '1.2.4.1', 'TCA cycle'), ('NP_004068', 'citrate synthase, mitochondrial precursor [Homo sapiens]', '2.3.3.1', 'TCA cycle'), ('XP_002048320', 'uncharacterized protein Dvir_GJ11415 [Drosophila virilis]', '1.1.1.49', 'Pentose Phosphate'), ('XP_002048914', 'uncharacterized protein Dvir_GJ21054 [Drosophila virilis]', '5.3.1.9', 'Pentose Phosphate'), ('DHGL_DROPS', 'RecName: Full=Glucose dehydrogenase [FAD, quinone]; Contains: RecName: Full=Glucose dehydrogenase [FAD, quinone] short protein; Flags: Precursor', '1.1.5.9', 'Pentose Phosphate'), ('XP_015025186', 'uncharacterized protein Dvir_GJ17926, isoform D [Drosophila virilis]', '1.1.1.44', 'Pentose Phosphate'), ('RIC96590', 'glucose-6-phosphate dehydrogenase, partial [Escherichia coli]', '1.1.1.49', 'Pentose Phosphate'), ('AXZ42686', 'transketolase [Escherichia coli]', '2.2.1.1', 'Pentose Phosphate'), ('AXZ44761', '6-phosphogluconolactonase [Escherichia coli]', '3.1.1.31', 'Pentose Phosphate'), ('AXZ40884', 'ribose 5-phosphate isomerase B [Escherichia coli]', '5.3.1.6', 'Pentose Phosphate'), ('RGN_HUMAN', 'RecName: Full=Regucalcin; Short=RC; AltName: Full=Gluconolactonase; Short=GNL; AltName: Full=Senescence marker protein 30; Short=SMP-30', '3.1.1.17', 'Pentose Phosphate'), ('NP_004276', 'GDH/6PGL endoplasmic bifunctional protein isoform 2 precursor [Homo sapiens]', '3.1.1.31', 'Pentose Phosphate'), ('NP_001137381', 'ribulose-phosphate 3-epimerase-like protein 1 [Homo sapiens]', '5.1.3.1', 'Pentose Phosphate'), ('AAA52501', 'glucose-6-phosphate dehydrogenase variant A- (EC 1.1.1.49), partial [Homo sapiens]', '1.1.1.49', 'Pentose Phosphate')]\n"
     ]
    }
   ],
   "source": [
    "c.execute(\"\"\"SELECT * FROM enzymes\"\"\")\n",
    "print(c.fetchmany(36))"
   ]
  },
  {
   "cell_type": "markdown",
   "metadata": {},
   "source": [
    "### Print Pathways Table"
   ]
  },
  {
   "cell_type": "code",
   "execution_count": 107,
   "metadata": {},
   "outputs": [
    {
     "name": "stdout",
     "output_type": "stream",
     "text": [
      "[('glycolysis', 'Glycolysis is the process of converting glucose into pyruvate and generating small amounts of ATP (energy) and NADH (reducing power).'), ('TCA cycle', 'The citrate cycle (TCA cycle, Krebs cycle) is an important aerobic pathway for the final steps of the oxidation of carbohydrates and fatty acids.'), ('pentose phosphate', 'The pentose phosphate pathway is a process of glucose turnover that produces NADPH as reducing equivalents and pentoses as essential parts of nucleotides.')]\n"
     ]
    }
   ],
   "source": [
    "c.execute(\"\"\"SELECT * FROM pathways\"\"\")\n",
    "print(c.fetchmany(3))"
   ]
  },
  {
   "cell_type": "markdown",
   "metadata": {},
   "source": [
    "### Print Associative Table\n",
    "Each enzyme we chose is unique to its pathway. Enzymes with the same EC number come from the same pathway. \n",
    "There is an order to enzymes in pathways. For glycolysis, step 1 is hexokinase, step 2 is phosphoglucose isomerase, step 3 is phosphofructokinase, step 4 is aldolase. "
   ]
  },
  {
   "cell_type": "code",
   "execution_count": 108,
   "metadata": {},
   "outputs": [
    {
     "name": "stdout",
     "output_type": "stream",
     "text": [
      "[('Glycolysis', 'NP_730671', '5.1.3.3'), ('Glycolysis', 'XP_002055038', '2.7.1.1'), ('Glycolysis', 'NP_001097063', '3.1.3.9'), ('Glycolysis', 'XP_002048914', '5.3.1.9'), ('Glycolysis', 'RIC81143', '5.1.3.3'), ('Glycolysis', 'AXZ41087', '5.3.1.1'), ('Glycolysis', 'AXZ40953', '5.3.1.9'), ('Glycolysis', 'RIC83436', '3.1.3.11'), ('Glycolysis', 'AAA51697', '4.1.2.13'), ('Glycolysis', 'NP_002106', '2.7.1.1'), ('Glycolysis', 'NP_612396', '3.1.3.9'), ('Glycolysis', 'AAB36062', '5.3.1.9'), ('TCA cycle', 'XP_002049346', '4.1.1.32'), ('TCA cycle', 'XP_015028645', '2.3.1.12'), ('TCA cycle', 'XP_002052798', '1.2.4.1'), ('TCA cycle', 'XP_015025715', '2.3.3.1'), ('TCA cycle', 'AXZ41729', '4.1.1.49'), ('TCA cycle', 'AXZ44819', '2.3.3.1'), ('TCA cycle', 'SVF52481', '1.2.7.1'), ('TCA cycle', 'AXZ43524', '4.2.1.3'), ('TCA cycle', 'PCKGM_HUMAN', '4.1.1.32'), ('TCA cycle', 'NP_001922', '2.3.1.12'), ('TCA cycle', 'AAA36533', '1.2.4.1'), ('TCA cycle', 'NP_004068', '2.3.3.1'), ('Pentose Phosphate', 'XP_002048320', '1.1.1.49'), ('Pentose Phosphate', 'XP_002048914', '5.3.1.9'), ('Pentose Phosphate', 'DHGL_DROPS', '1.1.5.9'), ('Pentose Phosphate', 'XP_015025186', '1.1.1.44'), ('Pentose Phosphate', 'RIC96590', '1.1.1.49'), ('Pentose Phosphate', 'AXZ42686', '2.2.1.1'), ('Pentose Phosphate', 'AXZ44761', '3.1.1.31'), ('Pentose Phosphate', 'AXZ40884', '5.3.1.6'), ('Pentose Phosphate', 'RGN_HUMAN', '3.1.1.17'), ('Pentose Phosphate', 'NP_004276', '3.1.1.31'), ('Pentose Phosphate', 'NP_001137381', '5.1.3.1'), ('Pentose Phosphate', 'AAA52501', '1.1.1.49')]\n"
     ]
    }
   ],
   "source": [
    "c.execute(\"\"\"SELECT * FROM enzyme_pathway\"\"\")\n",
    "print(c.fetchmany(36))"
   ]
  },
  {
   "cell_type": "code",
   "execution_count": 104,
   "metadata": {},
   "outputs": [
    {
     "name": "stdout",
     "output_type": "stream",
     "text": [
      "[('TCA cycle', 'XP_015025715', '2.3.3.1'), ('TCA cycle', 'AXZ44819', '2.3.3.1'), ('TCA cycle', 'NP_004068', '2.3.3.1')]\n"
     ]
    }
   ],
   "source": [
    "c.execute(\"\"\"SELECT * FROM enzyme_pathway WHERE EC_num = '2.3.3.1'\"\"\")\n",
    "print(c.fetchmany(36))"
   ]
  },
  {
   "cell_type": "markdown",
   "metadata": {},
   "source": [
    "## Scratch"
   ]
  },
  {
   "cell_type": "code",
   "execution_count": null,
   "metadata": {},
   "outputs": [],
   "source": [
    "from Bio.KEGG import REST\n",
    "from Bio.KEGG import Enzyme\n",
    "request = REST.kegg_get(\"dme:5.1.3.3\")\n",
    "open(\"dme_5.1.3.3.txt\", \"w\").write(request.read())\n",
    "records = Enzyme.parse(open(\"dme_5.1.3.3.txt\"))\n",
    "record = list(records)[0]\n",
    "print(record.classname)\n",
    "record.entry"
   ]
  },
  {
   "cell_type": "code",
   "execution_count": null,
   "metadata": {},
   "outputs": [],
   "source": [
    "from Bio.KEGG import REST\n",
    "\n",
    "dme_pathways = REST.kegg_list(\"pathway\", \"dme\").read()\n",
    "dme_pathways\n",
    "# Filter all human pathways for repair pathways\n",
    "repair_pathways = []\n",
    "for line in dme_pathways.rstrip().split(\"\\n\"):\n",
    "    entry, description = line.split(\"\\t\")\n",
    "    if \"metabolism\" in description:\n",
    "        repair_pathways.append(entry)\n",
    "        print(entry)\n",
    "        c.execute(\"\"\"SELECT * from pathways\"\"\")\n",
    "       # c.execute(\"INSERT INTO pathways (pathway) VALUES (%s);\", 'hi')\n",
    "print(repair_pathways)\n",
    "# Get the genes for pathways and add them to a list\n",
    "repair_genes = [] \n",
    "for pathway in repair_pathways:\n",
    "    pathway_file = REST.kegg_get(pathway).read()  # query and read each pathway\n",
    "\n",
    "    # iterate through each KEGG pathway file, keeping track of which section\n",
    "    # of the file we're in, only read the gene in each pathway\n",
    "    current_section = None\n",
    "    for line in pathway_file.rstrip().split(\"\\n\"):\n",
    "        #print(line)\n",
    "        section = line[10:].strip()  # section names are within 12 columns\n",
    "        print(section)\n",
    "        if not section == \"\":\n",
    "            current_section = section\n",
    "        \n",
    "        if current_section == \"GENE\":\n",
    "            gene_identifiers, gene_description = line[:2].split(\"; \")\n",
    "            gene_id, gene_symbol = gene_identifiers.split()\n",
    "\n",
    "            if not gene_symbol in repair_genes:\n",
    "                repair_genes.append(gene_symbol)\n",
    "\n",
    "#print(\"There are %d repair pathways and %d repair genes. The genes are:\" % \\\n",
    "#(len(repair_pathways), len(repair_genes)))\n",
    "#print(\", \".join(repair_genes))"
   ]
  },
  {
   "cell_type": "code",
   "execution_count": null,
   "metadata": {},
   "outputs": [],
   "source": [
    "conn.close()"
   ]
  },
  {
   "cell_type": "markdown",
   "metadata": {},
   "source": [
    "$ sqlite3 <br>\n",
    ".tables <br>\n",
    "enzymes genes p pathways\" <br>\n",
    "SELECT * FROM ENZYMES"
   ]
  },
  {
   "cell_type": "code",
   "execution_count": null,
   "metadata": {},
   "outputs": [],
   "source": []
  }
 ],
 "metadata": {
  "kernelspec": {
   "display_name": "Python 3",
   "language": "python",
   "name": "python3"
  },
  "language_info": {
   "codemirror_mode": {
    "name": "ipython",
    "version": 3
   },
   "file_extension": ".py",
   "mimetype": "text/x-python",
   "name": "python",
   "nbconvert_exporter": "python",
   "pygments_lexer": "ipython3",
   "version": "3.5.2"
  }
 },
 "nbformat": 4,
 "nbformat_minor": 2
}
