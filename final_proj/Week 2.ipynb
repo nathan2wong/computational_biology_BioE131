{
 "cells": [
  {
   "cell_type": "markdown",
   "metadata": {},
   "source": [
    "# Week 2: Radhika Mardikar, Kelly Huang, Nathan Wong\n",
    "\n",
    "We uploaded our sequence to MG-RAST. Looking at the taxonomic distribution, it is observed that most of the DNA in the contigs belonged to the phylum Proteobacteria and Actinobacteria. The two most observed classes were Actinobacteria and Alphaproteobacteria."
   ]
  },
  {
   "cell_type": "markdown",
   "metadata": {},
   "source": [
    "Throughout the contigs, there is an estimated count of 8000 different species with an alpha diversity of about 651 species."
   ]
  }
 ],
 "metadata": {
  "kernelspec": {
   "display_name": "Python 3",
   "language": "python",
   "name": "python3"
  },
  "language_info": {
   "codemirror_mode": {
    "name": "ipython",
    "version": 3
   },
   "file_extension": ".py",
   "mimetype": "text/x-python",
   "name": "python",
   "nbconvert_exporter": "python",
   "pygments_lexer": "ipython3",
   "version": "3.6.6"
  }
 },
 "nbformat": 4,
 "nbformat_minor": 2
}
