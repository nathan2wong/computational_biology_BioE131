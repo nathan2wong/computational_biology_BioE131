{
 "cells": [
  {
   "cell_type": "code",
   "execution_count": 10,
   "metadata": {},
   "outputs": [
    {
     "name": "stdout",
     "output_type": "stream",
     "text": [
      "[['INFORMATION STORAGE AND PROCESSING', 7468], ['CELLULAR PROCESSES AND SIGNALING', 4287], ['POORLY CHARACTERIZED', 57741], ['METABOLISM', 6619]]\n"
     ]
    }
   ],
   "source": [
    "import urllib.request, json \n",
    "with urllib.request.urlopen(\"https://api-ui.mg-rast.org/metagenome/26355e360b6d676d343832313537352e33?verbosity=stats&detail=ontology&auth=qguPGuFpjwq3e5B4PSZPsVTa3\") as url:\n",
    "    data = json.loads(url.read().decode())\n",
    "    \n",
    "    print(data.get(\"NOG\"))\n",
    "    \n",
    "\n"
   ]
  },
  {
   "cell_type": "code",
   "execution_count": null,
   "metadata": {},
   "outputs": [],
   "source": []
  }
 ],
 "metadata": {
  "kernelspec": {
   "display_name": "Python 3",
   "language": "python",
   "name": "python3"
  },
  "language_info": {
   "codemirror_mode": {
    "name": "ipython",
    "version": 3
   },
   "file_extension": ".py",
   "mimetype": "text/x-python",
   "name": "python",
   "nbconvert_exporter": "python",
   "pygments_lexer": "ipython3",
   "version": "3.6.6"
  }
 },
 "nbformat": 4,
 "nbformat_minor": 2
}
