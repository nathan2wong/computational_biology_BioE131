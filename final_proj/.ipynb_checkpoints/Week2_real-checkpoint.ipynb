{
 "cells": [
  {
   "cell_type": "markdown",
   "metadata": {},
   "source": [
    "# Week 2\n",
    "\n",
    "We uploaded our sequence to MG-RAST. Looking at the taxonomic distribution, it is observed that most of the DNA in the contigs belonged to the phylum Proteobacteria and Actinobacteria. The two most observed classes were Actinobacteria and Alphaproteobacteria."
   ]
  },
  {
   "cell_type": "markdown",
   "metadata": {},
   "source": [
    "Throughout the contigs, there is an estimated count of 8000 different species with an alpha diversity of about 651 species, given by around 6 million sequences present in the contigs file. \n",
    "The source hits distribution presented shows that there are many hits with other databases. Examples of databases that have the most hits are RefSeq, TrEMBL, IMG, GenBank and KEGG. \n",
    "In terms of the functional breakdown of the sequences, it was found that 43.02% of predicted protein function reads were attributed to metabolic processes, around 24% is attributed to cell signaling and processing, 24% to information storage and processing and the rest was not characterized. "
   ]
  },
  {
   "cell_type": "markdown",
   "metadata": {},
   "source": [
    "# Excerpt of Analysis from Week 1\n",
    "\n",
    "The majority of the microbes identified all can survive in the soil environment, as long as there is some water. Among the bacterium, there are some bacterium, such as cultibacterium and pseudonomasa, that are pathogenic to humans, and have been known to cause infections and illicit immune responses. In addition, there are also fungi present, such as cladosporium, which appear quite regularly in damp environments in the form of mold. Finally, a significant amount of the reads derived from this soil environment were not identified by OneCodex. A deeper investigation is needed to fully understand the range of microbes identified at this particular (radioactive) soil level.\n",
    "\n",
    "## Cultibacterium\n",
    "\n",
    "Cultibacterium acnes are aneorbic, Gram-positive bacterium that are commonly linked as the cause of skin acne. Cultibacterium acnes are oppurtunistic pathogens, and are proen to be among the bacteria linked to infections after surgery. Antibiotics are the reponse to these bacterium; however, there has been a rise of antibiotic-resistant C. acnes. \n",
    "\n",
    "## Cladosporium\n",
    "Cladosporium are fungi, which are found in many molds indoors and outdoors, and can thrive on virtually any environment with water and minimal minerals and glucose. While most cladosporium are not pathogenic to humans, a buildup of cladosporium can often lead to musty odors.\n",
    "\n",
    "## Nocardiodides\n",
    "Nocardiodides are aerobic, Gram-positive bacterium that are most commonly found in soil, herbage, and lakes with high saline concentration. Some nocardiodides, such as WSN05-2, are known to digest toxic pesticides. \n",
    "\n",
    "## Pseudomonas\n",
    "Pseudomonas, as described in previous assignments, are aerobic, Gram-negative bacterium, which are most commonly associated with infections. Pseudomonas are pathogenic to humans, and certain strains are known to be particularly antiobiotic-resistant.\n",
    "\n",
    "## Methylobacterium\n",
    "Methylobacterium are related to alphaproteobacteria, and are Gram-negative bacterium. Methylobacterium are pathogenic to humans, and are known to be resistant to high temperatures and disinfecting agents due to their high rates of homologous recombination, and thus are commonly found in hospitals.\n",
    "\n",
    "# Bibliography\n",
    "Aubin, G., Baud’huin, M., Lavigne, J., Brion, R., Gouin, F., Lepelletier, D., Jacqueline, C., Heymann, D., Asehnoune, K. and Corvec, S. (2017). Interaction of Cutibacterium ( formerly Propionibacterium) acnes with bone cells: a step toward understanding bone and joint infection development. Scientific Reports, 7(1).\n",
    "\n",
    "ZA, G. (2018). Cutibacterium (formerly Propionibacterium) acnes infections associated with implantable devices. - PubMed - NCBI . [online] Ncbi.nlm.nih.gov. Available at: https://www.ncbi.nlm.nih.gov/pubmed/29125405.\n",
    "\n",
    "Yoon, J. and Park, Y. (2006). The Genus Nocardioides. The Prokaryotes, pp.1099-1113.\n",
    "\n",
    "Ikunaga, Y., Sato, I., Grond, S., Numaziri, N., Yoshida, S., Yamaya, H., Hiradate, S., Hasegawa, M., Toshima, H., Koitabashi, M., Ito, M., Karlovsky, P. and Tsushima, S. (2010). Nocardioides sp. strain WSN05-2, isolated from a wheat field, degrades deoxynivalenol, producing the novel intermediate 3-epi-deoxynivalenol. Applied Microbiology and Biotechnology, 89(2), pp.419-427.\n",
    "\n",
    "Kovaleva, J., Degener, J. and van der Mei, H. (2014). Methylobacterium and Its Role in Health Care-Associated Infection. Journal of Clinical Microbiology, 52(5), pp.1317-1321."
   ]
  },
  {
   "cell_type": "code",
   "execution_count": null,
   "metadata": {},
   "outputs": [],
   "source": []
  }
 ],
 "metadata": {
  "kernelspec": {
   "display_name": "Python 3",
   "language": "python",
   "name": "python3"
  },
  "language_info": {
   "codemirror_mode": {
    "name": "ipython",
    "version": 3
   },
   "file_extension": ".py",
   "mimetype": "text/x-python",
   "name": "python",
   "nbconvert_exporter": "python",
   "pygments_lexer": "ipython3",
   "version": "3.6.6"
  }
 },
 "nbformat": 4,
 "nbformat_minor": 2
}
