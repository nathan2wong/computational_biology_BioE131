{
 "cells": [
  {
   "cell_type": "code",
   "execution_count": 22,
   "metadata": {},
   "outputs": [
    {
     "name": "stdout",
     "output_type": "stream",
     "text": [
      "\"https://api-ui.mg-rast.org/annotation/sequence/mgm4821575.3?browser=1&filter_level=genus&type=organism&filter=Acidilobus&auth=mgrast%20tGNuqScyCTXHJnYV9X5tbnAnX\"\n"
     ]
    }
   ],
   "source": [
    "import json\n",
    "import pandas as pd\n",
    "\n",
    "genus = []\n",
    "url = []\n",
    "genusDic = {}\n",
    "\n",
    "with open('layer5.json') as f:\n",
    "    data = json.load(f)\n",
    "\n",
    "for tab in data:\n",
    "    genus.append(tab['label'])\n",
    "    url.append(tab['click'].split(\"open(\")[1].split(\");\")[0])\n",
    "    genusDic[tab['label']] = tab['click'].split(\"open(\")[1].split(\");\")[0]\n",
    "    #print(tab)\n",
    "print(genusDic['Acidilobus'])"
   ]
  },
  {
   "cell_type": "code",
   "execution_count": null,
   "metadata": {},
   "outputs": [],
   "source": []
  },
  {
   "cell_type": "code",
   "execution_count": null,
   "metadata": {},
   "outputs": [],
   "source": []
  },
  {
   "cell_type": "code",
   "execution_count": null,
   "metadata": {},
   "outputs": [
    {
     "name": "stdout",
     "output_type": "stream",
     "text": [
      "\"https://api-ui.mg-rast.org/annotation/sequence/mgm4821575.3?browser=1&filter_level=genus&type=organism&filter=Acidilobus&auth=mgrast%20tGNuqScyCTXHJnYV9X5tbnAnX\"\n"
     ]
    }
   ],
   "source": [
    "import urllib.request, json \n",
    "print(genusDic['Acidilobus'])\n",
    "tempUrl = \"http://api-ui.mg-rast.org/annotation/sequence/mgm4821575.3?browser=1&filter_level=genus&type=organism&filter=Acidilobus&auth=mgrast%20tGNuqScyCTXHJnYV9X5tbnAnX\"\n",
    "with urllib.request.urlopen(tempUrl) as url:\n",
    "    data = json.loads(url.read().decode())\n",
    "    print(data)"
   ]
  },
  {
   "cell_type": "code",
   "execution_count": null,
   "metadata": {},
   "outputs": [],
   "source": [
    "import csv\n",
    "seqDic = {}\n",
    "counter = 0;\n",
    "\n",
    "with open('temp22M.fa') as csv_file:\n",
    "    csv_reader = csv.reader(csv_file, delimiter=',')\n",
    "    line_count = 0\n",
    "    for row in csv_reader:\n",
    "        if counter == 0:\n",
    "            counter++\n",
    "        \n",
    "        print(row[0]).split()"
   ]
  },
  {
   "cell_type": "code",
   "execution_count": null,
   "metadata": {},
   "outputs": [],
   "source": []
  }
 ],
 "metadata": {
  "kernelspec": {
   "display_name": "Python 3",
   "language": "python",
   "name": "python3"
  },
  "language_info": {
   "codemirror_mode": {
    "name": "ipython",
    "version": 3
   },
   "file_extension": ".py",
   "mimetype": "text/x-python",
   "name": "python",
   "nbconvert_exporter": "python",
   "pygments_lexer": "ipython3",
   "version": "3.6.6"
  }
 },
 "nbformat": 4,
 "nbformat_minor": 2
}
